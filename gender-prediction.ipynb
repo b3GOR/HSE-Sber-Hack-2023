{
 "cells": [
  {
   "cell_type": "markdown",
   "id": "1b12baed",
   "metadata": {
    "papermill": {
     "duration": 0.021767,
     "end_time": "2021-10-17T15:10:52.148243",
     "exception": false,
     "start_time": "2021-10-17T15:10:52.126476",
     "status": "completed"
    },
    "tags": []
   },
   "source": [
    "# Предсказание пола клиента по его транзакциям"
   ]
  },
  {
   "cell_type": "code",
   "execution_count": 1,
   "id": "29259850",
   "metadata": {
    "_cell_guid": "b1076dfc-b9ad-4769-8c92-a6c4dae69d19",
    "_uuid": "8f2839f25d086af736a60e9eeb907d3b93b6e0e5",
    "execution": {
     "iopub.execute_input": "2021-10-17T15:10:52.198574Z",
     "iopub.status.busy": "2021-10-17T15:10:52.196168Z",
     "iopub.status.idle": "2021-10-17T15:10:53.585245Z",
     "shell.execute_reply": "2021-10-17T15:10:53.584196Z",
     "shell.execute_reply.started": "2021-10-17T15:02:06.153735Z"
    },
    "papermill": {
     "duration": 1.417289,
     "end_time": "2021-10-17T15:10:53.585535",
     "exception": false,
     "start_time": "2021-10-17T15:10:52.168246",
     "status": "completed"
    },
    "tags": []
   },
   "outputs": [],
   "source": [
    "import pandas as pd\n",
    "import numpy as np\n",
    "import re\n",
    "import matplotlib.pyplot as plt\n",
    "import seaborn as sns\n",
    "\n",
    "import sklearn\n",
    "import catboost\n",
    "from catboost import CatBoostClassifier\n",
    "from sklearn.model_selection import train_test_split\n",
    "from sklearn.metrics import roc_auc_score\n",
    "from sklearn.metrics import roc_curve\n",
    "from sklearn.metrics import f1_score\n",
    "\n",
    "from tqdm.notebook import tqdm_notebook\n",
    "from warnings import filterwarnings\n",
    "filterwarnings('ignore')\n",
    "\n",
    "pd.set_option('max_columns', 100)\n",
    "pd.set_option('display.max_columns', 100)\n",
    "pd.set_option('display.max_rows', 1000)\n",
    "pd.set_option('max_colwidth', 300)"
   ]
  },
  {
   "cell_type": "markdown",
   "id": "33f8a29d",
   "metadata": {
    "papermill": {
     "duration": 0.027817,
     "end_time": "2021-10-17T15:10:53.645439",
     "exception": false,
     "start_time": "2021-10-17T15:10:53.617622",
     "status": "completed"
    },
    "tags": []
   },
   "source": [
    "## Загрузка данных"
   ]
  },
  {
   "cell_type": "code",
   "execution_count": 2,
   "id": "d094e358",
   "metadata": {
    "execution": {
     "iopub.execute_input": "2021-10-17T15:10:53.695895Z",
     "iopub.status.busy": "2021-10-17T15:10:53.695257Z",
     "iopub.status.idle": "2021-10-17T15:11:05.741026Z",
     "shell.execute_reply": "2021-10-17T15:11:05.739941Z",
     "shell.execute_reply.started": "2021-10-17T14:01:39.097816Z"
    },
    "papermill": {
     "duration": 12.074065,
     "end_time": "2021-10-17T15:11:05.741253",
     "exception": false,
     "start_time": "2021-10-17T15:10:53.667188",
     "status": "completed"
    },
    "tags": []
   },
   "outputs": [],
   "source": [
    "tr_mcc_codes = pd.read_csv('/kaggle/input/transactions-predict-gender/tr_mcc_codes.csv', sep=';', index_col='mcc_code')\n",
    "tr_types = pd.read_csv('/kaggle/input/transactions-predict-gender/tr_types.csv', sep=';', index_col='tr_type')\n",
    "\n",
    "transactions = pd.read_csv('/kaggle/input/transactions-predict-gender/transactions.csv', index_col='customer_id')\n",
    "gender_train = pd.read_csv('/kaggle/input/transactions-predict-gender/gender_train.csv', index_col='customer_id')\n",
    "gender_test = pd.read_csv('/kaggle/input/transactions-predict-gender/gender_test_kaggle_sample_submission.csv', index_col='customer_id')\n",
    "transactions_train = transactions.join(gender_train, how='inner')\n",
    "transactions_test = transactions.join(gender_test, how='inner')"
   ]
  },
  {
   "cell_type": "markdown",
   "id": "74506f20",
   "metadata": {
    "papermill": {
     "duration": 0.022962,
     "end_time": "2021-10-17T15:11:05.791698",
     "exception": false,
     "start_time": "2021-10-17T15:11:05.768736",
     "status": "completed"
    },
    "tags": []
   },
   "source": [
    "## Анализ данных"
   ]
  },
  {
   "cell_type": "markdown",
   "id": "5b19eb2c",
   "metadata": {
    "papermill": {
     "duration": 0.019421,
     "end_time": "2021-10-17T15:11:05.834546",
     "exception": false,
     "start_time": "2021-10-17T15:11:05.815125",
     "status": "completed"
    },
    "tags": []
   },
   "source": [
    "#### transactions.csv"
   ]
  },
  {
   "cell_type": "markdown",
   "id": "82727879",
   "metadata": {
    "papermill": {
     "duration": 0.019061,
     "end_time": "2021-10-17T15:11:05.873016",
     "exception": false,
     "start_time": "2021-10-17T15:11:05.853955",
     "status": "completed"
    },
    "tags": []
   },
   "source": [
    "Этот файл содержит информацию о всех транзакциях пользователей без указания принадлежности к классу."
   ]
  },
  {
   "cell_type": "code",
   "execution_count": 3,
   "id": "8ccd5f54",
   "metadata": {
    "execution": {
     "iopub.execute_input": "2021-10-17T15:11:05.926000Z",
     "iopub.status.busy": "2021-10-17T15:11:05.924956Z",
     "iopub.status.idle": "2021-10-17T15:11:06.553699Z",
     "shell.execute_reply": "2021-10-17T15:11:06.553180Z",
     "shell.execute_reply.started": "2021-10-17T14:16:59.772892Z"
    },
    "papermill": {
     "duration": 0.661327,
     "end_time": "2021-10-17T15:11:06.553833",
     "exception": false,
     "start_time": "2021-10-17T15:11:05.892506",
     "status": "completed"
    },
    "tags": []
   },
   "outputs": [
    {
     "name": "stdout",
     "output_type": "stream",
     "text": [
      "<class 'pandas.core.frame.DataFrame'>\n",
      "Int64Index: 6849346 entries, 39026145 to 61870738\n",
      "Data columns (total 5 columns):\n",
      " #   Column       Dtype  \n",
      "---  ------       -----  \n",
      " 0   tr_datetime  object \n",
      " 1   mcc_code     int64  \n",
      " 2   tr_type      int64  \n",
      " 3   amount       float64\n",
      " 4   term_id      object \n",
      "dtypes: float64(1), int64(2), object(2)\n",
      "memory usage: 345.8+ MB\n",
      "None\n",
      "\n",
      "\n",
      "tr_datetime          0\n",
      "mcc_code             0\n",
      "tr_type              0\n",
      "amount               0\n",
      "term_id        2765195\n",
      "dtype: int64\n"
     ]
    }
   ],
   "source": [
    "print(transactions.info())\n",
    "print('\\n')\n",
    "print(transactions.isnull().sum())"
   ]
  },
  {
   "cell_type": "markdown",
   "id": "5982d704",
   "metadata": {
    "papermill": {
     "duration": 0.019499,
     "end_time": "2021-10-17T15:11:06.593537",
     "exception": false,
     "start_time": "2021-10-17T15:11:06.574038",
     "status": "completed"
    },
    "tags": []
   },
   "source": [
    "В столбце <code>term_id</code> присутствует большое количество пропущенных значений. Использовать его в обучении модели бессмысленно."
   ]
  },
  {
   "cell_type": "markdown",
   "id": "8d7db628",
   "metadata": {
    "papermill": {
     "duration": 0.019483,
     "end_time": "2021-10-17T15:11:06.632974",
     "exception": false,
     "start_time": "2021-10-17T15:11:06.613491",
     "status": "completed"
    },
    "tags": []
   },
   "source": [
    "#### tr_mcc_codes.csv"
   ]
  },
  {
   "cell_type": "markdown",
   "id": "85f8fcd6",
   "metadata": {
    "execution": {
     "iopub.execute_input": "2021-10-17T14:23:12.981939Z",
     "iopub.status.busy": "2021-10-17T14:23:12.980988Z",
     "iopub.status.idle": "2021-10-17T14:23:12.987229Z",
     "shell.execute_reply": "2021-10-17T14:23:12.986090Z",
     "shell.execute_reply.started": "2021-10-17T14:23:12.981902Z"
    },
    "papermill": {
     "duration": 0.019509,
     "end_time": "2021-10-17T15:11:06.672558",
     "exception": false,
     "start_time": "2021-10-17T15:11:06.653049",
     "status": "completed"
    },
    "tags": []
   },
   "source": [
    "В файле присутствуют описания всех MCC кодов."
   ]
  },
  {
   "cell_type": "code",
   "execution_count": 4,
   "id": "02eac14e",
   "metadata": {
    "execution": {
     "iopub.execute_input": "2021-10-17T15:11:06.720398Z",
     "iopub.status.busy": "2021-10-17T15:11:06.719746Z",
     "iopub.status.idle": "2021-10-17T15:11:06.731601Z",
     "shell.execute_reply": "2021-10-17T15:11:06.732009Z",
     "shell.execute_reply.started": "2021-10-17T14:18:44.452928Z"
    },
    "papermill": {
     "duration": 0.039527,
     "end_time": "2021-10-17T15:11:06.732176",
     "exception": false,
     "start_time": "2021-10-17T15:11:06.692649",
     "status": "completed"
    },
    "tags": []
   },
   "outputs": [
    {
     "data": {
      "text/html": [
       "<div>\n",
       "<style scoped>\n",
       "    .dataframe tbody tr th:only-of-type {\n",
       "        vertical-align: middle;\n",
       "    }\n",
       "\n",
       "    .dataframe tbody tr th {\n",
       "        vertical-align: top;\n",
       "    }\n",
       "\n",
       "    .dataframe thead th {\n",
       "        text-align: right;\n",
       "    }\n",
       "</style>\n",
       "<table border=\"1\" class=\"dataframe\">\n",
       "  <thead>\n",
       "    <tr style=\"text-align: right;\">\n",
       "      <th></th>\n",
       "      <th>mcc_description</th>\n",
       "    </tr>\n",
       "    <tr>\n",
       "      <th>mcc_code</th>\n",
       "      <th></th>\n",
       "    </tr>\n",
       "  </thead>\n",
       "  <tbody>\n",
       "    <tr>\n",
       "      <th>742</th>\n",
       "      <td>Ветеринарные услуги</td>\n",
       "    </tr>\n",
       "    <tr>\n",
       "      <th>1711</th>\n",
       "      <td>Генеральные подрядчики по вентиляции, теплоснабжению, и водопроводу</td>\n",
       "    </tr>\n",
       "    <tr>\n",
       "      <th>1731</th>\n",
       "      <td>Подрядчики по электричеству</td>\n",
       "    </tr>\n",
       "    <tr>\n",
       "      <th>1799</th>\n",
       "      <td>Подрядчики, специализированная торговля — нигде более не классифицированные</td>\n",
       "    </tr>\n",
       "    <tr>\n",
       "      <th>2741</th>\n",
       "      <td>Разнообразные издательства/печатное дело</td>\n",
       "    </tr>\n",
       "  </tbody>\n",
       "</table>\n",
       "</div>"
      ],
      "text/plain": [
       "                                                                      mcc_description\n",
       "mcc_code                                                                             \n",
       "742                                                               Ветеринарные услуги\n",
       "1711              Генеральные подрядчики по вентиляции, теплоснабжению, и водопроводу\n",
       "1731                                                      Подрядчики по электричеству\n",
       "1799      Подрядчики, специализированная торговля — нигде более не классифицированные\n",
       "2741                                         Разнообразные издательства/печатное дело"
      ]
     },
     "execution_count": 4,
     "metadata": {},
     "output_type": "execute_result"
    }
   ],
   "source": [
    "tr_mcc_codes.head()"
   ]
  },
  {
   "cell_type": "markdown",
   "id": "a99aff2d",
   "metadata": {
    "papermill": {
     "duration": 0.01997,
     "end_time": "2021-10-17T15:11:06.773002",
     "exception": false,
     "start_time": "2021-10-17T15:11:06.753032",
     "status": "completed"
    },
    "tags": []
   },
   "source": [
    "#### tr_types.csv"
   ]
  },
  {
   "cell_type": "markdown",
   "id": "ec7618a2",
   "metadata": {
    "papermill": {
     "duration": 0.020072,
     "end_time": "2021-10-17T15:11:06.813938",
     "exception": false,
     "start_time": "2021-10-17T15:11:06.793866",
     "status": "completed"
    },
    "tags": []
   },
   "source": [
    "Файл содержит описание всех типов транзакций."
   ]
  },
  {
   "cell_type": "code",
   "execution_count": 5,
   "id": "559b4bda",
   "metadata": {
    "execution": {
     "iopub.execute_input": "2021-10-17T15:11:06.858703Z",
     "iopub.status.busy": "2021-10-17T15:11:06.857850Z",
     "iopub.status.idle": "2021-10-17T15:11:06.866981Z",
     "shell.execute_reply": "2021-10-17T15:11:06.866417Z",
     "shell.execute_reply.started": "2021-10-17T14:19:07.989654Z"
    },
    "papermill": {
     "duration": 0.032329,
     "end_time": "2021-10-17T15:11:06.867112",
     "exception": false,
     "start_time": "2021-10-17T15:11:06.834783",
     "status": "completed"
    },
    "tags": []
   },
   "outputs": [
    {
     "data": {
      "text/html": [
       "<div>\n",
       "<style scoped>\n",
       "    .dataframe tbody tr th:only-of-type {\n",
       "        vertical-align: middle;\n",
       "    }\n",
       "\n",
       "    .dataframe tbody tr th {\n",
       "        vertical-align: top;\n",
       "    }\n",
       "\n",
       "    .dataframe thead th {\n",
       "        text-align: right;\n",
       "    }\n",
       "</style>\n",
       "<table border=\"1\" class=\"dataframe\">\n",
       "  <thead>\n",
       "    <tr style=\"text-align: right;\">\n",
       "      <th></th>\n",
       "      <th>tr_description</th>\n",
       "    </tr>\n",
       "    <tr>\n",
       "      <th>tr_type</th>\n",
       "      <th></th>\n",
       "    </tr>\n",
       "  </thead>\n",
       "  <tbody>\n",
       "    <tr>\n",
       "      <th>3200</th>\n",
       "      <td>Плата за предоставление услуг посредством мобильной связи</td>\n",
       "    </tr>\n",
       "    <tr>\n",
       "      <th>3210</th>\n",
       "      <td>Плата за предоставление отчета по счету карты почтой</td>\n",
       "    </tr>\n",
       "    <tr>\n",
       "      <th>3800</th>\n",
       "      <td>Плата за обслуживание банковской карты (за первый год)</td>\n",
       "    </tr>\n",
       "    <tr>\n",
       "      <th>4000</th>\n",
       "      <td>Плата за получение наличных в Сбербанке</td>\n",
       "    </tr>\n",
       "    <tr>\n",
       "      <th>4001</th>\n",
       "      <td>Плата за получение наличных в Сбербанке (в других ТБ)</td>\n",
       "    </tr>\n",
       "  </tbody>\n",
       "</table>\n",
       "</div>"
      ],
      "text/plain": [
       "                                                    tr_description\n",
       "tr_type                                                           \n",
       "3200     Плата за предоставление услуг посредством мобильной связи\n",
       "3210          Плата за предоставление отчета по счету карты почтой\n",
       "3800        Плата за обслуживание банковской карты (за первый год)\n",
       "4000                       Плата за получение наличных в Сбербанке\n",
       "4001         Плата за получение наличных в Сбербанке (в других ТБ)"
      ]
     },
     "execution_count": 5,
     "metadata": {},
     "output_type": "execute_result"
    }
   ],
   "source": [
    "tr_types.head()"
   ]
  },
  {
   "cell_type": "markdown",
   "id": "98bead3b",
   "metadata": {
    "papermill": {
     "duration": 0.020217,
     "end_time": "2021-10-17T15:11:06.907802",
     "exception": false,
     "start_time": "2021-10-17T15:11:06.887585",
     "status": "completed"
    },
    "tags": []
   },
   "source": [
    "<code>gender_train</code> - пользователи, принадлежащие к тренировочной выборке\n",
    "\n",
    "<code>gender_test</code> - пользователи, принадлежащие к тестовой выборке"
   ]
  },
  {
   "cell_type": "code",
   "execution_count": 6,
   "id": "517f5540",
   "metadata": {
    "execution": {
     "iopub.execute_input": "2021-10-17T15:11:06.952714Z",
     "iopub.status.busy": "2021-10-17T15:11:06.952081Z",
     "iopub.status.idle": "2021-10-17T15:11:07.299804Z",
     "shell.execute_reply": "2021-10-17T15:11:07.300246Z",
     "shell.execute_reply.started": "2021-10-17T14:42:44.571669Z"
    },
    "papermill": {
     "duration": 0.372141,
     "end_time": "2021-10-17T15:11:07.300434",
     "exception": false,
     "start_time": "2021-10-17T15:11:06.928293",
     "status": "completed"
    },
    "tags": []
   },
   "outputs": [
    {
     "data": {
      "text/plain": [
       "<AxesSubplot:>"
      ]
     },
     "execution_count": 6,
     "metadata": {},
     "output_type": "execute_result"
    },
    {
     "data": {
      "image/png": "[encoded data removed]",
      "text/plain": [
       "<Figure size 432x288 with 1 Axes>"
      ]
     },
     "metadata": {
      "needs_background": "light"
     },
     "output_type": "display_data"
    }
   ],
   "source": [
    "# Соотношение классов\n",
    "transactions_train.gender.hist()"
   ]
  },
  {
   "cell_type": "markdown",
   "id": "1d578ea1",
   "metadata": {
    "papermill": {
     "duration": 0.021008,
     "end_time": "2021-10-17T15:11:07.342769",
     "exception": false,
     "start_time": "2021-10-17T15:11:07.321761",
     "status": "completed"
    },
    "tags": []
   },
   "source": [
    "Этот датасет достаточно сбалансирован по классам."
   ]
  },
  {
   "cell_type": "code",
   "execution_count": 7,
   "id": "e726fa61",
   "metadata": {
    "execution": {
     "iopub.execute_input": "2021-10-17T15:11:07.396858Z",
     "iopub.status.busy": "2021-10-17T15:11:07.395909Z",
     "iopub.status.idle": "2021-10-17T15:11:08.279874Z",
     "shell.execute_reply": "2021-10-17T15:11:08.279281Z",
     "shell.execute_reply.started": "2021-10-17T14:14:34.710241Z"
    },
    "papermill": {
     "duration": 0.915976,
     "end_time": "2021-10-17T15:11:08.280010",
     "exception": false,
     "start_time": "2021-10-17T15:11:07.364034",
     "status": "completed"
    },
    "tags": []
   },
   "outputs": [
    {
     "data": {
      "text/plain": [
       "Text(0, 0.5, 'Количество')"
      ]
     },
     "execution_count": 7,
     "metadata": {},
     "output_type": "execute_result"
    },
    {
     "data": {
      "image/png": "[encoded data removed]",
      "text/plain": [
       "<Figure size 432x288 with 1 Axes>"
      ]
     },
     "metadata": {
      "needs_background": "light"
     },
     "output_type": "display_data"
    }
   ],
   "source": [
    "x_mcc_1 = transactions_train[transactions_train.gender == 1].mcc_code.value_counts().head(10).index.astype(str)\n",
    "y_mcc_1 = transactions_train[transactions_train.gender == 1].mcc_code.value_counts().head(10).values\n",
    "\n",
    "plt.bar(x_mcc_1, y_mcc_1, width=0.6)\n",
    "plt.title('Топ-10 MCC по классу 1')\n",
    "plt.xlabel('MCC')\n",
    "plt.ylabel('Количество')"
   ]
  },
  {
   "cell_type": "code",
   "execution_count": 8,
   "id": "1bc9f74f",
   "metadata": {
    "execution": {
     "iopub.execute_input": "2021-10-17T15:11:08.329666Z",
     "iopub.status.busy": "2021-10-17T15:11:08.329021Z",
     "iopub.status.idle": "2021-10-17T15:11:08.853946Z",
     "shell.execute_reply": "2021-10-17T15:11:08.854420Z",
     "shell.execute_reply.started": "2021-10-17T14:15:09.826232Z"
    },
    "papermill": {
     "duration": 0.55204,
     "end_time": "2021-10-17T15:11:08.854597",
     "exception": false,
     "start_time": "2021-10-17T15:11:08.302557",
     "status": "completed"
    },
    "tags": []
   },
   "outputs": [
    {
     "data": {
      "text/plain": [
       "Text(0, 0.5, 'Количество')"
      ]
     },
     "execution_count": 8,
     "metadata": {},
     "output_type": "execute_result"
    },
    {
     "data": {
      "image/png": "[encoded data removed]",
      "text/plain": [
       "<Figure size 432x288 with 1 Axes>"
      ]
     },
     "metadata": {
      "needs_background": "light"
     },
     "output_type": "display_data"
    }
   ],
   "source": [
    "x_mcc_0 = transactions_train[transactions_train.gender == 0].mcc_code.value_counts().head(10).index.astype(str)\n",
    "y_mcc_0 = transactions_train[transactions_train.gender == 0].mcc_code.value_counts().head(10).values\n",
    "\n",
    "plt.bar(x_mcc_0, y_mcc_0, width=0.6)\n",
    "plt.title('Топ-10 MCC по классу 0')\n",
    "plt.xlabel('MCC')\n",
    "plt.ylabel('Количество')"
   ]
  },
  {
   "cell_type": "code",
   "execution_count": 9,
   "id": "5b3f3761",
   "metadata": {
    "execution": {
     "iopub.execute_input": "2021-10-17T15:11:08.909719Z",
     "iopub.status.busy": "2021-10-17T15:11:08.909093Z",
     "iopub.status.idle": "2021-10-17T15:11:09.403764Z",
     "shell.execute_reply": "2021-10-17T15:11:09.404157Z",
     "shell.execute_reply.started": "2021-10-17T14:27:23.272851Z"
    },
    "papermill": {
     "duration": 0.526176,
     "end_time": "2021-10-17T15:11:09.404321",
     "exception": false,
     "start_time": "2021-10-17T15:11:08.878145",
     "status": "completed"
    },
    "tags": []
   },
   "outputs": [
    {
     "data": {
      "text/plain": [
       "Text(0, 0.5, 'Количество')"
      ]
     },
     "execution_count": 9,
     "metadata": {},
     "output_type": "execute_result"
    },
    {
     "data": {
      "image/png": "[encoded data removed]",
      "text/plain": [
       "<Figure size 432x288 with 1 Axes>"
      ]
     },
     "metadata": {
      "needs_background": "light"
     },
     "output_type": "display_data"
    }
   ],
   "source": [
    "x_tr_1 = transactions_train[transactions_train.gender == 1].tr_type.value_counts().head(10).index.astype(str)\n",
    "y_tr_1 = transactions_train[transactions_train.gender == 1].tr_type.value_counts().head(10).values\n",
    "\n",
    "plt.bar(x_tr_1, y_tr_1, width=0.6)\n",
    "plt.title('Топ-10 типов транзакций по классу 1')\n",
    "plt.xlabel('Тип')\n",
    "plt.ylabel('Количество')"
   ]
  },
  {
   "cell_type": "code",
   "execution_count": 10,
   "id": "37d5a180",
   "metadata": {
    "execution": {
     "iopub.execute_input": "2021-10-17T15:11:09.457552Z",
     "iopub.status.busy": "2021-10-17T15:11:09.456638Z",
     "iopub.status.idle": "2021-10-17T15:11:09.991422Z",
     "shell.execute_reply": "2021-10-17T15:11:09.990742Z",
     "shell.execute_reply.started": "2021-10-17T14:27:50.222569Z"
    },
    "papermill": {
     "duration": 0.563165,
     "end_time": "2021-10-17T15:11:09.991587",
     "exception": false,
     "start_time": "2021-10-17T15:11:09.428422",
     "status": "completed"
    },
    "tags": []
   },
   "outputs": [
    {
     "data": {
      "text/plain": [
       "Text(0, 0.5, 'Количество')"
      ]
     },
     "execution_count": 10,
     "metadata": {},
     "output_type": "execute_result"
    },
    {
     "data": {
      "image/png": "[encoded data removed]",
      "text/plain": [
       "<Figure size 432x288 with 1 Axes>"
      ]
     },
     "metadata": {
      "needs_background": "light"
     },
     "output_type": "display_data"
    }
   ],
   "source": [
    "x_tr_0 = transactions_train[transactions_train.gender == 0].tr_type.value_counts().head(10).index.astype(str)\n",
    "y_tr_0 = transactions_train[transactions_train.gender == 0].tr_type.value_counts().head(10).values\n",
    "\n",
    "plt.bar(x_tr_0, y_tr_0, width=0.6)\n",
    "plt.title('Топ-10 типов транзакций по классу 0')\n",
    "plt.xlabel('Тип')\n",
    "plt.ylabel('Количество')"
   ]
  },
  {
   "cell_type": "markdown",
   "id": "07eda781",
   "metadata": {
    "papermill": {
     "duration": 0.025166,
     "end_time": "2021-10-17T15:11:10.042566",
     "exception": false,
     "start_time": "2021-10-17T15:11:10.017400",
     "status": "completed"
    },
    "tags": []
   },
   "source": [
    "## Генерация фичей"
   ]
  },
  {
   "cell_type": "markdown",
   "id": "31bacb7a",
   "metadata": {
    "papermill": {
     "duration": 0.025072,
     "end_time": "2021-10-17T15:11:10.093293",
     "exception": false,
     "start_time": "2021-10-17T15:11:10.068221",
     "status": "completed"
    },
    "tags": []
   },
   "source": [
    "Для тренировки модели, создадим временные фичи:\n",
    "- Номер дня в месяце\n",
    "- Месяц\n",
    "- День\n",
    "- Час\n",
    "- Тип дня (будни, пятница, выходные)\n",
    "- Время суток (утро, день, вечер, ночь)"
   ]
  },
  {
   "cell_type": "code",
   "execution_count": 11,
   "id": "199a8a45",
   "metadata": {
    "execution": {
     "iopub.execute_input": "2021-10-17T15:11:10.378319Z",
     "iopub.status.busy": "2021-10-17T15:11:10.376263Z",
     "iopub.status.idle": "2021-10-17T15:12:00.790519Z",
     "shell.execute_reply": "2021-10-17T15:12:00.791056Z",
     "shell.execute_reply.started": "2021-10-17T14:30:23.705116Z"
    },
    "papermill": {
     "duration": 50.672102,
     "end_time": "2021-10-17T15:12:00.791275",
     "exception": false,
     "start_time": "2021-10-17T15:11:10.119173",
     "status": "completed"
    },
    "tags": []
   },
   "outputs": [
    {
     "data": {
      "text/html": [
       "<div>\n",
       "<style scoped>\n",
       "    .dataframe tbody tr th:only-of-type {\n",
       "        vertical-align: middle;\n",
       "    }\n",
       "\n",
       "    .dataframe tbody tr th {\n",
       "        vertical-align: top;\n",
       "    }\n",
       "\n",
       "    .dataframe thead th {\n",
       "        text-align: right;\n",
       "    }\n",
       "</style>\n",
       "<table border=\"1\" class=\"dataframe\">\n",
       "  <thead>\n",
       "    <tr style=\"text-align: right;\">\n",
       "      <th></th>\n",
       "      <th>tr_datetime</th>\n",
       "      <th>mcc_code</th>\n",
       "      <th>tr_type</th>\n",
       "      <th>amount</th>\n",
       "      <th>term_id</th>\n",
       "      <th>gender</th>\n",
       "      <th>day_month</th>\n",
       "      <th>month</th>\n",
       "      <th>day</th>\n",
       "      <th>hour</th>\n",
       "      <th>type_day</th>\n",
       "      <th>part_day</th>\n",
       "    </tr>\n",
       "    <tr>\n",
       "      <th>customer_id</th>\n",
       "      <th></th>\n",
       "      <th></th>\n",
       "      <th></th>\n",
       "      <th></th>\n",
       "      <th></th>\n",
       "      <th></th>\n",
       "      <th></th>\n",
       "      <th></th>\n",
       "      <th></th>\n",
       "      <th></th>\n",
       "      <th></th>\n",
       "      <th></th>\n",
       "    </tr>\n",
       "  </thead>\n",
       "  <tbody>\n",
       "    <tr>\n",
       "      <th>22899</th>\n",
       "      <td>1 15:26:45</td>\n",
       "      <td>4814</td>\n",
       "      <td>1030</td>\n",
       "      <td>-4491.83</td>\n",
       "      <td>NaN</td>\n",
       "      <td>1</td>\n",
       "      <td>1</td>\n",
       "      <td>0</td>\n",
       "      <td>1</td>\n",
       "      <td>15</td>\n",
       "      <td>weekday</td>\n",
       "      <td>daytime</td>\n",
       "    </tr>\n",
       "    <tr>\n",
       "      <th>22899</th>\n",
       "      <td>2 20:52:48</td>\n",
       "      <td>4814</td>\n",
       "      <td>1030</td>\n",
       "      <td>-2245.92</td>\n",
       "      <td>NaN</td>\n",
       "      <td>1</td>\n",
       "      <td>2</td>\n",
       "      <td>0</td>\n",
       "      <td>2</td>\n",
       "      <td>20</td>\n",
       "      <td>weekday</td>\n",
       "      <td>evening</td>\n",
       "    </tr>\n",
       "    <tr>\n",
       "      <th>22899</th>\n",
       "      <td>5 18:52:19</td>\n",
       "      <td>6011</td>\n",
       "      <td>2010</td>\n",
       "      <td>-44918.32</td>\n",
       "      <td>NaN</td>\n",
       "      <td>1</td>\n",
       "      <td>5</td>\n",
       "      <td>0</td>\n",
       "      <td>5</td>\n",
       "      <td>18</td>\n",
       "      <td>weekend</td>\n",
       "      <td>evening</td>\n",
       "    </tr>\n",
       "    <tr>\n",
       "      <th>22899</th>\n",
       "      <td>6 12:28:22</td>\n",
       "      <td>6011</td>\n",
       "      <td>2010</td>\n",
       "      <td>-150476.36</td>\n",
       "      <td>NaN</td>\n",
       "      <td>1</td>\n",
       "      <td>6</td>\n",
       "      <td>0</td>\n",
       "      <td>6</td>\n",
       "      <td>12</td>\n",
       "      <td>weekend</td>\n",
       "      <td>daytime</td>\n",
       "    </tr>\n",
       "    <tr>\n",
       "      <th>22899</th>\n",
       "      <td>28 10:41:01</td>\n",
       "      <td>6010</td>\n",
       "      <td>7030</td>\n",
       "      <td>33688.74</td>\n",
       "      <td>NaN</td>\n",
       "      <td>1</td>\n",
       "      <td>28</td>\n",
       "      <td>0</td>\n",
       "      <td>0</td>\n",
       "      <td>10</td>\n",
       "      <td>weekday</td>\n",
       "      <td>morning</td>\n",
       "    </tr>\n",
       "  </tbody>\n",
       "</table>\n",
       "</div>"
      ],
      "text/plain": [
       "             tr_datetime  mcc_code  tr_type     amount term_id  gender  \\\n",
       "customer_id                                                              \n",
       "22899         1 15:26:45      4814     1030   -4491.83     NaN       1   \n",
       "22899         2 20:52:48      4814     1030   -2245.92     NaN       1   \n",
       "22899         5 18:52:19      6011     2010  -44918.32     NaN       1   \n",
       "22899         6 12:28:22      6011     2010 -150476.36     NaN       1   \n",
       "22899        28 10:41:01      6010     7030   33688.74     NaN       1   \n",
       "\n",
       "             day_month  month  day  hour type_day part_day  \n",
       "customer_id                                                 \n",
       "22899                1      0    1    15  weekday  daytime  \n",
       "22899                2      0    2    20  weekday  evening  \n",
       "22899                5      0    5    18  weekend  evening  \n",
       "22899                6      0    6    12  weekend  daytime  \n",
       "22899               28      0    0    10  weekday  morning  "
      ]
     },
     "execution_count": 11,
     "metadata": {},
     "output_type": "execute_result"
    }
   ],
   "source": [
    "def conditions_day(x):\n",
    "    if x == 4:\n",
    "        return 'friday'\n",
    "    elif (x == 5 or x == 6):\n",
    "        return 'weekend'\n",
    "    else:\n",
    "        return 'weekday'\n",
    "conds_d = np.vectorize(conditions_day)\n",
    "\n",
    "def conditions_hour(x):\n",
    "    if (x >= 6) and (x < 12):\n",
    "        return 'morning'\n",
    "    elif (x >= 12) and (x < 18):\n",
    "        return 'daytime'\n",
    "    elif (x >= 18) and (x <= 23):\n",
    "        return 'evening'\n",
    "    else:\n",
    "        return 'night'\n",
    "conds_h = np.vectorize(conditions_hour)\n",
    "\n",
    "for df in [transactions_train, transactions_test]:\n",
    "    df['day_month'] = df['tr_datetime'].str.split().apply(lambda x: int(x[0]) % 30)\n",
    "    df['month'] = df['tr_datetime'].str.split().apply(lambda x: (int(x[0]) // 30) % 12)\n",
    "    df['day'] = df['tr_datetime'].str.split().apply(lambda x: int(x[0]) % 7)\n",
    "    df['hour'] = df['tr_datetime'].apply(lambda x: re.search(' \\d*', x).group(0)).astype(int)\n",
    "    type_day = conds_d(df['day'])\n",
    "    df['type_day'] = type_day\n",
    "    part_day = conds_h(df['hour'])\n",
    "    df['part_day'] = part_day\n",
    "\n",
    "transactions_train.head()"
   ]
  },
  {
   "cell_type": "markdown",
   "id": "42d1b729",
   "metadata": {
    "papermill": {
     "duration": 0.026351,
     "end_time": "2021-10-17T15:12:00.851244",
     "exception": false,
     "start_time": "2021-10-17T15:12:00.824893",
     "status": "completed"
    },
    "tags": []
   },
   "source": [
    "Посчитаем для каждого пользователя количество транзакций в определенные часы, дни, месяцы. Разделим транзакции на положительные (пришли средства) и отрицательные (ушли средства), а затем на основе этого посчитаем для каждого пользователя минимум, максимум, среднее, медиану и другие агрегирующие функции. Также, посчитаем количество транзакций по MCC кодам и типам транзакций."
   ]
  },
  {
   "cell_type": "code",
   "execution_count": 12,
   "id": "02135ac2",
   "metadata": {
    "execution": {
     "iopub.execute_input": "2021-10-17T15:12:00.908348Z",
     "iopub.status.busy": "2021-10-17T15:12:00.907716Z",
     "iopub.status.idle": "2021-10-17T15:12:00.917863Z",
     "shell.execute_reply": "2021-10-17T15:12:00.918284Z",
     "shell.execute_reply.started": "2021-10-17T14:36:32.617538Z"
    },
    "papermill": {
     "duration": 0.040232,
     "end_time": "2021-10-17T15:12:00.918476",
     "exception": false,
     "start_time": "2021-10-17T15:12:00.878244",
     "status": "completed"
    },
    "tags": []
   },
   "outputs": [],
   "source": [
    "tqdm_notebook.pandas(desc=\"Progress:\")\n",
    "\n",
    "def features_advanced(x): \n",
    "    features = []\n",
    "    features.append(pd.Series(x['day_month'].value_counts(normalize=True).add_prefix('day_month_')))\n",
    "    features.append(pd.Series(x['month'].value_counts(normalize=True).add_prefix('month_')))\n",
    "    features.append(pd.Series(x['day'].value_counts(normalize=True).add_prefix('day_')))\n",
    "    features.append(pd.Series(x['hour'].value_counts(normalize=True).add_prefix('hour_')))\n",
    "    features.append(pd.Series(x['type_day'].value_counts(normalize=True).add_prefix('type_day_')))\n",
    "    features.append(pd.Series(x['part_day'].value_counts(normalize=True).add_prefix('part_day_')))\n",
    "    \n",
    "    features.append(pd.Series(x[x['amount']>0]['amount'].agg(['min', 'max', 'mean', 'median', 'std', 'count', 'sum'])\\\n",
    "                                                        .add_prefix('positive_transactions_')))\n",
    "    features.append(pd.Series(x[x['amount']<0]['amount'].agg(['min', 'max', 'mean', 'median', 'std', 'count', 'sum'])\\\n",
    "                                                        .add_prefix('negative_transactions_')))\n",
    "\n",
    "    features.append(pd.Series(x['mcc_code'].value_counts(normalize=True).add_prefix('mcc_')))\n",
    "    features.append(pd.Series(x['tr_type'].value_counts(normalize=True).add_prefix('tr_')))\n",
    "    features.append(pd.Series(x[['day_month', 'part_day']].value_counts(normalize=True).add_prefix('dm_pd_')))\n",
    "    \n",
    "    return pd.concat(features)"
   ]
  },
  {
   "cell_type": "code",
   "execution_count": 13,
   "id": "bf705471",
   "metadata": {
    "execution": {
     "iopub.execute_input": "2021-10-17T15:12:00.978941Z",
     "iopub.status.busy": "2021-10-17T15:12:00.974688Z",
     "iopub.status.idle": "2021-10-17T15:14:48.293439Z",
     "shell.execute_reply": "2021-10-17T15:14:48.292790Z",
     "shell.execute_reply.started": "2021-10-17T14:36:45.457846Z"
    },
    "papermill": {
     "duration": 167.349152,
     "end_time": "2021-10-17T15:14:48.293598",
     "exception": false,
     "start_time": "2021-10-17T15:12:00.944446",
     "status": "completed"
    },
    "tags": []
   },
   "outputs": [
    {
     "data": {
      "application/vnd.jupyter.widget-view+json": {
       "model_id": "2f30547d99eb4599b6bdb7451b9854af",
       "version_major": 2,
       "version_minor": 0
      },
      "text/plain": [
       "Progress::   0%|          | 0/8400 [00:00<?, ?it/s]"
      ]
     },
     "metadata": {},
     "output_type": "display_data"
    },
    {
     "data": {
      "application/vnd.jupyter.widget-view+json": {
       "model_id": "4ee38e8143774b2ba5913c08813d9cba",
       "version_major": 2,
       "version_minor": 0
      },
      "text/plain": [
       "Progress::   0%|          | 0/3600 [00:00<?, ?it/s]"
      ]
     },
     "metadata": {},
     "output_type": "display_data"
    },
    {
     "data": {
      "text/plain": [
       "0    4687\n",
       "1    3713\n",
       "Name: gender, dtype: int64"
      ]
     },
     "execution_count": 13,
     "metadata": {},
     "output_type": "execute_result"
    }
   ],
   "source": [
    "data_train = transactions_train.groupby(transactions_train.index)\\\n",
    "                            .progress_apply(features_advanced).unstack(-1)\n",
    "data_test = transactions_test.groupby(transactions_test.index)\\\n",
    "                            .progress_apply(features_advanced).unstack(-1)\n",
    "\n",
    "target = data_train.join(gender_train, how='inner')['gender']\n",
    "target.value_counts()"
   ]
  },
  {
   "cell_type": "code",
   "execution_count": 14,
   "id": "f1944089",
   "metadata": {
    "execution": {
     "iopub.execute_input": "2021-10-17T15:14:48.359843Z",
     "iopub.status.busy": "2021-10-17T15:14:48.356445Z",
     "iopub.status.idle": "2021-10-17T15:14:48.455388Z",
     "shell.execute_reply": "2021-10-17T15:14:48.454828Z",
     "shell.execute_reply.started": "2021-10-17T14:44:19.394459Z"
    },
    "papermill": {
     "duration": 0.132038,
     "end_time": "2021-10-17T15:14:48.455562",
     "exception": false,
     "start_time": "2021-10-17T15:14:48.323524",
     "status": "completed"
    },
    "tags": []
   },
   "outputs": [
    {
     "data": {
      "text/plain": [
       "((8400, 474), (3600, 472))"
      ]
     },
     "execution_count": 14,
     "metadata": {},
     "output_type": "execute_result"
    }
   ],
   "source": [
    "X = data_train.copy()\n",
    "y = target\n",
    "test_df = data_test.copy()\n",
    "\n",
    "# Заполним пустые значения нулями\n",
    "X.fillna(0, inplace=True)\n",
    "test_df.fillna(0, inplace=True)\n",
    "\n",
    "X.shape, test_df.shape"
   ]
  },
  {
   "cell_type": "markdown",
   "id": "b53862a3",
   "metadata": {
    "papermill": {
     "duration": 0.028861,
     "end_time": "2021-10-17T15:14:48.512949",
     "exception": false,
     "start_time": "2021-10-17T15:14:48.484088",
     "status": "completed"
    },
    "tags": []
   },
   "source": [
    "## Модель"
   ]
  },
  {
   "cell_type": "code",
   "execution_count": 15,
   "id": "df406629",
   "metadata": {
    "execution": {
     "iopub.execute_input": "2021-10-17T15:14:48.573945Z",
     "iopub.status.busy": "2021-10-17T15:14:48.573185Z",
     "iopub.status.idle": "2021-10-17T15:14:48.576497Z",
     "shell.execute_reply": "2021-10-17T15:14:48.575873Z",
     "shell.execute_reply.started": "2021-10-17T14:46:10.529207Z"
    },
    "papermill": {
     "duration": 0.035614,
     "end_time": "2021-10-17T15:14:48.576654",
     "exception": false,
     "start_time": "2021-10-17T15:14:48.541040",
     "status": "completed"
    },
    "tags": []
   },
   "outputs": [],
   "source": [
    "# Подобранные оптимальные гиперпараметры\n",
    "\n",
    "params = {\n",
    "    'num_trees': 270,\n",
    "    'learning_rate': 0.08,\n",
    "    'depth': 6,\n",
    "    'l2_leaf_reg': 2.5,\n",
    "    'verbose' : False\n",
    "}"
   ]
  },
  {
   "cell_type": "markdown",
   "id": "c9c4db27",
   "metadata": {
    "execution": {
     "iopub.execute_input": "2021-10-17T14:54:31.118765Z",
     "iopub.status.busy": "2021-10-17T14:54:31.118408Z",
     "iopub.status.idle": "2021-10-17T14:54:31.125569Z",
     "shell.execute_reply": "2021-10-17T14:54:31.124703Z",
     "shell.execute_reply.started": "2021-10-17T14:54:31.118731Z"
    },
    "papermill": {
     "duration": 0.02711,
     "end_time": "2021-10-17T15:14:48.631129",
     "exception": false,
     "start_time": "2021-10-17T15:14:48.604019",
     "status": "completed"
    },
    "tags": []
   },
   "source": [
    "Оценим модель по метрикам ROC AUC и F1."
   ]
  },
  {
   "cell_type": "code",
   "execution_count": 16,
   "id": "e7e4abe2",
   "metadata": {
    "execution": {
     "iopub.execute_input": "2021-10-17T15:14:48.695059Z",
     "iopub.status.busy": "2021-10-17T15:14:48.694069Z",
     "iopub.status.idle": "2021-10-17T15:15:04.251025Z",
     "shell.execute_reply": "2021-10-17T15:15:04.250530Z",
     "shell.execute_reply.started": "2021-10-17T14:51:16.862894Z"
    },
    "papermill": {
     "duration": 15.592674,
     "end_time": "2021-10-17T15:15:04.251175",
     "exception": false,
     "start_time": "2021-10-17T15:14:48.658501",
     "status": "completed"
    },
    "tags": []
   },
   "outputs": [
    {
     "data": {
      "text/plain": [
       "<catboost.core.CatBoostClassifier at 0x7fd4221e8090>"
      ]
     },
     "execution_count": 16,
     "metadata": {},
     "output_type": "execute_result"
    }
   ],
   "source": [
    "train_indices, test_indices = train_test_split(y.index, test_size=0.2)\n",
    "\n",
    "train_x = X.loc[train_indices, :]\n",
    "train_y = y.loc[train_indices]\n",
    "\n",
    "test_x = X.loc[test_indices, :]\n",
    "test_y = y.loc[test_indices]\n",
    "\n",
    "model = CatBoostClassifier(**params)\n",
    "model.fit(train_x, train_y)"
   ]
  },
  {
   "cell_type": "code",
   "execution_count": 17,
   "id": "6af20dbc",
   "metadata": {
    "execution": {
     "iopub.execute_input": "2021-10-17T15:15:04.318044Z",
     "iopub.status.busy": "2021-10-17T15:15:04.317396Z",
     "iopub.status.idle": "2021-10-17T15:15:04.356896Z",
     "shell.execute_reply": "2021-10-17T15:15:04.357313Z",
     "shell.execute_reply.started": "2021-10-17T14:56:42.604159Z"
    },
    "papermill": {
     "duration": 0.078603,
     "end_time": "2021-10-17T15:15:04.357543",
     "exception": false,
     "start_time": "2021-10-17T15:15:04.278940",
     "status": "completed"
    },
    "tags": []
   },
   "outputs": [
    {
     "name": "stdout",
     "output_type": "stream",
     "text": [
      "ROC AUC: 0.7801023614977104\n",
      "F1 score: 0.7527472527472528\n"
     ]
    }
   ],
   "source": [
    "y_pred = model.predict(test_x)\n",
    "metric_auc = roc_auc_score(test_y, y_pred)\n",
    "metric_f1 = f1_score(test_y, y_pred)\n",
    "\n",
    "print('ROC AUC:', metric_auc)\n",
    "print('F1 score:', metric_f1)"
   ]
  },
  {
   "cell_type": "code",
   "execution_count": 18,
   "id": "5f77ddc5",
   "metadata": {
    "execution": {
     "iopub.execute_input": "2021-10-17T15:15:04.419137Z",
     "iopub.status.busy": "2021-10-17T15:15:04.418524Z",
     "iopub.status.idle": "2021-10-17T15:15:04.824623Z",
     "shell.execute_reply": "2021-10-17T15:15:04.824057Z",
     "shell.execute_reply.started": "2021-10-17T15:02:10.237611Z"
    },
    "papermill": {
     "duration": 0.437992,
     "end_time": "2021-10-17T15:15:04.824779",
     "exception": false,
     "start_time": "2021-10-17T15:15:04.386787",
     "status": "completed"
    },
    "tags": []
   },
   "outputs": [
    {
     "data": {
      "image/png": "[encoded data removed]",
      "text/plain": [
       "<Figure size 720x576 with 1 Axes>"
      ]
     },
     "metadata": {},
     "output_type": "display_data"
    }
   ],
   "source": [
    "sns.set(font_scale=1.5)\n",
    "sns.set_color_codes(\"muted\")\n",
    "\n",
    "plt.figure(figsize=(10, 8))\n",
    "fpr, tpr, thresholds = roc_curve(test_y, y_pred, pos_label=1)\n",
    "lw = 2\n",
    "plt.plot(fpr, tpr, lw=lw, label='ROC curve')\n",
    "plt.plot([0, 1], [0, 1])\n",
    "plt.xlim([0.0, 1.0])\n",
    "plt.ylim([0.0, 1.05])\n",
    "plt.xlabel('False Positive Rate')\n",
    "plt.ylabel('True Positive Rate')\n",
    "plt.title('ROC curve')\n",
    "plt.show()"
   ]
  },
  {
   "cell_type": "markdown",
   "id": "b33db054",
   "metadata": {
    "execution": {
     "iopub.execute_input": "2021-10-17T15:04:18.373341Z",
     "iopub.status.busy": "2021-10-17T15:04:18.372468Z",
     "iopub.status.idle": "2021-10-17T15:04:18.378334Z",
     "shell.execute_reply": "2021-10-17T15:04:18.377315Z",
     "shell.execute_reply.started": "2021-10-17T15:04:18.373289Z"
    },
    "papermill": {
     "duration": 0.030729,
     "end_time": "2021-10-17T15:15:04.886243",
     "exception": false,
     "start_time": "2021-10-17T15:15:04.855514",
     "status": "completed"
    },
    "tags": []
   },
   "source": [
    "Обучим модель на всех данных"
   ]
  },
  {
   "cell_type": "code",
   "execution_count": 19,
   "id": "98e6429f",
   "metadata": {
    "execution": {
     "iopub.execute_input": "2021-10-17T15:15:04.978677Z",
     "iopub.status.busy": "2021-10-17T15:15:04.949710Z",
     "iopub.status.idle": "2021-10-17T15:15:21.486817Z",
     "shell.execute_reply": "2021-10-17T15:15:21.487286Z",
     "shell.execute_reply.started": "2021-10-17T15:08:27.073880Z"
    },
    "papermill": {
     "duration": 16.57115,
     "end_time": "2021-10-17T15:15:21.487536",
     "exception": false,
     "start_time": "2021-10-17T15:15:04.916386",
     "status": "completed"
    },
    "tags": []
   },
   "outputs": [
    {
     "data": {
      "text/plain": [
       "<catboost.core.CatBoostClassifier at 0x7fd421e8c490>"
      ]
     },
     "execution_count": 19,
     "metadata": {},
     "output_type": "execute_result"
    }
   ],
   "source": [
    "pred_model = CatBoostClassifier(**params)\n",
    "\n",
    "pred_model.fit(X, y)"
   ]
  },
  {
   "cell_type": "code",
   "execution_count": 20,
   "id": "d2053847",
   "metadata": {
    "execution": {
     "iopub.execute_input": "2021-10-17T15:15:21.566094Z",
     "iopub.status.busy": "2021-10-17T15:15:21.554390Z",
     "iopub.status.idle": "2021-10-17T15:15:21.592892Z",
     "shell.execute_reply": "2021-10-17T15:15:21.592297Z",
     "shell.execute_reply.started": "2021-10-17T15:08:46.008832Z"
    },
    "papermill": {
     "duration": 0.073212,
     "end_time": "2021-10-17T15:15:21.593045",
     "exception": false,
     "start_time": "2021-10-17T15:15:21.519833",
     "status": "completed"
    },
    "tags": []
   },
   "outputs": [],
   "source": [
    "predict = pred_model.predict_proba(test_df)"
   ]
  },
  {
   "cell_type": "code",
   "execution_count": 21,
   "id": "06f30140",
   "metadata": {
    "execution": {
     "iopub.execute_input": "2021-10-17T15:15:21.655626Z",
     "iopub.status.busy": "2021-10-17T15:15:21.654712Z",
     "iopub.status.idle": "2021-10-17T15:15:21.684728Z",
     "shell.execute_reply": "2021-10-17T15:15:21.684169Z",
     "shell.execute_reply.started": "2021-10-17T15:08:48.691110Z"
    },
    "papermill": {
     "duration": 0.062429,
     "end_time": "2021-10-17T15:15:21.684889",
     "exception": false,
     "start_time": "2021-10-17T15:15:21.622460",
     "status": "completed"
    },
    "tags": []
   },
   "outputs": [
    {
     "data": {
      "text/html": [
       "<div>\n",
       "<style scoped>\n",
       "    .dataframe tbody tr th:only-of-type {\n",
       "        vertical-align: middle;\n",
       "    }\n",
       "\n",
       "    .dataframe tbody tr th {\n",
       "        vertical-align: top;\n",
       "    }\n",
       "\n",
       "    .dataframe thead th {\n",
       "        text-align: right;\n",
       "    }\n",
       "</style>\n",
       "<table border=\"1\" class=\"dataframe\">\n",
       "  <thead>\n",
       "    <tr style=\"text-align: right;\">\n",
       "      <th></th>\n",
       "      <th>probability</th>\n",
       "    </tr>\n",
       "    <tr>\n",
       "      <th>customer_id</th>\n",
       "      <th></th>\n",
       "    </tr>\n",
       "  </thead>\n",
       "  <tbody>\n",
       "    <tr>\n",
       "      <th>6815</th>\n",
       "      <td>0.460374</td>\n",
       "    </tr>\n",
       "    <tr>\n",
       "      <th>27914</th>\n",
       "      <td>0.811062</td>\n",
       "    </tr>\n",
       "    <tr>\n",
       "      <th>31385</th>\n",
       "      <td>0.072757</td>\n",
       "    </tr>\n",
       "    <tr>\n",
       "      <th>38084</th>\n",
       "      <td>0.019044</td>\n",
       "    </tr>\n",
       "    <tr>\n",
       "      <th>78659</th>\n",
       "      <td>0.659438</td>\n",
       "    </tr>\n",
       "  </tbody>\n",
       "</table>\n",
       "</div>"
      ],
      "text/plain": [
       "             probability\n",
       "customer_id             \n",
       "6815            0.460374\n",
       "27914           0.811062\n",
       "31385           0.072757\n",
       "38084           0.019044\n",
       "78659           0.659438"
      ]
     },
     "execution_count": 21,
     "metadata": {},
     "output_type": "execute_result"
    }
   ],
   "source": [
    "submission = pd.DataFrame(index=data_test.index)\n",
    "submission['probability'] = predict[:,1]\n",
    "submission.to_csv('final_submission.csv')\n",
    "submission.head()"
   ]
  }
 ],
 "metadata": {
  "kernelspec": {
   "display_name": "Python 3",
   "language": "python",
   "name": "python3"
  },
  "language_info": {
   "codemirror_mode": {
    "name": "ipython",
    "version": 3
   },
   "file_extension": ".py",
   "mimetype": "text/x-python",
   "name": "python",
   "nbconvert_exporter": "python",
   "pygments_lexer": "ipython3",
   "version": "3.7.10"
  },
  "papermill": {
   "default_parameters": {},
   "duration": 279.251732,
   "end_time": "2021-10-17T15:15:23.435989",
   "environment_variables": {},
   "exception": null,
   "input_path": "__notebook__.ipynb",
   "output_path": "__notebook__.ipynb",
   "parameters": {},
   "start_time": "2021-10-17T15:10:44.184257",
   "version": "2.3.3"
  },
  "widgets": {
   "application/vnd.jupyter.widget-state+json": {
    "state": {
     "2a72cb27207d4893ab0fa1c6bcde51a1": {
      "model_module": "@jupyter-widgets/controls",
      "model_module_version": "1.5.0",
      "model_name": "ProgressStyleModel",
      "state": {
       "_model_module": "@jupyter-widgets/controls",
       "_model_module_version": "1.5.0",
       "_model_name": "ProgressStyleModel",
       "_view_count": null,
       "_view_module": "@jupyter-widgets/base",
       "_view_module_version": "1.2.0",
       "_view_name": "StyleView",
       "bar_color": null,
       "description_width": ""
      }
     },
     "2f30547d99eb4599b6bdb7451b9854af": {
      "model_module": "@jupyter-widgets/controls",
      "model_module_version": "1.5.0",
      "model_name": "HBoxModel",
      "state": {
       "_dom_classes": [],
       "_model_module": "@jupyter-widgets/controls",
       "_model_module_version": "1.5.0",
       "_model_name": "HBoxModel",
       "_view_count": null,
       "_view_module": "@jupyter-widgets/controls",
       "_view_module_version": "1.5.0",
       "_view_name": "HBoxView",
       "box_style": "",
       "children": [
        "IPY_MODEL_4fd988188b3d4b648dbf971d7006a6b1",
        "IPY_MODEL_6056b86465804269bd9b5413c51c7a90",
        "IPY_MODEL_d9c9402a2759490ba72520557190d93e"
       ],
       "layout": "IPY_MODEL_631f668f0095403abbc7e8fb4a03f02b"
      }
     },
     "3599589bf86047c291bd8c4a8cef6e86": {
      "model_module": "@jupyter-widgets/controls",
      "model_module_version": "1.5.0",
      "model_name": "DescriptionStyleModel",
      "state": {
       "_model_module": "@jupyter-widgets/controls",
       "_model_module_version": "1.5.0",
       "_model_name": "DescriptionStyleModel",
       "_view_count": null,
       "_view_module": "@jupyter-widgets/base",
       "_view_module_version": "1.2.0",
       "_view_name": "StyleView",
       "description_width": ""
      }
     },
     "3ca1f2024ae44b878694e80e71c153e7": {
      "model_module": "@jupyter-widgets/controls",
      "model_module_version": "1.5.0",
      "model_name": "DescriptionStyleModel",
      "state": {
       "_model_module": "@jupyter-widgets/controls",
       "_model_module_version": "1.5.0",
       "_model_name": "DescriptionStyleModel",
       "_view_count": null,
       "_view_module": "@jupyter-widgets/base",
       "_view_module_version": "1.2.0",
       "_view_name": "StyleView",
       "description_width": ""
      }
     },
     "3e0aba9833dd4a0089c4fb238e6fbc78": {
      "model_module": "@jupyter-widgets/controls",
      "model_module_version": "1.5.0",
      "model_name": "DescriptionStyleModel",
      "state": {
       "_model_module": "@jupyter-widgets/controls",
       "_model_module_version": "1.5.0",
       "_model_name": "DescriptionStyleModel",
       "_view_count": null,
       "_view_module": "@jupyter-widgets/base",
       "_view_module_version": "1.2.0",
       "_view_name": "StyleView",
       "description_width": ""
      }
     },
     "3ed18210eaa44ff99d9d84970b109063": {
      "model_module": "@jupyter-widgets/base",
      "model_module_version": "1.2.0",
      "model_name": "LayoutModel",
      "state": {
       "_model_module": "@jupyter-widgets/base",
       "_model_module_version": "1.2.0",
       "_model_name": "LayoutModel",
       "_view_count": null,
       "_view_module": "@jupyter-widgets/base",
       "_view_module_version": "1.2.0",
       "_view_name": "LayoutView",
       "align_content": null,
       "align_items": null,
       "align_self": null,
       "border": null,
       "bottom": null,
       "display": null,
       "flex": null,
       "flex_flow": null,
       "grid_area": null,
       "grid_auto_columns": null,
       "grid_auto_flow": null,
       "grid_auto_rows": null,
       "grid_column": null,
       "grid_gap": null,
       "grid_row": null,
       "grid_template_areas": null,
       "grid_template_columns": null,
       "grid_template_rows": null,
       "height": null,
       "justify_content": null,
       "justify_items": null,
       "left": null,
       "margin": null,
       "max_height": null,
       "max_width": null,
       "min_height": null,
       "min_width": null,
       "object_fit": null,
       "object_position": null,
       "order": null,
       "overflow": null,
       "overflow_x": null,
       "overflow_y": null,
       "padding": null,
       "right": null,
       "top": null,
       "visibility": null,
       "width": null
      }
     },
     "4340745a64564e6698316a19f7f679be": {
      "model_module": "@jupyter-widgets/controls",
      "model_module_version": "1.5.0",
      "model_name": "HTMLModel",
      "state": {
       "_dom_classes": [],
       "_model_module": "@jupyter-widgets/controls",
       "_model_module_version": "1.5.0",
       "_model_name": "HTMLModel",
       "_view_count": null,
       "_view_module": "@jupyter-widgets/controls",
       "_view_module_version": "1.5.0",
       "_view_name": "HTMLView",
       "description": "",
       "description_tooltip": null,
       "layout": "IPY_MODEL_57bc08915a5b4f3fb44041474739d312",
       "placeholder": "​",
       "style": "IPY_MODEL_642731cac4374a8e8fad5f24479613ce",
       "value": " 3600/3600 [00:49&lt;00:00, 72.85it/s]"
      }
     },
     "43622946e6654612a404ce878e294386": {
      "model_module": "@jupyter-widgets/base",
      "model_module_version": "1.2.0",
      "model_name": "LayoutModel",
      "state": {
       "_model_module": "@jupyter-widgets/base",
       "_model_module_version": "1.2.0",
       "_model_name": "LayoutModel",
       "_view_count": null,
       "_view_module": "@jupyter-widgets/base",
       "_view_module_version": "1.2.0",
       "_view_name": "LayoutView",
       "align_content": null,
       "align_items": null,
       "align_self": null,
       "border": null,
       "bottom": null,
       "display": null,
       "flex": null,
       "flex_flow": null,
       "grid_area": null,
       "grid_auto_columns": null,
       "grid_auto_flow": null,
       "grid_auto_rows": null,
       "grid_column": null,
       "grid_gap": null,
       "grid_row": null,
       "grid_template_areas": null,
       "grid_template_columns": null,
       "grid_template_rows": null,
       "height": null,
       "justify_content": null,
       "justify_items": null,
       "left": null,
       "margin": null,
       "max_height": null,
       "max_width": null,
       "min_height": null,
       "min_width": null,
       "object_fit": null,
       "object_position": null,
       "order": null,
       "overflow": null,
       "overflow_x": null,
       "overflow_y": null,
       "padding": null,
       "right": null,
       "top": null,
       "visibility": null,
       "width": null
      }
     },
     "4ee38e8143774b2ba5913c08813d9cba": {
      "model_module": "@jupyter-widgets/controls",
      "model_module_version": "1.5.0",
      "model_name": "HBoxModel",
      "state": {
       "_dom_classes": [],
       "_model_module": "@jupyter-widgets/controls",
       "_model_module_version": "1.5.0",
       "_model_name": "HBoxModel",
       "_view_count": null,
       "_view_module": "@jupyter-widgets/controls",
       "_view_module_version": "1.5.0",
       "_view_name": "HBoxView",
       "box_style": "",
       "children": [
        "IPY_MODEL_a2f0c1f596b1450ab4d631c56053c16f",
        "IPY_MODEL_681e955352ed427e89e84baf1ba2d51a",
        "IPY_MODEL_4340745a64564e6698316a19f7f679be"
       ],
       "layout": "IPY_MODEL_7aadb97d10ac4b5ca92a3f7a6b4fe3b1"
      }
     },
     "4fd988188b3d4b648dbf971d7006a6b1": {
      "model_module": "@jupyter-widgets/controls",
      "model_module_version": "1.5.0",
      "model_name": "HTMLModel",
      "state": {
       "_dom_classes": [],
       "_model_module": "@jupyter-widgets/controls",
       "_model_module_version": "1.5.0",
       "_model_name": "HTMLModel",
       "_view_count": null,
       "_view_module": "@jupyter-widgets/controls",
       "_view_module_version": "1.5.0",
       "_view_name": "HTMLView",
       "description": "",
       "description_tooltip": null,
       "layout": "IPY_MODEL_7885151485f648e6900eecf892f29559",
       "placeholder": "​",
       "style": "IPY_MODEL_3ca1f2024ae44b878694e80e71c153e7",
       "value": "Progress:: 100%"
      }
     },
     "57bc08915a5b4f3fb44041474739d312": {
      "model_module": "@jupyter-widgets/base",
      "model_module_version": "1.2.0",
      "model_name": "LayoutModel",
      "state": {
       "_model_module": "@jupyter-widgets/base",
       "_model_module_version": "1.2.0",
       "_model_name": "LayoutModel",
       "_view_count": null,
       "_view_module": "@jupyter-widgets/base",
       "_view_module_version": "1.2.0",
       "_view_name": "LayoutView",
       "align_content": null,
       "align_items": null,
       "align_self": null,
       "border": null,
       "bottom": null,
       "display": null,
       "flex": null,
       "flex_flow": null,
       "grid_area": null,
       "grid_auto_columns": null,
       "grid_auto_flow": null,
       "grid_auto_rows": null,
       "grid_column": null,
       "grid_gap": null,
       "grid_row": null,
       "grid_template_areas": null,
       "grid_template_columns": null,
       "grid_template_rows": null,
       "height": null,
       "justify_content": null,
       "justify_items": null,
       "left": null,
       "margin": null,
       "max_height": null,
       "max_width": null,
       "min_height": null,
       "min_width": null,
       "object_fit": null,
       "object_position": null,
       "order": null,
       "overflow": null,
       "overflow_x": null,
       "overflow_y": null,
       "padding": null,
       "right": null,
       "top": null,
       "visibility": null,
       "width": null
      }
     },
     "6056b86465804269bd9b5413c51c7a90": {
      "model_module": "@jupyter-widgets/controls",
      "model_module_version": "1.5.0",
      "model_name": "FloatProgressModel",
      "state": {
       "_dom_classes": [],
       "_model_module": "@jupyter-widgets/controls",
       "_model_module_version": "1.5.0",
       "_model_name": "FloatProgressModel",
       "_view_count": null,
       "_view_module": "@jupyter-widgets/controls",
       "_view_module_version": "1.5.0",
       "_view_name": "ProgressView",
       "bar_style": "success",
       "description": "",
       "description_tooltip": null,
       "layout": "IPY_MODEL_43622946e6654612a404ce878e294386",
       "max": 8400,
       "min": 0,
       "orientation": "horizontal",
       "style": "IPY_MODEL_c5c9cf3a72284448ab9180f76049e15a",
       "value": 8400
      }
     },
     "631f668f0095403abbc7e8fb4a03f02b": {
      "model_module": "@jupyter-widgets/base",
      "model_module_version": "1.2.0",
      "model_name": "LayoutModel",
      "state": {
       "_model_module": "@jupyter-widgets/base",
       "_model_module_version": "1.2.0",
       "_model_name": "LayoutModel",
       "_view_count": null,
       "_view_module": "@jupyter-widgets/base",
       "_view_module_version": "1.2.0",
       "_view_name": "LayoutView",
       "align_content": null,
       "align_items": null,
       "align_self": null,
       "border": null,
       "bottom": null,
       "display": null,
       "flex": null,
       "flex_flow": null,
       "grid_area": null,
       "grid_auto_columns": null,
       "grid_auto_flow": null,
       "grid_auto_rows": null,
       "grid_column": null,
       "grid_gap": null,
       "grid_row": null,
       "grid_template_areas": null,
       "grid_template_columns": null,
       "grid_template_rows": null,
       "height": null,
       "justify_content": null,
       "justify_items": null,
       "left": null,
       "margin": null,
       "max_height": null,
       "max_width": null,
       "min_height": null,
       "min_width": null,
       "object_fit": null,
       "object_position": null,
       "order": null,
       "overflow": null,
       "overflow_x": null,
       "overflow_y": null,
       "padding": null,
       "right": null,
       "top": null,
       "visibility": null,
       "width": null
      }
     },
     "642731cac4374a8e8fad5f24479613ce": {
      "model_module": "@jupyter-widgets/controls",
      "model_module_version": "1.5.0",
      "model_name": "DescriptionStyleModel",
      "state": {
       "_model_module": "@jupyter-widgets/controls",
       "_model_module_version": "1.5.0",
       "_model_name": "DescriptionStyleModel",
       "_view_count": null,
       "_view_module": "@jupyter-widgets/base",
       "_view_module_version": "1.2.0",
       "_view_name": "StyleView",
       "description_width": ""
      }
     },
     "681e955352ed427e89e84baf1ba2d51a": {
      "model_module": "@jupyter-widgets/controls",
      "model_module_version": "1.5.0",
      "model_name": "FloatProgressModel",
      "state": {
       "_dom_classes": [],
       "_model_module": "@jupyter-widgets/controls",
       "_model_module_version": "1.5.0",
       "_model_name": "FloatProgressModel",
       "_view_count": null,
       "_view_module": "@jupyter-widgets/controls",
       "_view_module_version": "1.5.0",
       "_view_name": "ProgressView",
       "bar_style": "success",
       "description": "",
       "description_tooltip": null,
       "layout": "IPY_MODEL_82ccc005ffae42f5b0352d6ad4b17380",
       "max": 3600,
       "min": 0,
       "orientation": "horizontal",
       "style": "IPY_MODEL_2a72cb27207d4893ab0fa1c6bcde51a1",
       "value": 3600
      }
     },
     "7885151485f648e6900eecf892f29559": {
      "model_module": "@jupyter-widgets/base",
      "model_module_version": "1.2.0",
      "model_name": "LayoutModel",
      "state": {
       "_model_module": "@jupyter-widgets/base",
       "_model_module_version": "1.2.0",
       "_model_name": "LayoutModel",
       "_view_count": null,
       "_view_module": "@jupyter-widgets/base",
       "_view_module_version": "1.2.0",
       "_view_name": "LayoutView",
       "align_content": null,
       "align_items": null,
       "align_self": null,
       "border": null,
       "bottom": null,
       "display": null,
       "flex": null,
       "flex_flow": null,
       "grid_area": null,
       "grid_auto_columns": null,
       "grid_auto_flow": null,
       "grid_auto_rows": null,
       "grid_column": null,
       "grid_gap": null,
       "grid_row": null,
       "grid_template_areas": null,
       "grid_template_columns": null,
       "grid_template_rows": null,
       "height": null,
       "justify_content": null,
       "justify_items": null,
       "left": null,
       "margin": null,
       "max_height": null,
       "max_width": null,
       "min_height": null,
       "min_width": null,
       "object_fit": null,
       "object_position": null,
       "order": null,
       "overflow": null,
       "overflow_x": null,
       "overflow_y": null,
       "padding": null,
       "right": null,
       "top": null,
       "visibility": null,
       "width": null
      }
     },
     "7aadb97d10ac4b5ca92a3f7a6b4fe3b1": {
      "model_module": "@jupyter-widgets/base",
      "model_module_version": "1.2.0",
      "model_name": "LayoutModel",
      "state": {
       "_model_module": "@jupyter-widgets/base",
       "_model_module_version": "1.2.0",
       "_model_name": "LayoutModel",
       "_view_count": null,
       "_view_module": "@jupyter-widgets/base",
       "_view_module_version": "1.2.0",
       "_view_name": "LayoutView",
       "align_content": null,
       "align_items": null,
       "align_self": null,
       "border": null,
       "bottom": null,
       "display": null,
       "flex": null,
       "flex_flow": null,
       "grid_area": null,
       "grid_auto_columns": null,
       "grid_auto_flow": null,
       "grid_auto_rows": null,
       "grid_column": null,
       "grid_gap": null,
       "grid_row": null,
       "grid_template_areas": null,
       "grid_template_columns": null,
       "grid_template_rows": null,
       "height": null,
       "justify_content": null,
       "justify_items": null,
       "left": null,
       "margin": null,
       "max_height": null,
       "max_width": null,
       "min_height": null,
       "min_width": null,
       "object_fit": null,
       "object_position": null,
       "order": null,
       "overflow": null,
       "overflow_x": null,
       "overflow_y": null,
       "padding": null,
       "right": null,
       "top": null,
       "visibility": null,
       "width": null
      }
     },
     "82ccc005ffae42f5b0352d6ad4b17380": {
      "model_module": "@jupyter-widgets/base",
      "model_module_version": "1.2.0",
      "model_name": "LayoutModel",
      "state": {
       "_model_module": "@jupyter-widgets/base",
       "_model_module_version": "1.2.0",
       "_model_name": "LayoutModel",
       "_view_count": null,
       "_view_module": "@jupyter-widgets/base",
       "_view_module_version": "1.2.0",
       "_view_name": "LayoutView",
       "align_content": null,
       "align_items": null,
       "align_self": null,
       "border": null,
       "bottom": null,
       "display": null,
       "flex": null,
       "flex_flow": null,
       "grid_area": null,
       "grid_auto_columns": null,
       "grid_auto_flow": null,
       "grid_auto_rows": null,
       "grid_column": null,
       "grid_gap": null,
       "grid_row": null,
       "grid_template_areas": null,
       "grid_template_columns": null,
       "grid_template_rows": null,
       "height": null,
       "justify_content": null,
       "justify_items": null,
       "left": null,
       "margin": null,
       "max_height": null,
       "max_width": null,
       "min_height": null,
       "min_width": null,
       "object_fit": null,
       "object_position": null,
       "order": null,
       "overflow": null,
       "overflow_x": null,
       "overflow_y": null,
       "padding": null,
       "right": null,
       "top": null,
       "visibility": null,
       "width": null
      }
     },
     "9cfc6030ec2d49abb1f8b58feffd7136": {
      "model_module": "@jupyter-widgets/base",
      "model_module_version": "1.2.0",
      "model_name": "LayoutModel",
      "state": {
       "_model_module": "@jupyter-widgets/base",
       "_model_module_version": "1.2.0",
       "_model_name": "LayoutModel",
       "_view_count": null,
       "_view_module": "@jupyter-widgets/base",
       "_view_module_version": "1.2.0",
       "_view_name": "LayoutView",
       "align_content": null,
       "align_items": null,
       "align_self": null,
       "border": null,
       "bottom": null,
       "display": null,
       "flex": null,
       "flex_flow": null,
       "grid_area": null,
       "grid_auto_columns": null,
       "grid_auto_flow": null,
       "grid_auto_rows": null,
       "grid_column": null,
       "grid_gap": null,
       "grid_row": null,
       "grid_template_areas": null,
       "grid_template_columns": null,
       "grid_template_rows": null,
       "height": null,
       "justify_content": null,
       "justify_items": null,
       "left": null,
       "margin": null,
       "max_height": null,
       "max_width": null,
       "min_height": null,
       "min_width": null,
       "object_fit": null,
       "object_position": null,
       "order": null,
       "overflow": null,
       "overflow_x": null,
       "overflow_y": null,
       "padding": null,
       "right": null,
       "top": null,
       "visibility": null,
       "width": null
      }
     },
     "a2f0c1f596b1450ab4d631c56053c16f": {
      "model_module": "@jupyter-widgets/controls",
      "model_module_version": "1.5.0",
      "model_name": "HTMLModel",
      "state": {
       "_dom_classes": [],
       "_model_module": "@jupyter-widgets/controls",
       "_model_module_version": "1.5.0",
       "_model_name": "HTMLModel",
       "_view_count": null,
       "_view_module": "@jupyter-widgets/controls",
       "_view_module_version": "1.5.0",
       "_view_name": "HTMLView",
       "description": "",
       "description_tooltip": null,
       "layout": "IPY_MODEL_9cfc6030ec2d49abb1f8b58feffd7136",
       "placeholder": "​",
       "style": "IPY_MODEL_3599589bf86047c291bd8c4a8cef6e86",
       "value": "Progress:: 100%"
      }
     },
     "c5c9cf3a72284448ab9180f76049e15a": {
      "model_module": "@jupyter-widgets/controls",
      "model_module_version": "1.5.0",
      "model_name": "ProgressStyleModel",
      "state": {
       "_model_module": "@jupyter-widgets/controls",
       "_model_module_version": "1.5.0",
       "_model_name": "ProgressStyleModel",
       "_view_count": null,
       "_view_module": "@jupyter-widgets/base",
       "_view_module_version": "1.2.0",
       "_view_name": "StyleView",
       "bar_color": null,
       "description_width": ""
      }
     },
     "d9c9402a2759490ba72520557190d93e": {
      "model_module": "@jupyter-widgets/controls",
      "model_module_version": "1.5.0",
      "model_name": "HTMLModel",
      "state": {
       "_dom_classes": [],
       "_model_module": "@jupyter-widgets/controls",
       "_model_module_version": "1.5.0",
       "_model_name": "HTMLModel",
       "_view_count": null,
       "_view_module": "@jupyter-widgets/controls",
       "_view_module_version": "1.5.0",
       "_view_name": "HTMLView",
       "description": "",
       "description_tooltip": null,
       "layout": "IPY_MODEL_3ed18210eaa44ff99d9d84970b109063",
       "placeholder": "​",
       "style": "IPY_MODEL_3e0aba9833dd4a0089c4fb238e6fbc78",
       "value": " 8400/8400 [01:56&lt;00:00, 76.17it/s]"
      }
     }
    },
    "version_major": 2,
    "version_minor": 0
   }
  }
 },
 "nbformat": 4,
 "nbformat_minor": 5
}
