{
 "cells": [
  {
   "cell_type": "markdown",
   "metadata": {},
   "source": [
    "# <center> Финальное задание </center>\n",
    "## <center> Предсказание пола клиента по транзакциям</center>\n",
    "\n",
    "## Описание задачи \n",
    "#### Ваше задание - предсказать пол клиента, основываясь на его транзакционных исторических данных. Выполнение финального задания - это маленький шаг в большую Data Science-всесенную, поэтому отнеситесь к нему максимально серьёзно :)\n",
    "#### В роли метрики выступает [ROC AUC](https://dyakonov.org/2017/07/28/auc-roc-%D0%BF%D0%BB%D0%BE%D1%89%D0%B0%D0%B4%D1%8C-%D0%BF%D0%BE%D0%B4-%D0%BA%D1%80%D0%B8%D0%B2%D0%BE%D0%B9-%D0%BE%D1%88%D0%B8%D0%B1%D0%BE%D0%BA/), который и нужно будет оптимизировать."
   ]
  },
  {
   "cell_type": "code",
   "execution_count": 1,
   "metadata": {},
   "outputs": [
    {
     "name": "stdout",
     "output_type": "stream",
     "text": [
      "Defaulting to user installation because normal site-packages is not writeable\n",
      "Collecting xgboost\n",
      "  Downloading xgboost-2.0.2-py3-none-manylinux2014_x86_64.whl.metadata (2.0 kB)\n",
      "Requirement already satisfied: numpy in /home/sjava/.local/lib/python3.10/site-packages (from xgboost) (1.23.3)\n",
      "Requirement already satisfied: scipy in /home/sjava/.local/lib/python3.10/site-packages (from xgboost) (1.11.3)\n",
      "Downloading xgboost-2.0.2-py3-none-manylinux2014_x86_64.whl (297.1 MB)\n",
      "\u001b[2K   \u001b[38;2;114;156;31m━━━━━━━━━━━━━━━━━━━━━━━━━━━━━━━━━━━━━━━━\u001b[0m \u001b[32m297.1/297.1 MB\u001b[0m \u001b[31m1.6 MB/s\u001b[0m eta \u001b[36m0:00:00\u001b[0mm eta \u001b[36m0:00:01\u001b[0m[36m0:00:02\u001b[0mm\n",
      "\u001b[?25hInstalling collected packages: xgboost\n",
      "Successfully installed xgboost-2.0.2\n"
     ]
    }
   ],
   "source": [
    "!pip install xgboost"
   ]
  },
  {
   "cell_type": "code",
   "execution_count": 2,
   "metadata": {},
   "outputs": [
    {
     "name": "stdout",
     "output_type": "stream",
     "text": [
      "Defaulting to user installation because normal site-packages is not writeable\n",
      "Requirement already satisfied: joblib in /home/sjava/.local/lib/python3.10/site-packages (1.3.2)\n"
     ]
    }
   ],
   "source": [
    "!pip install joblib"
   ]
  },
  {
   "cell_type": "code",
   "execution_count": 3,
   "metadata": {
    "ExecuteTime": {
     "end_time": "2019-03-05T17:34:52.054851Z",
     "start_time": "2019-03-05T17:34:51.515762Z"
    }
   },
   "outputs": [
    {
     "name": "stderr",
     "output_type": "stream",
     "text": [
      "/tmp/ipykernel_426175/1555668456.py:12: TqdmDeprecationWarning: This function will be removed in tqdm==5.0.0\n",
      "Please use `tqdm.notebook.*` instead of `tqdm._tqdm_notebook.*`\n",
      "  from tqdm._tqdm_notebook import tqdm_notebook\n"
     ]
    }
   ],
   "source": [
    "import pandas as pd\n",
    "import numpy as np\n",
    "import xgboost as xgb\n",
    "import re\n",
    "import os\n",
    "import matplotlib.pyplot as plt\n",
    "from sklearn.preprocessing import MinMaxScaler\n",
    "from sklearn.model_selection import train_test_split\n",
    "\n",
    "import joblib\n",
    "\n",
    "from tqdm._tqdm_notebook import tqdm_notebook"
   ]
  },
  {
   "cell_type": "code",
   "execution_count": 5,
   "metadata": {},
   "outputs": [],
   "source": [
    "PATH_DATA = './data'\n",
    "MODEL_PATH = \"model.pkl\""
   ]
  },
  {
   "cell_type": "code",
   "execution_count": 21,
   "metadata": {
    "ExecuteTime": {
     "end_time": "2019-03-05T17:34:58.314241Z",
     "start_time": "2019-03-05T17:34:52.056205Z"
    }
   },
   "outputs": [],
   "source": [
    "# Считываем данные\n",
    "tr_mcc_codes = pd.read_csv(os.path.join(PATH_DATA, 'mcc_codes.csv'), sep=';', index_col='mcc_code')\n",
    "tr_types = pd.read_csv(os.path.join(PATH_DATA, 'trans_types.csv'), sep=';', index_col='trans_type')\n",
    "\n",
    "transactions = pd.read_csv(os.path.join(PATH_DATA, 'transactions.csv'), index_col='client_id')\n",
    "gender_train = pd.read_csv(os.path.join(PATH_DATA, 'train.csv'), index_col='client_id')\n",
    "gender_test = pd.read_csv(os.path.join(PATH_DATA, 'test.csv'), index_col='client_id')\n",
    "transactions_train = transactions.join(gender_train, how='inner')\n",
    "transactions_test = transactions.join(gender_test, how='inner')"
   ]
  },
  {
   "cell_type": "code",
   "execution_count": 22,
   "metadata": {
    "ExecuteTime": {
     "end_time": "2019-03-05T17:34:58.354996Z",
     "start_time": "2019-03-05T17:34:58.315591Z"
    }
   },
   "outputs": [],
   "source": [
    "# Функции, которыми можно пользоваться для построения классификатора, \n",
    "# оценки его результатов и построение прогноза для тестовой части пользователей\n",
    "\n",
    "# Cross-validation score (среднее значение метрики ROC AUC на тренировочных данных)\n",
    "def cv_score(params, train, y_true):\n",
    "    cv_res=xgb.cv(params, xgb.DMatrix(train, y_true),\n",
    "                  early_stopping_rounds=10, maximize=True, \n",
    "                  num_boost_round=10000, nfold=5, stratified=True)\n",
    "    index_argmax = cv_res['test-auc-mean'].argmax()\n",
    "    print('Cross-validation, ROC AUC: {:.3f}+-{:.3f}, Trees: {}'.format(cv_res.loc[index_argmax]['test-auc-mean'],\n",
    "                                                                        cv_res.loc[index_argmax]['test-auc-std'],\n",
    "                                                                        index_argmax))\n",
    "\n",
    "# Построение модели + возврат результатов классификации тестовых пользователей\n",
    "def fit_predict(params, num_trees, train, test, target):\n",
    "    params['learning_rate'] = params['eta']\n",
    "    clf = xgb.train(params, xgb.DMatrix(train.values, target, feature_names=list(train.columns)), \n",
    "                    num_boost_round=num_trees, maximize=True)\n",
    "    y_pred = clf.predict(xgb.DMatrix(test.values, feature_names=list(train.columns)))\n",
    "    submission = pd.DataFrame(index=test.index, data=y_pred, columns=['probability'])\n",
    "    \n",
    "    joblib.dump(clf, MODEL_PATH)\n",
    "    return clf, submission\n",
    "\n",
    "# Отрисовка важности переменных. Важность переменной - количество разбиений выборки, \n",
    "# в которых участвует данная переменная. Чем больше - тем она, вероятно, лучше \n",
    "def draw_feature_importances(clf, top_k=10):\n",
    "    plt.figure(figsize=(10, 10))\n",
    "    \n",
    "    importances = dict(sorted(clf.get_score().items(), key=lambda x: x[1])[-top_k:])\n",
    "    y_pos = np.arange(len(importances))\n",
    "    \n",
    "    plt.barh(y_pos, list(importances.values()), align='center', color='green')\n",
    "    plt.yticks(y_pos, importances.keys(), fontsize=12)\n",
    "    plt.xticks(fontsize=12)\n",
    "    plt.xlabel('Feature importance', fontsize=15)\n",
    "    plt.title('Features importances, Sberbank Gender Prediction', fontsize=18)\n",
    "    plt.ylim(-0.5, len(importances) - 0.5)\n",
    "    plt.show()"
   ]
  },
  {
   "cell_type": "markdown",
   "metadata": {},
   "source": [
    "Так как код для оценки модели на тренировочных данных и её применения на тестовых данных уже дан, то мы будем работать над тем, чтобы создать переменные для улучшения результатов моделирования. \n",
    "\n",
    "<font color='red'><b>!!!</b></font> В рамках данного задания Вы можете делать всё, что угодно - использовать другие алгоритмы и/или их комбинации, подбирать гиперпараметры своих моделей, отбирать переменые, etc. Мы создали шаблон для простоты и для Вашего понимания верхнеуровневого процесса разработки модели, опустив при этом большое число деталей."
   ]
  },
  {
   "cell_type": "markdown",
   "metadata": {},
   "source": [
    "## Basic features\n",
    "Начнём с того, что сформируем базовые переменные по каждому пользователю. На этом этапе будем использовать стандартные агрегации, посчитанные на расходах и приходах клиента:\n",
    "- минимум\n",
    "- максимум\n",
    "- среднее\n",
    "- медиана\n",
    "- среднеквадратичное отклонение\n",
    "- количество\n",
    "\n",
    "Также параметры модели выберем стандартные, запишем их в словарь params, и будем использовать для дальнейшего построения модели (не забывайте, что с этим Вы можете тоже экспериментировать)."
   ]
  },
  {
   "cell_type": "code",
   "execution_count": 23,
   "metadata": {
    "ExecuteTime": {
     "end_time": "2019-03-05T17:34:58.362104Z",
     "start_time": "2019-03-05T17:34:58.356308Z"
    }
   },
   "outputs": [],
   "source": [
    "params = {\n",
    "    'eta': 0.1,\n",
    "    'max_depth': 3,\n",
    "    'subsample': 0.8,\n",
    "    'colsample_bytree': 0.8,\n",
    "    \n",
    "    'gamma': 0,\n",
    "    'lambda': 0,\n",
    "    'alpha': 0,\n",
    "    'min_child_weight': 0,\n",
    "    \n",
    "    'eval_metric': 'auc',\n",
    "    'objective': 'binary:logistic' ,\n",
    "    'booster': 'gbtree',\n",
    "    'njobs': -1,\n",
    "    'tree_method': 'approx'\n",
    "}"
   ]
  },
  {
   "cell_type": "markdown",
   "metadata": {},
   "source": [
    "Добавлен параметр агрегации \"sum\". Метрика улучшена с 0.62 до 0.63"
   ]
  },
  {
   "cell_type": "code",
   "execution_count": 27,
   "metadata": {
    "ExecuteTime": {
     "end_time": "2019-03-05T17:35:41.272300Z",
     "start_time": "2019-03-05T17:34:58.363622Z"
    }
   },
   "outputs": [
    {
     "data": {
      "application/vnd.jupyter.widget-view+json": {
       "model_id": "b6d0ed17e4954a8bb307505abc07b063",
       "version_major": 2,
       "version_minor": 0
      },
      "text/plain": [
       "Progress:   0%|          | 0/7560 [00:00<?, ?it/s]"
      ]
     },
     "metadata": {},
     "output_type": "display_data"
    },
    {
     "data": {
      "application/vnd.jupyter.widget-view+json": {
       "model_id": "e452f8eff71c4903b836e9e1363a82a3",
       "version_major": 2,
       "version_minor": 0
      },
      "text/plain": [
       "Progress:   0%|          | 0/840 [00:00<?, ?it/s]"
      ]
     },
     "metadata": {},
     "output_type": "display_data"
    }
   ],
   "source": [
    "tqdm_notebook.pandas(desc=\"Progress\")\n",
    "\n",
    "def features_creation_basic(x): \n",
    "    features = []\n",
    "    features.append(pd.Series(x[x['amount']>0]['amount'].agg(['min', 'max', 'mean', 'median', 'std', 'count', 'sum'])\\\n",
    "                                                        .add_prefix('positive_transactions_')))\n",
    "    features.append(pd.Series(x[x['amount']<0]['amount'].agg(['min', 'max', 'mean', 'median', 'std', 'count', 'sum'])\\\n",
    "                                                        .add_prefix('negative_transactions_')))\n",
    " \n",
    "    return pd.concat(features)\n",
    "\n",
    "data_train = transactions_train.groupby(transactions_train.index).progress_apply(features_creation_basic)\n",
    "data_test = transactions_test.groupby(transactions_test.index).progress_apply(features_creation_basic)"
   ]
  },
  {
   "cell_type": "code",
   "execution_count": 28,
   "metadata": {},
   "outputs": [
    {
     "data": {
      "text/html": [
       "<div>\n",
       "<style scoped>\n",
       "    .dataframe tbody tr th:only-of-type {\n",
       "        vertical-align: middle;\n",
       "    }\n",
       "\n",
       "    .dataframe tbody tr th {\n",
       "        vertical-align: top;\n",
       "    }\n",
       "\n",
       "    .dataframe thead th {\n",
       "        text-align: right;\n",
       "    }\n",
       "</style>\n",
       "<table border=\"1\" class=\"dataframe\">\n",
       "  <thead>\n",
       "    <tr style=\"text-align: right;\">\n",
       "      <th>amount</th>\n",
       "      <th>positive_transactions_min</th>\n",
       "      <th>positive_transactions_max</th>\n",
       "      <th>positive_transactions_mean</th>\n",
       "      <th>positive_transactions_median</th>\n",
       "      <th>positive_transactions_std</th>\n",
       "      <th>positive_transactions_count</th>\n",
       "      <th>positive_transactions_sum</th>\n",
       "      <th>negative_transactions_min</th>\n",
       "      <th>negative_transactions_max</th>\n",
       "      <th>negative_transactions_mean</th>\n",
       "      <th>negative_transactions_median</th>\n",
       "      <th>negative_transactions_std</th>\n",
       "      <th>negative_transactions_count</th>\n",
       "      <th>negative_transactions_sum</th>\n",
       "    </tr>\n",
       "    <tr>\n",
       "      <th>client_id</th>\n",
       "      <th></th>\n",
       "      <th></th>\n",
       "      <th></th>\n",
       "      <th></th>\n",
       "      <th></th>\n",
       "      <th></th>\n",
       "      <th></th>\n",
       "      <th></th>\n",
       "      <th></th>\n",
       "      <th></th>\n",
       "      <th></th>\n",
       "      <th></th>\n",
       "      <th></th>\n",
       "      <th></th>\n",
       "    </tr>\n",
       "  </thead>\n",
       "  <tbody>\n",
       "    <tr>\n",
       "      <th>0002cf30347684df542e1a931f356875</th>\n",
       "      <td>722.09</td>\n",
       "      <td>42665.12</td>\n",
       "      <td>18450.900313</td>\n",
       "      <td>16450.65</td>\n",
       "      <td>14360.498086</td>\n",
       "      <td>32.0</td>\n",
       "      <td>590428.81</td>\n",
       "      <td>-39772.06</td>\n",
       "      <td>-6.13</td>\n",
       "      <td>-1881.786653</td>\n",
       "      <td>-269.295</td>\n",
       "      <td>4111.309461</td>\n",
       "      <td>472.0</td>\n",
       "      <td>-888203.30</td>\n",
       "    </tr>\n",
       "    <tr>\n",
       "      <th>0002f4661e0d4d2ae097d78552dad022</th>\n",
       "      <td>312.99</td>\n",
       "      <td>15909.56</td>\n",
       "      <td>2364.986667</td>\n",
       "      <td>723.37</td>\n",
       "      <td>5083.124389</td>\n",
       "      <td>9.0</td>\n",
       "      <td>21284.88</td>\n",
       "      <td>-9400.52</td>\n",
       "      <td>-6.58</td>\n",
       "      <td>-289.255194</td>\n",
       "      <td>-123.305</td>\n",
       "      <td>693.683636</td>\n",
       "      <td>258.0</td>\n",
       "      <td>-74627.84</td>\n",
       "    </tr>\n",
       "    <tr>\n",
       "      <th>00081e0eca8ad94e493691f8f00099c6</th>\n",
       "      <td>360.75</td>\n",
       "      <td>5423.80</td>\n",
       "      <td>1981.352400</td>\n",
       "      <td>1373.80</td>\n",
       "      <td>1704.496840</td>\n",
       "      <td>25.0</td>\n",
       "      <td>49533.81</td>\n",
       "      <td>-5424.42</td>\n",
       "      <td>-1.89</td>\n",
       "      <td>-379.101205</td>\n",
       "      <td>-144.935</td>\n",
       "      <td>701.946022</td>\n",
       "      <td>166.0</td>\n",
       "      <td>-62930.80</td>\n",
       "    </tr>\n",
       "    <tr>\n",
       "      <th>0019bebcb5435df3103a5b0b52f5fc6b</th>\n",
       "      <td>14.93</td>\n",
       "      <td>20247.50</td>\n",
       "      <td>1032.745050</td>\n",
       "      <td>722.43</td>\n",
       "      <td>1743.349204</td>\n",
       "      <td>301.0</td>\n",
       "      <td>310856.26</td>\n",
       "      <td>-36518.54</td>\n",
       "      <td>-0.32</td>\n",
       "      <td>-743.432256</td>\n",
       "      <td>-361.160</td>\n",
       "      <td>2027.349534</td>\n",
       "      <td>665.0</td>\n",
       "      <td>-494382.45</td>\n",
       "    </tr>\n",
       "    <tr>\n",
       "      <th>001c8191ecac499718b33dc293a99e5b</th>\n",
       "      <td>145.62</td>\n",
       "      <td>3616.52</td>\n",
       "      <td>1250.236923</td>\n",
       "      <td>723.71</td>\n",
       "      <td>950.703133</td>\n",
       "      <td>39.0</td>\n",
       "      <td>48759.24</td>\n",
       "      <td>-15907.79</td>\n",
       "      <td>-11.56</td>\n",
       "      <td>-1394.087964</td>\n",
       "      <td>-178.110</td>\n",
       "      <td>2918.020385</td>\n",
       "      <td>167.0</td>\n",
       "      <td>-232812.69</td>\n",
       "    </tr>\n",
       "  </tbody>\n",
       "</table>\n",
       "</div>"
      ],
      "text/plain": [
       "amount                            positive_transactions_min   \n",
       "client_id                                                     \n",
       "0002cf30347684df542e1a931f356875                     722.09  \\\n",
       "0002f4661e0d4d2ae097d78552dad022                     312.99   \n",
       "00081e0eca8ad94e493691f8f00099c6                     360.75   \n",
       "0019bebcb5435df3103a5b0b52f5fc6b                      14.93   \n",
       "001c8191ecac499718b33dc293a99e5b                     145.62   \n",
       "\n",
       "amount                            positive_transactions_max   \n",
       "client_id                                                     \n",
       "0002cf30347684df542e1a931f356875                   42665.12  \\\n",
       "0002f4661e0d4d2ae097d78552dad022                   15909.56   \n",
       "00081e0eca8ad94e493691f8f00099c6                    5423.80   \n",
       "0019bebcb5435df3103a5b0b52f5fc6b                   20247.50   \n",
       "001c8191ecac499718b33dc293a99e5b                    3616.52   \n",
       "\n",
       "amount                            positive_transactions_mean   \n",
       "client_id                                                      \n",
       "0002cf30347684df542e1a931f356875                18450.900313  \\\n",
       "0002f4661e0d4d2ae097d78552dad022                 2364.986667   \n",
       "00081e0eca8ad94e493691f8f00099c6                 1981.352400   \n",
       "0019bebcb5435df3103a5b0b52f5fc6b                 1032.745050   \n",
       "001c8191ecac499718b33dc293a99e5b                 1250.236923   \n",
       "\n",
       "amount                            positive_transactions_median   \n",
       "client_id                                                        \n",
       "0002cf30347684df542e1a931f356875                      16450.65  \\\n",
       "0002f4661e0d4d2ae097d78552dad022                        723.37   \n",
       "00081e0eca8ad94e493691f8f00099c6                       1373.80   \n",
       "0019bebcb5435df3103a5b0b52f5fc6b                        722.43   \n",
       "001c8191ecac499718b33dc293a99e5b                        723.71   \n",
       "\n",
       "amount                            positive_transactions_std   \n",
       "client_id                                                     \n",
       "0002cf30347684df542e1a931f356875               14360.498086  \\\n",
       "0002f4661e0d4d2ae097d78552dad022                5083.124389   \n",
       "00081e0eca8ad94e493691f8f00099c6                1704.496840   \n",
       "0019bebcb5435df3103a5b0b52f5fc6b                1743.349204   \n",
       "001c8191ecac499718b33dc293a99e5b                 950.703133   \n",
       "\n",
       "amount                            positive_transactions_count   \n",
       "client_id                                                       \n",
       "0002cf30347684df542e1a931f356875                         32.0  \\\n",
       "0002f4661e0d4d2ae097d78552dad022                          9.0   \n",
       "00081e0eca8ad94e493691f8f00099c6                         25.0   \n",
       "0019bebcb5435df3103a5b0b52f5fc6b                        301.0   \n",
       "001c8191ecac499718b33dc293a99e5b                         39.0   \n",
       "\n",
       "amount                            positive_transactions_sum   \n",
       "client_id                                                     \n",
       "0002cf30347684df542e1a931f356875                  590428.81  \\\n",
       "0002f4661e0d4d2ae097d78552dad022                   21284.88   \n",
       "00081e0eca8ad94e493691f8f00099c6                   49533.81   \n",
       "0019bebcb5435df3103a5b0b52f5fc6b                  310856.26   \n",
       "001c8191ecac499718b33dc293a99e5b                   48759.24   \n",
       "\n",
       "amount                            negative_transactions_min   \n",
       "client_id                                                     \n",
       "0002cf30347684df542e1a931f356875                  -39772.06  \\\n",
       "0002f4661e0d4d2ae097d78552dad022                   -9400.52   \n",
       "00081e0eca8ad94e493691f8f00099c6                   -5424.42   \n",
       "0019bebcb5435df3103a5b0b52f5fc6b                  -36518.54   \n",
       "001c8191ecac499718b33dc293a99e5b                  -15907.79   \n",
       "\n",
       "amount                            negative_transactions_max   \n",
       "client_id                                                     \n",
       "0002cf30347684df542e1a931f356875                      -6.13  \\\n",
       "0002f4661e0d4d2ae097d78552dad022                      -6.58   \n",
       "00081e0eca8ad94e493691f8f00099c6                      -1.89   \n",
       "0019bebcb5435df3103a5b0b52f5fc6b                      -0.32   \n",
       "001c8191ecac499718b33dc293a99e5b                     -11.56   \n",
       "\n",
       "amount                            negative_transactions_mean   \n",
       "client_id                                                      \n",
       "0002cf30347684df542e1a931f356875                -1881.786653  \\\n",
       "0002f4661e0d4d2ae097d78552dad022                 -289.255194   \n",
       "00081e0eca8ad94e493691f8f00099c6                 -379.101205   \n",
       "0019bebcb5435df3103a5b0b52f5fc6b                 -743.432256   \n",
       "001c8191ecac499718b33dc293a99e5b                -1394.087964   \n",
       "\n",
       "amount                            negative_transactions_median   \n",
       "client_id                                                        \n",
       "0002cf30347684df542e1a931f356875                      -269.295  \\\n",
       "0002f4661e0d4d2ae097d78552dad022                      -123.305   \n",
       "00081e0eca8ad94e493691f8f00099c6                      -144.935   \n",
       "0019bebcb5435df3103a5b0b52f5fc6b                      -361.160   \n",
       "001c8191ecac499718b33dc293a99e5b                      -178.110   \n",
       "\n",
       "amount                            negative_transactions_std   \n",
       "client_id                                                     \n",
       "0002cf30347684df542e1a931f356875                4111.309461  \\\n",
       "0002f4661e0d4d2ae097d78552dad022                 693.683636   \n",
       "00081e0eca8ad94e493691f8f00099c6                 701.946022   \n",
       "0019bebcb5435df3103a5b0b52f5fc6b                2027.349534   \n",
       "001c8191ecac499718b33dc293a99e5b                2918.020385   \n",
       "\n",
       "amount                            negative_transactions_count   \n",
       "client_id                                                       \n",
       "0002cf30347684df542e1a931f356875                        472.0  \\\n",
       "0002f4661e0d4d2ae097d78552dad022                        258.0   \n",
       "00081e0eca8ad94e493691f8f00099c6                        166.0   \n",
       "0019bebcb5435df3103a5b0b52f5fc6b                        665.0   \n",
       "001c8191ecac499718b33dc293a99e5b                        167.0   \n",
       "\n",
       "amount                            negative_transactions_sum  \n",
       "client_id                                                    \n",
       "0002cf30347684df542e1a931f356875                 -888203.30  \n",
       "0002f4661e0d4d2ae097d78552dad022                  -74627.84  \n",
       "00081e0eca8ad94e493691f8f00099c6                  -62930.80  \n",
       "0019bebcb5435df3103a5b0b52f5fc6b                 -494382.45  \n",
       "001c8191ecac499718b33dc293a99e5b                 -232812.69  "
      ]
     },
     "execution_count": 28,
     "metadata": {},
     "output_type": "execute_result"
    }
   ],
   "source": [
    "data_train.head()"
   ]
  },
  {
   "cell_type": "code",
   "execution_count": 30,
   "metadata": {
    "ExecuteTime": {
     "end_time": "2019-03-05T17:35:45.011046Z",
     "start_time": "2019-03-05T17:35:41.273326Z"
    }
   },
   "outputs": [
    {
     "name": "stderr",
     "output_type": "stream",
     "text": [
      "/home/sjava/.local/lib/python3.10/site-packages/xgboost/core.py:160: UserWarning: [10:54:09] WARNING: /workspace/src/learner.cc:742: \n",
      "Parameters: { \"njobs\" } are not used.\n",
      "\n",
      "  warnings.warn(smsg, UserWarning)\n"
     ]
    },
    {
     "name": "stdout",
     "output_type": "stream",
     "text": [
      "Cross-validation, ROC AUC: 0.631+-0.012, Trees: 31\n"
     ]
    }
   ],
   "source": [
    "target = data_train.join(gender_train, how='inner')['gender']\n",
    "cv_score(params, data_train, target)"
   ]
  },
  {
   "cell_type": "code",
   "execution_count": 31,
   "metadata": {
    "ExecuteTime": {
     "end_time": "2019-03-05T17:35:45.714620Z",
     "start_time": "2019-03-05T17:35:45.018570Z"
    }
   },
   "outputs": [
    {
     "name": "stderr",
     "output_type": "stream",
     "text": [
      "/home/sjava/.local/lib/python3.10/site-packages/xgboost/core.py:160: UserWarning: [10:54:13] WARNING: /workspace/src/learner.cc:742: \n",
      "Parameters: { \"njobs\" } are not used.\n",
      "\n",
      "  warnings.warn(smsg, UserWarning)\n"
     ]
    }
   ],
   "source": [
    "# Число деревьев для XGBoost имеет смысл выставлять по результатам на кросс-валидации \n",
    "clf, submission = fit_predict(params, 70, data_train, data_test, target)"
   ]
  },
  {
   "cell_type": "code",
   "execution_count": 32,
   "metadata": {
    "ExecuteTime": {
     "end_time": "2019-03-05T17:35:45.897370Z",
     "start_time": "2019-03-05T17:35:45.719320Z"
    }
   },
   "outputs": [
    {
     "data": {
      "image/png": "[encoded data removed]",
      "text/plain": [
       "<Figure size 720x720 with 1 Axes>"
      ]
     },
     "metadata": {
      "needs_background": "light"
     },
     "output_type": "display_data"
    }
   ],
   "source": [
    "draw_feature_importances(clf, 10)"
   ]
  },
  {
   "cell_type": "code",
   "execution_count": 33,
   "metadata": {
    "tags": []
   },
   "outputs": [],
   "source": [
    "# Сохраняем результат моделирования\n",
    "\n",
    "submission.to_csv('basic_features_submission.csv')"
   ]
  },
  {
   "cell_type": "markdown",
   "metadata": {},
   "source": [
    "<font size=3>Видим, что результат на кросс-валидации = <font color='red'><b>62.2%</b></font> ROC AUC."
   ]
  },
  {
   "cell_type": "markdown",
   "metadata": {},
   "source": [
    "## Advanced features\n",
    "Добавим дополнительные переменные по каждому пользователю в модель. <br>\n",
    "Для этого будем анализировать дни недели, часы и состояние дня/ночи во время покупки - в каждом из случаев будем считать частоту транзакций в соответствующей категории относитеьно всех остальных категорий. <br>\n",
    "То есть если, например, клиент в 70% случае совершал ночные траты, то мы получим вектор [0.7, 0.3] для этого случая в качестве частот транзакций ночью/днём."
   ]
  },
  {
   "cell_type": "code",
   "execution_count": 34,
   "metadata": {
    "ExecuteTime": {
     "end_time": "2019-03-05T17:35:57.677748Z",
     "start_time": "2019-03-05T17:35:45.921444Z"
    },
    "tags": []
   },
   "outputs": [],
   "source": [
    "for df in [transactions_train, transactions_test]:\n",
    "    df['day'] = df['trans_time'].str.split().apply(lambda x: int(x[0]) % 7)\n",
    "    df['hour'] = df['trans_time'].apply(lambda x: re.search(' \\d*', x).group(0)).astype(int)\n",
    "    df['night'] = ~df['hour'].between(6, 22).astype(int)"
   ]
  },
  {
   "cell_type": "code",
   "execution_count": 64,
   "metadata": {
    "ExecuteTime": {
     "end_time": "2019-03-05T17:35:57.687397Z",
     "start_time": "2019-03-05T17:35:57.678823Z"
    },
    "tags": []
   },
   "outputs": [],
   "source": [
    "def features_creation_advanced(x): \n",
    "    features = []\n",
    "    features.append(pd.Series(x['day'].value_counts(normalize=True).add_prefix('day_')))\n",
    "    features.append(pd.Series(x['hour'].value_counts(normalize=True).add_prefix('hour_')))\n",
    "    features.append(pd.Series(x['night'].value_counts(normalize=True).add_prefix('night_')))\n",
    "    features.append(pd.Series(x[x['amount']>0]['amount'].agg(['min', 'max', 'mean', 'median', 'std', 'count', 'sum'])\\\n",
    "                                                        .add_prefix('positive_transactions_')))\n",
    "    features.append(pd.Series(x[x['amount']<0]['amount'].agg(['min', 'max', 'mean', 'median', 'std', 'count', 'sum'])\\\n",
    "                                                        .add_prefix('negative_transactions_')))\n",
    "    \n",
    " \n",
    "    return pd.concat(features)"
   ]
  },
  {
   "cell_type": "code",
   "execution_count": 65,
   "metadata": {
    "ExecuteTime": {
     "end_time": "2019-03-05T17:37:19.784321Z",
     "start_time": "2019-03-05T17:35:57.688448Z"
    }
   },
   "outputs": [
    {
     "data": {
      "application/vnd.jupyter.widget-view+json": {
       "model_id": "6732c2fa5c794096973daa723b5bebea",
       "version_major": 2,
       "version_minor": 0
      },
      "text/plain": [
       "Progress:   0%|          | 0/7560 [00:00<?, ?it/s]"
      ]
     },
     "metadata": {},
     "output_type": "display_data"
    },
    {
     "data": {
      "application/vnd.jupyter.widget-view+json": {
       "model_id": "1ee373b6b739443f9b788e805d365d24",
       "version_major": 2,
       "version_minor": 0
      },
      "text/plain": [
       "Progress:   0%|          | 0/840 [00:00<?, ?it/s]"
      ]
     },
     "metadata": {},
     "output_type": "display_data"
    }
   ],
   "source": [
    "data_train = transactions_train.groupby(transactions_train.index)\\\n",
    "                               .progress_apply(features_creation_advanced).unstack(-1)\n",
    "data_test = transactions_test.groupby(transactions_test.index)\\\n",
    "                             .progress_apply(features_creation_advanced).unstack(-1)"
   ]
  },
  {
   "cell_type": "code",
   "execution_count": 66,
   "metadata": {},
   "outputs": [
    {
     "data": {
      "text/html": [
       "<div>\n",
       "<style scoped>\n",
       "    .dataframe tbody tr th:only-of-type {\n",
       "        vertical-align: middle;\n",
       "    }\n",
       "\n",
       "    .dataframe tbody tr th {\n",
       "        vertical-align: top;\n",
       "    }\n",
       "\n",
       "    .dataframe thead th {\n",
       "        text-align: right;\n",
       "    }\n",
       "</style>\n",
       "<table border=\"1\" class=\"dataframe\">\n",
       "  <thead>\n",
       "    <tr style=\"text-align: right;\">\n",
       "      <th></th>\n",
       "      <th>day_0</th>\n",
       "      <th>day_1</th>\n",
       "      <th>day_2</th>\n",
       "      <th>day_3</th>\n",
       "      <th>day_4</th>\n",
       "      <th>day_5</th>\n",
       "      <th>day_6</th>\n",
       "      <th>hour_0</th>\n",
       "      <th>hour_1</th>\n",
       "      <th>hour_10</th>\n",
       "      <th>...</th>\n",
       "      <th>negative_transactions_sum</th>\n",
       "      <th>night_-1</th>\n",
       "      <th>night_-2</th>\n",
       "      <th>positive_transactions_count</th>\n",
       "      <th>positive_transactions_max</th>\n",
       "      <th>positive_transactions_mean</th>\n",
       "      <th>positive_transactions_median</th>\n",
       "      <th>positive_transactions_min</th>\n",
       "      <th>positive_transactions_std</th>\n",
       "      <th>positive_transactions_sum</th>\n",
       "    </tr>\n",
       "    <tr>\n",
       "      <th>client_id</th>\n",
       "      <th></th>\n",
       "      <th></th>\n",
       "      <th></th>\n",
       "      <th></th>\n",
       "      <th></th>\n",
       "      <th></th>\n",
       "      <th></th>\n",
       "      <th></th>\n",
       "      <th></th>\n",
       "      <th></th>\n",
       "      <th></th>\n",
       "      <th></th>\n",
       "      <th></th>\n",
       "      <th></th>\n",
       "      <th></th>\n",
       "      <th></th>\n",
       "      <th></th>\n",
       "      <th></th>\n",
       "      <th></th>\n",
       "      <th></th>\n",
       "      <th></th>\n",
       "    </tr>\n",
       "  </thead>\n",
       "  <tbody>\n",
       "    <tr>\n",
       "      <th>0002cf30347684df542e1a931f356875</th>\n",
       "      <td>0.208333</td>\n",
       "      <td>0.123016</td>\n",
       "      <td>0.053571</td>\n",
       "      <td>0.117063</td>\n",
       "      <td>0.125000</td>\n",
       "      <td>0.156746</td>\n",
       "      <td>0.216270</td>\n",
       "      <td>NaN</td>\n",
       "      <td>NaN</td>\n",
       "      <td>0.085317</td>\n",
       "      <td>...</td>\n",
       "      <td>-888203.30</td>\n",
       "      <td>0.013889</td>\n",
       "      <td>0.986111</td>\n",
       "      <td>32.0</td>\n",
       "      <td>42665.12</td>\n",
       "      <td>18450.900313</td>\n",
       "      <td>16450.65</td>\n",
       "      <td>722.09</td>\n",
       "      <td>14360.498086</td>\n",
       "      <td>590428.81</td>\n",
       "    </tr>\n",
       "    <tr>\n",
       "      <th>0002f4661e0d4d2ae097d78552dad022</th>\n",
       "      <td>0.146067</td>\n",
       "      <td>0.161049</td>\n",
       "      <td>0.104869</td>\n",
       "      <td>0.179775</td>\n",
       "      <td>0.153558</td>\n",
       "      <td>0.149813</td>\n",
       "      <td>0.104869</td>\n",
       "      <td>0.007491</td>\n",
       "      <td>NaN</td>\n",
       "      <td>0.071161</td>\n",
       "      <td>...</td>\n",
       "      <td>-74627.84</td>\n",
       "      <td>0.056180</td>\n",
       "      <td>0.943820</td>\n",
       "      <td>9.0</td>\n",
       "      <td>15909.56</td>\n",
       "      <td>2364.986667</td>\n",
       "      <td>723.37</td>\n",
       "      <td>312.99</td>\n",
       "      <td>5083.124389</td>\n",
       "      <td>21284.88</td>\n",
       "    </tr>\n",
       "    <tr>\n",
       "      <th>00081e0eca8ad94e493691f8f00099c6</th>\n",
       "      <td>0.178010</td>\n",
       "      <td>0.188482</td>\n",
       "      <td>0.057592</td>\n",
       "      <td>0.146597</td>\n",
       "      <td>0.162304</td>\n",
       "      <td>0.157068</td>\n",
       "      <td>0.109948</td>\n",
       "      <td>0.036649</td>\n",
       "      <td>NaN</td>\n",
       "      <td>0.057592</td>\n",
       "      <td>...</td>\n",
       "      <td>-62930.80</td>\n",
       "      <td>0.157068</td>\n",
       "      <td>0.842932</td>\n",
       "      <td>25.0</td>\n",
       "      <td>5423.80</td>\n",
       "      <td>1981.352400</td>\n",
       "      <td>1373.80</td>\n",
       "      <td>360.75</td>\n",
       "      <td>1704.496840</td>\n",
       "      <td>49533.81</td>\n",
       "    </tr>\n",
       "    <tr>\n",
       "      <th>0019bebcb5435df3103a5b0b52f5fc6b</th>\n",
       "      <td>0.146998</td>\n",
       "      <td>0.165631</td>\n",
       "      <td>0.121118</td>\n",
       "      <td>0.142857</td>\n",
       "      <td>0.136646</td>\n",
       "      <td>0.140787</td>\n",
       "      <td>0.145963</td>\n",
       "      <td>0.203934</td>\n",
       "      <td>0.007246</td>\n",
       "      <td>0.021739</td>\n",
       "      <td>...</td>\n",
       "      <td>-494382.45</td>\n",
       "      <td>0.435818</td>\n",
       "      <td>0.564182</td>\n",
       "      <td>301.0</td>\n",
       "      <td>20247.50</td>\n",
       "      <td>1032.745050</td>\n",
       "      <td>722.43</td>\n",
       "      <td>14.93</td>\n",
       "      <td>1743.349204</td>\n",
       "      <td>310856.26</td>\n",
       "    </tr>\n",
       "    <tr>\n",
       "      <th>001c8191ecac499718b33dc293a99e5b</th>\n",
       "      <td>0.160194</td>\n",
       "      <td>0.111650</td>\n",
       "      <td>0.082524</td>\n",
       "      <td>0.203883</td>\n",
       "      <td>0.169903</td>\n",
       "      <td>0.169903</td>\n",
       "      <td>0.101942</td>\n",
       "      <td>0.092233</td>\n",
       "      <td>NaN</td>\n",
       "      <td>0.024272</td>\n",
       "      <td>...</td>\n",
       "      <td>-232812.69</td>\n",
       "      <td>0.271845</td>\n",
       "      <td>0.728155</td>\n",
       "      <td>39.0</td>\n",
       "      <td>3616.52</td>\n",
       "      <td>1250.236923</td>\n",
       "      <td>723.71</td>\n",
       "      <td>145.62</td>\n",
       "      <td>950.703133</td>\n",
       "      <td>48759.24</td>\n",
       "    </tr>\n",
       "  </tbody>\n",
       "</table>\n",
       "<p>5 rows × 47 columns</p>\n",
       "</div>"
      ],
      "text/plain": [
       "                                     day_0     day_1     day_2     day_3   \n",
       "client_id                                                                  \n",
       "0002cf30347684df542e1a931f356875  0.208333  0.123016  0.053571  0.117063  \\\n",
       "0002f4661e0d4d2ae097d78552dad022  0.146067  0.161049  0.104869  0.179775   \n",
       "00081e0eca8ad94e493691f8f00099c6  0.178010  0.188482  0.057592  0.146597   \n",
       "0019bebcb5435df3103a5b0b52f5fc6b  0.146998  0.165631  0.121118  0.142857   \n",
       "001c8191ecac499718b33dc293a99e5b  0.160194  0.111650  0.082524  0.203883   \n",
       "\n",
       "                                     day_4     day_5     day_6    hour_0   \n",
       "client_id                                                                  \n",
       "0002cf30347684df542e1a931f356875  0.125000  0.156746  0.216270       NaN  \\\n",
       "0002f4661e0d4d2ae097d78552dad022  0.153558  0.149813  0.104869  0.007491   \n",
       "00081e0eca8ad94e493691f8f00099c6  0.162304  0.157068  0.109948  0.036649   \n",
       "0019bebcb5435df3103a5b0b52f5fc6b  0.136646  0.140787  0.145963  0.203934   \n",
       "001c8191ecac499718b33dc293a99e5b  0.169903  0.169903  0.101942  0.092233   \n",
       "\n",
       "                                    hour_1   hour_10  ...   \n",
       "client_id                                             ...   \n",
       "0002cf30347684df542e1a931f356875       NaN  0.085317  ...  \\\n",
       "0002f4661e0d4d2ae097d78552dad022       NaN  0.071161  ...   \n",
       "00081e0eca8ad94e493691f8f00099c6       NaN  0.057592  ...   \n",
       "0019bebcb5435df3103a5b0b52f5fc6b  0.007246  0.021739  ...   \n",
       "001c8191ecac499718b33dc293a99e5b       NaN  0.024272  ...   \n",
       "\n",
       "                                  negative_transactions_sum  night_-1   \n",
       "client_id                                                               \n",
       "0002cf30347684df542e1a931f356875                 -888203.30  0.013889  \\\n",
       "0002f4661e0d4d2ae097d78552dad022                  -74627.84  0.056180   \n",
       "00081e0eca8ad94e493691f8f00099c6                  -62930.80  0.157068   \n",
       "0019bebcb5435df3103a5b0b52f5fc6b                 -494382.45  0.435818   \n",
       "001c8191ecac499718b33dc293a99e5b                 -232812.69  0.271845   \n",
       "\n",
       "                                  night_-2  positive_transactions_count   \n",
       "client_id                                                                 \n",
       "0002cf30347684df542e1a931f356875  0.986111                         32.0  \\\n",
       "0002f4661e0d4d2ae097d78552dad022  0.943820                          9.0   \n",
       "00081e0eca8ad94e493691f8f00099c6  0.842932                         25.0   \n",
       "0019bebcb5435df3103a5b0b52f5fc6b  0.564182                        301.0   \n",
       "001c8191ecac499718b33dc293a99e5b  0.728155                         39.0   \n",
       "\n",
       "                                  positive_transactions_max   \n",
       "client_id                                                     \n",
       "0002cf30347684df542e1a931f356875                   42665.12  \\\n",
       "0002f4661e0d4d2ae097d78552dad022                   15909.56   \n",
       "00081e0eca8ad94e493691f8f00099c6                    5423.80   \n",
       "0019bebcb5435df3103a5b0b52f5fc6b                   20247.50   \n",
       "001c8191ecac499718b33dc293a99e5b                    3616.52   \n",
       "\n",
       "                                  positive_transactions_mean   \n",
       "client_id                                                      \n",
       "0002cf30347684df542e1a931f356875                18450.900313  \\\n",
       "0002f4661e0d4d2ae097d78552dad022                 2364.986667   \n",
       "00081e0eca8ad94e493691f8f00099c6                 1981.352400   \n",
       "0019bebcb5435df3103a5b0b52f5fc6b                 1032.745050   \n",
       "001c8191ecac499718b33dc293a99e5b                 1250.236923   \n",
       "\n",
       "                                  positive_transactions_median   \n",
       "client_id                                                        \n",
       "0002cf30347684df542e1a931f356875                      16450.65  \\\n",
       "0002f4661e0d4d2ae097d78552dad022                        723.37   \n",
       "00081e0eca8ad94e493691f8f00099c6                       1373.80   \n",
       "0019bebcb5435df3103a5b0b52f5fc6b                        722.43   \n",
       "001c8191ecac499718b33dc293a99e5b                        723.71   \n",
       "\n",
       "                                  positive_transactions_min   \n",
       "client_id                                                     \n",
       "0002cf30347684df542e1a931f356875                     722.09  \\\n",
       "0002f4661e0d4d2ae097d78552dad022                     312.99   \n",
       "00081e0eca8ad94e493691f8f00099c6                     360.75   \n",
       "0019bebcb5435df3103a5b0b52f5fc6b                      14.93   \n",
       "001c8191ecac499718b33dc293a99e5b                     145.62   \n",
       "\n",
       "                                  positive_transactions_std   \n",
       "client_id                                                     \n",
       "0002cf30347684df542e1a931f356875               14360.498086  \\\n",
       "0002f4661e0d4d2ae097d78552dad022                5083.124389   \n",
       "00081e0eca8ad94e493691f8f00099c6                1704.496840   \n",
       "0019bebcb5435df3103a5b0b52f5fc6b                1743.349204   \n",
       "001c8191ecac499718b33dc293a99e5b                 950.703133   \n",
       "\n",
       "                                  positive_transactions_sum  \n",
       "client_id                                                    \n",
       "0002cf30347684df542e1a931f356875                  590428.81  \n",
       "0002f4661e0d4d2ae097d78552dad022                   21284.88  \n",
       "00081e0eca8ad94e493691f8f00099c6                   49533.81  \n",
       "0019bebcb5435df3103a5b0b52f5fc6b                  310856.26  \n",
       "001c8191ecac499718b33dc293a99e5b                   48759.24  \n",
       "\n",
       "[5 rows x 47 columns]"
      ]
     },
     "execution_count": 66,
     "metadata": {},
     "output_type": "execute_result"
    }
   ],
   "source": [
    "data_train.head()"
   ]
  },
  {
   "cell_type": "code",
   "execution_count": 53,
   "metadata": {
    "ExecuteTime": {
     "end_time": "2019-03-05T17:37:27.200528Z",
     "start_time": "2019-03-05T17:37:19.785535Z"
    }
   },
   "outputs": [
    {
     "name": "stderr",
     "output_type": "stream",
     "text": [
      "/home/sjava/.local/lib/python3.10/site-packages/xgboost/core.py:160: UserWarning: [10:58:44] WARNING: /workspace/src/learner.cc:742: \n",
      "Parameters: { \"njobs\" } are not used.\n",
      "\n",
      "  warnings.warn(smsg, UserWarning)\n"
     ]
    },
    {
     "name": "stdout",
     "output_type": "stream",
     "text": [
      "Cross-validation, ROC AUC: 0.683+-0.012, Trees: 73\n"
     ]
    }
   ],
   "source": [
    "target = data_train.join(gender_train, how='inner')['gender']\n",
    "cv_score(params, data_train, target)"
   ]
  },
  {
   "cell_type": "code",
   "execution_count": 62,
   "metadata": {
    "ExecuteTime": {
     "end_time": "2019-03-05T17:37:28.307548Z",
     "start_time": "2019-03-05T17:37:27.205214Z"
    }
   },
   "outputs": [
    {
     "name": "stderr",
     "output_type": "stream",
     "text": [
      "/home/sjava/.local/lib/python3.10/site-packages/xgboost/core.py:160: UserWarning: [11:10:59] WARNING: /workspace/src/learner.cc:742: \n",
      "Parameters: { \"njobs\" } are not used.\n",
      "\n",
      "  warnings.warn(smsg, UserWarning)\n"
     ]
    }
   ],
   "source": [
    "# Число деревьев для XGBoost имеет смысл выятавлять по результатам на кросс-валидации \n",
    "clf, submission = fit_predict(params, 70, data_train, data_test, target)"
   ]
  },
  {
   "cell_type": "code",
   "execution_count": 60,
   "metadata": {
    "ExecuteTime": {
     "end_time": "2019-03-05T17:37:28.426836Z",
     "start_time": "2019-03-05T17:37:28.308620Z"
    }
   },
   "outputs": [
    {
     "data": {
      "image/png": "[encoded data removed]",
      "text/plain": [
       "<Figure size 720x720 with 1 Axes>"
      ]
     },
     "metadata": {
      "needs_background": "light"
     },
     "output_type": "display_data"
    }
   ],
   "source": [
    "draw_feature_importances(clf, 10)"
   ]
  },
  {
   "cell_type": "markdown",
   "metadata": {
    "heading_collapsed": true
   },
   "source": [
    "<font size=3>Добавление новых переменных улучшило наши результаты ROC AUC с <b>62.2%</b> до <font color='red'><b>68.4%</b></font>, на тестовой выборке результат будет аналогичным, так что мы явно не переобучились. При этом есть куда стремиться!"
   ]
  },
  {
   "cell_type": "code",
   "execution_count": 61,
   "metadata": {
    "ExecuteTime": {
     "end_time": "2019-03-05T17:37:28.448839Z",
     "start_time": "2019-03-05T17:37:28.438234Z"
    },
    "tags": []
   },
   "outputs": [],
   "source": [
    "# Сохраняем результат моделирования\n",
    "\n",
    "submission.to_csv('advanced_features_submission.csv')"
   ]
  },
  {
   "cell_type": "markdown",
   "metadata": {},
   "source": [
    "### <font color='red'>Цель задания:\n",
    "Полученная модель должна иметь ROC AUC на Public-части тестовой выборки (на лидерборде) <b>не менее 80%."
   ]
  },
  {
   "cell_type": "code",
   "execution_count": null,
   "metadata": {},
   "outputs": [],
   "source": []
  }
 ],
 "metadata": {
  "hide_input": false,
  "kernelspec": {
   "display_name": "Python 3 (ipykernel)",
   "language": "python",
   "name": "python3"
  },
  "language_info": {
   "codemirror_mode": {
    "name": "ipython",
    "version": 3
   },
   "file_extension": ".py",
   "mimetype": "text/x-python",
   "name": "python",
   "nbconvert_exporter": "python",
   "pygments_lexer": "ipython3",
   "version": "3.10.12"
  },
  "varInspector": {
   "cols": {
    "lenName": 16,
    "lenType": 16,
    "lenVar": 40
   },
   "kernels_config": {
    "python": {
     "delete_cmd_postfix": "",
     "delete_cmd_prefix": "del ",
     "library": "var_list.py",
     "varRefreshCmd": "print(var_dic_list())"
    },
    "r": {
     "delete_cmd_postfix": ") ",
     "delete_cmd_prefix": "rm(",
     "library": "var_list.r",
     "varRefreshCmd": "cat(var_dic_list()) "
    }
   },
   "types_to_exclude": [
    "module",
    "function",
    "builtin_function_or_method",
    "instance",
    "_Feature"
   ],
   "window_display": false
  }
 },
 "nbformat": 4,
 "nbformat_minor": 4
}
