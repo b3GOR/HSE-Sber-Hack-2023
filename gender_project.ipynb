{
 "cells": [
  {
   "cell_type": "markdown",
   "metadata": {},
   "source": [
    "# <center> Финальное задание </center>\n",
    "## <center> Предсказание пола клиента по транзакциям</center>\n",
    "\n",
    "## Описание задачи \n",
    "#### Ваше задание - предсказать пол клиента, основываясь на его транзакционных исторических данных. Выполнение финального задания - это маленький шаг в большую Data Science-всесенную, поэтому отнеситесь к нему максимально серьёзно :)\n",
    "#### В роли метрики выступает [ROC AUC](https://dyakonov.org/2017/07/28/auc-roc-%D0%BF%D0%BB%D0%BE%D1%89%D0%B0%D0%B4%D1%8C-%D0%BF%D0%BE%D0%B4-%D0%BA%D1%80%D0%B8%D0%B2%D0%BE%D0%B9-%D0%BE%D1%88%D0%B8%D0%B1%D0%BE%D0%BA/), который и нужно будет оптимизировать."
   ]
  },
  {
   "cell_type": "code",
   "execution_count": 1,
   "metadata": {},
   "outputs": [
    {
     "name": "stdout",
     "output_type": "stream",
     "text": [
      "Defaulting to user installation because normal site-packages is not writeable\n",
      "Requirement already satisfied: xgboost in /home/sjava/.local/lib/python3.10/site-packages (2.0.2)\n",
      "Requirement already satisfied: numpy in /home/sjava/.local/lib/python3.10/site-packages (from xgboost) (1.23.3)\n",
      "Requirement already satisfied: scipy in /home/sjava/.local/lib/python3.10/site-packages (from xgboost) (1.11.3)\n"
     ]
    }
   ],
   "source": [
    "!pip install xgboost"
   ]
  },
  {
   "cell_type": "code",
   "execution_count": 2,
   "metadata": {},
   "outputs": [
    {
     "name": "stdout",
     "output_type": "stream",
     "text": [
      "Defaulting to user installation because normal site-packages is not writeable\n",
      "Requirement already satisfied: joblib in /home/sjava/.local/lib/python3.10/site-packages (1.3.2)\n"
     ]
    }
   ],
   "source": [
    "!pip install joblib"
   ]
  },
  {
   "cell_type": "code",
   "execution_count": 25,
   "metadata": {
    "ExecuteTime": {
     "end_time": "2019-03-05T17:34:52.054851Z",
     "start_time": "2019-03-05T17:34:51.515762Z"
    }
   },
   "outputs": [],
   "source": [
    "import pandas as pd\n",
    "import numpy as np\n",
    "import xgboost as xgb\n",
    "import re\n",
    "import os\n",
    "import matplotlib.pyplot as plt\n",
    "from sklearn.preprocessing import MinMaxScaler\n",
    "from sklearn.model_selection import train_test_split\n",
    "\n",
    "import joblib\n",
    "\n",
    "from tqdm._tqdm_notebook import tqdm_notebook"
   ]
  },
  {
   "cell_type": "code",
   "execution_count": 115,
   "metadata": {},
   "outputs": [],
   "source": [
    "PATH_DATA = './data'\n",
    "MODEL_PATH = \"model.pkl\""
   ]
  },
  {
   "cell_type": "code",
   "execution_count": 116,
   "metadata": {
    "ExecuteTime": {
     "end_time": "2019-03-05T17:34:58.314241Z",
     "start_time": "2019-03-05T17:34:52.056205Z"
    }
   },
   "outputs": [],
   "source": [
    "# Считываем данные\n",
    "tr_mcc_codes = pd.read_csv(os.path.join(PATH_DATA, 'mcc_codes.csv'), sep=';', index_col='mcc_code')\n",
    "tr_types = pd.read_csv(os.path.join(PATH_DATA, 'trans_types.csv'), sep=';', index_col='trans_type')\n",
    "\n",
    "transactions = pd.read_csv(os.path.join(PATH_DATA, 'transactions.csv'), index_col='client_id')\n",
    "gender_train = pd.read_csv(os.path.join(PATH_DATA, 'train.csv'), index_col='client_id')\n",
    "gender_test = pd.read_csv(os.path.join(PATH_DATA, 'test.csv'), index_col='client_id')\n",
    "transactions_train = transactions.join(gender_train, how='inner')\n",
    "transactions_test = transactions.join(gender_test, how='inner')"
   ]
  },
  {
   "cell_type": "code",
   "execution_count": 117,
   "metadata": {
    "ExecuteTime": {
     "end_time": "2019-03-05T17:34:58.354996Z",
     "start_time": "2019-03-05T17:34:58.315591Z"
    }
   },
   "outputs": [],
   "source": [
    "# Функции, которыми можно пользоваться для построения классификатора, \n",
    "# оценки его результатов и построение прогноза для тестовой части пользователей\n",
    "\n",
    "# Cross-validation score (среднее значение метрики ROC AUC на тренировочных данных)\n",
    "def cv_score(params, train, y_true):\n",
    "    cv_res=xgb.cv(params, xgb.DMatrix(train, y_true),\n",
    "                  early_stopping_rounds=10, maximize=True, \n",
    "                  num_boost_round=10000, nfold=5, stratified=True)\n",
    "    index_argmax = cv_res['test-auc-mean'].argmax()\n",
    "    print('Cross-validation, ROC AUC: {:.3f}+-{:.3f}, Trees: {}'.format(cv_res.loc[index_argmax]['test-auc-mean'],\n",
    "                                                                        cv_res.loc[index_argmax]['test-auc-std'],\n",
    "                                                                        index_argmax))\n",
    "\n",
    "# Построение модели + возврат результатов классификации тестовых пользователей\n",
    "def fit_predict(params, num_trees, train, test, target):\n",
    "    params['learning_rate'] = params['eta']\n",
    "    clf = xgb.train(params, xgb.DMatrix(train.values, target, feature_names=list(train.columns)), \n",
    "                    num_boost_round=num_trees, maximize=True)\n",
    "    y_pred = clf.predict(xgb.DMatrix(test.values, feature_names=list(train.columns)))\n",
    "    submission = pd.DataFrame(index=test.index, data=y_pred, columns=['probability'])\n",
    "    \n",
    "    joblib.dump(clf, MODEL_PATH)\n",
    "    return clf, submission\n",
    "\n",
    "# Отрисовка важности переменных. Важность переменной - количество разбиений выборки, \n",
    "# в которых участвует данная переменная. Чем больше - тем она, вероятно, лучше \n",
    "def draw_feature_importances(clf, top_k=10):\n",
    "    plt.figure(figsize=(10, 10))\n",
    "    \n",
    "    importances = dict(sorted(clf.get_score().items(), key=lambda x: x[1])[-top_k:])\n",
    "    y_pos = np.arange(len(importances))\n",
    "    \n",
    "    plt.barh(y_pos, list(importances.values()), align='center', color='green')\n",
    "    plt.yticks(y_pos, importances.keys(), fontsize=12)\n",
    "    plt.xticks(fontsize=12)\n",
    "    plt.xlabel('Feature importance', fontsize=15)\n",
    "    plt.title('Features importances, Sberbank Gender Prediction', fontsize=18)\n",
    "    plt.ylim(-0.5, len(importances) - 0.5)\n",
    "    plt.show()"
   ]
  },
  {
   "cell_type": "markdown",
   "metadata": {},
   "source": [
    "Так как код для оценки модели на тренировочных данных и её применения на тестовых данных уже дан, то мы будем работать над тем, чтобы создать переменные для улучшения результатов моделирования. \n",
    "\n",
    "<font color='red'><b>!!!</b></font> В рамках данного задания Вы можете делать всё, что угодно - использовать другие алгоритмы и/или их комбинации, подбирать гиперпараметры своих моделей, отбирать переменые, etc. Мы создали шаблон для простоты и для Вашего понимания верхнеуровневого процесса разработки модели, опустив при этом большое число деталей."
   ]
  },
  {
   "cell_type": "markdown",
   "metadata": {},
   "source": [
    "## Basic features\n",
    "Начнём с того, что сформируем базовые переменные по каждому пользователю. На этом этапе будем использовать стандартные агрегации, посчитанные на расходах и приходах клиента:\n",
    "- минимум\n",
    "- максимум\n",
    "- среднее\n",
    "- медиана\n",
    "- среднеквадратичное отклонение\n",
    "- количество\n",
    "\n",
    "Также параметры модели выберем стандартные, запишем их в словарь params, и будем использовать для дальнейшего построения модели (не забывайте, что с этим Вы можете тоже экспериментировать)."
   ]
  },
  {
   "cell_type": "code",
   "execution_count": 118,
   "metadata": {
    "ExecuteTime": {
     "end_time": "2019-03-05T17:34:58.362104Z",
     "start_time": "2019-03-05T17:34:58.356308Z"
    }
   },
   "outputs": [],
   "source": [
    "params = {\n",
    "    'eta': 0.1,\n",
    "    'max_depth': 3,\n",
    "    'subsample': 0.8,\n",
    "    'colsample_bytree': 0.8,\n",
    "    \n",
    "    'gamma': 0,\n",
    "    'lambda': 0,\n",
    "    'alpha': 0,\n",
    "    'min_child_weight': 0,\n",
    "    \n",
    "    'eval_metric': 'auc',\n",
    "    'objective': 'binary:logistic' ,\n",
    "    'booster': 'gbtree',\n",
    "    'njobs': -1,\n",
    "    'tree_method': 'approx'\n",
    "}"
   ]
  },
  {
   "cell_type": "markdown",
   "metadata": {},
   "source": [
    "Добавлен параметр агрегации \"sum\". Метрика улучшена с 0.62 до 0.63"
   ]
  },
  {
   "cell_type": "code",
   "execution_count": 119,
   "metadata": {
    "ExecuteTime": {
     "end_time": "2019-03-05T17:35:41.272300Z",
     "start_time": "2019-03-05T17:34:58.363622Z"
    }
   },
   "outputs": [
    {
     "data": {
      "application/vnd.jupyter.widget-view+json": {
       "model_id": "860d87355228473c9b25dfede7fa28e2",
       "version_major": 2,
       "version_minor": 0
      },
      "text/plain": [
       "Progress:   0%|          | 0/7560 [00:00<?, ?it/s]"
      ]
     },
     "metadata": {},
     "output_type": "display_data"
    },
    {
     "data": {
      "application/vnd.jupyter.widget-view+json": {
       "model_id": "04637ce20dfe4fa5ba973a46a7a77785",
       "version_major": 2,
       "version_minor": 0
      },
      "text/plain": [
       "Progress:   0%|          | 0/840 [00:00<?, ?it/s]"
      ]
     },
     "metadata": {},
     "output_type": "display_data"
    }
   ],
   "source": [
    "tqdm_notebook.pandas(desc=\"Progress\")\n",
    "\n",
    "def features_creation_basic(x): \n",
    "    features = []\n",
    "    features.append(pd.Series(x[x['amount']>0]['amount'].agg(['min', 'max', 'mean', 'median', 'std', 'count', 'var', 'sum'])\\\n",
    "                                                        .add_prefix('positive_transactions_')))\n",
    "    features.append(pd.Series(x[x['amount']<0]['amount'].agg(['min', 'max', 'mean', 'median', 'std', 'count', 'var', 'sum'])\\\n",
    "                                                        .add_prefix('negative_transactions_')))\n",
    " \n",
    "    return pd.concat(features)\n",
    "\n",
    "data_train = transactions_train.groupby(transactions_train.index).progress_apply(features_creation_basic)\n",
    "data_test = transactions_test.groupby(transactions_test.index).progress_apply(features_creation_basic)"
   ]
  },
  {
   "cell_type": "code",
   "execution_count": 120,
   "metadata": {},
   "outputs": [
    {
     "data": {
      "text/html": [
       "<div>\n",
       "<style scoped>\n",
       "    .dataframe tbody tr th:only-of-type {\n",
       "        vertical-align: middle;\n",
       "    }\n",
       "\n",
       "    .dataframe tbody tr th {\n",
       "        vertical-align: top;\n",
       "    }\n",
       "\n",
       "    .dataframe thead th {\n",
       "        text-align: right;\n",
       "    }\n",
       "</style>\n",
       "<table border=\"1\" class=\"dataframe\">\n",
       "  <thead>\n",
       "    <tr style=\"text-align: right;\">\n",
       "      <th>amount</th>\n",
       "      <th>positive_transactions_min</th>\n",
       "      <th>positive_transactions_max</th>\n",
       "      <th>positive_transactions_mean</th>\n",
       "      <th>positive_transactions_median</th>\n",
       "      <th>positive_transactions_std</th>\n",
       "      <th>positive_transactions_count</th>\n",
       "      <th>positive_transactions_var</th>\n",
       "      <th>positive_transactions_sum</th>\n",
       "      <th>negative_transactions_min</th>\n",
       "      <th>negative_transactions_max</th>\n",
       "      <th>negative_transactions_mean</th>\n",
       "      <th>negative_transactions_median</th>\n",
       "      <th>negative_transactions_std</th>\n",
       "      <th>negative_transactions_count</th>\n",
       "      <th>negative_transactions_var</th>\n",
       "      <th>negative_transactions_sum</th>\n",
       "    </tr>\n",
       "    <tr>\n",
       "      <th>client_id</th>\n",
       "      <th></th>\n",
       "      <th></th>\n",
       "      <th></th>\n",
       "      <th></th>\n",
       "      <th></th>\n",
       "      <th></th>\n",
       "      <th></th>\n",
       "      <th></th>\n",
       "      <th></th>\n",
       "      <th></th>\n",
       "      <th></th>\n",
       "      <th></th>\n",
       "      <th></th>\n",
       "      <th></th>\n",
       "      <th></th>\n",
       "      <th></th>\n",
       "    </tr>\n",
       "  </thead>\n",
       "  <tbody>\n",
       "    <tr>\n",
       "      <th>0002cf30347684df542e1a931f356875</th>\n",
       "      <td>722.09</td>\n",
       "      <td>42665.12</td>\n",
       "      <td>18450.900313</td>\n",
       "      <td>16450.65</td>\n",
       "      <td>14360.498086</td>\n",
       "      <td>32.0</td>\n",
       "      <td>2.062239e+08</td>\n",
       "      <td>590428.81</td>\n",
       "      <td>-39772.06</td>\n",
       "      <td>-6.13</td>\n",
       "      <td>-1881.786653</td>\n",
       "      <td>-269.295</td>\n",
       "      <td>4111.309461</td>\n",
       "      <td>472.0</td>\n",
       "      <td>1.690287e+07</td>\n",
       "      <td>-888203.30</td>\n",
       "    </tr>\n",
       "    <tr>\n",
       "      <th>0002f4661e0d4d2ae097d78552dad022</th>\n",
       "      <td>312.99</td>\n",
       "      <td>15909.56</td>\n",
       "      <td>2364.986667</td>\n",
       "      <td>723.37</td>\n",
       "      <td>5083.124389</td>\n",
       "      <td>9.0</td>\n",
       "      <td>2.583815e+07</td>\n",
       "      <td>21284.88</td>\n",
       "      <td>-9400.52</td>\n",
       "      <td>-6.58</td>\n",
       "      <td>-289.255194</td>\n",
       "      <td>-123.305</td>\n",
       "      <td>693.683636</td>\n",
       "      <td>258.0</td>\n",
       "      <td>4.811970e+05</td>\n",
       "      <td>-74627.84</td>\n",
       "    </tr>\n",
       "    <tr>\n",
       "      <th>00081e0eca8ad94e493691f8f00099c6</th>\n",
       "      <td>360.75</td>\n",
       "      <td>5423.80</td>\n",
       "      <td>1981.352400</td>\n",
       "      <td>1373.80</td>\n",
       "      <td>1704.496840</td>\n",
       "      <td>25.0</td>\n",
       "      <td>2.905309e+06</td>\n",
       "      <td>49533.81</td>\n",
       "      <td>-5424.42</td>\n",
       "      <td>-1.89</td>\n",
       "      <td>-379.101205</td>\n",
       "      <td>-144.935</td>\n",
       "      <td>701.946022</td>\n",
       "      <td>166.0</td>\n",
       "      <td>4.927282e+05</td>\n",
       "      <td>-62930.80</td>\n",
       "    </tr>\n",
       "    <tr>\n",
       "      <th>0019bebcb5435df3103a5b0b52f5fc6b</th>\n",
       "      <td>14.93</td>\n",
       "      <td>20247.50</td>\n",
       "      <td>1032.745050</td>\n",
       "      <td>722.43</td>\n",
       "      <td>1743.349204</td>\n",
       "      <td>301.0</td>\n",
       "      <td>3.039266e+06</td>\n",
       "      <td>310856.26</td>\n",
       "      <td>-36518.54</td>\n",
       "      <td>-0.32</td>\n",
       "      <td>-743.432256</td>\n",
       "      <td>-361.160</td>\n",
       "      <td>2027.349534</td>\n",
       "      <td>665.0</td>\n",
       "      <td>4.110146e+06</td>\n",
       "      <td>-494382.45</td>\n",
       "    </tr>\n",
       "    <tr>\n",
       "      <th>001c8191ecac499718b33dc293a99e5b</th>\n",
       "      <td>145.62</td>\n",
       "      <td>3616.52</td>\n",
       "      <td>1250.236923</td>\n",
       "      <td>723.71</td>\n",
       "      <td>950.703133</td>\n",
       "      <td>39.0</td>\n",
       "      <td>9.038364e+05</td>\n",
       "      <td>48759.24</td>\n",
       "      <td>-15907.79</td>\n",
       "      <td>-11.56</td>\n",
       "      <td>-1394.087964</td>\n",
       "      <td>-178.110</td>\n",
       "      <td>2918.020385</td>\n",
       "      <td>167.0</td>\n",
       "      <td>8.514843e+06</td>\n",
       "      <td>-232812.69</td>\n",
       "    </tr>\n",
       "  </tbody>\n",
       "</table>\n",
       "</div>"
      ],
      "text/plain": [
       "amount                            positive_transactions_min   \n",
       "client_id                                                     \n",
       "0002cf30347684df542e1a931f356875                     722.09  \\\n",
       "0002f4661e0d4d2ae097d78552dad022                     312.99   \n",
       "00081e0eca8ad94e493691f8f00099c6                     360.75   \n",
       "0019bebcb5435df3103a5b0b52f5fc6b                      14.93   \n",
       "001c8191ecac499718b33dc293a99e5b                     145.62   \n",
       "\n",
       "amount                            positive_transactions_max   \n",
       "client_id                                                     \n",
       "0002cf30347684df542e1a931f356875                   42665.12  \\\n",
       "0002f4661e0d4d2ae097d78552dad022                   15909.56   \n",
       "00081e0eca8ad94e493691f8f00099c6                    5423.80   \n",
       "0019bebcb5435df3103a5b0b52f5fc6b                   20247.50   \n",
       "001c8191ecac499718b33dc293a99e5b                    3616.52   \n",
       "\n",
       "amount                            positive_transactions_mean   \n",
       "client_id                                                      \n",
       "0002cf30347684df542e1a931f356875                18450.900313  \\\n",
       "0002f4661e0d4d2ae097d78552dad022                 2364.986667   \n",
       "00081e0eca8ad94e493691f8f00099c6                 1981.352400   \n",
       "0019bebcb5435df3103a5b0b52f5fc6b                 1032.745050   \n",
       "001c8191ecac499718b33dc293a99e5b                 1250.236923   \n",
       "\n",
       "amount                            positive_transactions_median   \n",
       "client_id                                                        \n",
       "0002cf30347684df542e1a931f356875                      16450.65  \\\n",
       "0002f4661e0d4d2ae097d78552dad022                        723.37   \n",
       "00081e0eca8ad94e493691f8f00099c6                       1373.80   \n",
       "0019bebcb5435df3103a5b0b52f5fc6b                        722.43   \n",
       "001c8191ecac499718b33dc293a99e5b                        723.71   \n",
       "\n",
       "amount                            positive_transactions_std   \n",
       "client_id                                                     \n",
       "0002cf30347684df542e1a931f356875               14360.498086  \\\n",
       "0002f4661e0d4d2ae097d78552dad022                5083.124389   \n",
       "00081e0eca8ad94e493691f8f00099c6                1704.496840   \n",
       "0019bebcb5435df3103a5b0b52f5fc6b                1743.349204   \n",
       "001c8191ecac499718b33dc293a99e5b                 950.703133   \n",
       "\n",
       "amount                            positive_transactions_count   \n",
       "client_id                                                       \n",
       "0002cf30347684df542e1a931f356875                         32.0  \\\n",
       "0002f4661e0d4d2ae097d78552dad022                          9.0   \n",
       "00081e0eca8ad94e493691f8f00099c6                         25.0   \n",
       "0019bebcb5435df3103a5b0b52f5fc6b                        301.0   \n",
       "001c8191ecac499718b33dc293a99e5b                         39.0   \n",
       "\n",
       "amount                            positive_transactions_var   \n",
       "client_id                                                     \n",
       "0002cf30347684df542e1a931f356875               2.062239e+08  \\\n",
       "0002f4661e0d4d2ae097d78552dad022               2.583815e+07   \n",
       "00081e0eca8ad94e493691f8f00099c6               2.905309e+06   \n",
       "0019bebcb5435df3103a5b0b52f5fc6b               3.039266e+06   \n",
       "001c8191ecac499718b33dc293a99e5b               9.038364e+05   \n",
       "\n",
       "amount                            positive_transactions_sum   \n",
       "client_id                                                     \n",
       "0002cf30347684df542e1a931f356875                  590428.81  \\\n",
       "0002f4661e0d4d2ae097d78552dad022                   21284.88   \n",
       "00081e0eca8ad94e493691f8f00099c6                   49533.81   \n",
       "0019bebcb5435df3103a5b0b52f5fc6b                  310856.26   \n",
       "001c8191ecac499718b33dc293a99e5b                   48759.24   \n",
       "\n",
       "amount                            negative_transactions_min   \n",
       "client_id                                                     \n",
       "0002cf30347684df542e1a931f356875                  -39772.06  \\\n",
       "0002f4661e0d4d2ae097d78552dad022                   -9400.52   \n",
       "00081e0eca8ad94e493691f8f00099c6                   -5424.42   \n",
       "0019bebcb5435df3103a5b0b52f5fc6b                  -36518.54   \n",
       "001c8191ecac499718b33dc293a99e5b                  -15907.79   \n",
       "\n",
       "amount                            negative_transactions_max   \n",
       "client_id                                                     \n",
       "0002cf30347684df542e1a931f356875                      -6.13  \\\n",
       "0002f4661e0d4d2ae097d78552dad022                      -6.58   \n",
       "00081e0eca8ad94e493691f8f00099c6                      -1.89   \n",
       "0019bebcb5435df3103a5b0b52f5fc6b                      -0.32   \n",
       "001c8191ecac499718b33dc293a99e5b                     -11.56   \n",
       "\n",
       "amount                            negative_transactions_mean   \n",
       "client_id                                                      \n",
       "0002cf30347684df542e1a931f356875                -1881.786653  \\\n",
       "0002f4661e0d4d2ae097d78552dad022                 -289.255194   \n",
       "00081e0eca8ad94e493691f8f00099c6                 -379.101205   \n",
       "0019bebcb5435df3103a5b0b52f5fc6b                 -743.432256   \n",
       "001c8191ecac499718b33dc293a99e5b                -1394.087964   \n",
       "\n",
       "amount                            negative_transactions_median   \n",
       "client_id                                                        \n",
       "0002cf30347684df542e1a931f356875                      -269.295  \\\n",
       "0002f4661e0d4d2ae097d78552dad022                      -123.305   \n",
       "00081e0eca8ad94e493691f8f00099c6                      -144.935   \n",
       "0019bebcb5435df3103a5b0b52f5fc6b                      -361.160   \n",
       "001c8191ecac499718b33dc293a99e5b                      -178.110   \n",
       "\n",
       "amount                            negative_transactions_std   \n",
       "client_id                                                     \n",
       "0002cf30347684df542e1a931f356875                4111.309461  \\\n",
       "0002f4661e0d4d2ae097d78552dad022                 693.683636   \n",
       "00081e0eca8ad94e493691f8f00099c6                 701.946022   \n",
       "0019bebcb5435df3103a5b0b52f5fc6b                2027.349534   \n",
       "001c8191ecac499718b33dc293a99e5b                2918.020385   \n",
       "\n",
       "amount                            negative_transactions_count   \n",
       "client_id                                                       \n",
       "0002cf30347684df542e1a931f356875                        472.0  \\\n",
       "0002f4661e0d4d2ae097d78552dad022                        258.0   \n",
       "00081e0eca8ad94e493691f8f00099c6                        166.0   \n",
       "0019bebcb5435df3103a5b0b52f5fc6b                        665.0   \n",
       "001c8191ecac499718b33dc293a99e5b                        167.0   \n",
       "\n",
       "amount                            negative_transactions_var   \n",
       "client_id                                                     \n",
       "0002cf30347684df542e1a931f356875               1.690287e+07  \\\n",
       "0002f4661e0d4d2ae097d78552dad022               4.811970e+05   \n",
       "00081e0eca8ad94e493691f8f00099c6               4.927282e+05   \n",
       "0019bebcb5435df3103a5b0b52f5fc6b               4.110146e+06   \n",
       "001c8191ecac499718b33dc293a99e5b               8.514843e+06   \n",
       "\n",
       "amount                            negative_transactions_sum  \n",
       "client_id                                                    \n",
       "0002cf30347684df542e1a931f356875                 -888203.30  \n",
       "0002f4661e0d4d2ae097d78552dad022                  -74627.84  \n",
       "00081e0eca8ad94e493691f8f00099c6                  -62930.80  \n",
       "0019bebcb5435df3103a5b0b52f5fc6b                 -494382.45  \n",
       "001c8191ecac499718b33dc293a99e5b                 -232812.69  "
      ]
     },
     "execution_count": 120,
     "metadata": {},
     "output_type": "execute_result"
    }
   ],
   "source": [
    "data_train.head()"
   ]
  },
  {
   "cell_type": "code",
   "execution_count": 121,
   "metadata": {
    "ExecuteTime": {
     "end_time": "2019-03-05T17:35:45.011046Z",
     "start_time": "2019-03-05T17:35:41.273326Z"
    }
   },
   "outputs": [
    {
     "name": "stderr",
     "output_type": "stream",
     "text": [
      "/home/sjava/.local/lib/python3.10/site-packages/xgboost/core.py:160: UserWarning: [14:18:40] WARNING: /workspace/src/learner.cc:742: \n",
      "Parameters: { \"njobs\" } are not used.\n",
      "\n",
      "  warnings.warn(smsg, UserWarning)\n"
     ]
    },
    {
     "name": "stdout",
     "output_type": "stream",
     "text": [
      "Cross-validation, ROC AUC: 0.632+-0.011, Trees: 24\n"
     ]
    }
   ],
   "source": [
    "target = data_train.join(gender_train, how='inner')['gender']\n",
    "cv_score(params, data_train, target)"
   ]
  },
  {
   "cell_type": "code",
   "execution_count": 125,
   "metadata": {
    "ExecuteTime": {
     "end_time": "2019-03-05T17:35:45.714620Z",
     "start_time": "2019-03-05T17:35:45.018570Z"
    }
   },
   "outputs": [
    {
     "name": "stderr",
     "output_type": "stream",
     "text": [
      "/home/sjava/.local/lib/python3.10/site-packages/xgboost/core.py:160: UserWarning: [14:18:52] WARNING: /workspace/src/learner.cc:742: \n",
      "Parameters: { \"njobs\" } are not used.\n",
      "\n",
      "  warnings.warn(smsg, UserWarning)\n"
     ]
    }
   ],
   "source": [
    "# Число деревьев для XGBoost имеет смысл выставлять по результатам на кросс-валидации \n",
    "clf, submission = fit_predict(params, 70, data_train, data_test, target)"
   ]
  },
  {
   "cell_type": "code",
   "execution_count": 126,
   "metadata": {
    "ExecuteTime": {
     "end_time": "2019-03-05T17:35:45.897370Z",
     "start_time": "2019-03-05T17:35:45.719320Z"
    }
   },
   "outputs": [
    {
     "data": {
      "image/png": "[encoded data removed]",
      "text/plain": [
       "<Figure size 720x720 with 1 Axes>"
      ]
     },
     "metadata": {
      "needs_background": "light"
     },
     "output_type": "display_data"
    }
   ],
   "source": [
    "draw_feature_importances(clf, 10)"
   ]
  },
  {
   "cell_type": "code",
   "execution_count": 127,
   "metadata": {
    "tags": []
   },
   "outputs": [],
   "source": [
    "# Сохраняем результат моделирования\n",
    "\n",
    "submission.to_csv('basic_features_submission.csv')"
   ]
  },
  {
   "cell_type": "markdown",
   "metadata": {},
   "source": [
    "<font size=3>Видим, что результат на кросс-валидации = <font color='red'><b>62.2%</b></font> ROC AUC."
   ]
  },
  {
   "cell_type": "markdown",
   "metadata": {},
   "source": [
    "## Advanced features\n",
    "Добавим дополнительные переменные по каждому пользователю в модель. <br>\n",
    "Для этого будем анализировать дни недели, часы и состояние дня/ночи во время покупки - в каждом из случаев будем считать частоту транзакций в соответствующей категории относитеьно всех остальных категорий. <br>\n",
    "То есть если, например, клиент в 70% случае совершал ночные траты, то мы получим вектор [0.7, 0.3] для этого случая в качестве частот транзакций ночью/днём."
   ]
  },
  {
   "cell_type": "code",
   "execution_count": 141,
   "metadata": {
    "ExecuteTime": {
     "end_time": "2019-03-05T17:35:57.677748Z",
     "start_time": "2019-03-05T17:35:45.921444Z"
    },
    "tags": []
   },
   "outputs": [],
   "source": [
    "for df in [transactions_train, transactions_test]:\n",
    "    df['day'] = df['trans_time'].str.split().apply(lambda x: int(x[0]) % 7)\n",
    "    df['hour'] = df['trans_time'].apply(lambda x: re.search(' \\d*', x).group(0)).astype(int)\n",
    "    df['night'] = ~df['hour'].between(6, 22).astype(int)"
   ]
  },
  {
   "cell_type": "code",
   "execution_count": 182,
   "metadata": {
    "ExecuteTime": {
     "end_time": "2019-03-05T17:35:57.687397Z",
     "start_time": "2019-03-05T17:35:57.678823Z"
    },
    "tags": []
   },
   "outputs": [],
   "source": [
    "def features_creation_advanced(x): \n",
    "    features = []\n",
    "    features.append(pd.Series(x['day'].value_counts(normalize=True).add_prefix('day_')))\n",
    "    features.append(pd.Series(x['hour'].value_counts(normalize=True).add_prefix('hour_')))\n",
    "    features.append(pd.Series(x['night'].value_counts(normalize=True).add_prefix('night_')))\n",
    "    features.append(pd.Series(x[x['amount']>0]['amount'].agg(['min', 'max', 'mean', 'median', 'std', 'count', 'sum'])\\\n",
    "                                                        .add_prefix('positive_transactions_')))\n",
    "    features.append(pd.Series(x[x['amount']<0]['amount'].agg(['min', 'max', 'mean', 'median', 'std', 'count', 'sum'])\\\n",
    "                                                        .add_prefix('negative_transactions_')))\n",
    "    \n",
    "    #added mcc\n",
    "    #features.append(pd.Series(x['mcc_code'].value_counts(normalize=True).add_prefix('mcc_')))\n",
    "    features.append(pd.Series(x['mcc_code'].value_counts(normalize=True)).add_prefix('mcc_'))\n",
    "    \n",
    " \n",
    "    return pd.concat(features)"
   ]
  },
  {
   "cell_type": "code",
   "execution_count": 184,
   "metadata": {
    "ExecuteTime": {
     "end_time": "2019-03-05T17:37:19.784321Z",
     "start_time": "2019-03-05T17:35:57.688448Z"
    }
   },
   "outputs": [
    {
     "data": {
      "application/vnd.jupyter.widget-view+json": {
       "model_id": "bb1b5d1b8f044afdbc08180456ee392f",
       "version_major": 2,
       "version_minor": 0
      },
      "text/plain": [
       "Progress:   0%|          | 0/7560 [00:00<?, ?it/s]"
      ]
     },
     "metadata": {},
     "output_type": "display_data"
    },
    {
     "data": {
      "application/vnd.jupyter.widget-view+json": {
       "model_id": "425dcd1f355d41289fecff1cf44d18b1",
       "version_major": 2,
       "version_minor": 0
      },
      "text/plain": [
       "Progress:   0%|          | 0/840 [00:00<?, ?it/s]"
      ]
     },
     "metadata": {},
     "output_type": "display_data"
    }
   ],
   "source": [
    "data_train = transactions_train.groupby(transactions_train.index)\\\n",
    "                               .progress_apply(features_creation_advanced).unstack(-1)\n",
    "data_test = transactions_test.groupby(transactions_test.index)\\\n",
    "                             .progress_apply(features_creation_advanced).unstack(-1)"
   ]
  },
  {
   "cell_type": "code",
   "execution_count": 185,
   "metadata": {},
   "outputs": [
    {
     "name": "stdout",
     "output_type": "stream",
     "text": [
      "(8400, 231)\n"
     ]
    }
   ],
   "source": [
    "data_out = data_train + data_test\n",
    "print(data_out.shape)"
   ]
  },
  {
   "cell_type": "code",
   "execution_count": 191,
   "metadata": {},
   "outputs": [],
   "source": [
    "data_test = data_out - data_train"
   ]
  },
  {
   "cell_type": "code",
   "execution_count": 192,
   "metadata": {
    "ExecuteTime": {
     "end_time": "2019-03-05T17:37:27.200528Z",
     "start_time": "2019-03-05T17:37:19.785535Z"
    }
   },
   "outputs": [
    {
     "name": "stderr",
     "output_type": "stream",
     "text": [
      "/home/sjava/.local/lib/python3.10/site-packages/xgboost/core.py:160: UserWarning: [14:51:34] WARNING: /workspace/src/learner.cc:742: \n",
      "Parameters: { \"njobs\" } are not used.\n",
      "\n",
      "  warnings.warn(smsg, UserWarning)\n",
      "/home/sjava/.local/lib/python3.10/site-packages/xgboost/core.py:160: UserWarning: [14:51:35] WARNING: /workspace/src/learner.cc:742: \n",
      "Parameters: { \"njobs\" } are not used.\n",
      "\n",
      "  warnings.warn(smsg, UserWarning)\n"
     ]
    },
    {
     "name": "stdout",
     "output_type": "stream",
     "text": [
      "Cross-validation, ROC AUC: 0.873+-0.008, Trees: 190\n"
     ]
    }
   ],
   "source": [
    "target = data_train.join(gender_train, how='inner')['gender']\n",
    "cv_score(params, data_train, target)"
   ]
  },
  {
   "cell_type": "code",
   "execution_count": 193,
   "metadata": {},
   "outputs": [],
   "source": [
    "df_out = data_train.combine_first(data_test)"
   ]
  },
  {
   "cell_type": "code",
   "execution_count": null,
   "metadata": {},
   "outputs": [],
   "source": []
  },
  {
   "cell_type": "code",
   "execution_count": 194,
   "metadata": {
    "ExecuteTime": {
     "end_time": "2019-03-05T17:37:28.307548Z",
     "start_time": "2019-03-05T17:37:27.205214Z"
    }
   },
   "outputs": [
    {
     "name": "stderr",
     "output_type": "stream",
     "text": [
      "/home/sjava/.local/lib/python3.10/site-packages/xgboost/core.py:160: UserWarning: [14:51:53] WARNING: /workspace/src/learner.cc:742: \n",
      "Parameters: { \"njobs\" } are not used.\n",
      "\n",
      "  warnings.warn(smsg, UserWarning)\n"
     ]
    }
   ],
   "source": [
    "# Число деревьев для XGBoost имеет смысл выятавлять по результатам на кросс-валидации \n",
    "clf, submission = fit_predict(params, 70, data_train, data_test, target)"
   ]
  },
  {
   "cell_type": "code",
   "execution_count": 195,
   "metadata": {
    "ExecuteTime": {
     "end_time": "2019-03-05T17:37:28.426836Z",
     "start_time": "2019-03-05T17:37:28.308620Z"
    }
   },
   "outputs": [
    {
     "data": {
      "image/png": "[encoded data removed]",
      "text/plain": [
       "<Figure size 720x720 with 1 Axes>"
      ]
     },
     "metadata": {
      "needs_background": "light"
     },
     "output_type": "display_data"
    }
   ],
   "source": [
    "draw_feature_importances(clf, 10)"
   ]
  },
  {
   "cell_type": "markdown",
   "metadata": {
    "heading_collapsed": true
   },
   "source": [
    "<font size=3>Добавление новых переменных улучшило наши результаты ROC AUC с <b>62.2%</b> до <font color='red'><b>68.4%</b></font>, на тестовой выборке результат будет аналогичным, так что мы явно не переобучились. При этом есть куда стремиться!"
   ]
  },
  {
   "cell_type": "code",
   "execution_count": 196,
   "metadata": {
    "ExecuteTime": {
     "end_time": "2019-03-05T17:37:28.448839Z",
     "start_time": "2019-03-05T17:37:28.438234Z"
    },
    "tags": []
   },
   "outputs": [],
   "source": [
    "# Сохраняем результат моделирования\n",
    "\n",
    "submission.to_csv('advanced_features_submission.csv')"
   ]
  },
  {
   "cell_type": "markdown",
   "metadata": {},
   "source": [
    "### <font color='red'>Цель задания:\n",
    "Полученная модель должна иметь ROC AUC на Public-части тестовой выборки (на лидерборде) <b>не менее 80%."
   ]
  },
  {
   "cell_type": "code",
   "execution_count": 109,
   "metadata": {},
   "outputs": [],
   "source": [
    "tr_mcc_codes = pd.read_csv(os.path.join(PATH_DATA, 'mcc_codes.csv'), sep=';', index_col='mcc_code')\n",
    "tr_types = pd.read_csv(os.path.join(PATH_DATA, 'trans_types.csv'), sep=';', index_col='trans_type')\n",
    "\n",
    "transactions = pd.read_csv(os.path.join(PATH_DATA, 'transactions.csv'), index_col='client_id')\n",
    "gender_train = pd.read_csv(os.path.join(PATH_DATA, 'train.csv'), index_col='client_id')\n",
    "gender_test = pd.read_csv(os.path.join(PATH_DATA, 'test.csv'), index_col='client_id')\n",
    "transactions_train = transactions.join(gender_train, how='inner')\n",
    "transactions_test = transactions.join(gender_test, how='inner')\n",
    "\n",
    "#tr_mcc_codes = pd.read_csv('/kaggle/input/python-and-analyze-data-final-project/tr_mcc_codes.csv', sep=';', index_col='mcc_code')\n",
    "#tr_types = pd.read_csv('/kaggle/input/python-and-analyze-data-final-project/tr_types.csv', sep=';', index_col='tr_type')\n",
    "#transactions = pd.read_csv('/kaggle/input/python-and-analyze-data-final-project/transactions.csv', index_col='customer_id')\n",
    "#gender_train = pd.read_csv('/kaggle/input/python-and-analyze-data-final-project/gender_train.csv', index_col='customer_id')\n",
    "#gender_test = pd.read_csv('/kaggle/input/python-and-analyze-data-final-project/gender_test_kaggle_sample_submission.csv', index_col='customer_id')\n",
    "#transactions_train = transactions.join(gender_train, how='inner')\n",
    "#transactions_test = transactions.join(gender_test, how='inner')\n"
   ]
  },
  {
   "cell_type": "code",
   "execution_count": 110,
   "metadata": {},
   "outputs": [
    {
     "data": {
      "text/html": [
       "<div>\n",
       "<style scoped>\n",
       "    .dataframe tbody tr th:only-of-type {\n",
       "        vertical-align: middle;\n",
       "    }\n",
       "\n",
       "    .dataframe tbody tr th {\n",
       "        vertical-align: top;\n",
       "    }\n",
       "\n",
       "    .dataframe thead th {\n",
       "        text-align: right;\n",
       "    }\n",
       "</style>\n",
       "<table border=\"1\" class=\"dataframe\">\n",
       "  <thead>\n",
       "    <tr style=\"text-align: right;\">\n",
       "      <th></th>\n",
       "      <th>trans_time</th>\n",
       "      <th>mcc_code</th>\n",
       "      <th>trans_type</th>\n",
       "      <th>amount</th>\n",
       "      <th>term_id</th>\n",
       "      <th>trans_city</th>\n",
       "      <th>Unnamed: 0</th>\n",
       "      <th>gender</th>\n",
       "      <th>day</th>\n",
       "      <th>hour</th>\n",
       "      <th>night</th>\n",
       "    </tr>\n",
       "    <tr>\n",
       "      <th>client_id</th>\n",
       "      <th></th>\n",
       "      <th></th>\n",
       "      <th></th>\n",
       "      <th></th>\n",
       "      <th></th>\n",
       "      <th></th>\n",
       "      <th></th>\n",
       "      <th></th>\n",
       "      <th></th>\n",
       "      <th></th>\n",
       "      <th></th>\n",
       "    </tr>\n",
       "  </thead>\n",
       "  <tbody>\n",
       "    <tr>\n",
       "      <th>0002cf30347684df542e1a931f356875</th>\n",
       "      <td>313 14:52:03</td>\n",
       "      <td>4829</td>\n",
       "      <td>2370</td>\n",
       "      <td>-2170.07</td>\n",
       "      <td>888990</td>\n",
       "      <td>Saint Petersburg</td>\n",
       "      <td>6806</td>\n",
       "      <td>0</td>\n",
       "      <td>5</td>\n",
       "      <td>14</td>\n",
       "      <td>-2</td>\n",
       "    </tr>\n",
       "    <tr>\n",
       "      <th>0002cf30347684df542e1a931f356875</th>\n",
       "      <td>150 14:10:49</td>\n",
       "      <td>6011</td>\n",
       "      <td>2010</td>\n",
       "      <td>-1445.64</td>\n",
       "      <td>NaN</td>\n",
       "      <td>Saint Petersburg</td>\n",
       "      <td>6806</td>\n",
       "      <td>0</td>\n",
       "      <td>3</td>\n",
       "      <td>14</td>\n",
       "      <td>-2</td>\n",
       "    </tr>\n",
       "    <tr>\n",
       "      <th>0002cf30347684df542e1a931f356875</th>\n",
       "      <td>122 12:38:32</td>\n",
       "      <td>5912</td>\n",
       "      <td>1010</td>\n",
       "      <td>-107.07</td>\n",
       "      <td>NaN</td>\n",
       "      <td>Saint Petersburg</td>\n",
       "      <td>6806</td>\n",
       "      <td>0</td>\n",
       "      <td>3</td>\n",
       "      <td>12</td>\n",
       "      <td>-2</td>\n",
       "    </tr>\n",
       "    <tr>\n",
       "      <th>0002cf30347684df542e1a931f356875</th>\n",
       "      <td>159 13:22:34</td>\n",
       "      <td>6011</td>\n",
       "      <td>2010</td>\n",
       "      <td>-2892.86</td>\n",
       "      <td>NaN</td>\n",
       "      <td>Saint Petersburg</td>\n",
       "      <td>6806</td>\n",
       "      <td>0</td>\n",
       "      <td>5</td>\n",
       "      <td>13</td>\n",
       "      <td>-2</td>\n",
       "    </tr>\n",
       "    <tr>\n",
       "      <th>0002cf30347684df542e1a931f356875</th>\n",
       "      <td>257 12:06:54</td>\n",
       "      <td>5912</td>\n",
       "      <td>1010</td>\n",
       "      <td>-164.49</td>\n",
       "      <td>469965</td>\n",
       "      <td>Saint Petersburg</td>\n",
       "      <td>6806</td>\n",
       "      <td>0</td>\n",
       "      <td>5</td>\n",
       "      <td>12</td>\n",
       "      <td>-2</td>\n",
       "    </tr>\n",
       "  </tbody>\n",
       "</table>\n",
       "</div>"
      ],
      "text/plain": [
       "                                    trans_time  mcc_code  trans_type   amount   \n",
       "client_id                                                                       \n",
       "0002cf30347684df542e1a931f356875  313 14:52:03      4829        2370 -2170.07  \\\n",
       "0002cf30347684df542e1a931f356875  150 14:10:49      6011        2010 -1445.64   \n",
       "0002cf30347684df542e1a931f356875  122 12:38:32      5912        1010  -107.07   \n",
       "0002cf30347684df542e1a931f356875  159 13:22:34      6011        2010 -2892.86   \n",
       "0002cf30347684df542e1a931f356875  257 12:06:54      5912        1010  -164.49   \n",
       "\n",
       "                                 term_id        trans_city  Unnamed: 0   \n",
       "client_id                                                                \n",
       "0002cf30347684df542e1a931f356875  888990  Saint Petersburg        6806  \\\n",
       "0002cf30347684df542e1a931f356875     NaN  Saint Petersburg        6806   \n",
       "0002cf30347684df542e1a931f356875     NaN  Saint Petersburg        6806   \n",
       "0002cf30347684df542e1a931f356875     NaN  Saint Petersburg        6806   \n",
       "0002cf30347684df542e1a931f356875  469965  Saint Petersburg        6806   \n",
       "\n",
       "                                  gender  day  hour  night  \n",
       "client_id                                                   \n",
       "0002cf30347684df542e1a931f356875       0    5    14     -2  \n",
       "0002cf30347684df542e1a931f356875       0    3    14     -2  \n",
       "0002cf30347684df542e1a931f356875       0    3    12     -2  \n",
       "0002cf30347684df542e1a931f356875       0    5    13     -2  \n",
       "0002cf30347684df542e1a931f356875       0    5    12     -2  "
      ]
     },
     "execution_count": 110,
     "metadata": {},
     "output_type": "execute_result"
    }
   ],
   "source": [
    "for df in [transactions_train, transactions_test]:\n",
    "    df['day'] = df['trans_time'].str.split().apply(lambda x: int(x[0]) % 7)\n",
    "    df['hour'] = df['trans_time'].apply(lambda x: re.search(' \\d*', x).group(0)).astype(int)\n",
    "    df['night'] = ~df['hour'].between(6, 22).astype(int)\n",
    "\n",
    "transactions_train.head()"
   ]
  },
  {
   "cell_type": "code",
   "execution_count": 112,
   "metadata": {},
   "outputs": [],
   "source": [
    "tqdm_notebook.pandas(desc=\"Progress:\")\n",
    "\n",
    "def features_creation_advanced(x): \n",
    "    features = []\n",
    "    features.append(pd.Series(x['day'].value_counts(normalize=True).add_prefix('day_')))\n",
    "    features.append(pd.Series(x['hour'].value_counts(normalize=True).add_prefix('hour_')))\n",
    "    features.append(pd.Series(x['night'].value_counts(normalize=True).add_prefix('night_')))\n",
    "    \n",
    "    features.append(pd.Series(x[x['amount']>=0]['amount'].agg(['min', 'max', 'mean', 'median', 'std', 'count', 'sum'])\\\n",
    "                                                        .add_prefix('positive_transactions_')))\n",
    "    features.append(pd.Series(x[x['amount']<0]['amount'].agg(['min', 'max', 'mean', 'median', 'std', 'count', 'sum'])\\\n",
    "                                                        .add_prefix('negative_transactions_')))\n",
    "\n",
    "    features.append(pd.Series(x['mcc_code'].value_counts(normalize=True).add_prefix('mcc_')))\n",
    "    \n",
    "    return pd.concat(features)"
   ]
  },
  {
   "cell_type": "code",
   "execution_count": 113,
   "metadata": {},
   "outputs": [
    {
     "data": {
      "application/vnd.jupyter.widget-view+json": {
       "model_id": "1b566f26b0034ec8b216dbc0100b289b",
       "version_major": 2,
       "version_minor": 0
      },
      "text/plain": [
       "Progress::   0%|          | 0/7560 [00:00<?, ?it/s]"
      ]
     },
     "metadata": {},
     "output_type": "display_data"
    },
    {
     "data": {
      "application/vnd.jupyter.widget-view+json": {
       "model_id": "fb603f09628b4198a62f3fbd5624e107",
       "version_major": 2,
       "version_minor": 0
      },
      "text/plain": [
       "Progress::   0%|          | 0/840 [00:00<?, ?it/s]"
      ]
     },
     "metadata": {},
     "output_type": "display_data"
    },
    {
     "data": {
      "text/plain": [
       "gender\n",
       "0    4199\n",
       "1    3361\n",
       "Name: count, dtype: int64"
      ]
     },
     "execution_count": 113,
     "metadata": {},
     "output_type": "execute_result"
    }
   ],
   "source": [
    "data_train = transactions_train.groupby(transactions_train.index)\\\n",
    "                               .progress_apply(features_creation_advanced).unstack(-1)\n",
    "data_test = transactions_test.groupby(transactions_test.index)\\\n",
    "                             .progress_apply(features_creation_advanced).unstack(-1)\n",
    "\n",
    "target = data_train.join(gender_train, how='inner')['gender']\n",
    "target.value_counts()"
   ]
  },
  {
   "cell_type": "code",
   "execution_count": 197,
   "metadata": {},
   "outputs": [
    {
     "data": {
      "text/plain": [
       "((7560, 231), (8400, 231))"
      ]
     },
     "execution_count": 197,
     "metadata": {},
     "output_type": "execute_result"
    }
   ],
   "source": [
    "X = data_train.copy()\n",
    "y = target\n",
    "test_df = data_test.copy()\n",
    "\n",
    "X.fillna(-1, inplace=True)\n",
    "test_df.fillna(-1, inplace=True)\n",
    "\n",
    "scaler = MinMaxScaler()\n",
    "X = scaler.fit_transform(X)\n",
    "test_df = scaler.fit_transform(test_df)\n",
    "\n",
    "X.shape, test_df.shape"
   ]
  },
  {
   "cell_type": "code",
   "execution_count": 198,
   "metadata": {},
   "outputs": [
    {
     "data": {
      "text/html": [
       "<div>\n",
       "<style scoped>\n",
       "    .dataframe tbody tr th:only-of-type {\n",
       "        vertical-align: middle;\n",
       "    }\n",
       "\n",
       "    .dataframe tbody tr th {\n",
       "        vertical-align: top;\n",
       "    }\n",
       "\n",
       "    .dataframe thead th {\n",
       "        text-align: right;\n",
       "    }\n",
       "</style>\n",
       "<table border=\"1\" class=\"dataframe\">\n",
       "  <thead>\n",
       "    <tr style=\"text-align: right;\">\n",
       "      <th></th>\n",
       "      <th>day_0</th>\n",
       "      <th>day_1</th>\n",
       "      <th>day_2</th>\n",
       "      <th>day_3</th>\n",
       "      <th>day_4</th>\n",
       "      <th>day_5</th>\n",
       "      <th>day_6</th>\n",
       "      <th>hour_0</th>\n",
       "      <th>hour_1</th>\n",
       "      <th>hour_10</th>\n",
       "      <th>...</th>\n",
       "      <th>negative_transactions_sum</th>\n",
       "      <th>night_-1</th>\n",
       "      <th>night_-2</th>\n",
       "      <th>positive_transactions_count</th>\n",
       "      <th>positive_transactions_max</th>\n",
       "      <th>positive_transactions_mean</th>\n",
       "      <th>positive_transactions_median</th>\n",
       "      <th>positive_transactions_min</th>\n",
       "      <th>positive_transactions_std</th>\n",
       "      <th>positive_transactions_sum</th>\n",
       "    </tr>\n",
       "    <tr>\n",
       "      <th>client_id</th>\n",
       "      <th></th>\n",
       "      <th></th>\n",
       "      <th></th>\n",
       "      <th></th>\n",
       "      <th></th>\n",
       "      <th></th>\n",
       "      <th></th>\n",
       "      <th></th>\n",
       "      <th></th>\n",
       "      <th></th>\n",
       "      <th></th>\n",
       "      <th></th>\n",
       "      <th></th>\n",
       "      <th></th>\n",
       "      <th></th>\n",
       "      <th></th>\n",
       "      <th></th>\n",
       "      <th></th>\n",
       "      <th></th>\n",
       "      <th></th>\n",
       "      <th></th>\n",
       "    </tr>\n",
       "  </thead>\n",
       "  <tbody>\n",
       "    <tr>\n",
       "      <th>0002cf30347684df542e1a931f356875</th>\n",
       "      <td>0.208333</td>\n",
       "      <td>0.123016</td>\n",
       "      <td>0.053571</td>\n",
       "      <td>0.117063</td>\n",
       "      <td>0.125000</td>\n",
       "      <td>0.156746</td>\n",
       "      <td>0.216270</td>\n",
       "      <td>NaN</td>\n",
       "      <td>NaN</td>\n",
       "      <td>0.085317</td>\n",
       "      <td>...</td>\n",
       "      <td>-888203.30</td>\n",
       "      <td>0.013889</td>\n",
       "      <td>0.986111</td>\n",
       "      <td>32.0</td>\n",
       "      <td>42665.12</td>\n",
       "      <td>18450.900313</td>\n",
       "      <td>16450.650</td>\n",
       "      <td>722.09</td>\n",
       "      <td>14360.498086</td>\n",
       "      <td>590428.81</td>\n",
       "    </tr>\n",
       "    <tr>\n",
       "      <th>0002f4661e0d4d2ae097d78552dad022</th>\n",
       "      <td>0.146067</td>\n",
       "      <td>0.161049</td>\n",
       "      <td>0.104869</td>\n",
       "      <td>0.179775</td>\n",
       "      <td>0.153558</td>\n",
       "      <td>0.149813</td>\n",
       "      <td>0.104869</td>\n",
       "      <td>0.007491</td>\n",
       "      <td>NaN</td>\n",
       "      <td>0.071161</td>\n",
       "      <td>...</td>\n",
       "      <td>-74627.84</td>\n",
       "      <td>0.056180</td>\n",
       "      <td>0.943820</td>\n",
       "      <td>9.0</td>\n",
       "      <td>15909.56</td>\n",
       "      <td>2364.986667</td>\n",
       "      <td>723.370</td>\n",
       "      <td>312.99</td>\n",
       "      <td>5083.124389</td>\n",
       "      <td>21284.88</td>\n",
       "    </tr>\n",
       "    <tr>\n",
       "      <th>00081e0eca8ad94e493691f8f00099c6</th>\n",
       "      <td>0.178010</td>\n",
       "      <td>0.188482</td>\n",
       "      <td>0.057592</td>\n",
       "      <td>0.146597</td>\n",
       "      <td>0.162304</td>\n",
       "      <td>0.157068</td>\n",
       "      <td>0.109948</td>\n",
       "      <td>0.036649</td>\n",
       "      <td>NaN</td>\n",
       "      <td>0.057592</td>\n",
       "      <td>...</td>\n",
       "      <td>-62930.80</td>\n",
       "      <td>0.157068</td>\n",
       "      <td>0.842932</td>\n",
       "      <td>25.0</td>\n",
       "      <td>5423.80</td>\n",
       "      <td>1981.352400</td>\n",
       "      <td>1373.800</td>\n",
       "      <td>360.75</td>\n",
       "      <td>1704.496840</td>\n",
       "      <td>49533.81</td>\n",
       "    </tr>\n",
       "    <tr>\n",
       "      <th>0019bebcb5435df3103a5b0b52f5fc6b</th>\n",
       "      <td>0.146998</td>\n",
       "      <td>0.165631</td>\n",
       "      <td>0.121118</td>\n",
       "      <td>0.142857</td>\n",
       "      <td>0.136646</td>\n",
       "      <td>0.140787</td>\n",
       "      <td>0.145963</td>\n",
       "      <td>0.203934</td>\n",
       "      <td>0.007246</td>\n",
       "      <td>0.021739</td>\n",
       "      <td>...</td>\n",
       "      <td>-494382.45</td>\n",
       "      <td>0.435818</td>\n",
       "      <td>0.564182</td>\n",
       "      <td>301.0</td>\n",
       "      <td>20247.50</td>\n",
       "      <td>1032.745050</td>\n",
       "      <td>722.430</td>\n",
       "      <td>14.93</td>\n",
       "      <td>1743.349204</td>\n",
       "      <td>310856.26</td>\n",
       "    </tr>\n",
       "    <tr>\n",
       "      <th>001c8191ecac499718b33dc293a99e5b</th>\n",
       "      <td>0.160194</td>\n",
       "      <td>0.111650</td>\n",
       "      <td>0.082524</td>\n",
       "      <td>0.203883</td>\n",
       "      <td>0.169903</td>\n",
       "      <td>0.169903</td>\n",
       "      <td>0.101942</td>\n",
       "      <td>0.092233</td>\n",
       "      <td>NaN</td>\n",
       "      <td>0.024272</td>\n",
       "      <td>...</td>\n",
       "      <td>-232812.69</td>\n",
       "      <td>0.271845</td>\n",
       "      <td>0.728155</td>\n",
       "      <td>39.0</td>\n",
       "      <td>3616.52</td>\n",
       "      <td>1250.236923</td>\n",
       "      <td>723.710</td>\n",
       "      <td>145.62</td>\n",
       "      <td>950.703133</td>\n",
       "      <td>48759.24</td>\n",
       "    </tr>\n",
       "    <tr>\n",
       "      <th>...</th>\n",
       "      <td>...</td>\n",
       "      <td>...</td>\n",
       "      <td>...</td>\n",
       "      <td>...</td>\n",
       "      <td>...</td>\n",
       "      <td>...</td>\n",
       "      <td>...</td>\n",
       "      <td>...</td>\n",
       "      <td>...</td>\n",
       "      <td>...</td>\n",
       "      <td>...</td>\n",
       "      <td>...</td>\n",
       "      <td>...</td>\n",
       "      <td>...</td>\n",
       "      <td>...</td>\n",
       "      <td>...</td>\n",
       "      <td>...</td>\n",
       "      <td>...</td>\n",
       "      <td>...</td>\n",
       "      <td>...</td>\n",
       "      <td>...</td>\n",
       "    </tr>\n",
       "    <tr>\n",
       "      <th>ffe87ae84cf5d83af6a8a5de6dfe327f</th>\n",
       "      <td>0.217573</td>\n",
       "      <td>0.079498</td>\n",
       "      <td>0.061715</td>\n",
       "      <td>0.158996</td>\n",
       "      <td>0.141213</td>\n",
       "      <td>0.142259</td>\n",
       "      <td>0.198745</td>\n",
       "      <td>0.115063</td>\n",
       "      <td>NaN</td>\n",
       "      <td>0.046025</td>\n",
       "      <td>...</td>\n",
       "      <td>-1523362.06</td>\n",
       "      <td>0.246862</td>\n",
       "      <td>0.753138</td>\n",
       "      <td>231.0</td>\n",
       "      <td>36157.09</td>\n",
       "      <td>4291.427446</td>\n",
       "      <td>2965.470</td>\n",
       "      <td>11.70</td>\n",
       "      <td>4821.935240</td>\n",
       "      <td>991319.74</td>\n",
       "    </tr>\n",
       "    <tr>\n",
       "      <th>fff69a007a119605d6ff25c086840e7d</th>\n",
       "      <td>0.151862</td>\n",
       "      <td>0.157593</td>\n",
       "      <td>0.094556</td>\n",
       "      <td>0.128940</td>\n",
       "      <td>0.157593</td>\n",
       "      <td>0.166189</td>\n",
       "      <td>0.143266</td>\n",
       "      <td>0.094556</td>\n",
       "      <td>0.005731</td>\n",
       "      <td>0.048711</td>\n",
       "      <td>...</td>\n",
       "      <td>-205199.47</td>\n",
       "      <td>0.212034</td>\n",
       "      <td>0.787966</td>\n",
       "      <td>12.0</td>\n",
       "      <td>10847.20</td>\n",
       "      <td>3621.554167</td>\n",
       "      <td>3614.815</td>\n",
       "      <td>71.29</td>\n",
       "      <td>3664.842289</td>\n",
       "      <td>43458.65</td>\n",
       "    </tr>\n",
       "    <tr>\n",
       "      <th>fff78af489ca1024ba0ac7b3c2e47b60</th>\n",
       "      <td>0.165714</td>\n",
       "      <td>0.120000</td>\n",
       "      <td>0.085714</td>\n",
       "      <td>0.108571</td>\n",
       "      <td>0.160000</td>\n",
       "      <td>0.200000</td>\n",
       "      <td>0.160000</td>\n",
       "      <td>0.005714</td>\n",
       "      <td>NaN</td>\n",
       "      <td>0.080000</td>\n",
       "      <td>...</td>\n",
       "      <td>-313102.43</td>\n",
       "      <td>0.034286</td>\n",
       "      <td>0.965714</td>\n",
       "      <td>13.0</td>\n",
       "      <td>7231.79</td>\n",
       "      <td>4283.123077</td>\n",
       "      <td>3616.610</td>\n",
       "      <td>2168.91</td>\n",
       "      <td>1335.510188</td>\n",
       "      <td>55680.60</td>\n",
       "    </tr>\n",
       "    <tr>\n",
       "      <th>fffbed6c440a05e5593ad1a865e586a8</th>\n",
       "      <td>0.181034</td>\n",
       "      <td>0.025862</td>\n",
       "      <td>NaN</td>\n",
       "      <td>0.215517</td>\n",
       "      <td>0.198276</td>\n",
       "      <td>0.215517</td>\n",
       "      <td>0.163793</td>\n",
       "      <td>0.094828</td>\n",
       "      <td>NaN</td>\n",
       "      <td>0.163793</td>\n",
       "      <td>...</td>\n",
       "      <td>-68802.34</td>\n",
       "      <td>0.232759</td>\n",
       "      <td>0.767241</td>\n",
       "      <td>34.0</td>\n",
       "      <td>25308.26</td>\n",
       "      <td>3532.733824</td>\n",
       "      <td>1446.135</td>\n",
       "      <td>7.07</td>\n",
       "      <td>5475.143427</td>\n",
       "      <td>120112.95</td>\n",
       "    </tr>\n",
       "    <tr>\n",
       "      <th>fffedf876a0ea3d39e54b706165a4826</th>\n",
       "      <td>0.187500</td>\n",
       "      <td>0.218750</td>\n",
       "      <td>0.187500</td>\n",
       "      <td>0.078125</td>\n",
       "      <td>0.046875</td>\n",
       "      <td>0.093750</td>\n",
       "      <td>0.187500</td>\n",
       "      <td>NaN</td>\n",
       "      <td>NaN</td>\n",
       "      <td>0.109375</td>\n",
       "      <td>...</td>\n",
       "      <td>-273018.63</td>\n",
       "      <td>NaN</td>\n",
       "      <td>1.000000</td>\n",
       "      <td>0.0</td>\n",
       "      <td>NaN</td>\n",
       "      <td>NaN</td>\n",
       "      <td>NaN</td>\n",
       "      <td>NaN</td>\n",
       "      <td>NaN</td>\n",
       "      <td>0.00</td>\n",
       "    </tr>\n",
       "  </tbody>\n",
       "</table>\n",
       "<p>7560 rows × 231 columns</p>\n",
       "</div>"
      ],
      "text/plain": [
       "                                     day_0     day_1     day_2     day_3   \n",
       "client_id                                                                  \n",
       "0002cf30347684df542e1a931f356875  0.208333  0.123016  0.053571  0.117063  \\\n",
       "0002f4661e0d4d2ae097d78552dad022  0.146067  0.161049  0.104869  0.179775   \n",
       "00081e0eca8ad94e493691f8f00099c6  0.178010  0.188482  0.057592  0.146597   \n",
       "0019bebcb5435df3103a5b0b52f5fc6b  0.146998  0.165631  0.121118  0.142857   \n",
       "001c8191ecac499718b33dc293a99e5b  0.160194  0.111650  0.082524  0.203883   \n",
       "...                                    ...       ...       ...       ...   \n",
       "ffe87ae84cf5d83af6a8a5de6dfe327f  0.217573  0.079498  0.061715  0.158996   \n",
       "fff69a007a119605d6ff25c086840e7d  0.151862  0.157593  0.094556  0.128940   \n",
       "fff78af489ca1024ba0ac7b3c2e47b60  0.165714  0.120000  0.085714  0.108571   \n",
       "fffbed6c440a05e5593ad1a865e586a8  0.181034  0.025862       NaN  0.215517   \n",
       "fffedf876a0ea3d39e54b706165a4826  0.187500  0.218750  0.187500  0.078125   \n",
       "\n",
       "                                     day_4     day_5     day_6    hour_0   \n",
       "client_id                                                                  \n",
       "0002cf30347684df542e1a931f356875  0.125000  0.156746  0.216270       NaN  \\\n",
       "0002f4661e0d4d2ae097d78552dad022  0.153558  0.149813  0.104869  0.007491   \n",
       "00081e0eca8ad94e493691f8f00099c6  0.162304  0.157068  0.109948  0.036649   \n",
       "0019bebcb5435df3103a5b0b52f5fc6b  0.136646  0.140787  0.145963  0.203934   \n",
       "001c8191ecac499718b33dc293a99e5b  0.169903  0.169903  0.101942  0.092233   \n",
       "...                                    ...       ...       ...       ...   \n",
       "ffe87ae84cf5d83af6a8a5de6dfe327f  0.141213  0.142259  0.198745  0.115063   \n",
       "fff69a007a119605d6ff25c086840e7d  0.157593  0.166189  0.143266  0.094556   \n",
       "fff78af489ca1024ba0ac7b3c2e47b60  0.160000  0.200000  0.160000  0.005714   \n",
       "fffbed6c440a05e5593ad1a865e586a8  0.198276  0.215517  0.163793  0.094828   \n",
       "fffedf876a0ea3d39e54b706165a4826  0.046875  0.093750  0.187500       NaN   \n",
       "\n",
       "                                    hour_1   hour_10  ...   \n",
       "client_id                                             ...   \n",
       "0002cf30347684df542e1a931f356875       NaN  0.085317  ...  \\\n",
       "0002f4661e0d4d2ae097d78552dad022       NaN  0.071161  ...   \n",
       "00081e0eca8ad94e493691f8f00099c6       NaN  0.057592  ...   \n",
       "0019bebcb5435df3103a5b0b52f5fc6b  0.007246  0.021739  ...   \n",
       "001c8191ecac499718b33dc293a99e5b       NaN  0.024272  ...   \n",
       "...                                    ...       ...  ...   \n",
       "ffe87ae84cf5d83af6a8a5de6dfe327f       NaN  0.046025  ...   \n",
       "fff69a007a119605d6ff25c086840e7d  0.005731  0.048711  ...   \n",
       "fff78af489ca1024ba0ac7b3c2e47b60       NaN  0.080000  ...   \n",
       "fffbed6c440a05e5593ad1a865e586a8       NaN  0.163793  ...   \n",
       "fffedf876a0ea3d39e54b706165a4826       NaN  0.109375  ...   \n",
       "\n",
       "                                  negative_transactions_sum  night_-1   \n",
       "client_id                                                               \n",
       "0002cf30347684df542e1a931f356875                 -888203.30  0.013889  \\\n",
       "0002f4661e0d4d2ae097d78552dad022                  -74627.84  0.056180   \n",
       "00081e0eca8ad94e493691f8f00099c6                  -62930.80  0.157068   \n",
       "0019bebcb5435df3103a5b0b52f5fc6b                 -494382.45  0.435818   \n",
       "001c8191ecac499718b33dc293a99e5b                 -232812.69  0.271845   \n",
       "...                                                     ...       ...   \n",
       "ffe87ae84cf5d83af6a8a5de6dfe327f                -1523362.06  0.246862   \n",
       "fff69a007a119605d6ff25c086840e7d                 -205199.47  0.212034   \n",
       "fff78af489ca1024ba0ac7b3c2e47b60                 -313102.43  0.034286   \n",
       "fffbed6c440a05e5593ad1a865e586a8                  -68802.34  0.232759   \n",
       "fffedf876a0ea3d39e54b706165a4826                 -273018.63       NaN   \n",
       "\n",
       "                                  night_-2  positive_transactions_count   \n",
       "client_id                                                                 \n",
       "0002cf30347684df542e1a931f356875  0.986111                         32.0  \\\n",
       "0002f4661e0d4d2ae097d78552dad022  0.943820                          9.0   \n",
       "00081e0eca8ad94e493691f8f00099c6  0.842932                         25.0   \n",
       "0019bebcb5435df3103a5b0b52f5fc6b  0.564182                        301.0   \n",
       "001c8191ecac499718b33dc293a99e5b  0.728155                         39.0   \n",
       "...                                    ...                          ...   \n",
       "ffe87ae84cf5d83af6a8a5de6dfe327f  0.753138                        231.0   \n",
       "fff69a007a119605d6ff25c086840e7d  0.787966                         12.0   \n",
       "fff78af489ca1024ba0ac7b3c2e47b60  0.965714                         13.0   \n",
       "fffbed6c440a05e5593ad1a865e586a8  0.767241                         34.0   \n",
       "fffedf876a0ea3d39e54b706165a4826  1.000000                          0.0   \n",
       "\n",
       "                                  positive_transactions_max   \n",
       "client_id                                                     \n",
       "0002cf30347684df542e1a931f356875                   42665.12  \\\n",
       "0002f4661e0d4d2ae097d78552dad022                   15909.56   \n",
       "00081e0eca8ad94e493691f8f00099c6                    5423.80   \n",
       "0019bebcb5435df3103a5b0b52f5fc6b                   20247.50   \n",
       "001c8191ecac499718b33dc293a99e5b                    3616.52   \n",
       "...                                                     ...   \n",
       "ffe87ae84cf5d83af6a8a5de6dfe327f                   36157.09   \n",
       "fff69a007a119605d6ff25c086840e7d                   10847.20   \n",
       "fff78af489ca1024ba0ac7b3c2e47b60                    7231.79   \n",
       "fffbed6c440a05e5593ad1a865e586a8                   25308.26   \n",
       "fffedf876a0ea3d39e54b706165a4826                        NaN   \n",
       "\n",
       "                                  positive_transactions_mean   \n",
       "client_id                                                      \n",
       "0002cf30347684df542e1a931f356875                18450.900313  \\\n",
       "0002f4661e0d4d2ae097d78552dad022                 2364.986667   \n",
       "00081e0eca8ad94e493691f8f00099c6                 1981.352400   \n",
       "0019bebcb5435df3103a5b0b52f5fc6b                 1032.745050   \n",
       "001c8191ecac499718b33dc293a99e5b                 1250.236923   \n",
       "...                                                      ...   \n",
       "ffe87ae84cf5d83af6a8a5de6dfe327f                 4291.427446   \n",
       "fff69a007a119605d6ff25c086840e7d                 3621.554167   \n",
       "fff78af489ca1024ba0ac7b3c2e47b60                 4283.123077   \n",
       "fffbed6c440a05e5593ad1a865e586a8                 3532.733824   \n",
       "fffedf876a0ea3d39e54b706165a4826                         NaN   \n",
       "\n",
       "                                  positive_transactions_median   \n",
       "client_id                                                        \n",
       "0002cf30347684df542e1a931f356875                     16450.650  \\\n",
       "0002f4661e0d4d2ae097d78552dad022                       723.370   \n",
       "00081e0eca8ad94e493691f8f00099c6                      1373.800   \n",
       "0019bebcb5435df3103a5b0b52f5fc6b                       722.430   \n",
       "001c8191ecac499718b33dc293a99e5b                       723.710   \n",
       "...                                                        ...   \n",
       "ffe87ae84cf5d83af6a8a5de6dfe327f                      2965.470   \n",
       "fff69a007a119605d6ff25c086840e7d                      3614.815   \n",
       "fff78af489ca1024ba0ac7b3c2e47b60                      3616.610   \n",
       "fffbed6c440a05e5593ad1a865e586a8                      1446.135   \n",
       "fffedf876a0ea3d39e54b706165a4826                           NaN   \n",
       "\n",
       "                                  positive_transactions_min   \n",
       "client_id                                                     \n",
       "0002cf30347684df542e1a931f356875                     722.09  \\\n",
       "0002f4661e0d4d2ae097d78552dad022                     312.99   \n",
       "00081e0eca8ad94e493691f8f00099c6                     360.75   \n",
       "0019bebcb5435df3103a5b0b52f5fc6b                      14.93   \n",
       "001c8191ecac499718b33dc293a99e5b                     145.62   \n",
       "...                                                     ...   \n",
       "ffe87ae84cf5d83af6a8a5de6dfe327f                      11.70   \n",
       "fff69a007a119605d6ff25c086840e7d                      71.29   \n",
       "fff78af489ca1024ba0ac7b3c2e47b60                    2168.91   \n",
       "fffbed6c440a05e5593ad1a865e586a8                       7.07   \n",
       "fffedf876a0ea3d39e54b706165a4826                        NaN   \n",
       "\n",
       "                                  positive_transactions_std   \n",
       "client_id                                                     \n",
       "0002cf30347684df542e1a931f356875               14360.498086  \\\n",
       "0002f4661e0d4d2ae097d78552dad022                5083.124389   \n",
       "00081e0eca8ad94e493691f8f00099c6                1704.496840   \n",
       "0019bebcb5435df3103a5b0b52f5fc6b                1743.349204   \n",
       "001c8191ecac499718b33dc293a99e5b                 950.703133   \n",
       "...                                                     ...   \n",
       "ffe87ae84cf5d83af6a8a5de6dfe327f                4821.935240   \n",
       "fff69a007a119605d6ff25c086840e7d                3664.842289   \n",
       "fff78af489ca1024ba0ac7b3c2e47b60                1335.510188   \n",
       "fffbed6c440a05e5593ad1a865e586a8                5475.143427   \n",
       "fffedf876a0ea3d39e54b706165a4826                        NaN   \n",
       "\n",
       "                                  positive_transactions_sum  \n",
       "client_id                                                    \n",
       "0002cf30347684df542e1a931f356875                  590428.81  \n",
       "0002f4661e0d4d2ae097d78552dad022                   21284.88  \n",
       "00081e0eca8ad94e493691f8f00099c6                   49533.81  \n",
       "0019bebcb5435df3103a5b0b52f5fc6b                  310856.26  \n",
       "001c8191ecac499718b33dc293a99e5b                   48759.24  \n",
       "...                                                     ...  \n",
       "ffe87ae84cf5d83af6a8a5de6dfe327f                  991319.74  \n",
       "fff69a007a119605d6ff25c086840e7d                   43458.65  \n",
       "fff78af489ca1024ba0ac7b3c2e47b60                   55680.60  \n",
       "fffbed6c440a05e5593ad1a865e586a8                  120112.95  \n",
       "fffedf876a0ea3d39e54b706165a4826                       0.00  \n",
       "\n",
       "[7560 rows x 231 columns]"
      ]
     },
     "execution_count": 198,
     "metadata": {},
     "output_type": "execute_result"
    }
   ],
   "source": [
    "data_train"
   ]
  },
  {
   "cell_type": "code",
   "execution_count": 201,
   "metadata": {},
   "outputs": [],
   "source": [
    "from keras.models import Sequential\n",
    "from keras.layers import Dense\n",
    "import tensorflow as tf\n",
    "model_keras = Sequential()\n",
    "model_keras.add(Dense(256, activation='sigmoid', input_dim=231))\n",
    "model_keras.add(Dense(1024, activation='sigmoid'))\n",
    "model_keras.add(Dense(128, activation='sigmoid'))\n",
    "model_keras.add(Dense(1, activation='sigmoid'))\n",
    "\n",
    "# Compile the model_keras\n",
    "model_keras.compile(optimizer='adam', \n",
    "              loss='binary_crossentropy', \n",
    "              metrics=[tf.keras.metrics.AUC()])"
   ]
  },
  {
   "cell_type": "code",
   "execution_count": 202,
   "metadata": {},
   "outputs": [
    {
     "name": "stdout",
     "output_type": "stream",
     "text": [
      "Epoch 1/50\n",
      "237/237 [==============================] - 3s 7ms/step - loss: 0.6235 - auc_8: 0.6770\n",
      "Epoch 2/50\n",
      "237/237 [==============================] - 2s 7ms/step - loss: 0.4844 - auc_8: 0.8422\n",
      "Epoch 3/50\n",
      "237/237 [==============================] - 1s 6ms/step - loss: 0.4721 - auc_8: 0.8509\n",
      "Epoch 4/50\n",
      "237/237 [==============================] - 1s 6ms/step - loss: 0.4700 - auc_8: 0.8527\n",
      "Epoch 5/50\n",
      "237/237 [==============================] - 1s 6ms/step - loss: 0.4670 - auc_8: 0.8548\n",
      "Epoch 6/50\n",
      "237/237 [==============================] - 1s 6ms/step - loss: 0.4667 - auc_8: 0.8548\n",
      "Epoch 7/50\n",
      "237/237 [==============================] - 1s 6ms/step - loss: 0.4630 - auc_8: 0.8567\n",
      "Epoch 8/50\n",
      "237/237 [==============================] - 1s 6ms/step - loss: 0.4628 - auc_8: 0.8575\n",
      "Epoch 9/50\n",
      "237/237 [==============================] - 1s 6ms/step - loss: 0.4648 - auc_8: 0.8565\n",
      "Epoch 10/50\n",
      "237/237 [==============================] - 1s 5ms/step - loss: 0.4596 - auc_8: 0.8601\n",
      "Epoch 11/50\n",
      "237/237 [==============================] - 1s 6ms/step - loss: 0.4598 - auc_8: 0.8608\n",
      "Epoch 12/50\n",
      "237/237 [==============================] - 1s 6ms/step - loss: 0.4619 - auc_8: 0.8592\n",
      "Epoch 13/50\n",
      "237/237 [==============================] - 1s 6ms/step - loss: 0.4622 - auc_8: 0.8585\n",
      "Epoch 14/50\n",
      "237/237 [==============================] - 1s 6ms/step - loss: 0.4594 - auc_8: 0.8608\n",
      "Epoch 15/50\n",
      "237/237 [==============================] - 1s 6ms/step - loss: 0.4567 - auc_8: 0.8626\n",
      "Epoch 16/50\n",
      "237/237 [==============================] - 1s 6ms/step - loss: 0.4559 - auc_8: 0.8627\n",
      "Epoch 17/50\n",
      "237/237 [==============================] - 1s 6ms/step - loss: 0.4568 - auc_8: 0.8624\n",
      "Epoch 18/50\n",
      "237/237 [==============================] - 1s 6ms/step - loss: 0.4548 - auc_8: 0.8640\n",
      "Epoch 19/50\n",
      "237/237 [==============================] - 1s 6ms/step - loss: 0.4565 - auc_8: 0.8627\n",
      "Epoch 20/50\n",
      "237/237 [==============================] - 1s 6ms/step - loss: 0.4562 - auc_8: 0.8631\n",
      "Epoch 21/50\n",
      "237/237 [==============================] - 1s 6ms/step - loss: 0.4528 - auc_8: 0.8657\n",
      "Epoch 22/50\n",
      "237/237 [==============================] - 1s 6ms/step - loss: 0.4543 - auc_8: 0.8641\n",
      "Epoch 23/50\n",
      "237/237 [==============================] - 1s 6ms/step - loss: 0.4517 - auc_8: 0.8658\n",
      "Epoch 24/50\n",
      "237/237 [==============================] - 1s 6ms/step - loss: 0.4505 - auc_8: 0.8661\n",
      "Epoch 25/50\n",
      "237/237 [==============================] - 1s 6ms/step - loss: 0.4508 - auc_8: 0.8663\n",
      "Epoch 26/50\n",
      "237/237 [==============================] - 1s 6ms/step - loss: 0.4494 - auc_8: 0.8672\n",
      "Epoch 27/50\n",
      "237/237 [==============================] - 1s 6ms/step - loss: 0.4473 - auc_8: 0.8686\n",
      "Epoch 28/50\n",
      "237/237 [==============================] - 1s 6ms/step - loss: 0.4455 - auc_8: 0.8698\n",
      "Epoch 29/50\n",
      "237/237 [==============================] - 1s 6ms/step - loss: 0.4412 - auc_8: 0.8726\n",
      "Epoch 30/50\n",
      "237/237 [==============================] - 1s 6ms/step - loss: 0.4433 - auc_8: 0.8709\n",
      "Epoch 31/50\n",
      "237/237 [==============================] - 1s 6ms/step - loss: 0.4374 - auc_8: 0.8742\n",
      "Epoch 32/50\n",
      "237/237 [==============================] - 1s 6ms/step - loss: 0.4354 - auc_8: 0.8752\n",
      "Epoch 33/50\n",
      "237/237 [==============================] - 1s 6ms/step - loss: 0.4318 - auc_8: 0.8781\n",
      "Epoch 34/50\n",
      "237/237 [==============================] - 1s 6ms/step - loss: 0.4293 - auc_8: 0.8790\n",
      "Epoch 35/50\n",
      "237/237 [==============================] - 1s 6ms/step - loss: 0.4273 - auc_8: 0.8795\n",
      "Epoch 36/50\n",
      "237/237 [==============================] - 1s 6ms/step - loss: 0.4274 - auc_8: 0.8796\n",
      "Epoch 37/50\n",
      "237/237 [==============================] - 1s 6ms/step - loss: 0.4234 - auc_8: 0.8820\n",
      "Epoch 38/50\n",
      "237/237 [==============================] - 1s 6ms/step - loss: 0.4195 - auc_8: 0.8839\n",
      "Epoch 39/50\n",
      "237/237 [==============================] - 1s 6ms/step - loss: 0.4151 - auc_8: 0.8868\n",
      "Epoch 40/50\n",
      "237/237 [==============================] - 1s 6ms/step - loss: 0.4159 - auc_8: 0.8858\n",
      "Epoch 41/50\n",
      "237/237 [==============================] - 1s 6ms/step - loss: 0.4129 - auc_8: 0.8876\n",
      "Epoch 42/50\n",
      "237/237 [==============================] - 1s 6ms/step - loss: 0.4087 - auc_8: 0.8902\n",
      "Epoch 43/50\n",
      "237/237 [==============================] - 1s 6ms/step - loss: 0.4041 - auc_8: 0.8920\n",
      "Epoch 44/50\n",
      "237/237 [==============================] - 1s 6ms/step - loss: 0.4020 - auc_8: 0.8933\n",
      "Epoch 45/50\n",
      "237/237 [==============================] - 1s 6ms/step - loss: 0.3994 - auc_8: 0.8951\n",
      "Epoch 46/50\n",
      "237/237 [==============================] - 2s 6ms/step - loss: 0.3948 - auc_8: 0.8971\n",
      "Epoch 47/50\n",
      "237/237 [==============================] - 1s 6ms/step - loss: 0.3919 - auc_8: 0.8986\n",
      "Epoch 48/50\n",
      "237/237 [==============================] - 1s 6ms/step - loss: 0.3869 - auc_8: 0.9015\n",
      "Epoch 49/50\n",
      "237/237 [==============================] - 1s 6ms/step - loss: 0.3814 - auc_8: 0.9040\n",
      "Epoch 50/50\n",
      "237/237 [==============================] - 1s 6ms/step - loss: 0.3849 - auc_8: 0.9021\n",
      "263/263 [==============================] - 1s 3ms/step\n"
     ]
    },
    {
     "data": {
      "text/html": [
       "<div>\n",
       "<style scoped>\n",
       "    .dataframe tbody tr th:only-of-type {\n",
       "        vertical-align: middle;\n",
       "    }\n",
       "\n",
       "    .dataframe tbody tr th {\n",
       "        vertical-align: top;\n",
       "    }\n",
       "\n",
       "    .dataframe thead th {\n",
       "        text-align: right;\n",
       "    }\n",
       "</style>\n",
       "<table border=\"1\" class=\"dataframe\">\n",
       "  <thead>\n",
       "    <tr style=\"text-align: right;\">\n",
       "      <th></th>\n",
       "      <th>probability</th>\n",
       "    </tr>\n",
       "    <tr>\n",
       "      <th>client_id</th>\n",
       "      <th></th>\n",
       "    </tr>\n",
       "  </thead>\n",
       "  <tbody>\n",
       "    <tr>\n",
       "      <th>0002cf30347684df542e1a931f356875</th>\n",
       "      <td>0.283507</td>\n",
       "    </tr>\n",
       "    <tr>\n",
       "      <th>0002f4661e0d4d2ae097d78552dad022</th>\n",
       "      <td>0.283507</td>\n",
       "    </tr>\n",
       "    <tr>\n",
       "      <th>00081e0eca8ad94e493691f8f00099c6</th>\n",
       "      <td>0.283507</td>\n",
       "    </tr>\n",
       "    <tr>\n",
       "      <th>0019bebcb5435df3103a5b0b52f5fc6b</th>\n",
       "      <td>0.283507</td>\n",
       "    </tr>\n",
       "    <tr>\n",
       "      <th>001c8191ecac499718b33dc293a99e5b</th>\n",
       "      <td>0.283507</td>\n",
       "    </tr>\n",
       "  </tbody>\n",
       "</table>\n",
       "</div>"
      ],
      "text/plain": [
       "                                  probability\n",
       "client_id                                    \n",
       "0002cf30347684df542e1a931f356875     0.283507\n",
       "0002f4661e0d4d2ae097d78552dad022     0.283507\n",
       "00081e0eca8ad94e493691f8f00099c6     0.283507\n",
       "0019bebcb5435df3103a5b0b52f5fc6b     0.283507\n",
       "001c8191ecac499718b33dc293a99e5b     0.283507"
      ]
     },
     "execution_count": 202,
     "metadata": {},
     "output_type": "execute_result"
    }
   ],
   "source": [
    "model_keras.fit(X, y, epochs=50)\n",
    "\n",
    "y_pred = model_keras.predict(test_df)\n",
    "\n",
    "submission = pd.DataFrame(index=data_test.index)\n",
    "submission['probability'] = y_pred\n",
    "submission.to_csv('submission_kears.csv')\n",
    "submission.head()"
   ]
  },
  {
   "cell_type": "code",
   "execution_count": null,
   "metadata": {},
   "outputs": [],
   "source": []
  },
  {
   "cell_type": "code",
   "execution_count": null,
   "metadata": {},
   "outputs": [],
   "source": []
  }
 ],
 "metadata": {
  "hide_input": false,
  "kernelspec": {
   "display_name": "Python 3 (ipykernel)",
   "language": "python",
   "name": "python3"
  },
  "language_info": {
   "codemirror_mode": {
    "name": "ipython",
    "version": 3
   },
   "file_extension": ".py",
   "mimetype": "text/x-python",
   "name": "python",
   "nbconvert_exporter": "python",
   "pygments_lexer": "ipython3",
   "version": "3.10.12"
  },
  "varInspector": {
   "cols": {
    "lenName": 16,
    "lenType": 16,
    "lenVar": 40
   },
   "kernels_config": {
    "python": {
     "delete_cmd_postfix": "",
     "delete_cmd_prefix": "del ",
     "library": "var_list.py",
     "varRefreshCmd": "print(var_dic_list())"
    },
    "r": {
     "delete_cmd_postfix": ") ",
     "delete_cmd_prefix": "rm(",
     "library": "var_list.r",
     "varRefreshCmd": "cat(var_dic_list()) "
    }
   },
   "types_to_exclude": [
    "module",
    "function",
    "builtin_function_or_method",
    "instance",
    "_Feature"
   ],
   "window_display": false
  }
 },
 "nbformat": 4,
 "nbformat_minor": 4
}
