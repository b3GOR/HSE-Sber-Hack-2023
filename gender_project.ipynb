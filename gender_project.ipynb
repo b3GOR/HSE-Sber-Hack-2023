{
 "cells": [
  {
   "cell_type": "markdown",
   "metadata": {},
   "source": [
    "# <center> Финальное задание </center>\n",
    "## <center> Предсказание пола клиента по транзакциям</center>\n",
    "\n",
    "## Описание задачи \n",
    "#### Ваше задание - предсказать пол клиента, основываясь на его транзакционных исторических данных. Выполнение финального задания - это маленький шаг в большую Data Science-всесенную, поэтому отнеситесь к нему максимально серьёзно :)\n",
    "#### В роли метрики выступает [ROC AUC](https://dyakonov.org/2017/07/28/auc-roc-%D0%BF%D0%BB%D0%BE%D1%89%D0%B0%D0%B4%D1%8C-%D0%BF%D0%BE%D0%B4-%D0%BA%D1%80%D0%B8%D0%B2%D0%BE%D0%B9-%D0%BE%D1%88%D0%B8%D0%B1%D0%BE%D0%BA/), который и нужно будет оптимизировать."
   ]
  },
  {
   "cell_type": "code",
   "execution_count": 1,
   "metadata": {},
   "outputs": [
    {
     "name": "stdout",
     "output_type": "stream",
     "text": [
      "Defaulting to user installation because normal site-packages is not writeable\n",
      "Requirement already satisfied: xgboost in /home/sjava/.local/lib/python3.10/site-packages (2.0.2)\n",
      "Requirement already satisfied: numpy in /home/sjava/.local/lib/python3.10/site-packages (from xgboost) (1.23.3)\n",
      "Requirement already satisfied: scipy in /home/sjava/.local/lib/python3.10/site-packages (from xgboost) (1.11.3)\n"
     ]
    }
   ],
   "source": [
    "!pip install xgboost"
   ]
  },
  {
   "cell_type": "code",
   "execution_count": 2,
   "metadata": {},
   "outputs": [
    {
     "name": "stdout",
     "output_type": "stream",
     "text": [
      "Defaulting to user installation because normal site-packages is not writeable\n",
      "Requirement already satisfied: joblib in /home/sjava/.local/lib/python3.10/site-packages (1.3.2)\n"
     ]
    }
   ],
   "source": [
    "!pip install joblib"
   ]
  },
  {
   "cell_type": "code",
   "execution_count": 7,
   "metadata": {
    "ExecuteTime": {
     "end_time": "2019-03-05T17:34:52.054851Z",
     "start_time": "2019-03-05T17:34:51.515762Z"
    }
   },
   "outputs": [
    {
     "name": "stderr",
     "output_type": "stream",
     "text": [
      "/tmp/ipykernel_476823/1555668456.py:12: TqdmDeprecationWarning: This function will be removed in tqdm==5.0.0\n",
      "Please use `tqdm.notebook.*` instead of `tqdm._tqdm_notebook.*`\n",
      "  from tqdm._tqdm_notebook import tqdm_notebook\n"
     ]
    }
   ],
   "source": [
    "import pandas as pd\n",
    "import numpy as np\n",
    "import xgboost as xgb\n",
    "import re\n",
    "import os\n",
    "import matplotlib.pyplot as plt\n",
    "from sklearn.preprocessing import MinMaxScaler\n",
    "from sklearn.model_selection import train_test_split\n",
    "\n",
    "import joblib\n",
    "\n",
    "from tqdm._tqdm_notebook import tqdm_notebook"
   ]
  },
  {
   "cell_type": "code",
   "execution_count": 8,
   "metadata": {},
   "outputs": [],
   "source": [
    "PATH_DATA = './data'\n",
    "MODEL_PATH = \"model.pkl\""
   ]
  },
  {
   "cell_type": "code",
   "execution_count": 9,
   "metadata": {
    "ExecuteTime": {
     "end_time": "2019-03-05T17:34:58.314241Z",
     "start_time": "2019-03-05T17:34:52.056205Z"
    }
   },
   "outputs": [],
   "source": [
    "# Считываем данные\n",
    "tr_mcc_codes = pd.read_csv(os.path.join(PATH_DATA, 'mcc_codes.csv'), sep=';', index_col='mcc_code')\n",
    "tr_types = pd.read_csv(os.path.join(PATH_DATA, 'trans_types.csv'), sep=';', index_col='trans_type')\n",
    "\n",
    "transactions = pd.read_csv(os.path.join(PATH_DATA, 'transactions.csv'), index_col='client_id')\n",
    "gender_train = pd.read_csv(os.path.join(PATH_DATA, 'train.csv'), index_col='client_id')\n",
    "gender_test = pd.read_csv(os.path.join(PATH_DATA, 'test.csv'), index_col='client_id')\n",
    "transactions_train = transactions.join(gender_train, how='inner')\n",
    "transactions_test = transactions.join(gender_test, how='inner')"
   ]
  },
  {
   "cell_type": "code",
   "execution_count": 10,
   "metadata": {
    "ExecuteTime": {
     "end_time": "2019-03-05T17:34:58.354996Z",
     "start_time": "2019-03-05T17:34:58.315591Z"
    }
   },
   "outputs": [],
   "source": [
    "# Функции, которыми можно пользоваться для построения классификатора, \n",
    "# оценки его результатов и построение прогноза для тестовой части пользователей\n",
    "\n",
    "# Cross-validation score (среднее значение метрики ROC AUC на тренировочных данных)\n",
    "def cv_score(params, train, y_true):\n",
    "    cv_res=xgb.cv(params, xgb.DMatrix(train, y_true),\n",
    "                  early_stopping_rounds=10, maximize=True, \n",
    "                  num_boost_round=10000, nfold=5, stratified=True)\n",
    "    index_argmax = cv_res['test-auc-mean'].argmax()\n",
    "    print('Cross-validation, ROC AUC: {:.3f}+-{:.3f}, Trees: {}'.format(cv_res.loc[index_argmax]['test-auc-mean'],\n",
    "                                                                        cv_res.loc[index_argmax]['test-auc-std'],\n",
    "                                                                        index_argmax))\n",
    "    return cv_res.loc[index_argmax]['test-auc-mean']\n",
    "\n",
    "# Построение модели + возврат результатов классификации тестовых пользователей\n",
    "def fit_predict(params, num_trees, train, test, target):\n",
    "    params['learning_rate'] = params['eta']\n",
    "    clf = xgb.train(params, xgb.DMatrix(train.values, target, feature_names=list(train.columns)), \n",
    "                    num_boost_round=num_trees, maximize=True)\n",
    "    y_pred = clf.predict(xgb.DMatrix(test.values, feature_names=list(train.columns)))\n",
    "    submission = pd.DataFrame(index=test.index, data=y_pred, columns=['probability'])\n",
    "    \n",
    "    joblib.dump(clf, MODEL_PATH)\n",
    "    return clf, submission\n",
    "\n",
    "# Отрисовка важности переменных. Важность переменной - количество разбиений выборки, \n",
    "# в которых участвует данная переменная. Чем больше - тем она, вероятно, лучше \n",
    "def draw_feature_importances(clf, top_k=10):\n",
    "    plt.figure(figsize=(10, 10))\n",
    "    \n",
    "    importances = dict(sorted(clf.get_score().items(), key=lambda x: x[1])[-top_k:])\n",
    "    y_pos = np.arange(len(importances))\n",
    "    \n",
    "    plt.barh(y_pos, list(importances.values()), align='center', color='green')\n",
    "    plt.yticks(y_pos, importances.keys(), fontsize=12)\n",
    "    plt.xticks(fontsize=12)\n",
    "    plt.xlabel('Feature importance', fontsize=15)\n",
    "    plt.title('Features importances, Sberbank Gender Prediction', fontsize=18)\n",
    "    plt.ylim(-0.5, len(importances) - 0.5)\n",
    "    plt.show()"
   ]
  },
  {
   "cell_type": "markdown",
   "metadata": {},
   "source": [
    "Так как код для оценки модели на тренировочных данных и её применения на тестовых данных уже дан, то мы будем работать над тем, чтобы создать переменные для улучшения результатов моделирования. \n",
    "\n",
    "<font color='red'><b>!!!</b></font> В рамках данного задания Вы можете делать всё, что угодно - использовать другие алгоритмы и/или их комбинации, подбирать гиперпараметры своих моделей, отбирать переменые, etc. Мы создали шаблон для простоты и для Вашего понимания верхнеуровневого процесса разработки модели, опустив при этом большое число деталей."
   ]
  },
  {
   "cell_type": "markdown",
   "metadata": {},
   "source": [
    "## Basic features\n",
    "Начнём с того, что сформируем базовые переменные по каждому пользователю. На этом этапе будем использовать стандартные агрегации, посчитанные на расходах и приходах клиента:\n",
    "- минимум\n",
    "- максимум\n",
    "- среднее\n",
    "- медиана\n",
    "- среднеквадратичное отклонение\n",
    "- количество\n",
    "\n",
    "Также параметры модели выберем стандартные, запишем их в словарь params, и будем использовать для дальнейшего построения модели (не забывайте, что с этим Вы можете тоже экспериментировать)."
   ]
  },
  {
   "cell_type": "code",
   "execution_count": 22,
   "metadata": {
    "ExecuteTime": {
     "end_time": "2019-03-05T17:34:58.362104Z",
     "start_time": "2019-03-05T17:34:58.356308Z"
    }
   },
   "outputs": [],
   "source": [
    "params = {\n",
    "    'eta': 0.1,\n",
    "    'max_depth': 3, \n",
    "    'subsample': 0.8,\n",
    "    'colsample_bytree': 0.8,\n",
    "    \n",
    "    'gamma': 0,\n",
    "    'lambda': 0,\n",
    "    'alpha': 0,\n",
    "    'min_child_weight': 0,\n",
    "    \n",
    "    'eval_metric': 'auc',\n",
    "    'objective': 'binary:logistic' ,\n",
    "    'booster': 'gbtree',\n",
    "    'njobs': -1,\n",
    "    'tree_method': 'approx'\n",
    "}"
   ]
  },
  {
   "cell_type": "markdown",
   "metadata": {},
   "source": [
    "Добавлен параметр агрегации \"sum\". Метрика улучшена с 0.62 до 0.63"
   ]
  },
  {
   "cell_type": "code",
   "execution_count": 61,
   "metadata": {
    "ExecuteTime": {
     "end_time": "2019-03-05T17:35:41.272300Z",
     "start_time": "2019-03-05T17:34:58.363622Z"
    }
   },
   "outputs": [
    {
     "data": {
      "application/vnd.jupyter.widget-view+json": {
       "model_id": "f044aedf25d04b1d9056195305660013",
       "version_major": 2,
       "version_minor": 0
      },
      "text/plain": [
       "Progress:   0%|          | 0/7560 [00:00<?, ?it/s]"
      ]
     },
     "metadata": {},
     "output_type": "display_data"
    },
    {
     "data": {
      "application/vnd.jupyter.widget-view+json": {
       "model_id": "ffd10029973a469db879eee6304cf409",
       "version_major": 2,
       "version_minor": 0
      },
      "text/plain": [
       "Progress:   0%|          | 0/840 [00:00<?, ?it/s]"
      ]
     },
     "metadata": {},
     "output_type": "display_data"
    }
   ],
   "source": [
    "tqdm_notebook.pandas(desc=\"Progress\")\n",
    "\n",
    "def features_creation_basic(x): \n",
    "    features = []\n",
    "    features.append(pd.Series(x[x['amount']>0]['amount'].agg(['min', 'max', 'mean', 'median', 'std', 'count', 'var', 'sum'])\\\n",
    "                                                        .add_prefix('positive_transactions_')))\n",
    "    features.append(pd.Series(x[x['amount']<0]['amount'].agg(['min', 'max', 'mean', 'median', 'std', 'count', 'var', 'sum'])\\\n",
    "                                                        .add_prefix('negative_transactions_')))\n",
    " \n",
    "    return pd.concat(features)\n",
    "\n",
    "data_train = transactions_train.groupby(transactions_train.index).progress_apply(features_creation_basic)\n",
    "data_test = transactions_test.groupby(transactions_test.index).progress_apply(features_creation_basic)"
   ]
  },
  {
   "cell_type": "code",
   "execution_count": 120,
   "metadata": {},
   "outputs": [
    {
     "data": {
      "text/html": [
       "<div>\n",
       "<style scoped>\n",
       "    .dataframe tbody tr th:only-of-type {\n",
       "        vertical-align: middle;\n",
       "    }\n",
       "\n",
       "    .dataframe tbody tr th {\n",
       "        vertical-align: top;\n",
       "    }\n",
       "\n",
       "    .dataframe thead th {\n",
       "        text-align: right;\n",
       "    }\n",
       "</style>\n",
       "<table border=\"1\" class=\"dataframe\">\n",
       "  <thead>\n",
       "    <tr style=\"text-align: right;\">\n",
       "      <th>amount</th>\n",
       "      <th>positive_transactions_min</th>\n",
       "      <th>positive_transactions_max</th>\n",
       "      <th>positive_transactions_mean</th>\n",
       "      <th>positive_transactions_median</th>\n",
       "      <th>positive_transactions_std</th>\n",
       "      <th>positive_transactions_count</th>\n",
       "      <th>positive_transactions_var</th>\n",
       "      <th>positive_transactions_sum</th>\n",
       "      <th>negative_transactions_min</th>\n",
       "      <th>negative_transactions_max</th>\n",
       "      <th>negative_transactions_mean</th>\n",
       "      <th>negative_transactions_median</th>\n",
       "      <th>negative_transactions_std</th>\n",
       "      <th>negative_transactions_count</th>\n",
       "      <th>negative_transactions_var</th>\n",
       "      <th>negative_transactions_sum</th>\n",
       "    </tr>\n",
       "    <tr>\n",
       "      <th>client_id</th>\n",
       "      <th></th>\n",
       "      <th></th>\n",
       "      <th></th>\n",
       "      <th></th>\n",
       "      <th></th>\n",
       "      <th></th>\n",
       "      <th></th>\n",
       "      <th></th>\n",
       "      <th></th>\n",
       "      <th></th>\n",
       "      <th></th>\n",
       "      <th></th>\n",
       "      <th></th>\n",
       "      <th></th>\n",
       "      <th></th>\n",
       "      <th></th>\n",
       "    </tr>\n",
       "  </thead>\n",
       "  <tbody>\n",
       "    <tr>\n",
       "      <th>0002cf30347684df542e1a931f356875</th>\n",
       "      <td>722.09</td>\n",
       "      <td>42665.12</td>\n",
       "      <td>18450.900313</td>\n",
       "      <td>16450.65</td>\n",
       "      <td>14360.498086</td>\n",
       "      <td>32.0</td>\n",
       "      <td>2.062239e+08</td>\n",
       "      <td>590428.81</td>\n",
       "      <td>-39772.06</td>\n",
       "      <td>-6.13</td>\n",
       "      <td>-1881.786653</td>\n",
       "      <td>-269.295</td>\n",
       "      <td>4111.309461</td>\n",
       "      <td>472.0</td>\n",
       "      <td>1.690287e+07</td>\n",
       "      <td>-888203.30</td>\n",
       "    </tr>\n",
       "    <tr>\n",
       "      <th>0002f4661e0d4d2ae097d78552dad022</th>\n",
       "      <td>312.99</td>\n",
       "      <td>15909.56</td>\n",
       "      <td>2364.986667</td>\n",
       "      <td>723.37</td>\n",
       "      <td>5083.124389</td>\n",
       "      <td>9.0</td>\n",
       "      <td>2.583815e+07</td>\n",
       "      <td>21284.88</td>\n",
       "      <td>-9400.52</td>\n",
       "      <td>-6.58</td>\n",
       "      <td>-289.255194</td>\n",
       "      <td>-123.305</td>\n",
       "      <td>693.683636</td>\n",
       "      <td>258.0</td>\n",
       "      <td>4.811970e+05</td>\n",
       "      <td>-74627.84</td>\n",
       "    </tr>\n",
       "    <tr>\n",
       "      <th>00081e0eca8ad94e493691f8f00099c6</th>\n",
       "      <td>360.75</td>\n",
       "      <td>5423.80</td>\n",
       "      <td>1981.352400</td>\n",
       "      <td>1373.80</td>\n",
       "      <td>1704.496840</td>\n",
       "      <td>25.0</td>\n",
       "      <td>2.905309e+06</td>\n",
       "      <td>49533.81</td>\n",
       "      <td>-5424.42</td>\n",
       "      <td>-1.89</td>\n",
       "      <td>-379.101205</td>\n",
       "      <td>-144.935</td>\n",
       "      <td>701.946022</td>\n",
       "      <td>166.0</td>\n",
       "      <td>4.927282e+05</td>\n",
       "      <td>-62930.80</td>\n",
       "    </tr>\n",
       "    <tr>\n",
       "      <th>0019bebcb5435df3103a5b0b52f5fc6b</th>\n",
       "      <td>14.93</td>\n",
       "      <td>20247.50</td>\n",
       "      <td>1032.745050</td>\n",
       "      <td>722.43</td>\n",
       "      <td>1743.349204</td>\n",
       "      <td>301.0</td>\n",
       "      <td>3.039266e+06</td>\n",
       "      <td>310856.26</td>\n",
       "      <td>-36518.54</td>\n",
       "      <td>-0.32</td>\n",
       "      <td>-743.432256</td>\n",
       "      <td>-361.160</td>\n",
       "      <td>2027.349534</td>\n",
       "      <td>665.0</td>\n",
       "      <td>4.110146e+06</td>\n",
       "      <td>-494382.45</td>\n",
       "    </tr>\n",
       "    <tr>\n",
       "      <th>001c8191ecac499718b33dc293a99e5b</th>\n",
       "      <td>145.62</td>\n",
       "      <td>3616.52</td>\n",
       "      <td>1250.236923</td>\n",
       "      <td>723.71</td>\n",
       "      <td>950.703133</td>\n",
       "      <td>39.0</td>\n",
       "      <td>9.038364e+05</td>\n",
       "      <td>48759.24</td>\n",
       "      <td>-15907.79</td>\n",
       "      <td>-11.56</td>\n",
       "      <td>-1394.087964</td>\n",
       "      <td>-178.110</td>\n",
       "      <td>2918.020385</td>\n",
       "      <td>167.0</td>\n",
       "      <td>8.514843e+06</td>\n",
       "      <td>-232812.69</td>\n",
       "    </tr>\n",
       "  </tbody>\n",
       "</table>\n",
       "</div>"
      ],
      "text/plain": [
       "amount                            positive_transactions_min   \n",
       "client_id                                                     \n",
       "0002cf30347684df542e1a931f356875                     722.09  \\\n",
       "0002f4661e0d4d2ae097d78552dad022                     312.99   \n",
       "00081e0eca8ad94e493691f8f00099c6                     360.75   \n",
       "0019bebcb5435df3103a5b0b52f5fc6b                      14.93   \n",
       "001c8191ecac499718b33dc293a99e5b                     145.62   \n",
       "\n",
       "amount                            positive_transactions_max   \n",
       "client_id                                                     \n",
       "0002cf30347684df542e1a931f356875                   42665.12  \\\n",
       "0002f4661e0d4d2ae097d78552dad022                   15909.56   \n",
       "00081e0eca8ad94e493691f8f00099c6                    5423.80   \n",
       "0019bebcb5435df3103a5b0b52f5fc6b                   20247.50   \n",
       "001c8191ecac499718b33dc293a99e5b                    3616.52   \n",
       "\n",
       "amount                            positive_transactions_mean   \n",
       "client_id                                                      \n",
       "0002cf30347684df542e1a931f356875                18450.900313  \\\n",
       "0002f4661e0d4d2ae097d78552dad022                 2364.986667   \n",
       "00081e0eca8ad94e493691f8f00099c6                 1981.352400   \n",
       "0019bebcb5435df3103a5b0b52f5fc6b                 1032.745050   \n",
       "001c8191ecac499718b33dc293a99e5b                 1250.236923   \n",
       "\n",
       "amount                            positive_transactions_median   \n",
       "client_id                                                        \n",
       "0002cf30347684df542e1a931f356875                      16450.65  \\\n",
       "0002f4661e0d4d2ae097d78552dad022                        723.37   \n",
       "00081e0eca8ad94e493691f8f00099c6                       1373.80   \n",
       "0019bebcb5435df3103a5b0b52f5fc6b                        722.43   \n",
       "001c8191ecac499718b33dc293a99e5b                        723.71   \n",
       "\n",
       "amount                            positive_transactions_std   \n",
       "client_id                                                     \n",
       "0002cf30347684df542e1a931f356875               14360.498086  \\\n",
       "0002f4661e0d4d2ae097d78552dad022                5083.124389   \n",
       "00081e0eca8ad94e493691f8f00099c6                1704.496840   \n",
       "0019bebcb5435df3103a5b0b52f5fc6b                1743.349204   \n",
       "001c8191ecac499718b33dc293a99e5b                 950.703133   \n",
       "\n",
       "amount                            positive_transactions_count   \n",
       "client_id                                                       \n",
       "0002cf30347684df542e1a931f356875                         32.0  \\\n",
       "0002f4661e0d4d2ae097d78552dad022                          9.0   \n",
       "00081e0eca8ad94e493691f8f00099c6                         25.0   \n",
       "0019bebcb5435df3103a5b0b52f5fc6b                        301.0   \n",
       "001c8191ecac499718b33dc293a99e5b                         39.0   \n",
       "\n",
       "amount                            positive_transactions_var   \n",
       "client_id                                                     \n",
       "0002cf30347684df542e1a931f356875               2.062239e+08  \\\n",
       "0002f4661e0d4d2ae097d78552dad022               2.583815e+07   \n",
       "00081e0eca8ad94e493691f8f00099c6               2.905309e+06   \n",
       "0019bebcb5435df3103a5b0b52f5fc6b               3.039266e+06   \n",
       "001c8191ecac499718b33dc293a99e5b               9.038364e+05   \n",
       "\n",
       "amount                            positive_transactions_sum   \n",
       "client_id                                                     \n",
       "0002cf30347684df542e1a931f356875                  590428.81  \\\n",
       "0002f4661e0d4d2ae097d78552dad022                   21284.88   \n",
       "00081e0eca8ad94e493691f8f00099c6                   49533.81   \n",
       "0019bebcb5435df3103a5b0b52f5fc6b                  310856.26   \n",
       "001c8191ecac499718b33dc293a99e5b                   48759.24   \n",
       "\n",
       "amount                            negative_transactions_min   \n",
       "client_id                                                     \n",
       "0002cf30347684df542e1a931f356875                  -39772.06  \\\n",
       "0002f4661e0d4d2ae097d78552dad022                   -9400.52   \n",
       "00081e0eca8ad94e493691f8f00099c6                   -5424.42   \n",
       "0019bebcb5435df3103a5b0b52f5fc6b                  -36518.54   \n",
       "001c8191ecac499718b33dc293a99e5b                  -15907.79   \n",
       "\n",
       "amount                            negative_transactions_max   \n",
       "client_id                                                     \n",
       "0002cf30347684df542e1a931f356875                      -6.13  \\\n",
       "0002f4661e0d4d2ae097d78552dad022                      -6.58   \n",
       "00081e0eca8ad94e493691f8f00099c6                      -1.89   \n",
       "0019bebcb5435df3103a5b0b52f5fc6b                      -0.32   \n",
       "001c8191ecac499718b33dc293a99e5b                     -11.56   \n",
       "\n",
       "amount                            negative_transactions_mean   \n",
       "client_id                                                      \n",
       "0002cf30347684df542e1a931f356875                -1881.786653  \\\n",
       "0002f4661e0d4d2ae097d78552dad022                 -289.255194   \n",
       "00081e0eca8ad94e493691f8f00099c6                 -379.101205   \n",
       "0019bebcb5435df3103a5b0b52f5fc6b                 -743.432256   \n",
       "001c8191ecac499718b33dc293a99e5b                -1394.087964   \n",
       "\n",
       "amount                            negative_transactions_median   \n",
       "client_id                                                        \n",
       "0002cf30347684df542e1a931f356875                      -269.295  \\\n",
       "0002f4661e0d4d2ae097d78552dad022                      -123.305   \n",
       "00081e0eca8ad94e493691f8f00099c6                      -144.935   \n",
       "0019bebcb5435df3103a5b0b52f5fc6b                      -361.160   \n",
       "001c8191ecac499718b33dc293a99e5b                      -178.110   \n",
       "\n",
       "amount                            negative_transactions_std   \n",
       "client_id                                                     \n",
       "0002cf30347684df542e1a931f356875                4111.309461  \\\n",
       "0002f4661e0d4d2ae097d78552dad022                 693.683636   \n",
       "00081e0eca8ad94e493691f8f00099c6                 701.946022   \n",
       "0019bebcb5435df3103a5b0b52f5fc6b                2027.349534   \n",
       "001c8191ecac499718b33dc293a99e5b                2918.020385   \n",
       "\n",
       "amount                            negative_transactions_count   \n",
       "client_id                                                       \n",
       "0002cf30347684df542e1a931f356875                        472.0  \\\n",
       "0002f4661e0d4d2ae097d78552dad022                        258.0   \n",
       "00081e0eca8ad94e493691f8f00099c6                        166.0   \n",
       "0019bebcb5435df3103a5b0b52f5fc6b                        665.0   \n",
       "001c8191ecac499718b33dc293a99e5b                        167.0   \n",
       "\n",
       "amount                            negative_transactions_var   \n",
       "client_id                                                     \n",
       "0002cf30347684df542e1a931f356875               1.690287e+07  \\\n",
       "0002f4661e0d4d2ae097d78552dad022               4.811970e+05   \n",
       "00081e0eca8ad94e493691f8f00099c6               4.927282e+05   \n",
       "0019bebcb5435df3103a5b0b52f5fc6b               4.110146e+06   \n",
       "001c8191ecac499718b33dc293a99e5b               8.514843e+06   \n",
       "\n",
       "amount                            negative_transactions_sum  \n",
       "client_id                                                    \n",
       "0002cf30347684df542e1a931f356875                 -888203.30  \n",
       "0002f4661e0d4d2ae097d78552dad022                  -74627.84  \n",
       "00081e0eca8ad94e493691f8f00099c6                  -62930.80  \n",
       "0019bebcb5435df3103a5b0b52f5fc6b                 -494382.45  \n",
       "001c8191ecac499718b33dc293a99e5b                 -232812.69  "
      ]
     },
     "execution_count": 120,
     "metadata": {},
     "output_type": "execute_result"
    }
   ],
   "source": [
    "data_train.head()"
   ]
  },
  {
   "cell_type": "code",
   "execution_count": 121,
   "metadata": {
    "ExecuteTime": {
     "end_time": "2019-03-05T17:35:45.011046Z",
     "start_time": "2019-03-05T17:35:41.273326Z"
    }
   },
   "outputs": [
    {
     "name": "stderr",
     "output_type": "stream",
     "text": [
      "/home/sjava/.local/lib/python3.10/site-packages/xgboost/core.py:160: UserWarning: [14:18:40] WARNING: /workspace/src/learner.cc:742: \n",
      "Parameters: { \"njobs\" } are not used.\n",
      "\n",
      "  warnings.warn(smsg, UserWarning)\n"
     ]
    },
    {
     "name": "stdout",
     "output_type": "stream",
     "text": [
      "Cross-validation, ROC AUC: 0.632+-0.011, Trees: 24\n"
     ]
    }
   ],
   "source": [
    "target = data_train.join(gender_train, how='inner')['gender']\n",
    "cv_score(params, data_train, target)"
   ]
  },
  {
   "cell_type": "code",
   "execution_count": 125,
   "metadata": {
    "ExecuteTime": {
     "end_time": "2019-03-05T17:35:45.714620Z",
     "start_time": "2019-03-05T17:35:45.018570Z"
    }
   },
   "outputs": [
    {
     "name": "stderr",
     "output_type": "stream",
     "text": [
      "/home/sjava/.local/lib/python3.10/site-packages/xgboost/core.py:160: UserWarning: [14:18:52] WARNING: /workspace/src/learner.cc:742: \n",
      "Parameters: { \"njobs\" } are not used.\n",
      "\n",
      "  warnings.warn(smsg, UserWarning)\n"
     ]
    }
   ],
   "source": [
    "# Число деревьев для XGBoost имеет смысл выставлять по результатам на кросс-валидации \n",
    "clf, submission = fit_predict(params, 70, data_train, data_test, target)"
   ]
  },
  {
   "cell_type": "code",
   "execution_count": 126,
   "metadata": {
    "ExecuteTime": {
     "end_time": "2019-03-05T17:35:45.897370Z",
     "start_time": "2019-03-05T17:35:45.719320Z"
    }
   },
   "outputs": [
    {
     "data": {
      "image/png": "[encoded data removed]",
      "text/plain": [
       "<Figure size 720x720 with 1 Axes>"
      ]
     },
     "metadata": {
      "needs_background": "light"
     },
     "output_type": "display_data"
    }
   ],
   "source": [
    "draw_feature_importances(clf, 10)"
   ]
  },
  {
   "cell_type": "code",
   "execution_count": 127,
   "metadata": {
    "tags": []
   },
   "outputs": [],
   "source": [
    "# Сохраняем результат моделирования\n",
    "\n",
    "submission.to_csv('basic_features_submission.csv')"
   ]
  },
  {
   "cell_type": "markdown",
   "metadata": {},
   "source": [
    "<font size=3>Видим, что результат на кросс-валидации = <font color='red'><b>62.2%</b></font> ROC AUC."
   ]
  },
  {
   "cell_type": "markdown",
   "metadata": {},
   "source": [
    "## Advanced features\n",
    "Добавим дополнительные переменные по каждому пользователю в модель. <br>\n",
    "Для этого будем анализировать дни недели, часы и состояние дня/ночи во время покупки - в каждом из случаев будем считать частоту транзакций в соответствующей категории относитеьно всех остальных категорий. <br>\n",
    "То есть если, например, клиент в 70% случае совершал ночные траты, то мы получим вектор [0.7, 0.3] для этого случая в качестве частот транзакций ночью/днём."
   ]
  },
  {
   "cell_type": "code",
   "execution_count": 43,
   "metadata": {},
   "outputs": [],
   "source": [
    "# Считываем данные\n",
    "tr_mcc_codes = pd.read_csv(os.path.join(PATH_DATA, 'mcc_codes.csv'), sep=';', index_col='mcc_code')\n",
    "tr_types = pd.read_csv(os.path.join(PATH_DATA, 'trans_types.csv'), sep=';', index_col='trans_type')\n",
    "\n",
    "transactions = pd.read_csv(os.path.join(PATH_DATA, 'transactions.csv'), index_col='client_id')\n",
    "gender_train = pd.read_csv(os.path.join(PATH_DATA, 'train.csv'), index_col='client_id')\n",
    "gender_test = pd.read_csv(os.path.join(PATH_DATA, 'test.csv'), index_col='client_id')\n",
    "transactions_train = transactions.join(gender_train, how='inner')\n",
    "transactions_test = transactions.join(gender_test, how='inner')"
   ]
  },
  {
   "cell_type": "code",
   "execution_count": 44,
   "metadata": {
    "ExecuteTime": {
     "end_time": "2019-03-05T17:35:57.677748Z",
     "start_time": "2019-03-05T17:35:45.921444Z"
    },
    "tags": []
   },
   "outputs": [],
   "source": [
    "# trasnsactions features\n",
    "\n",
    "def calc_time_of_day(x):\n",
    "    if (x >= 6) and (x < 12):\n",
    "        return 'morning'\n",
    "    elif (x >= 12) and (x < 18):\n",
    "        return 'daytime'\n",
    "    elif (x >= 18) and (x <= 23):\n",
    "        return 'evening'\n",
    "    else:\n",
    "        return 'night'\n",
    "\n",
    "\n",
    "def calc_day_type(day):\n",
    "    if day == 4:\n",
    "        return 'friday'\n",
    "    elif (day == 5 or day == 6):\n",
    "        return 'weekend'\n",
    "    return 'weekday'\n",
    "\n",
    "for df in [transactions_train, transactions_test]:\n",
    "    df['day'] = df['trans_time'].str.split().apply(lambda x: int(x[0]) % 7)\n",
    "    df['hour'] = df['trans_time'].apply(lambda x: re.search(' \\d*', x).group(0)).astype(int)\n",
    "    df['night'] = ~df['hour'].between(6, 22).astype(int)\n",
    "    #features from datetime\n",
    "    df['ordered_day'] = df.apply(lambda row: int(row['trans_time'].split(' ')[0]),axis=1)\n",
    "    df['time'] = df.apply(lambda row: row['trans_time'].split(' ')[1],axis=1)\n",
    "    df['hours'] = df.apply(lambda row: int(row['trans_time'].split(' ')[1].split(':')[0]),axis=1)\n",
    "    df['time_of_day'] = df.apply(lambda row: calc_time_of_day(row['hour']),axis=1)\n",
    "    df['day_type'] = df.apply(lambda row: calc_day_type(row['ordered_day']%7),axis=1)\n",
    "\n",
    "    df['week_num'] =  df['ordered_day'] // 7\n",
    "    df['day_of_week'] =  df['ordered_day'] % 7\n",
    "    df['month'] = df['ordered_day'] // 30 % 12\n",
    "    df['day_of_month'] = df['ordered_day'] // 30 "
   ]
  },
  {
   "cell_type": "code",
   "execution_count": 45,
   "metadata": {},
   "outputs": [
    {
     "data": {
      "text/html": [
       "<div>\n",
       "<style scoped>\n",
       "    .dataframe tbody tr th:only-of-type {\n",
       "        vertical-align: middle;\n",
       "    }\n",
       "\n",
       "    .dataframe tbody tr th {\n",
       "        vertical-align: top;\n",
       "    }\n",
       "\n",
       "    .dataframe thead th {\n",
       "        text-align: right;\n",
       "    }\n",
       "</style>\n",
       "<table border=\"1\" class=\"dataframe\">\n",
       "  <thead>\n",
       "    <tr style=\"text-align: right;\">\n",
       "      <th></th>\n",
       "      <th>trans_time</th>\n",
       "      <th>mcc_code</th>\n",
       "      <th>trans_type</th>\n",
       "      <th>amount</th>\n",
       "      <th>term_id</th>\n",
       "      <th>trans_city</th>\n",
       "      <th>Unnamed: 0</th>\n",
       "      <th>gender</th>\n",
       "      <th>day</th>\n",
       "      <th>hour</th>\n",
       "      <th>night</th>\n",
       "      <th>ordered_day</th>\n",
       "      <th>time</th>\n",
       "      <th>hours</th>\n",
       "      <th>time_of_day</th>\n",
       "      <th>day_type</th>\n",
       "      <th>week_num</th>\n",
       "      <th>day_of_week</th>\n",
       "      <th>month</th>\n",
       "      <th>day_of_month</th>\n",
       "    </tr>\n",
       "    <tr>\n",
       "      <th>client_id</th>\n",
       "      <th></th>\n",
       "      <th></th>\n",
       "      <th></th>\n",
       "      <th></th>\n",
       "      <th></th>\n",
       "      <th></th>\n",
       "      <th></th>\n",
       "      <th></th>\n",
       "      <th></th>\n",
       "      <th></th>\n",
       "      <th></th>\n",
       "      <th></th>\n",
       "      <th></th>\n",
       "      <th></th>\n",
       "      <th></th>\n",
       "      <th></th>\n",
       "      <th></th>\n",
       "      <th></th>\n",
       "      <th></th>\n",
       "      <th></th>\n",
       "    </tr>\n",
       "  </thead>\n",
       "  <tbody>\n",
       "    <tr>\n",
       "      <th>0002cf30347684df542e1a931f356875</th>\n",
       "      <td>313 14:52:03</td>\n",
       "      <td>4829</td>\n",
       "      <td>2370</td>\n",
       "      <td>-2170.07</td>\n",
       "      <td>888990</td>\n",
       "      <td>Saint Petersburg</td>\n",
       "      <td>6806</td>\n",
       "      <td>0</td>\n",
       "      <td>5</td>\n",
       "      <td>14</td>\n",
       "      <td>-2</td>\n",
       "      <td>313</td>\n",
       "      <td>14:52:03</td>\n",
       "      <td>14</td>\n",
       "      <td>daytime</td>\n",
       "      <td>weekend</td>\n",
       "      <td>44</td>\n",
       "      <td>5</td>\n",
       "      <td>10</td>\n",
       "      <td>10</td>\n",
       "    </tr>\n",
       "    <tr>\n",
       "      <th>0002cf30347684df542e1a931f356875</th>\n",
       "      <td>150 14:10:49</td>\n",
       "      <td>6011</td>\n",
       "      <td>2010</td>\n",
       "      <td>-1445.64</td>\n",
       "      <td>NaN</td>\n",
       "      <td>Saint Petersburg</td>\n",
       "      <td>6806</td>\n",
       "      <td>0</td>\n",
       "      <td>3</td>\n",
       "      <td>14</td>\n",
       "      <td>-2</td>\n",
       "      <td>150</td>\n",
       "      <td>14:10:49</td>\n",
       "      <td>14</td>\n",
       "      <td>daytime</td>\n",
       "      <td>weekday</td>\n",
       "      <td>21</td>\n",
       "      <td>3</td>\n",
       "      <td>5</td>\n",
       "      <td>5</td>\n",
       "    </tr>\n",
       "    <tr>\n",
       "      <th>0002cf30347684df542e1a931f356875</th>\n",
       "      <td>122 12:38:32</td>\n",
       "      <td>5912</td>\n",
       "      <td>1010</td>\n",
       "      <td>-107.07</td>\n",
       "      <td>NaN</td>\n",
       "      <td>Saint Petersburg</td>\n",
       "      <td>6806</td>\n",
       "      <td>0</td>\n",
       "      <td>3</td>\n",
       "      <td>12</td>\n",
       "      <td>-2</td>\n",
       "      <td>122</td>\n",
       "      <td>12:38:32</td>\n",
       "      <td>12</td>\n",
       "      <td>daytime</td>\n",
       "      <td>weekday</td>\n",
       "      <td>17</td>\n",
       "      <td>3</td>\n",
       "      <td>4</td>\n",
       "      <td>4</td>\n",
       "    </tr>\n",
       "    <tr>\n",
       "      <th>0002cf30347684df542e1a931f356875</th>\n",
       "      <td>159 13:22:34</td>\n",
       "      <td>6011</td>\n",
       "      <td>2010</td>\n",
       "      <td>-2892.86</td>\n",
       "      <td>NaN</td>\n",
       "      <td>Saint Petersburg</td>\n",
       "      <td>6806</td>\n",
       "      <td>0</td>\n",
       "      <td>5</td>\n",
       "      <td>13</td>\n",
       "      <td>-2</td>\n",
       "      <td>159</td>\n",
       "      <td>13:22:34</td>\n",
       "      <td>13</td>\n",
       "      <td>daytime</td>\n",
       "      <td>weekend</td>\n",
       "      <td>22</td>\n",
       "      <td>5</td>\n",
       "      <td>5</td>\n",
       "      <td>5</td>\n",
       "    </tr>\n",
       "    <tr>\n",
       "      <th>0002cf30347684df542e1a931f356875</th>\n",
       "      <td>257 12:06:54</td>\n",
       "      <td>5912</td>\n",
       "      <td>1010</td>\n",
       "      <td>-164.49</td>\n",
       "      <td>469965</td>\n",
       "      <td>Saint Petersburg</td>\n",
       "      <td>6806</td>\n",
       "      <td>0</td>\n",
       "      <td>5</td>\n",
       "      <td>12</td>\n",
       "      <td>-2</td>\n",
       "      <td>257</td>\n",
       "      <td>12:06:54</td>\n",
       "      <td>12</td>\n",
       "      <td>daytime</td>\n",
       "      <td>weekend</td>\n",
       "      <td>36</td>\n",
       "      <td>5</td>\n",
       "      <td>8</td>\n",
       "      <td>8</td>\n",
       "    </tr>\n",
       "  </tbody>\n",
       "</table>\n",
       "</div>"
      ],
      "text/plain": [
       "                                    trans_time  mcc_code  trans_type   amount   \n",
       "client_id                                                                       \n",
       "0002cf30347684df542e1a931f356875  313 14:52:03      4829        2370 -2170.07  \\\n",
       "0002cf30347684df542e1a931f356875  150 14:10:49      6011        2010 -1445.64   \n",
       "0002cf30347684df542e1a931f356875  122 12:38:32      5912        1010  -107.07   \n",
       "0002cf30347684df542e1a931f356875  159 13:22:34      6011        2010 -2892.86   \n",
       "0002cf30347684df542e1a931f356875  257 12:06:54      5912        1010  -164.49   \n",
       "\n",
       "                                 term_id        trans_city  Unnamed: 0   \n",
       "client_id                                                                \n",
       "0002cf30347684df542e1a931f356875  888990  Saint Petersburg        6806  \\\n",
       "0002cf30347684df542e1a931f356875     NaN  Saint Petersburg        6806   \n",
       "0002cf30347684df542e1a931f356875     NaN  Saint Petersburg        6806   \n",
       "0002cf30347684df542e1a931f356875     NaN  Saint Petersburg        6806   \n",
       "0002cf30347684df542e1a931f356875  469965  Saint Petersburg        6806   \n",
       "\n",
       "                                  gender  day  hour  night  ordered_day   \n",
       "client_id                                                                 \n",
       "0002cf30347684df542e1a931f356875       0    5    14     -2          313  \\\n",
       "0002cf30347684df542e1a931f356875       0    3    14     -2          150   \n",
       "0002cf30347684df542e1a931f356875       0    3    12     -2          122   \n",
       "0002cf30347684df542e1a931f356875       0    5    13     -2          159   \n",
       "0002cf30347684df542e1a931f356875       0    5    12     -2          257   \n",
       "\n",
       "                                      time  hours time_of_day day_type   \n",
       "client_id                                                                \n",
       "0002cf30347684df542e1a931f356875  14:52:03     14     daytime  weekend  \\\n",
       "0002cf30347684df542e1a931f356875  14:10:49     14     daytime  weekday   \n",
       "0002cf30347684df542e1a931f356875  12:38:32     12     daytime  weekday   \n",
       "0002cf30347684df542e1a931f356875  13:22:34     13     daytime  weekend   \n",
       "0002cf30347684df542e1a931f356875  12:06:54     12     daytime  weekend   \n",
       "\n",
       "                                  week_num  day_of_week  month  day_of_month  \n",
       "client_id                                                                     \n",
       "0002cf30347684df542e1a931f356875        44            5     10            10  \n",
       "0002cf30347684df542e1a931f356875        21            3      5             5  \n",
       "0002cf30347684df542e1a931f356875        17            3      4             4  \n",
       "0002cf30347684df542e1a931f356875        22            5      5             5  \n",
       "0002cf30347684df542e1a931f356875        36            5      8             8  "
      ]
     },
     "execution_count": 45,
     "metadata": {},
     "output_type": "execute_result"
    }
   ],
   "source": [
    "transactions_train.head()"
   ]
  },
  {
   "cell_type": "code",
   "execution_count": 46,
   "metadata": {},
   "outputs": [
    {
     "data": {
      "text/html": [
       "<div>\n",
       "<style scoped>\n",
       "    .dataframe tbody tr th:only-of-type {\n",
       "        vertical-align: middle;\n",
       "    }\n",
       "\n",
       "    .dataframe tbody tr th {\n",
       "        vertical-align: top;\n",
       "    }\n",
       "\n",
       "    .dataframe thead th {\n",
       "        text-align: right;\n",
       "    }\n",
       "</style>\n",
       "<table border=\"1\" class=\"dataframe\">\n",
       "  <thead>\n",
       "    <tr style=\"text-align: right;\">\n",
       "      <th></th>\n",
       "      <th>trans_time</th>\n",
       "      <th>mcc_code</th>\n",
       "      <th>trans_type</th>\n",
       "      <th>amount</th>\n",
       "      <th>term_id</th>\n",
       "      <th>trans_city</th>\n",
       "      <th>Unnamed: 0</th>\n",
       "      <th>day</th>\n",
       "      <th>hour</th>\n",
       "      <th>night</th>\n",
       "      <th>ordered_day</th>\n",
       "      <th>time</th>\n",
       "      <th>hours</th>\n",
       "      <th>time_of_day</th>\n",
       "      <th>day_type</th>\n",
       "      <th>week_num</th>\n",
       "      <th>day_of_week</th>\n",
       "      <th>month</th>\n",
       "      <th>day_of_month</th>\n",
       "    </tr>\n",
       "    <tr>\n",
       "      <th>client_id</th>\n",
       "      <th></th>\n",
       "      <th></th>\n",
       "      <th></th>\n",
       "      <th></th>\n",
       "      <th></th>\n",
       "      <th></th>\n",
       "      <th></th>\n",
       "      <th></th>\n",
       "      <th></th>\n",
       "      <th></th>\n",
       "      <th></th>\n",
       "      <th></th>\n",
       "      <th></th>\n",
       "      <th></th>\n",
       "      <th></th>\n",
       "      <th></th>\n",
       "      <th></th>\n",
       "      <th></th>\n",
       "      <th></th>\n",
       "    </tr>\n",
       "  </thead>\n",
       "  <tbody>\n",
       "    <tr>\n",
       "      <th>002218c52073faaf23bb26df2cffb138</th>\n",
       "      <td>54 10:35:16</td>\n",
       "      <td>6011</td>\n",
       "      <td>2010</td>\n",
       "      <td>-360.78</td>\n",
       "      <td>NaN</td>\n",
       "      <td>Saint Petersburg</td>\n",
       "      <td>0</td>\n",
       "      <td>5</td>\n",
       "      <td>10</td>\n",
       "      <td>-2</td>\n",
       "      <td>54</td>\n",
       "      <td>10:35:16</td>\n",
       "      <td>10</td>\n",
       "      <td>morning</td>\n",
       "      <td>weekend</td>\n",
       "      <td>7</td>\n",
       "      <td>5</td>\n",
       "      <td>1</td>\n",
       "      <td>1</td>\n",
       "    </tr>\n",
       "    <tr>\n",
       "      <th>002218c52073faaf23bb26df2cffb138</th>\n",
       "      <td>52 11:00:46</td>\n",
       "      <td>6011</td>\n",
       "      <td>2010</td>\n",
       "      <td>-1446.74</td>\n",
       "      <td>NaN</td>\n",
       "      <td>Saint Petersburg</td>\n",
       "      <td>0</td>\n",
       "      <td>3</td>\n",
       "      <td>11</td>\n",
       "      <td>-2</td>\n",
       "      <td>52</td>\n",
       "      <td>11:00:46</td>\n",
       "      <td>11</td>\n",
       "      <td>morning</td>\n",
       "      <td>weekday</td>\n",
       "      <td>7</td>\n",
       "      <td>3</td>\n",
       "      <td>1</td>\n",
       "      <td>1</td>\n",
       "    </tr>\n",
       "    <tr>\n",
       "      <th>002218c52073faaf23bb26df2cffb138</th>\n",
       "      <td>52 17:14:19</td>\n",
       "      <td>5541</td>\n",
       "      <td>1110</td>\n",
       "      <td>-672.38</td>\n",
       "      <td>NaN</td>\n",
       "      <td>Saint Petersburg</td>\n",
       "      <td>0</td>\n",
       "      <td>3</td>\n",
       "      <td>17</td>\n",
       "      <td>-2</td>\n",
       "      <td>52</td>\n",
       "      <td>17:14:19</td>\n",
       "      <td>17</td>\n",
       "      <td>daytime</td>\n",
       "      <td>weekday</td>\n",
       "      <td>7</td>\n",
       "      <td>3</td>\n",
       "      <td>1</td>\n",
       "      <td>1</td>\n",
       "    </tr>\n",
       "    <tr>\n",
       "      <th>002218c52073faaf23bb26df2cffb138</th>\n",
       "      <td>353 16:33:39</td>\n",
       "      <td>5499</td>\n",
       "      <td>1010</td>\n",
       "      <td>-324.94</td>\n",
       "      <td>804245</td>\n",
       "      <td>Saint Petersburg</td>\n",
       "      <td>0</td>\n",
       "      <td>3</td>\n",
       "      <td>16</td>\n",
       "      <td>-2</td>\n",
       "      <td>353</td>\n",
       "      <td>16:33:39</td>\n",
       "      <td>16</td>\n",
       "      <td>daytime</td>\n",
       "      <td>weekday</td>\n",
       "      <td>50</td>\n",
       "      <td>3</td>\n",
       "      <td>11</td>\n",
       "      <td>11</td>\n",
       "    </tr>\n",
       "    <tr>\n",
       "      <th>002218c52073faaf23bb26df2cffb138</th>\n",
       "      <td>244 08:48:14</td>\n",
       "      <td>5812</td>\n",
       "      <td>1010</td>\n",
       "      <td>-173.87</td>\n",
       "      <td>464318</td>\n",
       "      <td>Saint Petersburg</td>\n",
       "      <td>0</td>\n",
       "      <td>6</td>\n",
       "      <td>8</td>\n",
       "      <td>-2</td>\n",
       "      <td>244</td>\n",
       "      <td>08:48:14</td>\n",
       "      <td>8</td>\n",
       "      <td>morning</td>\n",
       "      <td>weekend</td>\n",
       "      <td>34</td>\n",
       "      <td>6</td>\n",
       "      <td>8</td>\n",
       "      <td>8</td>\n",
       "    </tr>\n",
       "  </tbody>\n",
       "</table>\n",
       "</div>"
      ],
      "text/plain": [
       "                                    trans_time  mcc_code  trans_type   amount   \n",
       "client_id                                                                       \n",
       "002218c52073faaf23bb26df2cffb138   54 10:35:16      6011        2010  -360.78  \\\n",
       "002218c52073faaf23bb26df2cffb138   52 11:00:46      6011        2010 -1446.74   \n",
       "002218c52073faaf23bb26df2cffb138   52 17:14:19      5541        1110  -672.38   \n",
       "002218c52073faaf23bb26df2cffb138  353 16:33:39      5499        1010  -324.94   \n",
       "002218c52073faaf23bb26df2cffb138  244 08:48:14      5812        1010  -173.87   \n",
       "\n",
       "                                 term_id        trans_city  Unnamed: 0  day   \n",
       "client_id                                                                     \n",
       "002218c52073faaf23bb26df2cffb138     NaN  Saint Petersburg           0    5  \\\n",
       "002218c52073faaf23bb26df2cffb138     NaN  Saint Petersburg           0    3   \n",
       "002218c52073faaf23bb26df2cffb138     NaN  Saint Petersburg           0    3   \n",
       "002218c52073faaf23bb26df2cffb138  804245  Saint Petersburg           0    3   \n",
       "002218c52073faaf23bb26df2cffb138  464318  Saint Petersburg           0    6   \n",
       "\n",
       "                                  hour  night  ordered_day      time  hours   \n",
       "client_id                                                                     \n",
       "002218c52073faaf23bb26df2cffb138    10     -2           54  10:35:16     10  \\\n",
       "002218c52073faaf23bb26df2cffb138    11     -2           52  11:00:46     11   \n",
       "002218c52073faaf23bb26df2cffb138    17     -2           52  17:14:19     17   \n",
       "002218c52073faaf23bb26df2cffb138    16     -2          353  16:33:39     16   \n",
       "002218c52073faaf23bb26df2cffb138     8     -2          244  08:48:14      8   \n",
       "\n",
       "                                 time_of_day day_type  week_num  day_of_week   \n",
       "client_id                                                                      \n",
       "002218c52073faaf23bb26df2cffb138     morning  weekend         7            5  \\\n",
       "002218c52073faaf23bb26df2cffb138     morning  weekday         7            3   \n",
       "002218c52073faaf23bb26df2cffb138     daytime  weekday         7            3   \n",
       "002218c52073faaf23bb26df2cffb138     daytime  weekday        50            3   \n",
       "002218c52073faaf23bb26df2cffb138     morning  weekend        34            6   \n",
       "\n",
       "                                  month  day_of_month  \n",
       "client_id                                              \n",
       "002218c52073faaf23bb26df2cffb138      1             1  \n",
       "002218c52073faaf23bb26df2cffb138      1             1  \n",
       "002218c52073faaf23bb26df2cffb138      1             1  \n",
       "002218c52073faaf23bb26df2cffb138     11            11  \n",
       "002218c52073faaf23bb26df2cffb138      8             8  "
      ]
     },
     "execution_count": 46,
     "metadata": {},
     "output_type": "execute_result"
    }
   ],
   "source": [
    "transactions_test.head()"
   ]
  },
  {
   "cell_type": "code",
   "execution_count": 91,
   "metadata": {
    "ExecuteTime": {
     "end_time": "2019-03-05T17:35:57.687397Z",
     "start_time": "2019-03-05T17:35:57.678823Z"
    },
    "tags": []
   },
   "outputs": [],
   "source": [
    "def features_creation_advanced(x): \n",
    "    features = []\n",
    "    features.append(pd.Series(x['day'].value_counts(normalize=True).add_prefix('day_')))\n",
    "    features.append(pd.Series(x['hour'].value_counts(normalize=True).add_prefix('hour_')))\n",
    "    features.append(pd.Series(x['night'].value_counts(normalize=True).add_prefix('night_')))\n",
    "    features.append(pd.Series(x[x['amount']>0]['amount'].agg(['min', 'max', 'mean', 'median', 'std', 'count', 'sum', 'skew', 'kurt'])\\\n",
    "                                                         .add_prefix('positive_transactions_')))\n",
    "    features.append(pd.Series(x[x['amount']<0]['amount'].agg(['min', 'max', 'mean', 'median', 'std', 'count', 'sum', 'skew', 'kurt'])\\\n",
    "                                                         .add_prefix('negative_transactions_')))\n",
    "    \n",
    "    features.append(pd.Series(x['mcc_code'].value_counts(normalize=True)).add_prefix('mcc_'))\n",
    "    features.append(pd.Series(x['mcc_code'].agg(['count']).add_prefix('mcc_count')))\n",
    "    \n",
    "    features.append(pd.Series(x['trans_type'].value_counts(normalize=True).add_prefix('trans_')))\n",
    "    features.append(pd.Series(x['trans_type'].agg(['count']).add_prefix('trans_count')))\n",
    "\n",
    "    features.append(pd.Series(x['day_of_month'].value_counts(normalize=True).add_prefix('month_day_')))\n",
    "    features.append(pd.Series(x['month'].value_counts(normalize=True).add_prefix('month_')))\n",
    "    features.append(pd.Series(x['week_num'].value_counts(normalize=True).add_prefix('week_')))\n",
    "    \n",
    "    \n",
    "    #features.append(pd.Series(x['term_id'].value_counts(normalize=True)).add_prefix('term_'))\n",
    "    #features.append(pd.Series(x['mcc_code'].agg(['count']).add_prefix('mcc_count')))\n",
    "    \n",
    "    \n",
    " \n",
    "    return pd.concat(features)    "
   ]
  },
  {
   "cell_type": "code",
   "execution_count": null,
   "metadata": {},
   "outputs": [],
   "source": []
  },
  {
   "cell_type": "code",
   "execution_count": 92,
   "metadata": {
    "ExecuteTime": {
     "end_time": "2019-03-05T17:37:19.784321Z",
     "start_time": "2019-03-05T17:35:57.688448Z"
    }
   },
   "outputs": [],
   "source": [
    "data_train = transactions_train.groupby(transactions_train.index)\\\n",
    "                               .apply(features_creation_advanced).unstack(-1)\n",
    "data_test = transactions_test.groupby(transactions_test.index)\\\n",
    "                             .apply(features_creation_advanced).unstack(-1)"
   ]
  },
  {
   "cell_type": "code",
   "execution_count": 14,
   "metadata": {},
   "outputs": [],
   "source": [
    "# data_train = transactions_train.groupby(transactions_train.index)\\\n",
    "#                                .apply(test_feature).unstack(-1)\n",
    "# data_test = transactions_test.groupby(transactions_test.index)\\\n",
    "#                              .apply(test_feature).unstack(-1)"
   ]
  },
  {
   "cell_type": "code",
   "execution_count": 15,
   "metadata": {},
   "outputs": [],
   "source": [
    "#transactions_train.head()"
   ]
  },
  {
   "cell_type": "code",
   "execution_count": 16,
   "metadata": {},
   "outputs": [],
   "source": [
    "#validation\n",
    "#y = data_train.join(gender_train, how='inner')['gender']\n",
    "#data_train, data_valid, y_train, y_valid = train_test_split(data_train, y, test_size=0.15, shuffle=False)"
   ]
  },
  {
   "cell_type": "code",
   "execution_count": null,
   "metadata": {},
   "outputs": [],
   "source": []
  },
  {
   "cell_type": "code",
   "execution_count": 93,
   "metadata": {},
   "outputs": [
    {
     "name": "stdout",
     "output_type": "stream",
     "text": [
      "(7560, 406)\n",
      "(840, 395)\n"
     ]
    }
   ],
   "source": [
    "print(data_train.shape)\n",
    "print(data_test.shape)"
   ]
  },
  {
   "cell_type": "code",
   "execution_count": 94,
   "metadata": {},
   "outputs": [],
   "source": [
    "a = np.intersect1d(data_train.columns, data_test.columns)\n",
    "data_train = data_train[a]\n",
    "#data_valid = data_valid[a]"
   ]
  },
  {
   "cell_type": "code",
   "execution_count": 95,
   "metadata": {},
   "outputs": [],
   "source": [
    "##data_test = data_out[-840:]\n",
    "##print(data_test.shape)"
   ]
  },
  {
   "cell_type": "code",
   "execution_count": 96,
   "metadata": {},
   "outputs": [
    {
     "name": "stdout",
     "output_type": "stream",
     "text": [
      "(7560, 395)\n",
      "(840, 395)\n"
     ]
    }
   ],
   "source": [
    "print(data_train.shape)\n",
    "#print(data_valid.shape)\n",
    "print(data_test.shape)"
   ]
  },
  {
   "cell_type": "code",
   "execution_count": 97,
   "metadata": {
    "ExecuteTime": {
     "end_time": "2019-03-05T17:37:27.200528Z",
     "start_time": "2019-03-05T17:37:19.785535Z"
    }
   },
   "outputs": [
    {
     "name": "stderr",
     "output_type": "stream",
     "text": [
      "/home/sjava/.local/lib/python3.10/site-packages/xgboost/core.py:160: UserWarning: [12:18:18] WARNING: /workspace/src/learner.cc:742: \n",
      "Parameters: { \"njobs\" } are not used.\n",
      "\n",
      "  warnings.warn(smsg, UserWarning)\n",
      "/home/sjava/.local/lib/python3.10/site-packages/xgboost/core.py:160: UserWarning: [12:18:19] WARNING: /workspace/src/learner.cc:742: \n",
      "Parameters: { \"njobs\" } are not used.\n",
      "\n",
      "  warnings.warn(smsg, UserWarning)\n",
      "/home/sjava/.local/lib/python3.10/site-packages/xgboost/core.py:160: UserWarning: [12:18:20] WARNING: /workspace/src/learner.cc:742: \n",
      "Parameters: { \"njobs\" } are not used.\n",
      "\n",
      "  warnings.warn(smsg, UserWarning)\n"
     ]
    },
    {
     "name": "stdout",
     "output_type": "stream",
     "text": [
      "Cross-validation, ROC AUC: 0.872+-0.008, Trees: 173\n"
     ]
    },
    {
     "data": {
      "text/plain": [
       "0.8719518592853"
      ]
     },
     "execution_count": 97,
     "metadata": {},
     "output_type": "execute_result"
    }
   ],
   "source": [
    "target = data_train.join(gender_train, how='inner')['gender']\n",
    "cv_score(params, data_train, target)"
   ]
  },
  {
   "cell_type": "code",
   "execution_count": 98,
   "metadata": {},
   "outputs": [],
   "source": [
    "def gridSearch(data_valid, target_valid):\n",
    "    params = {\n",
    "        'eta': [0.2, 0.1, 0.05, 0.01],\n",
    "        'max_depth': [3, 5], #[3, 4, 5, 7, 9], \n",
    "        'subsample': [0.5],  #[0.5, 0.7, 0.9, 1],\n",
    "        'colsample_bytree': [0.5], #[0.5, 0.7, 0.9, 1],\n",
    "\n",
    "        'gamma': [1], #[0, 0.1, 0.5, 1],\n",
    "        'lambda': [1], #[0, 0.5, 1], #L2 regularization \n",
    "        'alpha':  [0.5], # [0, 0.5, 1],\n",
    "        'min_child_weight': [0.1], #[0, 0.1, 0.3, 0.5, 1],\n",
    "\n",
    "        'eval_metric': ['auc'],\n",
    "        'objective': ['binary:logistic'] ,\n",
    "        'booster': ['gbtree', 'dart'],\n",
    "        'njobs': [-1],\n",
    "        'tree_method': ['approx', 'exact']\n",
    "    }\n",
    "    best_roc_auc = 0\n",
    "    paramsToFunction = {}\n",
    "    bestParams = {}\n",
    "    for eta in params['eta']:\n",
    "        for max_depth in params['max_depth']:\n",
    "            for subsample in params['subsample']:\n",
    "                for colsample_bytree in params['colsample_bytree']:\n",
    "                    for gamma in params['gamma']:\n",
    "                        for lambda_param in params['lambda']:\n",
    "                            for alpha in params['alpha']:\n",
    "                                for min_child_weight in params['min_child_weight']:\n",
    "                                    for eval_metric in params['eval_metric']:\n",
    "                                        for objective in params['objective']:\n",
    "                                            for booster in params['booster']:\n",
    "                                                for njobs in params['njobs']:\n",
    "                                                    for tree_method in params['tree_method']:\n",
    "                                                        paramsToFunction['learning_rate'] = eta\n",
    "                                                        paramsToFunction['max_depth'] = max_depth\n",
    "                                                        paramsToFunction['subsample'] = subsample\n",
    "                                                        paramsToFunction['colsample_bytree'] = colsample_bytree\n",
    "                                                    \n",
    "                                                        paramsToFunction['gamma'] = gamma\n",
    "                                                        paramsToFunction['lambda'] = lambda_param\n",
    "                                                        paramsToFunction['alpha'] = alpha\n",
    "                                                        paramsToFunction['min_child_weight'] = min_child_weight\n",
    "    \n",
    "                                                        paramsToFunction['eval_metric'] = eval_metric\n",
    "                                                        paramsToFunction['objective'] = objective\n",
    "                                                        paramsToFunction['booster'] = booster\n",
    "                                                        paramsToFunction['njobs'] = njobs\n",
    "                                                        paramsToFunction['tree_method'] = tree_method\n",
    "                                                        score = cv_score(paramsToFunction, data_valid, target_valid) \n",
    "                                                        if(score > best_roc_auc):\n",
    "                                                            best_roc_auc = score\n",
    "                                                            bestParams = paramsToFunction\n",
    "                                                            bestParams['eta'] = paramsToFunction['learning_rate']\n",
    "                                                            print(bestParams)\n",
    "    return bestParams, best_roc_auc"
   ]
  },
  {
   "cell_type": "code",
   "execution_count": null,
   "metadata": {},
   "outputs": [
    {
     "name": "stderr",
     "output_type": "stream",
     "text": [
      "/home/sjava/.local/lib/python3.10/site-packages/xgboost/core.py:160: UserWarning: [12:19:37] WARNING: /workspace/src/learner.cc:742: \n",
      "Parameters: { \"njobs\" } are not used.\n",
      "\n",
      "  warnings.warn(smsg, UserWarning)\n"
     ]
    },
    {
     "name": "stdout",
     "output_type": "stream",
     "text": [
      "Cross-validation, ROC AUC: 0.863+-0.008, Trees: 75\n",
      "{'learning_rate': 0.2, 'max_depth': 3, 'subsample': 0.5, 'colsample_bytree': 0.5, 'gamma': 1, 'lambda': 1, 'alpha': 0.5, 'min_child_weight': 0.1, 'eval_metric': 'auc', 'objective': 'binary:logistic', 'booster': 'gbtree', 'njobs': -1, 'tree_method': 'approx', 'eta': 0.2}\n"
     ]
    },
    {
     "name": "stderr",
     "output_type": "stream",
     "text": [
      "/home/sjava/.local/lib/python3.10/site-packages/xgboost/core.py:160: UserWarning: [12:19:59] WARNING: /workspace/src/learner.cc:742: \n",
      "Parameters: { \"njobs\" } are not used.\n",
      "\n",
      "  warnings.warn(smsg, UserWarning)\n"
     ]
    },
    {
     "name": "stdout",
     "output_type": "stream",
     "text": [
      "Cross-validation, ROC AUC: 0.863+-0.009, Trees: 82\n",
      "{'learning_rate': 0.2, 'max_depth': 3, 'subsample': 0.5, 'colsample_bytree': 0.5, 'gamma': 1, 'lambda': 1, 'alpha': 0.5, 'min_child_weight': 0.1, 'eval_metric': 'auc', 'objective': 'binary:logistic', 'booster': 'gbtree', 'njobs': -1, 'tree_method': 'exact', 'eta': 0.2}\n"
     ]
    },
    {
     "name": "stderr",
     "output_type": "stream",
     "text": [
      "/home/sjava/.local/lib/python3.10/site-packages/xgboost/core.py:160: UserWarning: [12:20:08] WARNING: /workspace/src/learner.cc:742: \n",
      "Parameters: { \"njobs\" } are not used.\n",
      "\n",
      "  warnings.warn(smsg, UserWarning)\n"
     ]
    },
    {
     "name": "stdout",
     "output_type": "stream",
     "text": [
      "Cross-validation, ROC AUC: 0.863+-0.010, Trees: 96\n"
     ]
    },
    {
     "name": "stderr",
     "output_type": "stream",
     "text": [
      "/home/sjava/.local/lib/python3.10/site-packages/xgboost/core.py:160: UserWarning: [12:21:15] WARNING: /workspace/src/learner.cc:742: \n",
      "Parameters: { \"njobs\" } are not used.\n",
      "\n",
      "  warnings.warn(smsg, UserWarning)\n"
     ]
    },
    {
     "name": "stdout",
     "output_type": "stream",
     "text": [
      "Cross-validation, ROC AUC: 0.863+-0.008, Trees: 106\n",
      "{'learning_rate': 0.2, 'max_depth': 3, 'subsample': 0.5, 'colsample_bytree': 0.5, 'gamma': 1, 'lambda': 1, 'alpha': 0.5, 'min_child_weight': 0.1, 'eval_metric': 'auc', 'objective': 'binary:logistic', 'booster': 'dart', 'njobs': -1, 'tree_method': 'exact', 'eta': 0.2}\n"
     ]
    },
    {
     "name": "stderr",
     "output_type": "stream",
     "text": [
      "/home/sjava/.local/lib/python3.10/site-packages/xgboost/core.py:160: UserWarning: [12:22:09] WARNING: /workspace/src/learner.cc:742: \n",
      "Parameters: { \"njobs\" } are not used.\n",
      "\n",
      "  warnings.warn(smsg, UserWarning)\n",
      "/home/sjava/.local/lib/python3.10/site-packages/xgboost/core.py:160: UserWarning: [12:22:10] WARNING: /workspace/src/learner.cc:742: \n",
      "Parameters: { \"njobs\" } are not used.\n",
      "\n",
      "  warnings.warn(smsg, UserWarning)\n"
     ]
    },
    {
     "name": "stdout",
     "output_type": "stream",
     "text": [
      "Cross-validation, ROC AUC: 0.851+-0.005, Trees: 45\n"
     ]
    },
    {
     "name": "stderr",
     "output_type": "stream",
     "text": [
      "/home/sjava/.local/lib/python3.10/site-packages/xgboost/core.py:160: UserWarning: [12:22:38] WARNING: /workspace/src/learner.cc:742: \n",
      "Parameters: { \"njobs\" } are not used.\n",
      "\n",
      "  warnings.warn(smsg, UserWarning)\n",
      "/home/sjava/.local/lib/python3.10/site-packages/xgboost/core.py:160: UserWarning: [12:22:39] WARNING: /workspace/src/learner.cc:742: \n",
      "Parameters: { \"njobs\" } are not used.\n",
      "\n",
      "  warnings.warn(smsg, UserWarning)\n"
     ]
    },
    {
     "name": "stdout",
     "output_type": "stream",
     "text": [
      "Cross-validation, ROC AUC: 0.850+-0.010, Trees: 32\n"
     ]
    },
    {
     "name": "stderr",
     "output_type": "stream",
     "text": [
      "/home/sjava/.local/lib/python3.10/site-packages/xgboost/core.py:160: UserWarning: [12:22:45] WARNING: /workspace/src/learner.cc:742: \n",
      "Parameters: { \"njobs\" } are not used.\n",
      "\n",
      "  warnings.warn(smsg, UserWarning)\n"
     ]
    },
    {
     "name": "stdout",
     "output_type": "stream",
     "text": [
      "Cross-validation, ROC AUC: 0.857+-0.010, Trees: 60\n"
     ]
    },
    {
     "name": "stderr",
     "output_type": "stream",
     "text": [
      "/home/sjava/.local/lib/python3.10/site-packages/xgboost/core.py:160: UserWarning: [12:23:37] WARNING: /workspace/src/learner.cc:742: \n",
      "Parameters: { \"njobs\" } are not used.\n",
      "\n",
      "  warnings.warn(smsg, UserWarning)\n",
      "/home/sjava/.local/lib/python3.10/site-packages/xgboost/core.py:160: UserWarning: [12:23:38] WARNING: /workspace/src/learner.cc:742: \n",
      "Parameters: { \"njobs\" } are not used.\n",
      "\n",
      "  warnings.warn(smsg, UserWarning)\n"
     ]
    },
    {
     "name": "stdout",
     "output_type": "stream",
     "text": [
      "Cross-validation, ROC AUC: 0.852+-0.008, Trees: 41\n"
     ]
    },
    {
     "name": "stderr",
     "output_type": "stream",
     "text": [
      "/home/sjava/.local/lib/python3.10/site-packages/xgboost/core.py:160: UserWarning: [12:23:56] WARNING: /workspace/src/learner.cc:742: \n",
      "Parameters: { \"njobs\" } are not used.\n",
      "\n",
      "  warnings.warn(smsg, UserWarning)\n"
     ]
    },
    {
     "name": "stdout",
     "output_type": "stream",
     "text": [
      "Cross-validation, ROC AUC: 0.871+-0.009, Trees: 164\n",
      "{'learning_rate': 0.1, 'max_depth': 3, 'subsample': 0.5, 'colsample_bytree': 0.5, 'gamma': 1, 'lambda': 1, 'alpha': 0.5, 'min_child_weight': 0.1, 'eval_metric': 'auc', 'objective': 'binary:logistic', 'booster': 'gbtree', 'njobs': -1, 'tree_method': 'approx', 'eta': 0.1}\n"
     ]
    },
    {
     "name": "stderr",
     "output_type": "stream",
     "text": [
      "/home/sjava/.local/lib/python3.10/site-packages/xgboost/core.py:160: UserWarning: [12:24:41] WARNING: /workspace/src/learner.cc:742: \n",
      "Parameters: { \"njobs\" } are not used.\n",
      "\n",
      "  warnings.warn(smsg, UserWarning)\n"
     ]
    },
    {
     "name": "stdout",
     "output_type": "stream",
     "text": [
      "Cross-validation, ROC AUC: 0.868+-0.008, Trees: 98\n"
     ]
    },
    {
     "name": "stderr",
     "output_type": "stream",
     "text": [
      "/home/sjava/.local/lib/python3.10/site-packages/xgboost/core.py:160: UserWarning: [12:24:51] WARNING: /workspace/src/learner.cc:742: \n",
      "Parameters: { \"njobs\" } are not used.\n",
      "\n",
      "  warnings.warn(smsg, UserWarning)\n",
      "/home/sjava/.local/lib/python3.10/site-packages/xgboost/core.py:160: UserWarning: [12:24:52] WARNING: /workspace/src/learner.cc:742: \n",
      "Parameters: { \"njobs\" } are not used.\n",
      "\n",
      "  warnings.warn(smsg, UserWarning)\n"
     ]
    },
    {
     "name": "stdout",
     "output_type": "stream",
     "text": [
      "Cross-validation, ROC AUC: 0.869+-0.009, Trees: 156\n"
     ]
    },
    {
     "name": "stderr",
     "output_type": "stream",
     "text": [
      "/home/sjava/.local/lib/python3.10/site-packages/xgboost/core.py:160: UserWarning: [12:27:19] WARNING: /workspace/src/learner.cc:742: \n",
      "Parameters: { \"njobs\" } are not used.\n",
      "\n",
      "  warnings.warn(smsg, UserWarning)\n"
     ]
    },
    {
     "name": "stdout",
     "output_type": "stream",
     "text": [
      "Cross-validation, ROC AUC: 0.868+-0.007, Trees: 123\n"
     ]
    },
    {
     "name": "stderr",
     "output_type": "stream",
     "text": [
      "/home/sjava/.local/lib/python3.10/site-packages/xgboost/core.py:160: UserWarning: [12:28:38] WARNING: /workspace/src/learner.cc:742: \n",
      "Parameters: { \"njobs\" } are not used.\n",
      "\n",
      "  warnings.warn(smsg, UserWarning)\n"
     ]
    },
    {
     "name": "stdout",
     "output_type": "stream",
     "text": [
      "Cross-validation, ROC AUC: 0.861+-0.011, Trees: 76\n"
     ]
    },
    {
     "name": "stderr",
     "output_type": "stream",
     "text": [
      "/home/sjava/.local/lib/python3.10/site-packages/xgboost/core.py:160: UserWarning: [12:29:13] WARNING: /workspace/src/learner.cc:742: \n",
      "Parameters: { \"njobs\" } are not used.\n",
      "\n",
      "  warnings.warn(smsg, UserWarning)\n"
     ]
    },
    {
     "name": "stdout",
     "output_type": "stream",
     "text": [
      "Cross-validation, ROC AUC: 0.864+-0.009, Trees: 104\n"
     ]
    },
    {
     "name": "stderr",
     "output_type": "stream",
     "text": [
      "/home/sjava/.local/lib/python3.10/site-packages/xgboost/core.py:160: UserWarning: [12:29:30] WARNING: /workspace/src/learner.cc:742: \n",
      "Parameters: { \"njobs\" } are not used.\n",
      "\n",
      "  warnings.warn(smsg, UserWarning)\n"
     ]
    }
   ],
   "source": [
    "best_params, best_roc_auc = gridSearch(data_train, target)\n",
    "print(\"TOP ROC_AUC = \", best_roc_auc)"
   ]
  },
  {
   "cell_type": "code",
   "execution_count": null,
   "metadata": {},
   "outputs": [],
   "source": [
    "print(best_params)"
   ]
  },
  {
   "cell_type": "code",
   "execution_count": null,
   "metadata": {
    "ExecuteTime": {
     "end_time": "2019-03-05T17:37:28.307548Z",
     "start_time": "2019-03-05T17:37:27.205214Z"
    }
   },
   "outputs": [],
   "source": [
    "# Число деревьев для XGBoost имеет смысл выятавлять по результатам на кросс-валидации \n",
    "clf, submission = fit_predict(best_params, 70, data_train, data_test, target)"
   ]
  },
  {
   "cell_type": "code",
   "execution_count": null,
   "metadata": {},
   "outputs": [],
   "source": [
    "import pickle\n",
    "\n",
    " \n",
    "with open('my_dict.pkl', 'wb') as f:\n",
    "    pickle.dump(best_params, f)"
   ]
  },
  {
   "cell_type": "code",
   "execution_count": 45,
   "metadata": {},
   "outputs": [
    {
     "name": "stdout",
     "output_type": "stream",
     "text": [
      "Fitting 10 folds for each of 6 candidates, totalling 60 fits\n",
      "[0]\tvalidation_0-logloss:0.67371\n",
      "[1]\tvalidation_0-logloss:0.66074\n",
      "[2]\tvalidation_0-logloss:0.64964\n",
      "[0]\tvalidation_0-logloss:0.67355\n",
      "[0]\tvalidation_0-logloss:0.67369\n",
      "[3]\tvalidation_0-logloss:0.63958\n",
      "[1]\tvalidation_0-logloss:0.65971\n",
      "[1]\tvalidation_0-logloss:0.66094\n",
      "[2]\tvalidation_0-logloss:0.64829\n",
      "[4]\tvalidation_0-logloss:0.63164\n",
      "[2]\tvalidation_0-logloss:0.64868\n",
      "[3]\tvalidation_0-logloss:0.63919\n",
      "[5]\tvalidation_0-logloss:0.62411\n",
      "[3]\tvalidation_0-logloss:0.63888\n",
      "[4]\tvalidation_0-logloss:0.63048\n",
      "[6]\tvalidation_0-logloss:0.61698\n",
      "[5]\tvalidation_0-logloss:0.62319\n",
      "[0]\tvalidation_0-logloss:0.67354\n",
      "[4]\tvalidation_0-logloss:0.63046\n",
      "[7]\tvalidation_0-logloss:0.61060\n",
      "[0]\tvalidation_0-logloss:0.67351\n",
      "[0]\tvalidation_0-logloss:0.67353\n",
      "[0]\tvalidation_0-logloss:0.67372\n",
      "[6]\tvalidation_0-logloss:0.61636\n",
      "[1]\tvalidation_0-logloss:0.66036\n",
      "[8]\tvalidation_0-logloss:0.60512\n",
      "[5]\tvalidation_0-logloss:0.62281\n",
      "[0]\tvalidation_0-logloss:0.67360\n",
      "[1]\tvalidation_0-logloss:0.66007\n",
      "[1]\tvalidation_0-logloss:0.66019\n",
      "[1]\tvalidation_0-logloss:0.66085\n",
      "[7]\tvalidation_0-logloss:0.60964\n",
      "[9]\tvalidation_0-logloss:0.60044\n",
      "[6]\tvalidation_0-logloss:0.61590\n",
      "[2]\tvalidation_0-logloss:0.64940\n",
      "[1]\tvalidation_0-logloss:0.66068\n",
      "[0]\tvalidation_0-logloss:0.67331\n",
      "[8]\tvalidation_0-logloss:0.60369\n",
      "[2]\tvalidation_0-logloss:0.64974\n",
      "[2]\tvalidation_0-logloss:0.64882\n",
      "[2]\tvalidation_0-logloss:0.64879\n",
      "[3]\tvalidation_0-logloss:0.63967\n",
      "[7]\tvalidation_0-logloss:0.61060\n",
      "[9]\tvalidation_0-logloss:0.59854\n",
      "[3]\tvalidation_0-logloss:0.63896\n",
      "[3]\tvalidation_0-logloss:0.64075\n",
      "[3]\tvalidation_0-logloss:0.63886\n",
      "[2]\tvalidation_0-logloss:0.64887\n",
      "[1]\tvalidation_0-logloss:0.66026\n",
      "[4]\tvalidation_0-logloss:0.63070\n",
      "[8]\tvalidation_0-logloss:0.60516\n",
      "[4]\tvalidation_0-logloss:0.63019\n",
      "[4]\tvalidation_0-logloss:0.63012\n",
      "[4]\tvalidation_0-logloss:0.63147\n",
      "[3]\tvalidation_0-logloss:0.63934\n",
      "[5]\tvalidation_0-logloss:0.62363\n",
      "[2]\tvalidation_0-logloss:0.64853\n",
      "[5]\tvalidation_0-logloss:0.62206\n",
      "[9]\tvalidation_0-logloss:0.60008\n",
      "[5]\tvalidation_0-logloss:0.62272\n",
      "[5]\tvalidation_0-logloss:0.62398\n",
      "[4]\tvalidation_0-logloss:0.63052\n",
      "[6]\tvalidation_0-logloss:0.61700\n",
      "[3]\tvalidation_0-logloss:0.63889\n",
      "[6]\tvalidation_0-logloss:0.61524\n",
      "[6]\tvalidation_0-logloss:0.61542\n",
      "[6]\tvalidation_0-logloss:0.61769\n",
      "[5]\tvalidation_0-logloss:0.62239\n",
      "[7]\tvalidation_0-logloss:0.61046\n",
      "[4]\tvalidation_0-logloss:0.63035\n",
      "[7]\tvalidation_0-logloss:0.60846\n",
      "[0]\tvalidation_0-logloss:0.67346\n",
      "[7]\tvalidation_0-logloss:0.61116\n",
      "[6]\tvalidation_0-logloss:0.61596\n",
      "[7]\tvalidation_0-logloss:0.60899\n",
      "[5]\tvalidation_0-logloss:0.62252\n",
      "[8]\tvalidation_0-logloss:0.60460\n",
      "[8]\tvalidation_0-logloss:0.60289\n",
      "[1]\tvalidation_0-logloss:0.65973\n",
      "[7]\tvalidation_0-logloss:0.60962\n",
      "[8]\tvalidation_0-logloss:0.60556\n",
      "[0]\tvalidation_0-logloss:0.67051\n",
      "[6]\tvalidation_0-logloss:0.61578\n",
      "[9]\tvalidation_0-logloss:0.59777\n",
      "[9]\tvalidation_0-logloss:0.59977\n",
      "[8]\tvalidation_0-logloss:0.60380\n",
      "[8]\tvalidation_0-logloss:0.60355\n",
      "[9]\tvalidation_0-logloss:0.60024\n",
      "[2]\tvalidation_0-logloss:0.64826\n",
      "[7]\tvalidation_0-logloss:0.61031\n",
      "[1]\tvalidation_0-logloss:0.65538\n",
      "[9]\tvalidation_0-logloss:0.59867\n",
      "[9]\tvalidation_0-logloss:0.59959\n",
      "[3]\tvalidation_0-logloss:0.63799\n",
      "[8]\tvalidation_0-logloss:0.60434\n",
      "[2]\tvalidation_0-logloss:0.64342\n",
      "[4]\tvalidation_0-logloss:0.62926\n",
      "[3]\tvalidation_0-logloss:0.63302\n",
      "[9]\tvalidation_0-logloss:0.59901\n",
      "[5]\tvalidation_0-logloss:0.62158\n",
      "[6]\tvalidation_0-logloss:0.61453\n",
      "[4]\tvalidation_0-logloss:0.62284\n",
      "[7]\tvalidation_0-logloss:0.60828\n",
      "[0]\tvalidation_0-logloss:0.67006\n",
      "[8]\tvalidation_0-logloss:0.60287\n",
      "[5]\tvalidation_0-logloss:0.61393\n",
      "[9]\tvalidation_0-logloss:0.59750\n",
      "[1]\tvalidation_0-logloss:0.65514\n",
      "[0]\tvalidation_0-logloss:0.67032\n",
      "[0]\tvalidation_0-logloss:0.67029\n",
      "[6]\tvalidation_0-logloss:0.60551\n",
      "[0]\tvalidation_0-logloss:0.67080\n",
      "[2]\tvalidation_0-logloss:0.64239\n",
      "[1]\tvalidation_0-logloss:0.65428\n",
      "[0]\tvalidation_0-logloss:0.67041\n",
      "[1]\tvalidation_0-logloss:0.65458\n",
      "[0]\tvalidation_0-logloss:0.67011\n",
      "[2]\tvalidation_0-logloss:0.64104\n",
      "[3]\tvalidation_0-logloss:0.63139\n",
      "[7]\tvalidation_0-logloss:0.59815\n",
      "[1]\tvalidation_0-logloss:0.65540\n",
      "[0]\tvalidation_0-logloss:0.67020\n",
      "[1]\tvalidation_0-logloss:0.65424\n",
      "[2]\tvalidation_0-logloss:0.64237\n",
      "[1]\tvalidation_0-logloss:0.65564\n",
      "[4]\tvalidation_0-logloss:0.62118\n",
      "[2]\tvalidation_0-logloss:0.64199\n",
      "[8]\tvalidation_0-logloss:0.59177\n",
      "[3]\tvalidation_0-logloss:0.62932\n",
      "[1]\tvalidation_0-logloss:0.65512\n",
      "[2]\tvalidation_0-logloss:0.64175\n",
      "[2]\tvalidation_0-logloss:0.64332\n",
      "[3]\tvalidation_0-logloss:0.63063\n",
      "[5]\tvalidation_0-logloss:0.61242\n",
      "[3]\tvalidation_0-logloss:0.63022\n",
      "[9]\tvalidation_0-logloss:0.58554\n",
      "[4]\tvalidation_0-logloss:0.61849\n",
      "[3]\tvalidation_0-logloss:0.63174\n",
      "[4]\tvalidation_0-logloss:0.62031\n",
      "[2]\tvalidation_0-logloss:0.64176\n",
      "[0]\tvalidation_0-logloss:0.66911\n",
      "[6]\tvalidation_0-logloss:0.60407\n",
      "[3]\tvalidation_0-logloss:0.63073\n",
      "[5]\tvalidation_0-logloss:0.61058\n",
      "[4]\tvalidation_0-logloss:0.62060\n",
      "[5]\tvalidation_0-logloss:0.61204\n",
      "[6]\tvalidation_0-logloss:0.60281\n",
      "[4]\tvalidation_0-logloss:0.62169\n",
      "[3]\tvalidation_0-logloss:0.63049\n",
      "[4]\tvalidation_0-logloss:0.62111\n",
      "[7]\tvalidation_0-logloss:0.59746\n",
      "[1]\tvalidation_0-logloss:0.65339\n",
      "[7]\tvalidation_0-logloss:0.59526\n",
      "[0]\tvalidation_0-logloss:0.67007\n",
      "[5]\tvalidation_0-logloss:0.61177\n",
      "[6]\tvalidation_0-logloss:0.60368\n",
      "[8]\tvalidation_0-logloss:0.59059\n",
      "[5]\tvalidation_0-logloss:0.61239\n",
      "[5]\tvalidation_0-logloss:0.61140\n",
      "[4]\tvalidation_0-logloss:0.62078\n",
      "[2]\tvalidation_0-logloss:0.64088\n",
      "[8]\tvalidation_0-logloss:0.58791\n",
      "[1]\tvalidation_0-logloss:0.65472\n",
      "[6]\tvalidation_0-logloss:0.60392\n",
      "[7]\tvalidation_0-logloss:0.59630\n",
      "[9]\tvalidation_0-logloss:0.58401\n",
      "[5]\tvalidation_0-logloss:0.61128\n",
      "[6]\tvalidation_0-logloss:0.60460\n",
      "[3]\tvalidation_0-logloss:0.62967\n",
      "[9]\tvalidation_0-logloss:0.58225\n",
      "[2]\tvalidation_0-logloss:0.64212\n",
      "[6]\tvalidation_0-logloss:0.60376\n",
      "[7]\tvalidation_0-logloss:0.59651\n",
      "[6]\tvalidation_0-logloss:0.60322\n",
      "[8]\tvalidation_0-logloss:0.58971\n",
      "[8]\tvalidation_0-logloss:0.59086\n",
      "[3]\tvalidation_0-logloss:0.63019\n",
      "[4]\tvalidation_0-logloss:0.61939\n",
      "[7]\tvalidation_0-logloss:0.59697\n",
      "[7]\tvalidation_0-logloss:0.59585\n",
      "[7]\tvalidation_0-logloss:0.59597\n",
      "[9]\tvalidation_0-logloss:0.58328\n",
      "[9]\tvalidation_0-logloss:0.58434\n",
      "[0]\tvalidation_0-logloss:0.68763\n",
      "[8]\tvalidation_0-logloss:0.58980\n",
      "[4]\tvalidation_0-logloss:0.62024\n",
      "[8]\tvalidation_0-logloss:0.58913\n",
      "[1]\tvalidation_0-logloss:0.68604\n",
      "[8]\tvalidation_0-logloss:0.59061\n",
      "[5]\tvalidation_0-logloss:0.60999\n",
      "[9]\tvalidation_0-logloss:0.58351\n",
      "[2]\tvalidation_0-logloss:0.68447\n",
      "[5]\tvalidation_0-logloss:0.61147\n",
      "[9]\tvalidation_0-logloss:0.58279\n",
      "[9]\tvalidation_0-logloss:0.58447\n",
      "[6]\tvalidation_0-logloss:0.60211\n",
      "[3]\tvalidation_0-logloss:0.68294\n",
      "[6]\tvalidation_0-logloss:0.60363\n",
      "[4]\tvalidation_0-logloss:0.68144\n",
      "[7]\tvalidation_0-logloss:0.59506\n",
      "[5]\tvalidation_0-logloss:0.67997\n",
      "[7]\tvalidation_0-logloss:0.59600\n",
      "[0]\tvalidation_0-logloss:0.68763\n",
      "[8]\tvalidation_0-logloss:0.58878\n",
      "[6]\tvalidation_0-logloss:0.67853\n",
      "[1]\tvalidation_0-logloss:0.68604\n",
      "[7]\tvalidation_0-logloss:0.67711\n",
      "[9]\tvalidation_0-logloss:0.58293\n",
      "[8]\tvalidation_0-logloss:0.58953\n",
      "[2]\tvalidation_0-logloss:0.68447\n",
      "[8]\tvalidation_0-logloss:0.67571\n",
      "[0]\tvalidation_0-logloss:0.68763\n",
      "[3]\tvalidation_0-logloss:0.68293\n",
      "[1]\tvalidation_0-logloss:0.68600\n",
      "[0]\tvalidation_0-logloss:0.68761\n",
      "[9]\tvalidation_0-logloss:0.67434\n",
      "[9]\tvalidation_0-logloss:0.58341\n",
      "[0]\tvalidation_0-logloss:0.68760\n",
      "[4]\tvalidation_0-logloss:0.68141\n",
      "[0]\tvalidation_0-logloss:0.68762\n",
      "[1]\tvalidation_0-logloss:0.68600\n",
      "[1]\tvalidation_0-logloss:0.68596\n",
      "[2]\tvalidation_0-logloss:0.68442\n",
      "[1]\tvalidation_0-logloss:0.68600\n",
      "[5]\tvalidation_0-logloss:0.67994\n",
      "[0]\tvalidation_0-logloss:0.68762\n",
      "[3]\tvalidation_0-logloss:0.68287\n",
      "[2]\tvalidation_0-logloss:0.68439\n",
      "[0]\tvalidation_0-logloss:0.68764\n",
      "[2]\tvalidation_0-logloss:0.68435\n",
      "[2]\tvalidation_0-logloss:0.68443\n",
      "[0]\tvalidation_0-logloss:0.68762\n",
      "[6]\tvalidation_0-logloss:0.67847\n",
      "[1]\tvalidation_0-logloss:0.68601\n",
      "[4]\tvalidation_0-logloss:0.68135\n",
      "[3]\tvalidation_0-logloss:0.68283\n",
      "[1]\tvalidation_0-logloss:0.68604\n",
      "[3]\tvalidation_0-logloss:0.68288\n",
      "[1]\tvalidation_0-logloss:0.68601\n",
      "[3]\tvalidation_0-logloss:0.68275\n",
      "[5]\tvalidation_0-logloss:0.67986\n",
      "[2]\tvalidation_0-logloss:0.68443\n",
      "[7]\tvalidation_0-logloss:0.67704\n",
      "[4]\tvalidation_0-logloss:0.68133\n",
      "[4]\tvalidation_0-logloss:0.68138\n",
      "[2]\tvalidation_0-logloss:0.68442\n",
      "[0]\tvalidation_0-logloss:0.68761\n",
      "[2]\tvalidation_0-logloss:0.68446\n",
      "[6]\tvalidation_0-logloss:0.67840\n"
     ]
    },
    {
     "name": "stdout",
     "output_type": "stream",
     "text": [
      "[4]\tvalidation_0-logloss:0.68121\n",
      "[8]\tvalidation_0-logloss:0.67563\n",
      "[3]\tvalidation_0-logloss:0.68289\n",
      "[3]\tvalidation_0-logloss:0.68287\n",
      "[5]\tvalidation_0-logloss:0.67983\n",
      "[5]\tvalidation_0-logloss:0.67991\n",
      "[7]\tvalidation_0-logloss:0.67698\n",
      "[1]\tvalidation_0-logloss:0.68598\n",
      "[4]\tvalidation_0-logloss:0.68138\n",
      "[4]\tvalidation_0-logloss:0.68135\n",
      "[5]\tvalidation_0-logloss:0.67967\n",
      "[9]\tvalidation_0-logloss:0.67426\n",
      "[3]\tvalidation_0-logloss:0.68292\n",
      "[8]\tvalidation_0-logloss:0.67557\n",
      "[6]\tvalidation_0-logloss:0.67845\n",
      "[6]\tvalidation_0-logloss:0.67835\n",
      "[5]\tvalidation_0-logloss:0.67986\n",
      "[2]\tvalidation_0-logloss:0.68439\n",
      "[5]\tvalidation_0-logloss:0.67990\n",
      "[9]\tvalidation_0-logloss:0.67419\n",
      "[6]\tvalidation_0-logloss:0.67819\n",
      "[7]\tvalidation_0-logloss:0.67691\n",
      "[4]\tvalidation_0-logloss:0.68140\n",
      "[7]\tvalidation_0-logloss:0.67702\n",
      "[3]\tvalidation_0-logloss:0.68284\n",
      "[6]\tvalidation_0-logloss:0.67841\n",
      "[6]\tvalidation_0-logloss:0.67845\n",
      "[7]\tvalidation_0-logloss:0.67673\n",
      "[5]\tvalidation_0-logloss:0.67990\n",
      "[8]\tvalidation_0-logloss:0.67550\n",
      "[8]\tvalidation_0-logloss:0.67562\n",
      "[7]\tvalidation_0-logloss:0.67702\n",
      "[4]\tvalidation_0-logloss:0.68129\n",
      "[8]\tvalidation_0-logloss:0.67531\n",
      "[7]\tvalidation_0-logloss:0.67697\n",
      "[6]\tvalidation_0-logloss:0.67846\n",
      "[9]\tvalidation_0-logloss:0.67424\n",
      "[0]\tvalidation_0-logloss:0.68729\n",
      "[9]\tvalidation_0-logloss:0.67407\n",
      "[8]\tvalidation_0-logloss:0.67563\n",
      "[5]\tvalidation_0-logloss:0.67980\n",
      "[8]\tvalidation_0-logloss:0.67557\n",
      "[9]\tvalidation_0-logloss:0.67390\n",
      "[7]\tvalidation_0-logloss:0.67703\n",
      "[9]\tvalidation_0-logloss:0.67425\n",
      "[1]\tvalidation_0-logloss:0.68537\n",
      "[6]\tvalidation_0-logloss:0.67831\n",
      "[8]\tvalidation_0-logloss:0.67561\n",
      "[9]\tvalidation_0-logloss:0.67415\n",
      "[0]\tvalidation_0-logloss:0.68733\n",
      "[9]\tvalidation_0-logloss:0.67413\n",
      "[2]\tvalidation_0-logloss:0.68349\n",
      "[7]\tvalidation_0-logloss:0.67687\n",
      "[1]\tvalidation_0-logloss:0.68542\n",
      "[3]\tvalidation_0-logloss:0.68164\n",
      "[8]\tvalidation_0-logloss:0.67545\n",
      "[2]\tvalidation_0-logloss:0.68356\n",
      "[0]\tvalidation_0-logloss:0.68725\n",
      "[4]\tvalidation_0-logloss:0.67983\n",
      "[9]\tvalidation_0-logloss:0.67407\n",
      "[5]\tvalidation_0-logloss:0.67806\n",
      "[3]\tvalidation_0-logloss:0.68171\n",
      "[1]\tvalidation_0-logloss:0.68528\n",
      "[0]\tvalidation_0-logloss:0.68728\n",
      "[0]\tvalidation_0-logloss:0.68726\n",
      "[6]\tvalidation_0-logloss:0.67633\n",
      "[4]\tvalidation_0-logloss:0.67991\n",
      "[2]\tvalidation_0-logloss:0.68329\n",
      "[0]\tvalidation_0-logloss:0.68729\n",
      "[0]\tvalidation_0-logloss:0.68716\n",
      "[1]\tvalidation_0-logloss:0.68534\n",
      "[1]\tvalidation_0-logloss:0.68530\n",
      "[7]\tvalidation_0-logloss:0.67462\n",
      "[5]\tvalidation_0-logloss:0.67816\n",
      "[0]\tvalidation_0-logloss:0.68728\n",
      "[3]\tvalidation_0-logloss:0.68141\n",
      "[2]\tvalidation_0-logloss:0.68343\n",
      "[1]\tvalidation_0-logloss:0.68509\n",
      "[1]\tvalidation_0-logloss:0.68535\n",
      "[8]\tvalidation_0-logloss:0.67295\n",
      "[2]\tvalidation_0-logloss:0.68336\n",
      "[6]\tvalidation_0-logloss:0.67638\n",
      "[4]\tvalidation_0-logloss:0.67950\n",
      "[2]\tvalidation_0-logloss:0.68307\n",
      "[3]\tvalidation_0-logloss:0.68155\n",
      "[1]\tvalidation_0-logloss:0.68532\n",
      "[2]\tvalidation_0-logloss:0.68341\n",
      "[3]\tvalidation_0-logloss:0.68150\n",
      "[9]\tvalidation_0-logloss:0.67132\n",
      "[7]\tvalidation_0-logloss:0.67470\n",
      "[5]\tvalidation_0-logloss:0.67769\n",
      "[3]\tvalidation_0-logloss:0.68112\n",
      "[4]\tvalidation_0-logloss:0.67970\n",
      "[2]\tvalidation_0-logloss:0.68341\n",
      "[4]\tvalidation_0-logloss:0.67965\n",
      "[3]\tvalidation_0-logloss:0.68155\n",
      "[8]\tvalidation_0-logloss:0.67299\n",
      "[6]\tvalidation_0-logloss:0.67587\n",
      "[4]\tvalidation_0-logloss:0.67918\n",
      "[5]\tvalidation_0-logloss:0.67793\n",
      "[0]\tvalidation_0-logloss:0.68727\n",
      "[4]\tvalidation_0-logloss:0.67965\n",
      "[3]\tvalidation_0-logloss:0.68157\n",
      "[7]\tvalidation_0-logloss:0.67404\n",
      "[5]\tvalidation_0-logloss:0.67786\n",
      "[6]\tvalidation_0-logloss:0.67616\n",
      "[9]\tvalidation_0-logloss:0.67134\n",
      "[7]\tvalidation_0-logloss:0.67442\n",
      "[5]\tvalidation_0-logloss:0.67731\n",
      "[5]\tvalidation_0-logloss:0.67786\n",
      "[8]\tvalidation_0-logloss:0.67271\n",
      "[1]\tvalidation_0-logloss:0.68531\n",
      "[6]\tvalidation_0-logloss:0.67610\n",
      "[8]\tvalidation_0-logloss:0.67228\n",
      "[4]\tvalidation_0-logloss:0.67975\n",
      "[6]\tvalidation_0-logloss:0.67551\n",
      "[9]\tvalidation_0-logloss:0.67102\n",
      "[6]\tvalidation_0-logloss:0.67601\n",
      "[2]\tvalidation_0-logloss:0.68340\n",
      "[7]\tvalidation_0-logloss:0.67367\n",
      "[9]\tvalidation_0-logloss:0.67051\n",
      "[5]\tvalidation_0-logloss:0.67801\n",
      "[7]\tvalidation_0-logloss:0.67438\n",
      "[3]\tvalidation_0-logloss:0.68155\n",
      "[8]\tvalidation_0-logloss:0.67193\n",
      "[6]\tvalidation_0-logloss:0.67626\n",
      "[7]\tvalidation_0-logloss:0.67428\n",
      "[0]\tvalidation_0-logloss:0.68725\n",
      "[0]\tvalidation_0-logloss:0.68128\n",
      "[8]\tvalidation_0-logloss:0.67276\n",
      "[4]\tvalidation_0-logloss:0.67972\n",
      "[9]\tvalidation_0-logloss:0.67027\n",
      "[7]\tvalidation_0-logloss:0.67454\n",
      "[1]\tvalidation_0-logloss:0.67409\n",
      "[8]\tvalidation_0-logloss:0.67249\n",
      "[9]\tvalidation_0-logloss:0.67109\n",
      "[1]\tvalidation_0-logloss:0.68528\n",
      "[2]\tvalidation_0-logloss:0.66740\n",
      "[5]\tvalidation_0-logloss:0.67785\n",
      "[9]\tvalidation_0-logloss:0.67083\n",
      "[8]\tvalidation_0-logloss:0.67286\n",
      "[3]\tvalidation_0-logloss:0.66133\n",
      "[9]\tvalidation_0-logloss:0.67123\n",
      "[0]\tvalidation_0-logloss:0.68128\n",
      "[6]\tvalidation_0-logloss:0.67608\n",
      "[2]\tvalidation_0-logloss:0.68333\n",
      "[4]\tvalidation_0-logloss:0.65599\n",
      "[1]\tvalidation_0-logloss:0.67399\n",
      "[0]\tvalidation_0-logloss:0.68118\n",
      "[7]\tvalidation_0-logloss:0.67433\n",
      "[5]\tvalidation_0-logloss:0.65071\n",
      "[2]\tvalidation_0-logloss:0.66739\n",
      "[3]\tvalidation_0-logloss:0.68149\n",
      "[1]\tvalidation_0-logloss:0.67386\n",
      "[8]\tvalidation_0-logloss:0.67262\n",
      "[6]\tvalidation_0-logloss:0.64546\n",
      "[3]\tvalidation_0-logloss:0.66117\n",
      "[4]\tvalidation_0-logloss:0.67964\n",
      "[2]\tvalidation_0-logloss:0.66696\n",
      "[7]\tvalidation_0-logloss:0.64058\n",
      "[4]\tvalidation_0-logloss:0.65581\n",
      "[9]\tvalidation_0-logloss:0.67093\n",
      "[3]\tvalidation_0-logloss:0.66078\n",
      "[0]\tvalidation_0-logloss:0.68119\n",
      "[5]\tvalidation_0-logloss:0.67787\n",
      "[0]\tvalidation_0-logloss:0.68122\n",
      "[8]\tvalidation_0-logloss:0.63649\n",
      "[0]\tvalidation_0-logloss:0.68127\n",
      "[5]\tvalidation_0-logloss:0.65050\n",
      "[1]\tvalidation_0-logloss:0.67389\n",
      "[4]\tvalidation_0-logloss:0.65505\n",
      "[9]\tvalidation_0-logloss:0.63239\n",
      "[1]\tvalidation_0-logloss:0.67397\n",
      "[6]\tvalidation_0-logloss:0.64556\n",
      "[1]\tvalidation_0-logloss:0.67391\n",
      "[6]\tvalidation_0-logloss:0.67607\n",
      "[5]\tvalidation_0-logloss:0.64967\n",
      "[2]\tvalidation_0-logloss:0.66679\n",
      "[2]\tvalidation_0-logloss:0.66730\n",
      "[2]\tvalidation_0-logloss:0.66713\n",
      "[7]\tvalidation_0-logloss:0.64057\n",
      "[7]\tvalidation_0-logloss:0.67439\n",
      "[0]\tvalidation_0-logloss:0.68120\n",
      "[6]\tvalidation_0-logloss:0.64455\n",
      "[3]\tvalidation_0-logloss:0.66085\n",
      "[3]\tvalidation_0-logloss:0.66084\n",
      "[8]\tvalidation_0-logloss:0.63629\n",
      "[3]\tvalidation_0-logloss:0.66094\n",
      "[8]\tvalidation_0-logloss:0.67265\n",
      "[1]\tvalidation_0-logloss:0.67398\n",
      "[4]\tvalidation_0-logloss:0.65471\n",
      "[7]\tvalidation_0-logloss:0.63983\n",
      "[9]\tvalidation_0-logloss:0.63192\n",
      "[4]\tvalidation_0-logloss:0.65534\n",
      "[4]\tvalidation_0-logloss:0.65524\n",
      "[5]\tvalidation_0-logloss:0.64931\n",
      "[2]\tvalidation_0-logloss:0.66746\n",
      "[8]\tvalidation_0-logloss:0.63533\n",
      "[5]\tvalidation_0-logloss:0.64975\n",
      "[0]\tvalidation_0-logloss:0.68115\n",
      "[5]\tvalidation_0-logloss:0.65011\n",
      "[9]\tvalidation_0-logloss:0.67102\n",
      "[3]\tvalidation_0-logloss:0.66078\n",
      "[9]\tvalidation_0-logloss:0.63112\n",
      "[6]\tvalidation_0-logloss:0.64442\n",
      "[0]\tvalidation_0-logloss:0.68107\n",
      "[6]\tvalidation_0-logloss:0.64490\n",
      "[0]\tvalidation_0-logloss:0.68119\n",
      "[6]\tvalidation_0-logloss:0.64506\n",
      "[1]\tvalidation_0-logloss:0.67375\n",
      "[4]\tvalidation_0-logloss:0.65519\n",
      "[7]\tvalidation_0-logloss:0.63998\n",
      "[1]\tvalidation_0-logloss:0.67357\n",
      "[7]\tvalidation_0-logloss:0.64007\n",
      "[1]\tvalidation_0-logloss:0.67392\n",
      "[5]\tvalidation_0-logloss:0.65004\n",
      "[8]\tvalidation_0-logloss:0.63552\n",
      "[2]\tvalidation_0-logloss:0.66692\n",
      "[7]\tvalidation_0-logloss:0.64030\n",
      "[2]\tvalidation_0-logloss:0.66669\n",
      "[8]\tvalidation_0-logloss:0.63567\n",
      "[6]\tvalidation_0-logloss:0.64484\n",
      "[3]\tvalidation_0-logloss:0.66082\n",
      "[9]\tvalidation_0-logloss:0.63097\n",
      "[2]\tvalidation_0-logloss:0.66706\n",
      "[8]\tvalidation_0-logloss:0.63605\n",
      "[3]\tvalidation_0-logloss:0.66048\n",
      "[9]\tvalidation_0-logloss:0.63144\n",
      "[4]\tvalidation_0-logloss:0.65472\n",
      "[7]\tvalidation_0-logloss:0.63967\n",
      "[9]\tvalidation_0-logloss:0.63189\n",
      "[4]\tvalidation_0-logloss:0.65449\n",
      "[3]\tvalidation_0-logloss:0.66085\n",
      "[5]\tvalidation_0-logloss:0.64916\n",
      "[5]\tvalidation_0-logloss:0.64914\n",
      "[8]\tvalidation_0-logloss:0.63527\n",
      "[6]\tvalidation_0-logloss:0.64428\n",
      "[7]\tvalidation_0-logloss:0.63938\n",
      "[4]\tvalidation_0-logloss:0.65504\n",
      "[6]\tvalidation_0-logloss:0.64396\n",
      "[9]\tvalidation_0-logloss:0.63114\n",
      "[8]\tvalidation_0-logloss:0.63503\n",
      "[5]\tvalidation_0-logloss:0.64978\n",
      "[0]\tvalidation_0-logloss:0.67940\n",
      "[9]\tvalidation_0-logloss:0.63054\n",
      "[7]\tvalidation_0-logloss:0.63930\n",
      "[0]\tvalidation_0-logloss:0.67958\n",
      "[6]\tvalidation_0-logloss:0.64472\n",
      "[0]\tvalidation_0-logloss:0.67963\n",
      "[8]\tvalidation_0-logloss:0.63485\n",
      "[1]\tvalidation_0-logloss:0.67008\n",
      "[1]\tvalidation_0-logloss:0.67046\n",
      "[7]\tvalidation_0-logloss:0.64001\n",
      "[9]\tvalidation_0-logloss:0.63056\n",
      "[0]\tvalidation_0-logloss:0.67952\n",
      "[1]\tvalidation_0-logloss:0.67098\n",
      "[0]\tvalidation_0-logloss:0.67978\n"
     ]
    },
    {
     "name": "stdout",
     "output_type": "stream",
     "text": [
      "[2]\tvalidation_0-logloss:0.66182\n",
      "[8]\tvalidation_0-logloss:0.63576\n",
      "[2]\tvalidation_0-logloss:0.66275\n",
      "[2]\tvalidation_0-logloss:0.66316\n",
      "[1]\tvalidation_0-logloss:0.67092\n",
      "[1]\tvalidation_0-logloss:0.67115\n",
      "[3]\tvalidation_0-logloss:0.65445\n",
      "[9]\tvalidation_0-logloss:0.63155\n",
      "[3]\tvalidation_0-logloss:0.65556\n",
      "[3]\tvalidation_0-logloss:0.65616\n",
      "[4]\tvalidation_0-logloss:0.64829\n",
      "[2]\tvalidation_0-logloss:0.66322\n",
      "[0]\tvalidation_0-logloss:0.67954\n",
      "[4]\tvalidation_0-logloss:0.64876\n",
      "[2]\tvalidation_0-logloss:0.66274\n",
      "[4]\tvalidation_0-logloss:0.64970\n",
      "[5]\tvalidation_0-logloss:0.64238\n",
      "[3]\tvalidation_0-logloss:0.65538\n",
      "[0]\tvalidation_0-logloss:0.67943\n",
      "[1]\tvalidation_0-logloss:0.67068\n",
      "[5]\tvalidation_0-logloss:0.64289\n",
      "[0]\tvalidation_0-logloss:0.67948\n",
      "[5]\tvalidation_0-logloss:0.64342\n",
      "[3]\tvalidation_0-logloss:0.65568\n",
      "[6]\tvalidation_0-logloss:0.63687\n",
      "[1]\tvalidation_0-logloss:0.67069\n",
      "[4]\tvalidation_0-logloss:0.64894\n",
      "[2]\tvalidation_0-logloss:0.66238\n",
      "[6]\tvalidation_0-logloss:0.63765\n",
      "[1]\tvalidation_0-logloss:0.67033\n",
      "[7]\tvalidation_0-logloss:0.63144\n",
      "[6]\tvalidation_0-logloss:0.63727\n",
      "[4]\tvalidation_0-logloss:0.64922\n",
      "[0]\tvalidation_0-logloss:0.67893\n",
      "[7]\tvalidation_0-logloss:0.63254\n",
      "[2]\tvalidation_0-logloss:0.66306\n",
      "[5]\tvalidation_0-logloss:0.64254\n",
      "[8]\tvalidation_0-logloss:0.62656\n",
      "[0]\tvalidation_0-logloss:0.67941\n",
      "[3]\tvalidation_0-logloss:0.65501\n",
      "[2]\tvalidation_0-logloss:0.66272\n",
      "[7]\tvalidation_0-logloss:0.63177\n",
      "[8]\tvalidation_0-logloss:0.62763\n",
      "[1]\tvalidation_0-logloss:0.66980\n",
      "[9]\tvalidation_0-logloss:0.62190\n",
      "[5]\tvalidation_0-logloss:0.64345\n",
      "[6]\tvalidation_0-logloss:0.63681\n",
      "[1]\tvalidation_0-logloss:0.67076\n",
      "[3]\tvalidation_0-logloss:0.65526\n",
      "[3]\tvalidation_0-logloss:0.65620\n",
      "[4]\tvalidation_0-logloss:0.64808\n",
      "[9]\tvalidation_0-logloss:0.62294\n",
      "[2]\tvalidation_0-logloss:0.66256\n",
      "[4]\tvalidation_0-logloss:0.64847\n",
      "[8]\tvalidation_0-logloss:0.62661\n",
      "[2]\tvalidation_0-logloss:0.66169\n",
      "[7]\tvalidation_0-logloss:0.63141\n",
      "[3]\tvalidation_0-logloss:0.65549\n",
      "[5]\tvalidation_0-logloss:0.64255\n",
      "[4]\tvalidation_0-logloss:0.64977\n",
      "[6]\tvalidation_0-logloss:0.63739\n",
      "[5]\tvalidation_0-logloss:0.64154\n",
      "[6]\tvalidation_0-logloss:0.63658\n",
      "[9]\tvalidation_0-logloss:0.62217\n",
      "[5]\tvalidation_0-logloss:0.64353\n",
      "[3]\tvalidation_0-logloss:0.65447\n",
      "[8]\tvalidation_0-logloss:0.62599\n",
      "[4]\tvalidation_0-logloss:0.64903\n",
      "[7]\tvalidation_0-logloss:0.63199\n",
      "[7]\tvalidation_0-logloss:0.63121\n",
      "[6]\tvalidation_0-logloss:0.63553\n",
      "[6]\tvalidation_0-logloss:0.63756\n",
      "[7]\tvalidation_0-logloss:0.63180\n",
      "[4]\tvalidation_0-logloss:0.64766\n",
      "[9]\tvalidation_0-logloss:0.62085\n",
      "[5]\tvalidation_0-logloss:0.64268\n",
      "[8]\tvalidation_0-logloss:0.62692\n",
      "[8]\tvalidation_0-logloss:0.62598\n",
      "[7]\tvalidation_0-logloss:0.62984\n",
      "[8]\tvalidation_0-logloss:0.62623\n",
      "[6]\tvalidation_0-logloss:0.63702\n",
      "[8]\tvalidation_0-logloss:0.62451\n",
      "[5]\tvalidation_0-logloss:0.64143\n",
      "[9]\tvalidation_0-logloss:0.62102\n",
      "[9]\tvalidation_0-logloss:0.62184\n",
      "[7]\tvalidation_0-logloss:0.63153\n",
      "[9]\tvalidation_0-logloss:0.62168\n",
      "[9]\tvalidation_0-logloss:0.61979\n",
      "[8]\tvalidation_0-logloss:0.62638\n",
      "[6]\tvalidation_0-logloss:0.63571\n",
      "[9]\tvalidation_0-logloss:0.62155\n",
      "[7]\tvalidation_0-logloss:0.63044\n",
      "[8]\tvalidation_0-logloss:0.62524\n",
      "[9]\tvalidation_0-logloss:0.62070\n",
      "[0]\tvalidation_0-logloss:0.67033\n",
      "[1]\tvalidation_0-logloss:0.65540\n",
      "[2]\tvalidation_0-logloss:0.64300\n",
      "[3]\tvalidation_0-logloss:0.63211\n",
      "[4]\tvalidation_0-logloss:0.62275\n",
      "[5]\tvalidation_0-logloss:0.61403\n",
      "[6]\tvalidation_0-logloss:0.60565\n",
      "[7]\tvalidation_0-logloss:0.59833\n",
      "[8]\tvalidation_0-logloss:0.59197\n",
      "[9]\tvalidation_0-logloss:0.58644\n"
     ]
    },
    {
     "data": {
      "text/html": [
       "<style>#sk-container-id-3 {color: black;background-color: white;}#sk-container-id-3 pre{padding: 0;}#sk-container-id-3 div.sk-toggleable {background-color: white;}#sk-container-id-3 label.sk-toggleable__label {cursor: pointer;display: block;width: 100%;margin-bottom: 0;padding: 0.3em;box-sizing: border-box;text-align: center;}#sk-container-id-3 label.sk-toggleable__label-arrow:before {content: \"▸\";float: left;margin-right: 0.25em;color: #696969;}#sk-container-id-3 label.sk-toggleable__label-arrow:hover:before {color: black;}#sk-container-id-3 div.sk-estimator:hover label.sk-toggleable__label-arrow:before {color: black;}#sk-container-id-3 div.sk-toggleable__content {max-height: 0;max-width: 0;overflow: hidden;text-align: left;background-color: #f0f8ff;}#sk-container-id-3 div.sk-toggleable__content pre {margin: 0.2em;color: black;border-radius: 0.25em;background-color: #f0f8ff;}#sk-container-id-3 input.sk-toggleable__control:checked~div.sk-toggleable__content {max-height: 200px;max-width: 100%;overflow: auto;}#sk-container-id-3 input.sk-toggleable__control:checked~label.sk-toggleable__label-arrow:before {content: \"▾\";}#sk-container-id-3 div.sk-estimator input.sk-toggleable__control:checked~label.sk-toggleable__label {background-color: #d4ebff;}#sk-container-id-3 div.sk-label input.sk-toggleable__control:checked~label.sk-toggleable__label {background-color: #d4ebff;}#sk-container-id-3 input.sk-hidden--visually {border: 0;clip: rect(1px 1px 1px 1px);clip: rect(1px, 1px, 1px, 1px);height: 1px;margin: -1px;overflow: hidden;padding: 0;position: absolute;width: 1px;}#sk-container-id-3 div.sk-estimator {font-family: monospace;background-color: #f0f8ff;border: 1px dotted black;border-radius: 0.25em;box-sizing: border-box;margin-bottom: 0.5em;}#sk-container-id-3 div.sk-estimator:hover {background-color: #d4ebff;}#sk-container-id-3 div.sk-parallel-item::after {content: \"\";width: 100%;border-bottom: 1px solid gray;flex-grow: 1;}#sk-container-id-3 div.sk-label:hover label.sk-toggleable__label {background-color: #d4ebff;}#sk-container-id-3 div.sk-serial::before {content: \"\";position: absolute;border-left: 1px solid gray;box-sizing: border-box;top: 0;bottom: 0;left: 50%;z-index: 0;}#sk-container-id-3 div.sk-serial {display: flex;flex-direction: column;align-items: center;background-color: white;padding-right: 0.2em;padding-left: 0.2em;position: relative;}#sk-container-id-3 div.sk-item {position: relative;z-index: 1;}#sk-container-id-3 div.sk-parallel {display: flex;align-items: stretch;justify-content: center;background-color: white;position: relative;}#sk-container-id-3 div.sk-item::before, #sk-container-id-3 div.sk-parallel-item::before {content: \"\";position: absolute;border-left: 1px solid gray;box-sizing: border-box;top: 0;bottom: 0;left: 50%;z-index: -1;}#sk-container-id-3 div.sk-parallel-item {display: flex;flex-direction: column;z-index: 1;position: relative;background-color: white;}#sk-container-id-3 div.sk-parallel-item:first-child::after {align-self: flex-end;width: 50%;}#sk-container-id-3 div.sk-parallel-item:last-child::after {align-self: flex-start;width: 50%;}#sk-container-id-3 div.sk-parallel-item:only-child::after {width: 0;}#sk-container-id-3 div.sk-dashed-wrapped {border: 1px dashed gray;margin: 0 0.4em 0.5em 0.4em;box-sizing: border-box;padding-bottom: 0.4em;background-color: white;}#sk-container-id-3 div.sk-label label {font-family: monospace;font-weight: bold;display: inline-block;line-height: 1.2em;}#sk-container-id-3 div.sk-label-container {text-align: center;}#sk-container-id-3 div.sk-container {/* jupyter's `normalize.less` sets `[hidden] { display: none; }` but bootstrap.min.css set `[hidden] { display: none !important; }` so we also need the `!important` here to be able to override the default hidden behavior on the sphinx rendered scikit-learn.org. See: https://github.com/scikit-learn/scikit-learn/issues/21755 */display: inline-block !important;position: relative;}#sk-container-id-3 div.sk-text-repr-fallback {display: none;}</style><div id=\"sk-container-id-3\" class=\"sk-top-container\"><div class=\"sk-text-repr-fallback\"><pre>GridSearchCV(cv=10,\n",
       "             estimator=XGBClassifier(base_score=None, booster=None,\n",
       "                                     callbacks=None, colsample_bylevel=None,\n",
       "                                     colsample_bynode=None,\n",
       "                                     colsample_bytree=None, device=None,\n",
       "                                     early_stopping_rounds=None,\n",
       "                                     enable_categorical=False, eval_metric=None,\n",
       "                                     feature_types=None, gamma=None,\n",
       "                                     grow_policy=None, importance_type=None,\n",
       "                                     interaction_constraints=None,\n",
       "                                     learning_rate=None...\n",
       "                                     max_cat_to_onehot=None,\n",
       "                                     max_delta_step=None, max_depth=None,\n",
       "                                     max_leaves=None, min_child_weight=None,\n",
       "                                     missing=nan, monotone_constraints=None,\n",
       "                                     multi_strategy=None, n_estimators=None,\n",
       "                                     n_jobs=None, nthread=4,\n",
       "                                     num_parallel_tree=None, ...),\n",
       "             n_jobs=10,\n",
       "             param_grid={&#x27;learning_rate&#x27;: [0.1, 0.01, 0.05],\n",
       "                         &#x27;max_depth&#x27;: range(2, 4),\n",
       "                         &#x27;n_estimators&#x27;: range(10, 20, 40)},\n",
       "             scoring=&#x27;roc_auc&#x27;, verbose=True)</pre><b>In a Jupyter environment, please rerun this cell to show the HTML representation or trust the notebook. <br />On GitHub, the HTML representation is unable to render, please try loading this page with nbviewer.org.</b></div><div class=\"sk-container\" hidden><div class=\"sk-item sk-dashed-wrapped\"><div class=\"sk-label-container\"><div class=\"sk-label sk-toggleable\"><input class=\"sk-toggleable__control sk-hidden--visually\" id=\"sk-estimator-id-5\" type=\"checkbox\" ><label for=\"sk-estimator-id-5\" class=\"sk-toggleable__label sk-toggleable__label-arrow\">GridSearchCV</label><div class=\"sk-toggleable__content\"><pre>GridSearchCV(cv=10,\n",
       "             estimator=XGBClassifier(base_score=None, booster=None,\n",
       "                                     callbacks=None, colsample_bylevel=None,\n",
       "                                     colsample_bynode=None,\n",
       "                                     colsample_bytree=None, device=None,\n",
       "                                     early_stopping_rounds=None,\n",
       "                                     enable_categorical=False, eval_metric=None,\n",
       "                                     feature_types=None, gamma=None,\n",
       "                                     grow_policy=None, importance_type=None,\n",
       "                                     interaction_constraints=None,\n",
       "                                     learning_rate=None...\n",
       "                                     max_cat_to_onehot=None,\n",
       "                                     max_delta_step=None, max_depth=None,\n",
       "                                     max_leaves=None, min_child_weight=None,\n",
       "                                     missing=nan, monotone_constraints=None,\n",
       "                                     multi_strategy=None, n_estimators=None,\n",
       "                                     n_jobs=None, nthread=4,\n",
       "                                     num_parallel_tree=None, ...),\n",
       "             n_jobs=10,\n",
       "             param_grid={&#x27;learning_rate&#x27;: [0.1, 0.01, 0.05],\n",
       "                         &#x27;max_depth&#x27;: range(2, 4),\n",
       "                         &#x27;n_estimators&#x27;: range(10, 20, 40)},\n",
       "             scoring=&#x27;roc_auc&#x27;, verbose=True)</pre></div></div></div><div class=\"sk-parallel\"><div class=\"sk-parallel-item\"><div class=\"sk-item\"><div class=\"sk-label-container\"><div class=\"sk-label sk-toggleable\"><input class=\"sk-toggleable__control sk-hidden--visually\" id=\"sk-estimator-id-6\" type=\"checkbox\" ><label for=\"sk-estimator-id-6\" class=\"sk-toggleable__label sk-toggleable__label-arrow\">estimator: XGBClassifier</label><div class=\"sk-toggleable__content\"><pre>XGBClassifier(base_score=None, booster=None, callbacks=None,\n",
       "              colsample_bylevel=None, colsample_bynode=None,\n",
       "              colsample_bytree=None, device=None, early_stopping_rounds=None,\n",
       "              enable_categorical=False, eval_metric=None, feature_types=None,\n",
       "              gamma=None, grow_policy=None, importance_type=None,\n",
       "              interaction_constraints=None, learning_rate=None, max_bin=None,\n",
       "              max_cat_threshold=None, max_cat_to_onehot=None,\n",
       "              max_delta_step=None, max_depth=None, max_leaves=None,\n",
       "              min_child_weight=None, missing=nan, monotone_constraints=None,\n",
       "              multi_strategy=None, n_estimators=None, n_jobs=None, nthread=4,\n",
       "              num_parallel_tree=None, ...)</pre></div></div></div><div class=\"sk-serial\"><div class=\"sk-item\"><div class=\"sk-estimator sk-toggleable\"><input class=\"sk-toggleable__control sk-hidden--visually\" id=\"sk-estimator-id-7\" type=\"checkbox\" ><label for=\"sk-estimator-id-7\" class=\"sk-toggleable__label sk-toggleable__label-arrow\">XGBClassifier</label><div class=\"sk-toggleable__content\"><pre>XGBClassifier(base_score=None, booster=None, callbacks=None,\n",
       "              colsample_bylevel=None, colsample_bynode=None,\n",
       "              colsample_bytree=None, device=None, early_stopping_rounds=None,\n",
       "              enable_categorical=False, eval_metric=None, feature_types=None,\n",
       "              gamma=None, grow_policy=None, importance_type=None,\n",
       "              interaction_constraints=None, learning_rate=None, max_bin=None,\n",
       "              max_cat_threshold=None, max_cat_to_onehot=None,\n",
       "              max_delta_step=None, max_depth=None, max_leaves=None,\n",
       "              min_child_weight=None, missing=nan, monotone_constraints=None,\n",
       "              multi_strategy=None, n_estimators=None, n_jobs=None, nthread=4,\n",
       "              num_parallel_tree=None, ...)</pre></div></div></div></div></div></div></div></div></div></div>"
      ],
      "text/plain": [
       "GridSearchCV(cv=10,\n",
       "             estimator=XGBClassifier(base_score=None, booster=None,\n",
       "                                     callbacks=None, colsample_bylevel=None,\n",
       "                                     colsample_bynode=None,\n",
       "                                     colsample_bytree=None, device=None,\n",
       "                                     early_stopping_rounds=None,\n",
       "                                     enable_categorical=False, eval_metric=None,\n",
       "                                     feature_types=None, gamma=None,\n",
       "                                     grow_policy=None, importance_type=None,\n",
       "                                     interaction_constraints=None,\n",
       "                                     learning_rate=None...\n",
       "                                     max_cat_to_onehot=None,\n",
       "                                     max_delta_step=None, max_depth=None,\n",
       "                                     max_leaves=None, min_child_weight=None,\n",
       "                                     missing=nan, monotone_constraints=None,\n",
       "                                     multi_strategy=None, n_estimators=None,\n",
       "                                     n_jobs=None, nthread=4,\n",
       "                                     num_parallel_tree=None, ...),\n",
       "             n_jobs=10,\n",
       "             param_grid={'learning_rate': [0.1, 0.01, 0.05],\n",
       "                         'max_depth': range(2, 4),\n",
       "                         'n_estimators': range(10, 20, 40)},\n",
       "             scoring='roc_auc', verbose=True)"
      ]
     },
     "execution_count": 45,
     "metadata": {},
     "output_type": "execute_result"
    }
   ],
   "source": []
  },
  {
   "cell_type": "code",
   "execution_count": 46,
   "metadata": {},
   "outputs": [
    {
     "data": {
      "text/html": [
       "<style>#sk-container-id-4 {color: black;background-color: white;}#sk-container-id-4 pre{padding: 0;}#sk-container-id-4 div.sk-toggleable {background-color: white;}#sk-container-id-4 label.sk-toggleable__label {cursor: pointer;display: block;width: 100%;margin-bottom: 0;padding: 0.3em;box-sizing: border-box;text-align: center;}#sk-container-id-4 label.sk-toggleable__label-arrow:before {content: \"▸\";float: left;margin-right: 0.25em;color: #696969;}#sk-container-id-4 label.sk-toggleable__label-arrow:hover:before {color: black;}#sk-container-id-4 div.sk-estimator:hover label.sk-toggleable__label-arrow:before {color: black;}#sk-container-id-4 div.sk-toggleable__content {max-height: 0;max-width: 0;overflow: hidden;text-align: left;background-color: #f0f8ff;}#sk-container-id-4 div.sk-toggleable__content pre {margin: 0.2em;color: black;border-radius: 0.25em;background-color: #f0f8ff;}#sk-container-id-4 input.sk-toggleable__control:checked~div.sk-toggleable__content {max-height: 200px;max-width: 100%;overflow: auto;}#sk-container-id-4 input.sk-toggleable__control:checked~label.sk-toggleable__label-arrow:before {content: \"▾\";}#sk-container-id-4 div.sk-estimator input.sk-toggleable__control:checked~label.sk-toggleable__label {background-color: #d4ebff;}#sk-container-id-4 div.sk-label input.sk-toggleable__control:checked~label.sk-toggleable__label {background-color: #d4ebff;}#sk-container-id-4 input.sk-hidden--visually {border: 0;clip: rect(1px 1px 1px 1px);clip: rect(1px, 1px, 1px, 1px);height: 1px;margin: -1px;overflow: hidden;padding: 0;position: absolute;width: 1px;}#sk-container-id-4 div.sk-estimator {font-family: monospace;background-color: #f0f8ff;border: 1px dotted black;border-radius: 0.25em;box-sizing: border-box;margin-bottom: 0.5em;}#sk-container-id-4 div.sk-estimator:hover {background-color: #d4ebff;}#sk-container-id-4 div.sk-parallel-item::after {content: \"\";width: 100%;border-bottom: 1px solid gray;flex-grow: 1;}#sk-container-id-4 div.sk-label:hover label.sk-toggleable__label {background-color: #d4ebff;}#sk-container-id-4 div.sk-serial::before {content: \"\";position: absolute;border-left: 1px solid gray;box-sizing: border-box;top: 0;bottom: 0;left: 50%;z-index: 0;}#sk-container-id-4 div.sk-serial {display: flex;flex-direction: column;align-items: center;background-color: white;padding-right: 0.2em;padding-left: 0.2em;position: relative;}#sk-container-id-4 div.sk-item {position: relative;z-index: 1;}#sk-container-id-4 div.sk-parallel {display: flex;align-items: stretch;justify-content: center;background-color: white;position: relative;}#sk-container-id-4 div.sk-item::before, #sk-container-id-4 div.sk-parallel-item::before {content: \"\";position: absolute;border-left: 1px solid gray;box-sizing: border-box;top: 0;bottom: 0;left: 50%;z-index: -1;}#sk-container-id-4 div.sk-parallel-item {display: flex;flex-direction: column;z-index: 1;position: relative;background-color: white;}#sk-container-id-4 div.sk-parallel-item:first-child::after {align-self: flex-end;width: 50%;}#sk-container-id-4 div.sk-parallel-item:last-child::after {align-self: flex-start;width: 50%;}#sk-container-id-4 div.sk-parallel-item:only-child::after {width: 0;}#sk-container-id-4 div.sk-dashed-wrapped {border: 1px dashed gray;margin: 0 0.4em 0.5em 0.4em;box-sizing: border-box;padding-bottom: 0.4em;background-color: white;}#sk-container-id-4 div.sk-label label {font-family: monospace;font-weight: bold;display: inline-block;line-height: 1.2em;}#sk-container-id-4 div.sk-label-container {text-align: center;}#sk-container-id-4 div.sk-container {/* jupyter's `normalize.less` sets `[hidden] { display: none; }` but bootstrap.min.css set `[hidden] { display: none !important; }` so we also need the `!important` here to be able to override the default hidden behavior on the sphinx rendered scikit-learn.org. See: https://github.com/scikit-learn/scikit-learn/issues/21755 */display: inline-block !important;position: relative;}#sk-container-id-4 div.sk-text-repr-fallback {display: none;}</style><div id=\"sk-container-id-4\" class=\"sk-top-container\"><div class=\"sk-text-repr-fallback\"><pre>XGBClassifier(base_score=None, booster=None, callbacks=None,\n",
       "              colsample_bylevel=None, colsample_bynode=None,\n",
       "              colsample_bytree=None, device=None, early_stopping_rounds=None,\n",
       "              enable_categorical=False, eval_metric=None, feature_types=None,\n",
       "              gamma=None, grow_policy=None, importance_type=None,\n",
       "              interaction_constraints=None, learning_rate=0.1, max_bin=None,\n",
       "              max_cat_threshold=None, max_cat_to_onehot=None,\n",
       "              max_delta_step=None, max_depth=3, max_leaves=None,\n",
       "              min_child_weight=None, missing=nan, monotone_constraints=None,\n",
       "              multi_strategy=None, n_estimators=10, n_jobs=None, nthread=4,\n",
       "              num_parallel_tree=None, ...)</pre><b>In a Jupyter environment, please rerun this cell to show the HTML representation or trust the notebook. <br />On GitHub, the HTML representation is unable to render, please try loading this page with nbviewer.org.</b></div><div class=\"sk-container\" hidden><div class=\"sk-item\"><div class=\"sk-estimator sk-toggleable\"><input class=\"sk-toggleable__control sk-hidden--visually\" id=\"sk-estimator-id-8\" type=\"checkbox\" checked><label for=\"sk-estimator-id-8\" class=\"sk-toggleable__label sk-toggleable__label-arrow\">XGBClassifier</label><div class=\"sk-toggleable__content\"><pre>XGBClassifier(base_score=None, booster=None, callbacks=None,\n",
       "              colsample_bylevel=None, colsample_bynode=None,\n",
       "              colsample_bytree=None, device=None, early_stopping_rounds=None,\n",
       "              enable_categorical=False, eval_metric=None, feature_types=None,\n",
       "              gamma=None, grow_policy=None, importance_type=None,\n",
       "              interaction_constraints=None, learning_rate=0.1, max_bin=None,\n",
       "              max_cat_threshold=None, max_cat_to_onehot=None,\n",
       "              max_delta_step=None, max_depth=3, max_leaves=None,\n",
       "              min_child_weight=None, missing=nan, monotone_constraints=None,\n",
       "              multi_strategy=None, n_estimators=10, n_jobs=None, nthread=4,\n",
       "              num_parallel_tree=None, ...)</pre></div></div></div></div></div>"
      ],
      "text/plain": [
       "XGBClassifier(base_score=None, booster=None, callbacks=None,\n",
       "              colsample_bylevel=None, colsample_bynode=None,\n",
       "              colsample_bytree=None, device=None, early_stopping_rounds=None,\n",
       "              enable_categorical=False, eval_metric=None, feature_types=None,\n",
       "              gamma=None, grow_policy=None, importance_type=None,\n",
       "              interaction_constraints=None, learning_rate=0.1, max_bin=None,\n",
       "              max_cat_threshold=None, max_cat_to_onehot=None,\n",
       "              max_delta_step=None, max_depth=3, max_leaves=None,\n",
       "              min_child_weight=None, missing=nan, monotone_constraints=None,\n",
       "              multi_strategy=None, n_estimators=10, n_jobs=None, nthread=4,\n",
       "              num_parallel_tree=None, ...)"
      ]
     },
     "execution_count": 46,
     "metadata": {},
     "output_type": "execute_result"
    }
   ],
   "source": [
    "grid_search.best_estimator_"
   ]
  },
  {
   "cell_type": "code",
   "execution_count": 47,
   "metadata": {},
   "outputs": [
    {
     "ename": "AttributeError",
     "evalue": "'XGBClassifier' object has no attribute 'copy'",
     "output_type": "error",
     "traceback": [
      "\u001b[0;31m---------------------------------------------------------------------------\u001b[0m",
      "\u001b[0;31mAttributeError\u001b[0m                            Traceback (most recent call last)",
      "Cell \u001b[0;32mIn[47], line 1\u001b[0m\n\u001b[0;32m----> 1\u001b[0m _grid_params \u001b[38;5;241m=\u001b[39m \u001b[43mgrid_search\u001b[49m\u001b[38;5;241;43m.\u001b[39;49m\u001b[43mbest_estimator_\u001b[49m\u001b[38;5;241;43m.\u001b[39;49m\u001b[43mcopy\u001b[49m()\n\u001b[1;32m      2\u001b[0m target_valid \u001b[38;5;241m=\u001b[39m data_valid\u001b[38;5;241m.\u001b[39mjoin(gender_train, how\u001b[38;5;241m=\u001b[39m\u001b[38;5;124m'\u001b[39m\u001b[38;5;124minner\u001b[39m\u001b[38;5;124m'\u001b[39m)[\u001b[38;5;124m'\u001b[39m\u001b[38;5;124mgender\u001b[39m\u001b[38;5;124m'\u001b[39m]\n\u001b[1;32m      3\u001b[0m cv_score(grid_params, data_valid, target_valid)\n",
      "\u001b[0;31mAttributeError\u001b[0m: 'XGBClassifier' object has no attribute 'copy'"
     ]
    }
   ],
   "source": [
    "grid_search.best_estimator_.predict()\n",
    "target_valid = data_valid.join(gender_train, how='inner')['gender']\n",
    "cv_score(grid_params, data_valid, target_valid)"
   ]
  },
  {
   "cell_type": "code",
   "execution_count": null,
   "metadata": {},
   "outputs": [],
   "source": []
  },
  {
   "cell_type": "code",
   "execution_count": 30,
   "metadata": {
    "ExecuteTime": {
     "end_time": "2019-03-05T17:37:28.426836Z",
     "start_time": "2019-03-05T17:37:28.308620Z"
    }
   },
   "outputs": [
    {
     "data": {
      "image/png": "[encoded data removed]",
      "text/plain": [
       "<Figure size 720x720 with 1 Axes>"
      ]
     },
     "metadata": {
      "needs_background": "light"
     },
     "output_type": "display_data"
    }
   ],
   "source": [
    "draw_feature_importances(clf, 10)"
   ]
  },
  {
   "cell_type": "markdown",
   "metadata": {
    "heading_collapsed": true
   },
   "source": [
    "<font size=3>Добавление новых переменных улучшило наши результаты ROC AUC с <b>62.2%</b> до <font color='red'><b>68.4%</b></font>, на тестовой выборке результат будет аналогичным, так что мы явно не переобучились. При этом есть куда стремиться!"
   ]
  },
  {
   "cell_type": "code",
   "execution_count": 268,
   "metadata": {
    "ExecuteTime": {
     "end_time": "2019-03-05T17:37:28.448839Z",
     "start_time": "2019-03-05T17:37:28.438234Z"
    },
    "tags": []
   },
   "outputs": [],
   "source": [
    "# Сохраняем результат моделирования\n",
    "\n",
    "submission.to_csv('advanced_features_submission.csv')"
   ]
  },
  {
   "cell_type": "markdown",
   "metadata": {},
   "source": [
    "### <font color='red'>Цель задания:\n",
    "Полученная модель должна иметь ROC AUC на Public-части тестовой выборки (на лидерборде) <b>не менее 80%."
   ]
  },
  {
   "cell_type": "code",
   "execution_count": 344,
   "metadata": {},
   "outputs": [],
   "source": [
    "tr_mcc_codes = pd.read_csv(os.path.join(PATH_DATA, 'mcc_codes.csv'), sep=';', index_col='mcc_code')\n",
    "tr_types = pd.read_csv(os.path.join(PATH_DATA, 'trans_types.csv'), sep=';', index_col='trans_type')\n",
    "\n",
    "transactions = pd.read_csv(os.path.join(PATH_DATA, 'transactions.csv'), index_col='client_id')\n",
    "gender_train = pd.read_csv(os.path.join(PATH_DATA, 'train.csv'), index_col='client_id')\n",
    "gender_test = pd.read_csv(os.path.join(PATH_DATA, 'test.csv'), index_col='client_id')\n",
    "transactions_train = transactions.join(gender_train, how='inner')\n",
    "transactions_test = transactions.join(gender_test, how='inner')\n",
    "\n",
    "#tr_mcc_codes = pd.read_csv('/kaggle/input/python-and-analyze-data-final-project/tr_mcc_codes.csv', sep=';', index_col='mcc_code')\n",
    "#tr_types = pd.read_csv('/kaggle/input/python-and-analyze-data-final-project/tr_types.csv', sep=';', index_col='tr_type')\n",
    "#transactions = pd.read_csv('/kaggle/input/python-and-analyze-data-final-project/transactions.csv', index_col='customer_id')\n",
    "#gender_train = pd.read_csv('/kaggle/input/python-and-analyze-data-final-project/gender_train.csv', index_col='customer_id')\n",
    "#gender_test = pd.read_csv('/kaggle/input/python-and-analyze-data-final-project/gender_test_kaggle_sample_submission.csv', index_col='customer_id')\n",
    "#transactions_train = transactions.join(gender_train, how='inner')\n",
    "#transactions_test = transactions.join(gender_test, how='inner')\n"
   ]
  },
  {
   "cell_type": "code",
   "execution_count": 345,
   "metadata": {},
   "outputs": [
    {
     "data": {
      "text/html": [
       "<div>\n",
       "<style scoped>\n",
       "    .dataframe tbody tr th:only-of-type {\n",
       "        vertical-align: middle;\n",
       "    }\n",
       "\n",
       "    .dataframe tbody tr th {\n",
       "        vertical-align: top;\n",
       "    }\n",
       "\n",
       "    .dataframe thead th {\n",
       "        text-align: right;\n",
       "    }\n",
       "</style>\n",
       "<table border=\"1\" class=\"dataframe\">\n",
       "  <thead>\n",
       "    <tr style=\"text-align: right;\">\n",
       "      <th></th>\n",
       "      <th>trans_time</th>\n",
       "      <th>mcc_code</th>\n",
       "      <th>trans_type</th>\n",
       "      <th>amount</th>\n",
       "      <th>term_id</th>\n",
       "      <th>trans_city</th>\n",
       "      <th>Unnamed: 0</th>\n",
       "      <th>gender</th>\n",
       "      <th>day</th>\n",
       "      <th>hour</th>\n",
       "      <th>night</th>\n",
       "    </tr>\n",
       "    <tr>\n",
       "      <th>client_id</th>\n",
       "      <th></th>\n",
       "      <th></th>\n",
       "      <th></th>\n",
       "      <th></th>\n",
       "      <th></th>\n",
       "      <th></th>\n",
       "      <th></th>\n",
       "      <th></th>\n",
       "      <th></th>\n",
       "      <th></th>\n",
       "      <th></th>\n",
       "    </tr>\n",
       "  </thead>\n",
       "  <tbody>\n",
       "    <tr>\n",
       "      <th>0002cf30347684df542e1a931f356875</th>\n",
       "      <td>313 14:52:03</td>\n",
       "      <td>4829</td>\n",
       "      <td>2370</td>\n",
       "      <td>-2170.07</td>\n",
       "      <td>888990</td>\n",
       "      <td>Saint Petersburg</td>\n",
       "      <td>6806</td>\n",
       "      <td>0</td>\n",
       "      <td>5</td>\n",
       "      <td>14</td>\n",
       "      <td>-2</td>\n",
       "    </tr>\n",
       "    <tr>\n",
       "      <th>0002cf30347684df542e1a931f356875</th>\n",
       "      <td>150 14:10:49</td>\n",
       "      <td>6011</td>\n",
       "      <td>2010</td>\n",
       "      <td>-1445.64</td>\n",
       "      <td>NaN</td>\n",
       "      <td>Saint Petersburg</td>\n",
       "      <td>6806</td>\n",
       "      <td>0</td>\n",
       "      <td>3</td>\n",
       "      <td>14</td>\n",
       "      <td>-2</td>\n",
       "    </tr>\n",
       "    <tr>\n",
       "      <th>0002cf30347684df542e1a931f356875</th>\n",
       "      <td>122 12:38:32</td>\n",
       "      <td>5912</td>\n",
       "      <td>1010</td>\n",
       "      <td>-107.07</td>\n",
       "      <td>NaN</td>\n",
       "      <td>Saint Petersburg</td>\n",
       "      <td>6806</td>\n",
       "      <td>0</td>\n",
       "      <td>3</td>\n",
       "      <td>12</td>\n",
       "      <td>-2</td>\n",
       "    </tr>\n",
       "    <tr>\n",
       "      <th>0002cf30347684df542e1a931f356875</th>\n",
       "      <td>159 13:22:34</td>\n",
       "      <td>6011</td>\n",
       "      <td>2010</td>\n",
       "      <td>-2892.86</td>\n",
       "      <td>NaN</td>\n",
       "      <td>Saint Petersburg</td>\n",
       "      <td>6806</td>\n",
       "      <td>0</td>\n",
       "      <td>5</td>\n",
       "      <td>13</td>\n",
       "      <td>-2</td>\n",
       "    </tr>\n",
       "    <tr>\n",
       "      <th>0002cf30347684df542e1a931f356875</th>\n",
       "      <td>257 12:06:54</td>\n",
       "      <td>5912</td>\n",
       "      <td>1010</td>\n",
       "      <td>-164.49</td>\n",
       "      <td>469965</td>\n",
       "      <td>Saint Petersburg</td>\n",
       "      <td>6806</td>\n",
       "      <td>0</td>\n",
       "      <td>5</td>\n",
       "      <td>12</td>\n",
       "      <td>-2</td>\n",
       "    </tr>\n",
       "  </tbody>\n",
       "</table>\n",
       "</div>"
      ],
      "text/plain": [
       "                                    trans_time  mcc_code  trans_type   amount   \n",
       "client_id                                                                       \n",
       "0002cf30347684df542e1a931f356875  313 14:52:03      4829        2370 -2170.07  \\\n",
       "0002cf30347684df542e1a931f356875  150 14:10:49      6011        2010 -1445.64   \n",
       "0002cf30347684df542e1a931f356875  122 12:38:32      5912        1010  -107.07   \n",
       "0002cf30347684df542e1a931f356875  159 13:22:34      6011        2010 -2892.86   \n",
       "0002cf30347684df542e1a931f356875  257 12:06:54      5912        1010  -164.49   \n",
       "\n",
       "                                 term_id        trans_city  Unnamed: 0   \n",
       "client_id                                                                \n",
       "0002cf30347684df542e1a931f356875  888990  Saint Petersburg        6806  \\\n",
       "0002cf30347684df542e1a931f356875     NaN  Saint Petersburg        6806   \n",
       "0002cf30347684df542e1a931f356875     NaN  Saint Petersburg        6806   \n",
       "0002cf30347684df542e1a931f356875     NaN  Saint Petersburg        6806   \n",
       "0002cf30347684df542e1a931f356875  469965  Saint Petersburg        6806   \n",
       "\n",
       "                                  gender  day  hour  night  \n",
       "client_id                                                   \n",
       "0002cf30347684df542e1a931f356875       0    5    14     -2  \n",
       "0002cf30347684df542e1a931f356875       0    3    14     -2  \n",
       "0002cf30347684df542e1a931f356875       0    3    12     -2  \n",
       "0002cf30347684df542e1a931f356875       0    5    13     -2  \n",
       "0002cf30347684df542e1a931f356875       0    5    12     -2  "
      ]
     },
     "execution_count": 345,
     "metadata": {},
     "output_type": "execute_result"
    }
   ],
   "source": [
    "for df in [transactions_train, transactions_test]:\n",
    "    df['day'] = df['trans_time'].str.split().apply(lambda x: int(x[0]) % 7)\n",
    "    df['hour'] = df['trans_time'].apply(lambda x: re.search(' \\d*', x).group(0)).astype(int)\n",
    "    df['night'] = ~df['hour'].between(6, 22).astype(int)\n",
    "\n",
    "transactions_train.head()"
   ]
  },
  {
   "cell_type": "code",
   "execution_count": 356,
   "metadata": {},
   "outputs": [],
   "source": [
    "tqdm_notebook.pandas(desc=\"Progress:\")\n",
    "\n",
    "def features_creation_advanced(x): \n",
    "    features = []\n",
    "    features.append(pd.Series(x['day'].value_counts(normalize=True).add_prefix('day_')))\n",
    "    features.append(pd.Series(x['hour'].value_counts(normalize=True).add_prefix('hour_')))\n",
    "    features.append(pd.Series(x['night'].value_counts(normalize=True).add_prefix('night_')))\n",
    "    \n",
    "    features.append(pd.Series(x[x['amount']>=0]['amount'].agg(['min', 'max', 'mean', 'median', 'std', 'count', 'sum', 'var'])\\\n",
    "                                                        .add_prefix('positive_transactions_')))\n",
    "    features.append(pd.Series(x[x['amount']<0]['amount'].agg(['min', 'max', 'mean', 'median', 'std', 'count', 'sum', 'var'])\\\n",
    "                                                        .add_prefix('negative_transactions_')))\n",
    "\n",
    "    features.append(pd.Series(x['mcc_code'].value_counts(normalize=True).add_prefix('mcc_')))\n",
    "    features.append(pd.Series(x['trans_type'].value_counts(normalize=True).add_prefix('trans_')))\n",
    "    \n",
    "    \n",
    "    return pd.concat(features)"
   ]
  },
  {
   "cell_type": "code",
   "execution_count": 357,
   "metadata": {},
   "outputs": [
    {
     "data": {
      "application/vnd.jupyter.widget-view+json": {
       "model_id": "748e62c1d67845fcb551e81c6ed346bb",
       "version_major": 2,
       "version_minor": 0
      },
      "text/plain": [
       "Progress::   0%|          | 0/7560 [00:00<?, ?it/s]"
      ]
     },
     "metadata": {},
     "output_type": "display_data"
    },
    {
     "data": {
      "application/vnd.jupyter.widget-view+json": {
       "model_id": "4dbcdaac85a4439e837459ce2740853d",
       "version_major": 2,
       "version_minor": 0
      },
      "text/plain": [
       "Progress::   0%|          | 0/840 [00:00<?, ?it/s]"
      ]
     },
     "metadata": {},
     "output_type": "display_data"
    },
    {
     "data": {
      "text/plain": [
       "gender\n",
       "0    4199\n",
       "1    3361\n",
       "Name: count, dtype: int64"
      ]
     },
     "execution_count": 357,
     "metadata": {},
     "output_type": "execute_result"
    }
   ],
   "source": [
    "data_train = transactions_train.groupby(transactions_train.index)\\\n",
    "                               .progress_apply(features_creation_advanced).unstack(-1)\n",
    "data_test = transactions_test.groupby(transactions_test.index)\\\n",
    "                             .progress_apply(features_creation_advanced).unstack(-1)\n",
    "\n",
    "target = data_train.join(gender_train, how='inner')['gender']\n",
    "target.value_counts()"
   ]
  },
  {
   "cell_type": "code",
   "execution_count": 358,
   "metadata": {},
   "outputs": [
    {
     "name": "stdout",
     "output_type": "stream",
     "text": [
      "(7560, 308)\n",
      "(840, 297)\n"
     ]
    }
   ],
   "source": [
    "print(data_train.shape)\n",
    "print(data_test.shape)"
   ]
  },
  {
   "cell_type": "code",
   "execution_count": 359,
   "metadata": {},
   "outputs": [
    {
     "name": "stdout",
     "output_type": "stream",
     "text": [
      "(7560, 297)\n"
     ]
    }
   ],
   "source": [
    "a = np.intersect1d(data_train.columns, data_test.columns)\n",
    "data_train = data_train[a]\n",
    "print(data_train.shape)"
   ]
  },
  {
   "cell_type": "code",
   "execution_count": 360,
   "metadata": {},
   "outputs": [
    {
     "data": {
      "text/plain": [
       "((7560, 297), (840, 297))"
      ]
     },
     "execution_count": 360,
     "metadata": {},
     "output_type": "execute_result"
    }
   ],
   "source": [
    "X = data_train.copy()\n",
    "y = target\n",
    "test_df = data_test.copy()\n",
    "\n",
    "X.fillna(-1, inplace=True)\n",
    "test_df.fillna(-1, inplace=True)\n",
    "\n",
    "scaler = MinMaxScaler()\n",
    "X = scaler.fit_transform(X)\n",
    "test_df = scaler.fit_transform(test_df)\n",
    "\n",
    "X.shape, test_df.shape"
   ]
  },
  {
   "cell_type": "code",
   "execution_count": 361,
   "metadata": {},
   "outputs": [
    {
     "data": {
      "text/plain": [
       "297"
      ]
     },
     "execution_count": 361,
     "metadata": {},
     "output_type": "execute_result"
    }
   ],
   "source": [
    "test_df.shape[1]"
   ]
  },
  {
   "cell_type": "code",
   "execution_count": 362,
   "metadata": {},
   "outputs": [],
   "source": [
    "from keras.models import Sequential\n",
    "from keras.layers import Dense\n",
    "from keras.layers import BatchNormalization\n",
    "import tensorflow as tf\n",
    "input_dim = test_df.shape[1]\n",
    "model_keras = Sequential()\n",
    "model_keras.add(Dense(256, activation='sigmoid', input_dim=input_dim))\n",
    "model_keras.add(BatchNormalization())\n",
    "model_keras.add(Dense(1024, activation='relu'))\n",
    "model_keras.add(BatchNormalization())\n",
    "model_keras.add(Dense(256, activation='sigmoid'))\n",
    "model_keras.add(Dense(32, activation='relu'))\n",
    "model_keras.add(Dense(1, activation='sigmoid'))\n",
    "\n",
    "# Compile the model_keras\n",
    "model_keras.compile(optimizer='adam', \n",
    "              loss='binary_crossentropy', \n",
    "              metrics=[tf.keras.metrics.AUC()])"
   ]
  },
  {
   "cell_type": "code",
   "execution_count": 363,
   "metadata": {},
   "outputs": [
    {
     "name": "stdout",
     "output_type": "stream",
     "text": [
      "Epoch 1/100\n",
      "95/95 [==============================] - 4s 18ms/step - loss: 0.5285 - auc_21: 0.8112 - val_loss: 0.6495 - val_auc_21: 0.8362 - lr: 0.0010\n",
      "Epoch 2/100\n",
      "95/95 [==============================] - 1s 14ms/step - loss: 0.4405 - auc_21: 0.8721 - val_loss: 0.6098 - val_auc_21: 0.8483 - lr: 0.0010\n",
      "Epoch 3/100\n",
      "95/95 [==============================] - 1s 13ms/step - loss: 0.3992 - auc_21: 0.8958 - val_loss: 0.5519 - val_auc_21: 0.8367 - lr: 0.0010\n",
      "Epoch 4/100\n",
      "95/95 [==============================] - 1s 12ms/step - loss: 0.3535 - auc_21: 0.9195 - val_loss: 0.5148 - val_auc_21: 0.8321 - lr: 0.0010\n",
      "Epoch 5/100\n",
      "95/95 [==============================] - 1s 11ms/step - loss: 0.3154 - auc_21: 0.9370 - val_loss: 0.5489 - val_auc_21: 0.8224 - lr: 0.0010\n",
      "Epoch 6/100\n",
      "95/95 [==============================] - 1s 11ms/step - loss: 0.2758 - auc_21: 0.9520 - val_loss: 0.6166 - val_auc_21: 0.8156 - lr: 0.0010\n",
      "Epoch 7/100\n",
      "95/95 [==============================] - 1s 11ms/step - loss: 0.2385 - auc_21: 0.9651 - val_loss: 0.7305 - val_auc_21: 0.8038 - lr: 0.0010\n",
      "Epoch 8/100\n",
      "95/95 [==============================] - 1s 10ms/step - loss: 0.2023 - auc_21: 0.9748 - val_loss: 0.8046 - val_auc_21: 0.7986 - lr: 0.0010\n",
      "Epoch 9/100\n",
      "95/95 [==============================] - 1s 11ms/step - loss: 0.1760 - auc_21: 0.9814 - val_loss: 0.8830 - val_auc_21: 0.7946 - lr: 0.0010\n",
      "Epoch 10/100\n",
      "95/95 [==============================] - 1s 11ms/step - loss: 0.1531 - auc_21: 0.9858 - val_loss: 1.0227 - val_auc_21: 0.7870 - lr: 0.0010\n",
      "Epoch 11/100\n",
      "95/95 [==============================] - ETA: 0s - loss: 0.1464 - auc_21: 0.9868\n",
      "Epoch 11: ReduceLROnPlateau reducing learning rate to 0.00010000000474974513.\n",
      "95/95 [==============================] - 1s 11ms/step - loss: 0.1464 - auc_21: 0.9868 - val_loss: 0.9697 - val_auc_21: 0.7905 - lr: 0.0010\n",
      "Epoch 12/100\n",
      "95/95 [==============================] - 1s 11ms/step - loss: 0.1036 - auc_21: 0.9950 - val_loss: 0.8578 - val_auc_21: 0.8020 - lr: 1.0000e-04\n",
      "Epoch 13/100\n",
      "95/95 [==============================] - 1s 12ms/step - loss: 0.0768 - auc_21: 0.9977 - val_loss: 0.8807 - val_auc_21: 0.8060 - lr: 1.0000e-04\n",
      "Epoch 14/100\n",
      "95/95 [==============================] - 1s 10ms/step - loss: 0.0683 - auc_21: 0.9985 - val_loss: 0.9018 - val_auc_21: 0.8019 - lr: 1.0000e-04\n",
      "27/27 [==============================] - 0s 3ms/step\n"
     ]
    },
    {
     "data": {
      "text/html": [
       "<div>\n",
       "<style scoped>\n",
       "    .dataframe tbody tr th:only-of-type {\n",
       "        vertical-align: middle;\n",
       "    }\n",
       "\n",
       "    .dataframe tbody tr th {\n",
       "        vertical-align: top;\n",
       "    }\n",
       "\n",
       "    .dataframe thead th {\n",
       "        text-align: right;\n",
       "    }\n",
       "</style>\n",
       "<table border=\"1\" class=\"dataframe\">\n",
       "  <thead>\n",
       "    <tr style=\"text-align: right;\">\n",
       "      <th></th>\n",
       "      <th>probability</th>\n",
       "    </tr>\n",
       "    <tr>\n",
       "      <th>client_id</th>\n",
       "      <th></th>\n",
       "    </tr>\n",
       "  </thead>\n",
       "  <tbody>\n",
       "    <tr>\n",
       "      <th>002218c52073faaf23bb26df2cffb138</th>\n",
       "      <td>0.946398</td>\n",
       "    </tr>\n",
       "    <tr>\n",
       "      <th>0069d4050c7aeb341317e2e125e8fd2e</th>\n",
       "      <td>0.022844</td>\n",
       "    </tr>\n",
       "    <tr>\n",
       "      <th>0083fb89aea18c408a5534cdd38d7692</th>\n",
       "      <td>0.021277</td>\n",
       "    </tr>\n",
       "    <tr>\n",
       "      <th>014021fa559786c81e9e1d48d378aabb</th>\n",
       "      <td>0.997060</td>\n",
       "    </tr>\n",
       "    <tr>\n",
       "      <th>01759f92152bbb3de79f9493a4a5cd6d</th>\n",
       "      <td>0.674173</td>\n",
       "    </tr>\n",
       "  </tbody>\n",
       "</table>\n",
       "</div>"
      ],
      "text/plain": [
       "                                  probability\n",
       "client_id                                    \n",
       "002218c52073faaf23bb26df2cffb138     0.946398\n",
       "0069d4050c7aeb341317e2e125e8fd2e     0.022844\n",
       "0083fb89aea18c408a5534cdd38d7692     0.021277\n",
       "014021fa559786c81e9e1d48d378aabb     0.997060\n",
       "01759f92152bbb3de79f9493a4a5cd6d     0.674173"
      ]
     },
     "execution_count": 363,
     "metadata": {},
     "output_type": "execute_result"
    }
   ],
   "source": [
    "earlyStopping = tf.keras.callbacks.EarlyStopping(monitor='val_loss', patience=10, verbose=0, mode='min')\n",
    "mcp_save = tf.keras.callbacks.ModelCheckpoint('.mdl_wts.hdf5', save_best_only=True, monitor='val_loss', mode='min')\n",
    "reduce_lr_loss = tf.keras.callbacks.ReduceLROnPlateau(monitor='val_loss', factor=0.1, patience=7, verbose=1, min_delta=1e-4, mode='min')\n",
    "\n",
    "model_keras.fit(\n",
    "    X, \n",
    "    y, \n",
    "    epochs=100, \n",
    "    validation_split=0.2, \n",
    "    batch_size=64,\n",
    "    verbose=1,\n",
    "    callbacks=[earlyStopping, mcp_save, reduce_lr_loss]\n",
    ")\n",
    "\n",
    "y_pred = model_keras.predict(test_df)\n",
    "\n",
    "submission = pd.DataFrame(index=data_test.index)\n",
    "submission['probability'] = y_pred\n",
    "submission.to_csv('submission_kears.csv')\n",
    "submission.head()"
   ]
  },
  {
   "cell_type": "code",
   "execution_count": 368,
   "metadata": {},
   "outputs": [
    {
     "name": "stdout",
     "output_type": "stream",
     "text": [
      "27/27 [==============================] - 0s 3ms/step\n"
     ]
    },
    {
     "data": {
      "text/html": [
       "<div>\n",
       "<style scoped>\n",
       "    .dataframe tbody tr th:only-of-type {\n",
       "        vertical-align: middle;\n",
       "    }\n",
       "\n",
       "    .dataframe tbody tr th {\n",
       "        vertical-align: top;\n",
       "    }\n",
       "\n",
       "    .dataframe thead th {\n",
       "        text-align: right;\n",
       "    }\n",
       "</style>\n",
       "<table border=\"1\" class=\"dataframe\">\n",
       "  <thead>\n",
       "    <tr style=\"text-align: right;\">\n",
       "      <th></th>\n",
       "      <th>probability</th>\n",
       "    </tr>\n",
       "    <tr>\n",
       "      <th>client_id</th>\n",
       "      <th></th>\n",
       "    </tr>\n",
       "  </thead>\n",
       "  <tbody>\n",
       "    <tr>\n",
       "      <th>002218c52073faaf23bb26df2cffb138</th>\n",
       "      <td>0.808804</td>\n",
       "    </tr>\n",
       "    <tr>\n",
       "      <th>0069d4050c7aeb341317e2e125e8fd2e</th>\n",
       "      <td>0.445945</td>\n",
       "    </tr>\n",
       "    <tr>\n",
       "      <th>0083fb89aea18c408a5534cdd38d7692</th>\n",
       "      <td>0.169912</td>\n",
       "    </tr>\n",
       "    <tr>\n",
       "      <th>014021fa559786c81e9e1d48d378aabb</th>\n",
       "      <td>0.773650</td>\n",
       "    </tr>\n",
       "    <tr>\n",
       "      <th>01759f92152bbb3de79f9493a4a5cd6d</th>\n",
       "      <td>0.322024</td>\n",
       "    </tr>\n",
       "  </tbody>\n",
       "</table>\n",
       "</div>"
      ],
      "text/plain": [
       "                                  probability\n",
       "client_id                                    \n",
       "002218c52073faaf23bb26df2cffb138     0.808804\n",
       "0069d4050c7aeb341317e2e125e8fd2e     0.445945\n",
       "0083fb89aea18c408a5534cdd38d7692     0.169912\n",
       "014021fa559786c81e9e1d48d378aabb     0.773650\n",
       "01759f92152bbb3de79f9493a4a5cd6d     0.322024"
      ]
     },
     "execution_count": 368,
     "metadata": {},
     "output_type": "execute_result"
    }
   ],
   "source": [
    "from keras.models import load_model\n",
    "model = load_model('.mdl_wts.hdf5')\n",
    "\n",
    "y_pred = model.predict(test_df)\n",
    "\n",
    "submission = pd.DataFrame(index=data_test.index)\n",
    "submission['probability'] = y_pred\n",
    "#submission.to_csv('submission_kears.csv')\n",
    "submission.head()"
   ]
  },
  {
   "cell_type": "code",
   "execution_count": 369,
   "metadata": {},
   "outputs": [
    {
     "data": {
      "text/plain": [
       "['model.pkl']"
      ]
     },
     "execution_count": 369,
     "metadata": {},
     "output_type": "execute_result"
    }
   ],
   "source": [
    "joblib.dump(model_keras, MODEL_PATH)"
   ]
  },
  {
   "cell_type": "code",
   "execution_count": 374,
   "metadata": {},
   "outputs": [],
   "source": [
    "model = joblib.load(\"model.pkl\")\n"
   ]
  },
  {
   "cell_type": "code",
   "execution_count": 379,
   "metadata": {},
   "outputs": [],
   "source": [
    "import pickle\n",
    "pickle.dump(model_keras, open(MODEL_PATH, 'wb'))"
   ]
  },
  {
   "cell_type": "code",
   "execution_count": null,
   "metadata": {},
   "outputs": [],
   "source": []
  }
 ],
 "metadata": {
  "hide_input": false,
  "kernelspec": {
   "display_name": "Python 3 (ipykernel)",
   "language": "python",
   "name": "python3"
  },
  "language_info": {
   "codemirror_mode": {
    "name": "ipython",
    "version": 3
   },
   "file_extension": ".py",
   "mimetype": "text/x-python",
   "name": "python",
   "nbconvert_exporter": "python",
   "pygments_lexer": "ipython3",
   "version": "3.10.12"
  },
  "varInspector": {
   "cols": {
    "lenName": 16,
    "lenType": 16,
    "lenVar": 40
   },
   "kernels_config": {
    "python": {
     "delete_cmd_postfix": "",
     "delete_cmd_prefix": "del ",
     "library": "var_list.py",
     "varRefreshCmd": "print(var_dic_list())"
    },
    "r": {
     "delete_cmd_postfix": ") ",
     "delete_cmd_prefix": "rm(",
     "library": "var_list.r",
     "varRefreshCmd": "cat(var_dic_list()) "
    }
   },
   "types_to_exclude": [
    "module",
    "function",
    "builtin_function_or_method",
    "instance",
    "_Feature"
   ],
   "window_display": false
  }
 },
 "nbformat": 4,
 "nbformat_minor": 4
}
