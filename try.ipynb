{
 "cells": [
  {
   "cell_type": "markdown",
   "id": "1b12baed",
   "metadata": {
    "papermill": {
     "duration": 0.021767,
     "end_time": "2021-10-17T15:10:52.148243",
     "exception": false,
     "start_time": "2021-10-17T15:10:52.126476",
     "status": "completed"
    },
    "tags": []
   },
   "source": [
    "# Предсказание пола клиента по его транзакциям"
   ]
  },
  {
   "cell_type": "code",
   "execution_count": 36,
   "id": "29259850",
   "metadata": {
    "_cell_guid": "b1076dfc-b9ad-4769-8c92-a6c4dae69d19",
    "_uuid": "8f2839f25d086af736a60e9eeb907d3b93b6e0e5",
    "execution": {
     "iopub.execute_input": "2021-10-17T15:10:52.198574Z",
     "iopub.status.busy": "2021-10-17T15:10:52.196168Z",
     "iopub.status.idle": "2021-10-17T15:10:53.585245Z",
     "shell.execute_reply": "2021-10-17T15:10:53.584196Z",
     "shell.execute_reply.started": "2021-10-17T15:02:06.153735Z"
    },
    "papermill": {
     "duration": 1.417289,
     "end_time": "2021-10-17T15:10:53.585535",
     "exception": false,
     "start_time": "2021-10-17T15:10:52.168246",
     "status": "completed"
    },
    "tags": []
   },
   "outputs": [],
   "source": [
    "import pandas as pd\n",
    "import numpy as np\n",
    "import re\n",
    "import matplotlib.pyplot as plt\n",
    "import seaborn as sns\n",
    "\n",
    "import sklearn\n",
    "import catboost\n",
    "from catboost import CatBoostClassifier\n",
    "from sklearn.model_selection import train_test_split\n",
    "from sklearn.metrics import roc_auc_score\n",
    "from sklearn.metrics import roc_curve\n",
    "from sklearn.metrics import f1_score\n",
    "\n",
    "from tqdm.notebook import tqdm_notebook\n",
    "from warnings import filterwarnings\n",
    "filterwarnings('ignore')\n"
   ]
  },
  {
   "cell_type": "markdown",
   "id": "33f8a29d",
   "metadata": {
    "papermill": {
     "duration": 0.027817,
     "end_time": "2021-10-17T15:10:53.645439",
     "exception": false,
     "start_time": "2021-10-17T15:10:53.617622",
     "status": "completed"
    },
    "tags": []
   },
   "source": [
    "## Загрузка данных"
   ]
  },
  {
   "cell_type": "code",
   "execution_count": 37,
   "id": "d094e358",
   "metadata": {
    "execution": {
     "iopub.execute_input": "2021-10-17T15:10:53.695895Z",
     "iopub.status.busy": "2021-10-17T15:10:53.695257Z",
     "iopub.status.idle": "2021-10-17T15:11:05.741026Z",
     "shell.execute_reply": "2021-10-17T15:11:05.739941Z",
     "shell.execute_reply.started": "2021-10-17T14:01:39.097816Z"
    },
    "papermill": {
     "duration": 12.074065,
     "end_time": "2021-10-17T15:11:05.741253",
     "exception": false,
     "start_time": "2021-10-17T15:10:53.667188",
     "status": "completed"
    },
    "tags": []
   },
   "outputs": [],
   "source": [
    "tr_mcc_codes = pd.read_csv('data/mcc_codes.csv', sep=';', index_col='mcc_code')\n",
    "tr_types = pd.read_csv('data/trans_types.csv', sep=';', index_col='trans_type')\n",
    "transactions = pd.read_csv('data/transactions.csv', index_col='client_id')\n",
    "gender_train = pd.read_csv('data/train.csv', index_col='client_id')\n",
    "gender_test = pd.read_csv('data/test.csv', index_col='client_id')\n",
    "transactions_train = transactions.join(gender_train, how='inner')\n",
    "transactions_test = transactions.join(gender_test, how='inner')"
   ]
  },
  {
   "cell_type": "code",
   "execution_count": 38,
   "metadata": {},
   "outputs": [
    {
     "data": {
      "text/html": [
       "<div>\n",
       "<style scoped>\n",
       "    .dataframe tbody tr th:only-of-type {\n",
       "        vertical-align: middle;\n",
       "    }\n",
       "\n",
       "    .dataframe tbody tr th {\n",
       "        vertical-align: top;\n",
       "    }\n",
       "\n",
       "    .dataframe thead th {\n",
       "        text-align: right;\n",
       "    }\n",
       "</style>\n",
       "<table border=\"1\" class=\"dataframe\">\n",
       "  <thead>\n",
       "    <tr style=\"text-align: right;\">\n",
       "      <th></th>\n",
       "      <th>trans_time</th>\n",
       "      <th>mcc_code</th>\n",
       "      <th>trans_type</th>\n",
       "      <th>amount</th>\n",
       "      <th>term_id</th>\n",
       "      <th>trans_city</th>\n",
       "      <th>Unnamed: 0</th>\n",
       "      <th>gender</th>\n",
       "    </tr>\n",
       "    <tr>\n",
       "      <th>client_id</th>\n",
       "      <th></th>\n",
       "      <th></th>\n",
       "      <th></th>\n",
       "      <th></th>\n",
       "      <th></th>\n",
       "      <th></th>\n",
       "      <th></th>\n",
       "      <th></th>\n",
       "    </tr>\n",
       "  </thead>\n",
       "  <tbody>\n",
       "    <tr>\n",
       "      <th>0002cf30347684df542e1a931f356875</th>\n",
       "      <td>313 14:52:03</td>\n",
       "      <td>4829</td>\n",
       "      <td>2370</td>\n",
       "      <td>-2170.07</td>\n",
       "      <td>888990</td>\n",
       "      <td>Saint Petersburg</td>\n",
       "      <td>6806</td>\n",
       "      <td>0</td>\n",
       "    </tr>\n",
       "    <tr>\n",
       "      <th>0002cf30347684df542e1a931f356875</th>\n",
       "      <td>150 14:10:49</td>\n",
       "      <td>6011</td>\n",
       "      <td>2010</td>\n",
       "      <td>-1445.64</td>\n",
       "      <td>NaN</td>\n",
       "      <td>Saint Petersburg</td>\n",
       "      <td>6806</td>\n",
       "      <td>0</td>\n",
       "    </tr>\n",
       "    <tr>\n",
       "      <th>0002cf30347684df542e1a931f356875</th>\n",
       "      <td>122 12:38:32</td>\n",
       "      <td>5912</td>\n",
       "      <td>1010</td>\n",
       "      <td>-107.07</td>\n",
       "      <td>NaN</td>\n",
       "      <td>Saint Petersburg</td>\n",
       "      <td>6806</td>\n",
       "      <td>0</td>\n",
       "    </tr>\n",
       "    <tr>\n",
       "      <th>0002cf30347684df542e1a931f356875</th>\n",
       "      <td>159 13:22:34</td>\n",
       "      <td>6011</td>\n",
       "      <td>2010</td>\n",
       "      <td>-2892.86</td>\n",
       "      <td>NaN</td>\n",
       "      <td>Saint Petersburg</td>\n",
       "      <td>6806</td>\n",
       "      <td>0</td>\n",
       "    </tr>\n",
       "    <tr>\n",
       "      <th>0002cf30347684df542e1a931f356875</th>\n",
       "      <td>257 12:06:54</td>\n",
       "      <td>5912</td>\n",
       "      <td>1010</td>\n",
       "      <td>-164.49</td>\n",
       "      <td>469965</td>\n",
       "      <td>Saint Petersburg</td>\n",
       "      <td>6806</td>\n",
       "      <td>0</td>\n",
       "    </tr>\n",
       "    <tr>\n",
       "      <th>...</th>\n",
       "      <td>...</td>\n",
       "      <td>...</td>\n",
       "      <td>...</td>\n",
       "      <td>...</td>\n",
       "      <td>...</td>\n",
       "      <td>...</td>\n",
       "      <td>...</td>\n",
       "      <td>...</td>\n",
       "    </tr>\n",
       "    <tr>\n",
       "      <th>fffedf876a0ea3d39e54b706165a4826</th>\n",
       "      <td>28 12:51:47</td>\n",
       "      <td>6011</td>\n",
       "      <td>2010</td>\n",
       "      <td>-10846.43</td>\n",
       "      <td>NaN</td>\n",
       "      <td>Saint Petersburg</td>\n",
       "      <td>3421</td>\n",
       "      <td>1</td>\n",
       "    </tr>\n",
       "    <tr>\n",
       "      <th>fffedf876a0ea3d39e54b706165a4826</th>\n",
       "      <td>55 07:37:08</td>\n",
       "      <td>6011</td>\n",
       "      <td>2010</td>\n",
       "      <td>-2170.15</td>\n",
       "      <td>NaN</td>\n",
       "      <td>Saint Petersburg</td>\n",
       "      <td>3421</td>\n",
       "      <td>1</td>\n",
       "    </tr>\n",
       "    <tr>\n",
       "      <th>fffedf876a0ea3d39e54b706165a4826</th>\n",
       "      <td>55 07:40:10</td>\n",
       "      <td>4814</td>\n",
       "      <td>1030</td>\n",
       "      <td>-71.41</td>\n",
       "      <td>NaN</td>\n",
       "      <td>Saint Petersburg</td>\n",
       "      <td>3421</td>\n",
       "      <td>1</td>\n",
       "    </tr>\n",
       "    <tr>\n",
       "      <th>fffedf876a0ea3d39e54b706165a4826</th>\n",
       "      <td>188 15:05:52</td>\n",
       "      <td>6011</td>\n",
       "      <td>2010</td>\n",
       "      <td>-2169.75</td>\n",
       "      <td>NaN</td>\n",
       "      <td>Saint Petersburg</td>\n",
       "      <td>3421</td>\n",
       "      <td>1</td>\n",
       "    </tr>\n",
       "    <tr>\n",
       "      <th>fffedf876a0ea3d39e54b706165a4826</th>\n",
       "      <td>10 12:35:42</td>\n",
       "      <td>6011</td>\n",
       "      <td>2010</td>\n",
       "      <td>-723.14</td>\n",
       "      <td>NaN</td>\n",
       "      <td>Saint Petersburg</td>\n",
       "      <td>3421</td>\n",
       "      <td>1</td>\n",
       "    </tr>\n",
       "  </tbody>\n",
       "</table>\n",
       "<p>3238732 rows × 8 columns</p>\n",
       "</div>"
      ],
      "text/plain": [
       "                                    trans_time  mcc_code  trans_type  \\\n",
       "client_id                                                              \n",
       "0002cf30347684df542e1a931f356875  313 14:52:03      4829        2370   \n",
       "0002cf30347684df542e1a931f356875  150 14:10:49      6011        2010   \n",
       "0002cf30347684df542e1a931f356875  122 12:38:32      5912        1010   \n",
       "0002cf30347684df542e1a931f356875  159 13:22:34      6011        2010   \n",
       "0002cf30347684df542e1a931f356875  257 12:06:54      5912        1010   \n",
       "...                                        ...       ...         ...   \n",
       "fffedf876a0ea3d39e54b706165a4826   28 12:51:47      6011        2010   \n",
       "fffedf876a0ea3d39e54b706165a4826   55 07:37:08      6011        2010   \n",
       "fffedf876a0ea3d39e54b706165a4826   55 07:40:10      4814        1030   \n",
       "fffedf876a0ea3d39e54b706165a4826  188 15:05:52      6011        2010   \n",
       "fffedf876a0ea3d39e54b706165a4826   10 12:35:42      6011        2010   \n",
       "\n",
       "                                    amount term_id        trans_city  \\\n",
       "client_id                                                              \n",
       "0002cf30347684df542e1a931f356875  -2170.07  888990  Saint Petersburg   \n",
       "0002cf30347684df542e1a931f356875  -1445.64     NaN  Saint Petersburg   \n",
       "0002cf30347684df542e1a931f356875   -107.07     NaN  Saint Petersburg   \n",
       "0002cf30347684df542e1a931f356875  -2892.86     NaN  Saint Petersburg   \n",
       "0002cf30347684df542e1a931f356875   -164.49  469965  Saint Petersburg   \n",
       "...                                    ...     ...               ...   \n",
       "fffedf876a0ea3d39e54b706165a4826 -10846.43     NaN  Saint Petersburg   \n",
       "fffedf876a0ea3d39e54b706165a4826  -2170.15     NaN  Saint Petersburg   \n",
       "fffedf876a0ea3d39e54b706165a4826    -71.41     NaN  Saint Petersburg   \n",
       "fffedf876a0ea3d39e54b706165a4826  -2169.75     NaN  Saint Petersburg   \n",
       "fffedf876a0ea3d39e54b706165a4826   -723.14     NaN  Saint Petersburg   \n",
       "\n",
       "                                  Unnamed: 0  gender  \n",
       "client_id                                             \n",
       "0002cf30347684df542e1a931f356875        6806       0  \n",
       "0002cf30347684df542e1a931f356875        6806       0  \n",
       "0002cf30347684df542e1a931f356875        6806       0  \n",
       "0002cf30347684df542e1a931f356875        6806       0  \n",
       "0002cf30347684df542e1a931f356875        6806       0  \n",
       "...                                      ...     ...  \n",
       "fffedf876a0ea3d39e54b706165a4826        3421       1  \n",
       "fffedf876a0ea3d39e54b706165a4826        3421       1  \n",
       "fffedf876a0ea3d39e54b706165a4826        3421       1  \n",
       "fffedf876a0ea3d39e54b706165a4826        3421       1  \n",
       "fffedf876a0ea3d39e54b706165a4826        3421       1  \n",
       "\n",
       "[3238732 rows x 8 columns]"
      ]
     },
     "execution_count": 38,
     "metadata": {},
     "output_type": "execute_result"
    }
   ],
   "source": [
    "transactions_train"
   ]
  },
  {
   "cell_type": "markdown",
   "id": "74506f20",
   "metadata": {
    "papermill": {
     "duration": 0.022962,
     "end_time": "2021-10-17T15:11:05.791698",
     "exception": false,
     "start_time": "2021-10-17T15:11:05.768736",
     "status": "completed"
    },
    "tags": []
   },
   "source": [
    "## Анализ данных"
   ]
  },
  {
   "cell_type": "markdown",
   "id": "5b19eb2c",
   "metadata": {
    "papermill": {
     "duration": 0.019421,
     "end_time": "2021-10-17T15:11:05.834546",
     "exception": false,
     "start_time": "2021-10-17T15:11:05.815125",
     "status": "completed"
    },
    "tags": []
   },
   "source": [
    "#### transactions.csv"
   ]
  },
  {
   "cell_type": "markdown",
   "id": "82727879",
   "metadata": {
    "papermill": {
     "duration": 0.019061,
     "end_time": "2021-10-17T15:11:05.873016",
     "exception": false,
     "start_time": "2021-10-17T15:11:05.853955",
     "status": "completed"
    },
    "tags": []
   },
   "source": [
    "Этот файл содержит информацию о всех транзакциях пользователей без указания принадлежности к классу."
   ]
  },
  {
   "cell_type": "code",
   "execution_count": 39,
   "id": "8ccd5f54",
   "metadata": {
    "execution": {
     "iopub.execute_input": "2021-10-17T15:11:05.926000Z",
     "iopub.status.busy": "2021-10-17T15:11:05.924956Z",
     "iopub.status.idle": "2021-10-17T15:11:06.553699Z",
     "shell.execute_reply": "2021-10-17T15:11:06.553180Z",
     "shell.execute_reply.started": "2021-10-17T14:16:59.772892Z"
    },
    "papermill": {
     "duration": 0.661327,
     "end_time": "2021-10-17T15:11:06.553833",
     "exception": false,
     "start_time": "2021-10-17T15:11:05.892506",
     "status": "completed"
    },
    "tags": []
   },
   "outputs": [
    {
     "name": "stdout",
     "output_type": "stream",
     "text": [
      "<class 'pandas.core.frame.DataFrame'>\n",
      "Index: 3563529 entries, d1bbbc9a0e0410d3cf12a3d2f44f3450 to 8d69e4ecae4b509d528b9a0168f749d0\n",
      "Data columns (total 6 columns):\n",
      " #   Column      Dtype  \n",
      "---  ------      -----  \n",
      " 0   trans_time  object \n",
      " 1   mcc_code    int64  \n",
      " 2   trans_type  int64  \n",
      " 3   amount      float64\n",
      " 4   term_id     object \n",
      " 5   trans_city  object \n",
      "dtypes: float64(1), int64(2), object(3)\n",
      "memory usage: 222.6+ MB\n",
      "None\n",
      "\n",
      "\n",
      "trans_time          0\n",
      "mcc_code            0\n",
      "trans_type          0\n",
      "amount              0\n",
      "term_id       1443778\n",
      "trans_city          0\n",
      "dtype: int64\n"
     ]
    }
   ],
   "source": [
    "print(transactions.info())\n",
    "print('\\n')\n",
    "print(transactions.isnull().sum())"
   ]
  },
  {
   "cell_type": "markdown",
   "id": "5982d704",
   "metadata": {
    "papermill": {
     "duration": 0.019499,
     "end_time": "2021-10-17T15:11:06.593537",
     "exception": false,
     "start_time": "2021-10-17T15:11:06.574038",
     "status": "completed"
    },
    "tags": []
   },
   "source": [
    "В столбце <code>term_id</code> присутствует большое количество пропущенных значений. Использовать его в обучении модели бессмысленно."
   ]
  },
  {
   "cell_type": "markdown",
   "id": "8d7db628",
   "metadata": {
    "papermill": {
     "duration": 0.019483,
     "end_time": "2021-10-17T15:11:06.632974",
     "exception": false,
     "start_time": "2021-10-17T15:11:06.613491",
     "status": "completed"
    },
    "tags": []
   },
   "source": [
    "#### tr_mcc_codes.csv"
   ]
  },
  {
   "cell_type": "markdown",
   "id": "85f8fcd6",
   "metadata": {
    "execution": {
     "iopub.execute_input": "2021-10-17T14:23:12.981939Z",
     "iopub.status.busy": "2021-10-17T14:23:12.980988Z",
     "iopub.status.idle": "2021-10-17T14:23:12.987229Z",
     "shell.execute_reply": "2021-10-17T14:23:12.986090Z",
     "shell.execute_reply.started": "2021-10-17T14:23:12.981902Z"
    },
    "papermill": {
     "duration": 0.019509,
     "end_time": "2021-10-17T15:11:06.672558",
     "exception": false,
     "start_time": "2021-10-17T15:11:06.653049",
     "status": "completed"
    },
    "tags": []
   },
   "source": [
    "В файле присутствуют описания всех MCC кодов."
   ]
  },
  {
   "cell_type": "code",
   "execution_count": 40,
   "id": "02eac14e",
   "metadata": {
    "execution": {
     "iopub.execute_input": "2021-10-17T15:11:06.720398Z",
     "iopub.status.busy": "2021-10-17T15:11:06.719746Z",
     "iopub.status.idle": "2021-10-17T15:11:06.731601Z",
     "shell.execute_reply": "2021-10-17T15:11:06.732009Z",
     "shell.execute_reply.started": "2021-10-17T14:18:44.452928Z"
    },
    "papermill": {
     "duration": 0.039527,
     "end_time": "2021-10-17T15:11:06.732176",
     "exception": false,
     "start_time": "2021-10-17T15:11:06.692649",
     "status": "completed"
    },
    "tags": []
   },
   "outputs": [
    {
     "data": {
      "text/html": [
       "<div>\n",
       "<style scoped>\n",
       "    .dataframe tbody tr th:only-of-type {\n",
       "        vertical-align: middle;\n",
       "    }\n",
       "\n",
       "    .dataframe tbody tr th {\n",
       "        vertical-align: top;\n",
       "    }\n",
       "\n",
       "    .dataframe thead th {\n",
       "        text-align: right;\n",
       "    }\n",
       "</style>\n",
       "<table border=\"1\" class=\"dataframe\">\n",
       "  <thead>\n",
       "    <tr style=\"text-align: right;\">\n",
       "      <th></th>\n",
       "      <th>mcc_description</th>\n",
       "    </tr>\n",
       "    <tr>\n",
       "      <th>mcc_code</th>\n",
       "      <th></th>\n",
       "    </tr>\n",
       "  </thead>\n",
       "  <tbody>\n",
       "    <tr>\n",
       "      <th>742</th>\n",
       "      <td>Ветеринарные услуги</td>\n",
       "    </tr>\n",
       "    <tr>\n",
       "      <th>1711</th>\n",
       "      <td>Генеральные подрядчики по вентиляции, теплосна...</td>\n",
       "    </tr>\n",
       "    <tr>\n",
       "      <th>1731</th>\n",
       "      <td>Подрядчики по электричеству</td>\n",
       "    </tr>\n",
       "    <tr>\n",
       "      <th>1799</th>\n",
       "      <td>Подрядчики, специализированная торговля — нигд...</td>\n",
       "    </tr>\n",
       "    <tr>\n",
       "      <th>2741</th>\n",
       "      <td>Разнообразные издательства/печатное дело</td>\n",
       "    </tr>\n",
       "  </tbody>\n",
       "</table>\n",
       "</div>"
      ],
      "text/plain": [
       "                                            mcc_description\n",
       "mcc_code                                                   \n",
       "742                                     Ветеринарные услуги\n",
       "1711      Генеральные подрядчики по вентиляции, теплосна...\n",
       "1731                            Подрядчики по электричеству\n",
       "1799      Подрядчики, специализированная торговля — нигд...\n",
       "2741               Разнообразные издательства/печатное дело"
      ]
     },
     "execution_count": 40,
     "metadata": {},
     "output_type": "execute_result"
    }
   ],
   "source": [
    "tr_mcc_codes.head()"
   ]
  },
  {
   "cell_type": "markdown",
   "id": "a99aff2d",
   "metadata": {
    "papermill": {
     "duration": 0.01997,
     "end_time": "2021-10-17T15:11:06.773002",
     "exception": false,
     "start_time": "2021-10-17T15:11:06.753032",
     "status": "completed"
    },
    "tags": []
   },
   "source": [
    "#### tr_types.csv"
   ]
  },
  {
   "cell_type": "markdown",
   "id": "ec7618a2",
   "metadata": {
    "papermill": {
     "duration": 0.020072,
     "end_time": "2021-10-17T15:11:06.813938",
     "exception": false,
     "start_time": "2021-10-17T15:11:06.793866",
     "status": "completed"
    },
    "tags": []
   },
   "source": [
    "Файл содержит описание всех типов транзакций."
   ]
  },
  {
   "cell_type": "code",
   "execution_count": 41,
   "id": "559b4bda",
   "metadata": {
    "execution": {
     "iopub.execute_input": "2021-10-17T15:11:06.858703Z",
     "iopub.status.busy": "2021-10-17T15:11:06.857850Z",
     "iopub.status.idle": "2021-10-17T15:11:06.866981Z",
     "shell.execute_reply": "2021-10-17T15:11:06.866417Z",
     "shell.execute_reply.started": "2021-10-17T14:19:07.989654Z"
    },
    "papermill": {
     "duration": 0.032329,
     "end_time": "2021-10-17T15:11:06.867112",
     "exception": false,
     "start_time": "2021-10-17T15:11:06.834783",
     "status": "completed"
    },
    "tags": []
   },
   "outputs": [
    {
     "data": {
      "text/html": [
       "<div>\n",
       "<style scoped>\n",
       "    .dataframe tbody tr th:only-of-type {\n",
       "        vertical-align: middle;\n",
       "    }\n",
       "\n",
       "    .dataframe tbody tr th {\n",
       "        vertical-align: top;\n",
       "    }\n",
       "\n",
       "    .dataframe thead th {\n",
       "        text-align: right;\n",
       "    }\n",
       "</style>\n",
       "<table border=\"1\" class=\"dataframe\">\n",
       "  <thead>\n",
       "    <tr style=\"text-align: right;\">\n",
       "      <th></th>\n",
       "      <th>trans_description</th>\n",
       "    </tr>\n",
       "    <tr>\n",
       "      <th>trans_type</th>\n",
       "      <th></th>\n",
       "    </tr>\n",
       "  </thead>\n",
       "  <tbody>\n",
       "    <tr>\n",
       "      <th>3200</th>\n",
       "      <td>Плата за предоставление услуг посредством моби...</td>\n",
       "    </tr>\n",
       "    <tr>\n",
       "      <th>3210</th>\n",
       "      <td>Плата за предоставление отчета по счету карты ...</td>\n",
       "    </tr>\n",
       "    <tr>\n",
       "      <th>3800</th>\n",
       "      <td>Плата за обслуживание банковской карты (за пер...</td>\n",
       "    </tr>\n",
       "    <tr>\n",
       "      <th>4000</th>\n",
       "      <td>Плата за получение наличных в Сбербанке</td>\n",
       "    </tr>\n",
       "    <tr>\n",
       "      <th>4001</th>\n",
       "      <td>Плата за получение наличных в Сбербанке (в дру...</td>\n",
       "    </tr>\n",
       "  </tbody>\n",
       "</table>\n",
       "</div>"
      ],
      "text/plain": [
       "                                            trans_description\n",
       "trans_type                                                   \n",
       "3200        Плата за предоставление услуг посредством моби...\n",
       "3210        Плата за предоставление отчета по счету карты ...\n",
       "3800        Плата за обслуживание банковской карты (за пер...\n",
       "4000                  Плата за получение наличных в Сбербанке\n",
       "4001        Плата за получение наличных в Сбербанке (в дру..."
      ]
     },
     "execution_count": 41,
     "metadata": {},
     "output_type": "execute_result"
    }
   ],
   "source": [
    "tr_types.head()"
   ]
  },
  {
   "cell_type": "markdown",
   "id": "98bead3b",
   "metadata": {
    "papermill": {
     "duration": 0.020217,
     "end_time": "2021-10-17T15:11:06.907802",
     "exception": false,
     "start_time": "2021-10-17T15:11:06.887585",
     "status": "completed"
    },
    "tags": []
   },
   "source": [
    "<code>gender_train</code> - пользователи, принадлежащие к тренировочной выборке\n",
    "\n",
    "<code>gender_test</code> - пользователи, принадлежащие к тестовой выборке"
   ]
  },
  {
   "cell_type": "code",
   "execution_count": 42,
   "id": "517f5540",
   "metadata": {
    "execution": {
     "iopub.execute_input": "2021-10-17T15:11:06.952714Z",
     "iopub.status.busy": "2021-10-17T15:11:06.952081Z",
     "iopub.status.idle": "2021-10-17T15:11:07.299804Z",
     "shell.execute_reply": "2021-10-17T15:11:07.300246Z",
     "shell.execute_reply.started": "2021-10-17T14:42:44.571669Z"
    },
    "papermill": {
     "duration": 0.372141,
     "end_time": "2021-10-17T15:11:07.300434",
     "exception": false,
     "start_time": "2021-10-17T15:11:06.928293",
     "status": "completed"
    },
    "tags": []
   },
   "outputs": [
    {
     "data": {
      "text/plain": [
       "<Axes: >"
      ]
     },
     "execution_count": 42,
     "metadata": {},
     "output_type": "execute_result"
    },
    {
     "data": {
      "image/png": "[encoded data removed]",
      "text/plain": [
       "<Figure size 640x480 with 1 Axes>"
      ]
     },
     "metadata": {},
     "output_type": "display_data"
    }
   ],
   "source": [
    "# Соотношение классов\n",
    "transactions_train.gender.hist()"
   ]
  },
  {
   "cell_type": "markdown",
   "id": "1d578ea1",
   "metadata": {
    "papermill": {
     "duration": 0.021008,
     "end_time": "2021-10-17T15:11:07.342769",
     "exception": false,
     "start_time": "2021-10-17T15:11:07.321761",
     "status": "completed"
    },
    "tags": []
   },
   "source": [
    "Этот датасет достаточно сбалансирован по классам."
   ]
  },
  {
   "cell_type": "code",
   "execution_count": 43,
   "id": "e726fa61",
   "metadata": {
    "execution": {
     "iopub.execute_input": "2021-10-17T15:11:07.396858Z",
     "iopub.status.busy": "2021-10-17T15:11:07.395909Z",
     "iopub.status.idle": "2021-10-17T15:11:08.279874Z",
     "shell.execute_reply": "2021-10-17T15:11:08.279281Z",
     "shell.execute_reply.started": "2021-10-17T14:14:34.710241Z"
    },
    "papermill": {
     "duration": 0.915976,
     "end_time": "2021-10-17T15:11:08.280010",
     "exception": false,
     "start_time": "2021-10-17T15:11:07.364034",
     "status": "completed"
    },
    "tags": []
   },
   "outputs": [
    {
     "data": {
      "text/plain": [
       "Text(0, 0.5, 'Количество')"
      ]
     },
     "execution_count": 43,
     "metadata": {},
     "output_type": "execute_result"
    },
    {
     "data": {
      "image/png": "[encoded data removed]",
      "text/plain": [
       "<Figure size 640x480 with 1 Axes>"
      ]
     },
     "metadata": {},
     "output_type": "display_data"
    }
   ],
   "source": [
    "x_mcc_1 = transactions_train[transactions_train.gender == 1].mcc_code.value_counts().head(10).index.astype(str)\n",
    "y_mcc_1 = transactions_train[transactions_train.gender == 1].mcc_code.value_counts().head(10).values\n",
    "\n",
    "plt.bar(x_mcc_1, y_mcc_1, width=0.6)\n",
    "plt.title('Топ-10 MCC по классу 1')\n",
    "plt.xlabel('MCC')\n",
    "plt.ylabel('Количество')"
   ]
  },
  {
   "cell_type": "markdown",
   "metadata": {},
   "source": [
    "* Самый используемый mcc_code - это Финансовые институты — снятие наличности автоматически (то есть чаще всего люди 1 класса снимали наличные в банокамтах)\n",
    "* 6010 - на втором месте. Снятие наличностей вручную с использованием карты (банки,кассы)\n",
    "* 5411 - бакалейные лавки и супермаркеты\n",
    "* 4814 Звонки с использованием телефонов, считывающих магнитную ленту\n",
    "\n"
   ]
  },
  {
   "cell_type": "markdown",
   "metadata": {},
   "source": [
    "##### MCC_code класса 1"
   ]
  },
  {
   "cell_type": "code",
   "execution_count": 44,
   "metadata": {},
   "outputs": [
    {
     "name": "stdout",
     "output_type": "stream",
     "text": [
      "6011: Финансовые институты — снятие наличности автоматически\n",
      "6010: Финансовые институты — снятие наличности вручную\n",
      "5411: Бакалейные магазины, супермаркеты\n",
      "4814: Звонки с использованием телефонов, считывающих магнитную ленту\n",
      "4829: Денежные переводы\n",
      "5499: Различные продовольственные магазины — рынки, магазины со спец-ассортиментом, продажа полуфабрикатов, фирменных блюд, продажа с помощью торговых автоматов\n",
      "5541: Бакалейные магазины, супермаркеты\n",
      "5331: Универсальные магазины\n",
      "6011: Финансовые институты — снятие наличности вручную\n",
      "5814: Рестораны, закусочные\n"
     ]
    }
   ],
   "source": [
    "print('6011:',tr_mcc_codes.loc[6011, 'mcc_description'])\n",
    "print('6010:',tr_mcc_codes.loc[6010, 'mcc_description'])\n",
    "print('5411:',tr_mcc_codes.loc[5411, 'mcc_description'])\n",
    "print('4814:',tr_mcc_codes.loc[4814, 'mcc_description'])\n",
    "print('4829:',tr_mcc_codes.loc[4829, 'mcc_description'])\n",
    "print('5499:',tr_mcc_codes.loc[5499, 'mcc_description'])\n",
    "print('5541:',tr_mcc_codes.loc[5411, 'mcc_description'])\n",
    "print('5331:',tr_mcc_codes.loc[5331, 'mcc_description'])\n",
    "print('6011:',tr_mcc_codes.loc[6010, 'mcc_description'])\n",
    "print('5814:',tr_mcc_codes.loc[5814, 'mcc_description'])\n"
   ]
  },
  {
   "cell_type": "code",
   "execution_count": 45,
   "id": "1bc9f74f",
   "metadata": {
    "execution": {
     "iopub.execute_input": "2021-10-17T15:11:08.329666Z",
     "iopub.status.busy": "2021-10-17T15:11:08.329021Z",
     "iopub.status.idle": "2021-10-17T15:11:08.853946Z",
     "shell.execute_reply": "2021-10-17T15:11:08.854420Z",
     "shell.execute_reply.started": "2021-10-17T14:15:09.826232Z"
    },
    "papermill": {
     "duration": 0.55204,
     "end_time": "2021-10-17T15:11:08.854597",
     "exception": false,
     "start_time": "2021-10-17T15:11:08.302557",
     "status": "completed"
    },
    "tags": []
   },
   "outputs": [
    {
     "data": {
      "text/plain": [
       "Text(0, 0.5, 'Количество')"
      ]
     },
     "execution_count": 45,
     "metadata": {},
     "output_type": "execute_result"
    },
    {
     "data": {
      "image/png": "[encoded data removed]",
      "text/plain": [
       "<Figure size 640x480 with 1 Axes>"
      ]
     },
     "metadata": {},
     "output_type": "display_data"
    }
   ],
   "source": [
    "x_mcc_0 = transactions_train[transactions_train.gender == 0].mcc_code.value_counts().head(10).index.astype(str)\n",
    "y_mcc_0 = transactions_train[transactions_train.gender == 0].mcc_code.value_counts().head(10).values\n",
    "\n",
    "plt.bar(x_mcc_0, y_mcc_0, width=0.6)\n",
    "plt.title('Топ-10 MCC по классу 0')\n",
    "plt.xlabel('MCC')\n",
    "plt.ylabel('Количество')"
   ]
  },
  {
   "cell_type": "markdown",
   "metadata": {},
   "source": [
    "##### MCC_code класса 0"
   ]
  },
  {
   "cell_type": "code",
   "execution_count": 46,
   "metadata": {},
   "outputs": [
    {
     "name": "stdout",
     "output_type": "stream",
     "text": [
      "6011: Финансовые институты — снятие наличности автоматически\n",
      "4814: Звонки с использованием телефонов, считывающих магнитную ленту\n",
      "5411: Бакалейные магазины, супермаркеты\n",
      "6010: Финансовые институты — снятие наличности вручную\n",
      "4829: Денежные переводы\n",
      "5499: Различные продовольственные магазины — рынки, магазины со спец-ассортиментом, продажа полуфабрикатов, фирменных блюд, продажа с помощью торговых автоматов\n",
      "5912: Аптеки\n",
      "5331: Универсальные магазины\n",
      "5812: Места общественного питания, рестораны\n",
      "5814: Рестораны, закусочные\n"
     ]
    }
   ],
   "source": [
    "print('6011:',tr_mcc_codes.loc[6011, 'mcc_description'])\n",
    "print('4814:',tr_mcc_codes.loc[4814, 'mcc_description'])\n",
    "print('5411:',tr_mcc_codes.loc[5411, 'mcc_description'])\n",
    "print('6010:',tr_mcc_codes.loc[6010, 'mcc_description'])\n",
    "print('4829:',tr_mcc_codes.loc[4829, 'mcc_description'])\n",
    "print('5499:',tr_mcc_codes.loc[5499, 'mcc_description'])\n",
    "print('5912:',tr_mcc_codes.loc[5912, 'mcc_description'])\n",
    "print('5331:',tr_mcc_codes.loc[5331, 'mcc_description'])\n",
    "print('5812:',tr_mcc_codes.loc[5812, 'mcc_description'])\n",
    "print('5814:',tr_mcc_codes.loc[5814, 'mcc_description'])"
   ]
  },
  {
   "cell_type": "code",
   "execution_count": 50,
   "id": "5b3f3761",
   "metadata": {
    "execution": {
     "iopub.execute_input": "2021-10-17T15:11:08.909719Z",
     "iopub.status.busy": "2021-10-17T15:11:08.909093Z",
     "iopub.status.idle": "2021-10-17T15:11:09.403764Z",
     "shell.execute_reply": "2021-10-17T15:11:09.404157Z",
     "shell.execute_reply.started": "2021-10-17T14:27:23.272851Z"
    },
    "papermill": {
     "duration": 0.526176,
     "end_time": "2021-10-17T15:11:09.404321",
     "exception": false,
     "start_time": "2021-10-17T15:11:08.878145",
     "status": "completed"
    },
    "tags": []
   },
   "outputs": [
    {
     "data": {
      "text/plain": [
       "Text(0, 0.5, 'Количество')"
      ]
     },
     "execution_count": 50,
     "metadata": {},
     "output_type": "execute_result"
    },
    {
     "data": {
      "image/png": "[encoded data removed]",
      "text/plain": [
       "<Figure size 640x480 with 1 Axes>"
      ]
     },
     "metadata": {},
     "output_type": "display_data"
    }
   ],
   "source": [
    "x_tr_1 = transactions_train[transactions_train.gender == 1]['trans_type'].value_counts().head(10).index.astype(str)\n",
    "y_tr_1 = transactions_train[transactions_train.gender == 1]['trans_type'].value_counts().head(10).values\n",
    "\n",
    "plt.bar(x_tr_1, y_tr_1, width=0.6)\n",
    "plt.title('Топ-10 типов транзакций по классу 1')\n",
    "plt.xlabel('Тип')\n",
    "plt.ylabel('Количество')\n"
   ]
  },
  {
   "cell_type": "code",
   "execution_count": 53,
   "metadata": {},
   "outputs": [
    {
     "name": "stdout",
     "output_type": "stream",
     "text": [
      "1010: Покупка. POS ТУ СБ РФ\n",
      "2010: Выдача наличных в АТМ Сбербанк России\n",
      "1110: Покупка. POS ТУ Россия\n",
      "1030: Оплата услуги. Банкоматы СБ РФ\n",
      "7070: Перевод на карту (с карты) через Мобильный банк (без взимания комиссии с отправителя)\n",
      "2370: Списание с карты на карту по операции <перевода с карты на карту> через Мобильный банк (без комиссии)\n",
      "7010: Взнос наличных через АТМ (в своем тер.банке)\n",
      "1100: Покупка. ТУ  Россия\n",
      "7030: Перевод на карту (с карты) через АТМ (в пределах одного тер.банка)\n",
      "7071: Перевод на карту (с карты) через Мобильный банк (с взиманием комиссии с отправителя)\n"
     ]
    }
   ],
   "source": [
    "print('1010:',tr_types.loc[1010, 'trans_description'])\n",
    "print('2010:',tr_types.loc[2010, 'trans_description'])\n",
    "print('1110:',tr_types.loc[1110, 'trans_description'])\n",
    "print('1030:',tr_types.loc[1030, 'trans_description'])\n",
    "print('7070:',tr_types.loc[7070, 'trans_description'])\n",
    "print('2370:',tr_types.loc[2370, 'trans_description'])\n",
    "print('7010:',tr_types.loc[7010, 'trans_description'])\n",
    "print('1100:',tr_types.loc[1100, 'trans_description'])\n",
    "print('7030:',tr_types.loc[7030, 'trans_description'])\n",
    "print('7071:',tr_types.loc[7071, 'trans_description'])"
   ]
  },
  {
   "cell_type": "code",
   "execution_count": 54,
   "id": "37d5a180",
   "metadata": {
    "execution": {
     "iopub.execute_input": "2021-10-17T15:11:09.457552Z",
     "iopub.status.busy": "2021-10-17T15:11:09.456638Z",
     "iopub.status.idle": "2021-10-17T15:11:09.991422Z",
     "shell.execute_reply": "2021-10-17T15:11:09.990742Z",
     "shell.execute_reply.started": "2021-10-17T14:27:50.222569Z"
    },
    "papermill": {
     "duration": 0.563165,
     "end_time": "2021-10-17T15:11:09.991587",
     "exception": false,
     "start_time": "2021-10-17T15:11:09.428422",
     "status": "completed"
    },
    "tags": []
   },
   "outputs": [
    {
     "data": {
      "text/plain": [
       "Text(0, 0.5, 'Количество')"
      ]
     },
     "execution_count": 54,
     "metadata": {},
     "output_type": "execute_result"
    },
    {
     "data": {
      "image/png": "[encoded data removed]",
      "text/plain": [
       "<Figure size 640x480 with 1 Axes>"
      ]
     },
     "metadata": {},
     "output_type": "display_data"
    }
   ],
   "source": [
    "x_tr_0 = transactions_train[transactions_train.gender == 0]['trans_type'].value_counts().head(10).index.astype(str)\n",
    "y_tr_0 = transactions_train[transactions_train.gender == 0]['trans_type'].value_counts().head(10).values\n",
    "\n",
    "plt.bar(x_tr_0, y_tr_0, width=0.6)\n",
    "plt.title('Топ-10 типов транзакций по классу 0')\n",
    "plt.xlabel('Тип')\n",
    "plt.ylabel('Количество')\n"
   ]
  },
  {
   "cell_type": "code",
   "execution_count": 56,
   "metadata": {},
   "outputs": [
    {
     "name": "stdout",
     "output_type": "stream",
     "text": [
      "1010: Покупка. POS ТУ СБ РФ\n",
      "1030: Оплата услуги. Банкоматы СБ РФ\n",
      "2010: Выдача наличных в АТМ Сбербанк России\n",
      "1110: Покупка. POS ТУ Россия\n",
      "7070: Перевод на карту (с карты) через Мобильный банк (без взимания комиссии с отправителя)\n",
      "2370: Списание с карты на карту по операции <перевода с карты на карту> через Мобильный банк (без комиссии)\n",
      "7010: Взнос наличных через АТМ (в своем тер.банке)\n",
      "7030: Перевод на карту (с карты) через АТМ (в пределах одного тер.банка)\n",
      "1100: Покупка. ТУ  Россия\n",
      "2330: Списание с карты по операции “перевода с карты на карту” через АТМ (в пределах одного тер.банка)\n"
     ]
    }
   ],
   "source": [
    "print('1010:',tr_types.loc[1010, 'trans_description'])\n",
    "print('1030:',tr_types.loc[1030, 'trans_description'])\n",
    "print('2010:',tr_types.loc[2010, 'trans_description'])\n",
    "print('1110:',tr_types.loc[1110, 'trans_description'])\n",
    "print('7070:',tr_types.loc[7070, 'trans_description'])\n",
    "print('2370:',tr_types.loc[2370, 'trans_description'])\n",
    "print('7010:',tr_types.loc[7010, 'trans_description'])\n",
    "print('7030:',tr_types.loc[7030, 'trans_description'])\n",
    "print('1100:',tr_types.loc[1100, 'trans_description'])\n",
    "print('2330:',tr_types.loc[2330, 'trans_description'])"
   ]
  },
  {
   "cell_type": "markdown",
   "id": "07eda781",
   "metadata": {
    "papermill": {
     "duration": 0.025166,
     "end_time": "2021-10-17T15:11:10.042566",
     "exception": false,
     "start_time": "2021-10-17T15:11:10.017400",
     "status": "completed"
    },
    "tags": []
   },
   "source": [
    "## Генерация фичей"
   ]
  },
  {
   "cell_type": "markdown",
   "id": "31bacb7a",
   "metadata": {
    "papermill": {
     "duration": 0.025072,
     "end_time": "2021-10-17T15:11:10.093293",
     "exception": false,
     "start_time": "2021-10-17T15:11:10.068221",
     "status": "completed"
    },
    "tags": []
   },
   "source": [
    "Для тренировки модели, создадим временные фичи:\n",
    "- Номер дня в месяце\n",
    "- Месяц\n",
    "- День\n",
    "- Час\n",
    "- Тип дня (будни, пятница, выходные)\n",
    "- Время суток (утро, день, вечер, ночь)"
   ]
  },
  {
   "cell_type": "code",
   "execution_count": 66,
   "id": "199a8a45",
   "metadata": {
    "execution": {
     "iopub.execute_input": "2021-10-17T15:11:10.378319Z",
     "iopub.status.busy": "2021-10-17T15:11:10.376263Z",
     "iopub.status.idle": "2021-10-17T15:12:00.790519Z",
     "shell.execute_reply": "2021-10-17T15:12:00.791056Z",
     "shell.execute_reply.started": "2021-10-17T14:30:23.705116Z"
    },
    "papermill": {
     "duration": 50.672102,
     "end_time": "2021-10-17T15:12:00.791275",
     "exception": false,
     "start_time": "2021-10-17T15:11:10.119173",
     "status": "completed"
    },
    "tags": []
   },
   "outputs": [
    {
     "data": {
      "text/html": [
       "<div>\n",
       "<style scoped>\n",
       "    .dataframe tbody tr th:only-of-type {\n",
       "        vertical-align: middle;\n",
       "    }\n",
       "\n",
       "    .dataframe tbody tr th {\n",
       "        vertical-align: top;\n",
       "    }\n",
       "\n",
       "    .dataframe thead th {\n",
       "        text-align: right;\n",
       "    }\n",
       "</style>\n",
       "<table border=\"1\" class=\"dataframe\">\n",
       "  <thead>\n",
       "    <tr style=\"text-align: right;\">\n",
       "      <th></th>\n",
       "      <th>trans_time</th>\n",
       "      <th>mcc_code</th>\n",
       "      <th>trans_type</th>\n",
       "      <th>amount</th>\n",
       "      <th>term_id</th>\n",
       "      <th>trans_city</th>\n",
       "      <th>Unnamed: 0</th>\n",
       "      <th>gender</th>\n",
       "      <th>day_month</th>\n",
       "      <th>month</th>\n",
       "      <th>day</th>\n",
       "      <th>hour</th>\n",
       "      <th>type_day</th>\n",
       "      <th>part_day</th>\n",
       "    </tr>\n",
       "    <tr>\n",
       "      <th>client_id</th>\n",
       "      <th></th>\n",
       "      <th></th>\n",
       "      <th></th>\n",
       "      <th></th>\n",
       "      <th></th>\n",
       "      <th></th>\n",
       "      <th></th>\n",
       "      <th></th>\n",
       "      <th></th>\n",
       "      <th></th>\n",
       "      <th></th>\n",
       "      <th></th>\n",
       "      <th></th>\n",
       "      <th></th>\n",
       "    </tr>\n",
       "  </thead>\n",
       "  <tbody>\n",
       "    <tr>\n",
       "      <th>0002cf30347684df542e1a931f356875</th>\n",
       "      <td>313 14:52:03</td>\n",
       "      <td>4829</td>\n",
       "      <td>2370</td>\n",
       "      <td>-2170.07</td>\n",
       "      <td>888990</td>\n",
       "      <td>Saint Petersburg</td>\n",
       "      <td>6806</td>\n",
       "      <td>0</td>\n",
       "      <td>13</td>\n",
       "      <td>10</td>\n",
       "      <td>5</td>\n",
       "      <td>14</td>\n",
       "      <td>weekend</td>\n",
       "      <td>daytime</td>\n",
       "    </tr>\n",
       "    <tr>\n",
       "      <th>0002cf30347684df542e1a931f356875</th>\n",
       "      <td>150 14:10:49</td>\n",
       "      <td>6011</td>\n",
       "      <td>2010</td>\n",
       "      <td>-1445.64</td>\n",
       "      <td>NaN</td>\n",
       "      <td>Saint Petersburg</td>\n",
       "      <td>6806</td>\n",
       "      <td>0</td>\n",
       "      <td>0</td>\n",
       "      <td>5</td>\n",
       "      <td>3</td>\n",
       "      <td>14</td>\n",
       "      <td>weekday</td>\n",
       "      <td>daytime</td>\n",
       "    </tr>\n",
       "    <tr>\n",
       "      <th>0002cf30347684df542e1a931f356875</th>\n",
       "      <td>122 12:38:32</td>\n",
       "      <td>5912</td>\n",
       "      <td>1010</td>\n",
       "      <td>-107.07</td>\n",
       "      <td>NaN</td>\n",
       "      <td>Saint Petersburg</td>\n",
       "      <td>6806</td>\n",
       "      <td>0</td>\n",
       "      <td>2</td>\n",
       "      <td>4</td>\n",
       "      <td>3</td>\n",
       "      <td>12</td>\n",
       "      <td>weekday</td>\n",
       "      <td>daytime</td>\n",
       "    </tr>\n",
       "    <tr>\n",
       "      <th>0002cf30347684df542e1a931f356875</th>\n",
       "      <td>159 13:22:34</td>\n",
       "      <td>6011</td>\n",
       "      <td>2010</td>\n",
       "      <td>-2892.86</td>\n",
       "      <td>NaN</td>\n",
       "      <td>Saint Petersburg</td>\n",
       "      <td>6806</td>\n",
       "      <td>0</td>\n",
       "      <td>9</td>\n",
       "      <td>5</td>\n",
       "      <td>5</td>\n",
       "      <td>13</td>\n",
       "      <td>weekend</td>\n",
       "      <td>daytime</td>\n",
       "    </tr>\n",
       "    <tr>\n",
       "      <th>0002cf30347684df542e1a931f356875</th>\n",
       "      <td>257 12:06:54</td>\n",
       "      <td>5912</td>\n",
       "      <td>1010</td>\n",
       "      <td>-164.49</td>\n",
       "      <td>469965</td>\n",
       "      <td>Saint Petersburg</td>\n",
       "      <td>6806</td>\n",
       "      <td>0</td>\n",
       "      <td>17</td>\n",
       "      <td>8</td>\n",
       "      <td>5</td>\n",
       "      <td>12</td>\n",
       "      <td>weekend</td>\n",
       "      <td>daytime</td>\n",
       "    </tr>\n",
       "  </tbody>\n",
       "</table>\n",
       "</div>"
      ],
      "text/plain": [
       "                                    trans_time  mcc_code  trans_type   amount  \\\n",
       "client_id                                                                       \n",
       "0002cf30347684df542e1a931f356875  313 14:52:03      4829        2370 -2170.07   \n",
       "0002cf30347684df542e1a931f356875  150 14:10:49      6011        2010 -1445.64   \n",
       "0002cf30347684df542e1a931f356875  122 12:38:32      5912        1010  -107.07   \n",
       "0002cf30347684df542e1a931f356875  159 13:22:34      6011        2010 -2892.86   \n",
       "0002cf30347684df542e1a931f356875  257 12:06:54      5912        1010  -164.49   \n",
       "\n",
       "                                 term_id        trans_city  Unnamed: 0  \\\n",
       "client_id                                                                \n",
       "0002cf30347684df542e1a931f356875  888990  Saint Petersburg        6806   \n",
       "0002cf30347684df542e1a931f356875     NaN  Saint Petersburg        6806   \n",
       "0002cf30347684df542e1a931f356875     NaN  Saint Petersburg        6806   \n",
       "0002cf30347684df542e1a931f356875     NaN  Saint Petersburg        6806   \n",
       "0002cf30347684df542e1a931f356875  469965  Saint Petersburg        6806   \n",
       "\n",
       "                                  gender  day_month  month  day  hour  \\\n",
       "client_id                                                               \n",
       "0002cf30347684df542e1a931f356875       0         13     10    5    14   \n",
       "0002cf30347684df542e1a931f356875       0          0      5    3    14   \n",
       "0002cf30347684df542e1a931f356875       0          2      4    3    12   \n",
       "0002cf30347684df542e1a931f356875       0          9      5    5    13   \n",
       "0002cf30347684df542e1a931f356875       0         17      8    5    12   \n",
       "\n",
       "                                 type_day part_day  \n",
       "client_id                                           \n",
       "0002cf30347684df542e1a931f356875  weekend  daytime  \n",
       "0002cf30347684df542e1a931f356875  weekday  daytime  \n",
       "0002cf30347684df542e1a931f356875  weekday  daytime  \n",
       "0002cf30347684df542e1a931f356875  weekend  daytime  \n",
       "0002cf30347684df542e1a931f356875  weekend  daytime  "
      ]
     },
     "execution_count": 66,
     "metadata": {},
     "output_type": "execute_result"
    }
   ],
   "source": [
    "def conditions_day(x):\n",
    "    if x == 4:\n",
    "        return 'friday'\n",
    "    elif (x == 5 or x == 6):\n",
    "        return 'weekend'\n",
    "    else:\n",
    "        return 'weekday'\n",
    "conds_d = np.vectorize(conditions_day)\n",
    "\n",
    "def conditions_hour(x):\n",
    "    if (x >= 6) and (x < 12):\n",
    "        return 'morning'\n",
    "    elif (x >= 12) and (x < 18):\n",
    "        return 'daytime'\n",
    "    elif (x >= 18) and (x <= 23):\n",
    "        return 'evening'\n",
    "    else:\n",
    "        return 'night'\n",
    "conds_h = np.vectorize(conditions_hour)\n",
    "\n",
    "for df in [transactions_train, transactions_test]:\n",
    "    df['day_month'] = df['trans_time'].str.split().apply(lambda x: int(x[0]) % 30)\n",
    "    df['month'] = df['trans_time'].str.split().apply(lambda x: (int(x[0]) // 30) % 12)\n",
    "    df['day'] = df['trans_time'].str.split().apply(lambda x: int(x[0]) % 7)\n",
    "    df['hour'] = df['trans_time'].apply(lambda x: re.search(' \\d*', x).group(0)).astype(int)\n",
    "    type_day = conds_d(df['day'])\n",
    "    df['type_day'] = type_day\n",
    "    part_day = conds_h(df['hour'])\n",
    "    df['part_day'] = part_day\n",
    "\n",
    "transactions_train.head()"
   ]
  },
  {
   "cell_type": "markdown",
   "id": "42d1b729",
   "metadata": {
    "papermill": {
     "duration": 0.026351,
     "end_time": "2021-10-17T15:12:00.851244",
     "exception": false,
     "start_time": "2021-10-17T15:12:00.824893",
     "status": "completed"
    },
    "tags": []
   },
   "source": [
    "Посчитаем для каждого пользователя количество транзакций в определенные часы, дни, месяцы. Разделим транзакции на положительные (пришли средства) и отрицательные (ушли средства), а затем на основе этого посчитаем для каждого пользователя минимум, максимум, среднее, медиану и другие агрегирующие функции. Также, посчитаем количество транзакций по MCC кодам и типам транзакций."
   ]
  },
  {
   "cell_type": "code",
   "execution_count": 70,
   "id": "02135ac2",
   "metadata": {
    "execution": {
     "iopub.execute_input": "2021-10-17T15:12:00.908348Z",
     "iopub.status.busy": "2021-10-17T15:12:00.907716Z",
     "iopub.status.idle": "2021-10-17T15:12:00.917863Z",
     "shell.execute_reply": "2021-10-17T15:12:00.918284Z",
     "shell.execute_reply.started": "2021-10-17T14:36:32.617538Z"
    },
    "papermill": {
     "duration": 0.040232,
     "end_time": "2021-10-17T15:12:00.918476",
     "exception": false,
     "start_time": "2021-10-17T15:12:00.878244",
     "status": "completed"
    },
    "tags": []
   },
   "outputs": [],
   "source": [
    "tqdm_notebook.pandas(desc=\"Progress:\")\n",
    "\n",
    "def features_advanced(x): \n",
    "    features = []\n",
    "    features.append(pd.Series(x['day_month'].value_counts(normalize=True).add_prefix('day_month_')))\n",
    "    features.append(pd.Series(x['month'].value_counts(normalize=True).add_prefix('month_')))\n",
    "    features.append(pd.Series(x['day'].value_counts(normalize=True).add_prefix('day_')))\n",
    "    features.append(pd.Series(x['hour'].value_counts(normalize=True).add_prefix('hour_')))\n",
    "    features.append(pd.Series(x['type_day'].value_counts(normalize=True).add_prefix('type_day_')))\n",
    "    features.append(pd.Series(x['part_day'].value_counts(normalize=True).add_prefix('part_day_')))\n",
    "    \n",
    "    features.append(pd.Series(x[x['amount']>0]['amount'].agg(['min', 'max', 'mean', 'median', 'std', 'count', 'sum'])\\\n",
    "                                                        .add_prefix('positive_transactions_')))\n",
    "    features.append(pd.Series(x[x['amount']<0]['amount'].agg(['min', 'max', 'mean', 'median', 'std', 'count', 'sum'])\\\n",
    "                                                        .add_prefix('negative_transactions_')))\n",
    "\n",
    "    features.append(pd.Series(x['mcc_code'].value_counts(normalize=True).add_prefix('mcc_')))\n",
    "    features.append(pd.Series(x['trans_type'].value_counts(normalize=True).add_prefix('tr_')))\n",
    "    features.append(pd.Series(x[['day_month', 'part_day']].value_counts(normalize=True).add_prefix('dm_pd_')))\n",
    "    \n",
    "    return pd.concat(features)"
   ]
  },
  {
   "cell_type": "code",
   "execution_count": 71,
   "id": "bf705471",
   "metadata": {
    "execution": {
     "iopub.execute_input": "2021-10-17T15:12:00.978941Z",
     "iopub.status.busy": "2021-10-17T15:12:00.974688Z",
     "iopub.status.idle": "2021-10-17T15:14:48.293439Z",
     "shell.execute_reply": "2021-10-17T15:14:48.292790Z",
     "shell.execute_reply.started": "2021-10-17T14:36:45.457846Z"
    },
    "papermill": {
     "duration": 167.349152,
     "end_time": "2021-10-17T15:14:48.293598",
     "exception": false,
     "start_time": "2021-10-17T15:12:00.944446",
     "status": "completed"
    },
    "tags": []
   },
   "outputs": [
    {
     "data": {
      "application/vnd.jupyter.widget-view+json": {
       "model_id": "d2db4427c22e42e5899205d5f954d995",
       "version_major": 2,
       "version_minor": 0
      },
      "text/plain": [
       "Progress::   0%|          | 0/7560 [00:00<?, ?it/s]"
      ]
     },
     "metadata": {},
     "output_type": "display_data"
    },
    {
     "data": {
      "application/vnd.jupyter.widget-view+json": {
       "model_id": "bf354f610fc541d09727b5b4be24b7a7",
       "version_major": 2,
       "version_minor": 0
      },
      "text/plain": [
       "Progress::   0%|          | 0/840 [00:00<?, ?it/s]"
      ]
     },
     "metadata": {},
     "output_type": "display_data"
    },
    {
     "data": {
      "text/plain": [
       "gender\n",
       "0    4199\n",
       "1    3361\n",
       "Name: count, dtype: int64"
      ]
     },
     "execution_count": 71,
     "metadata": {},
     "output_type": "execute_result"
    }
   ],
   "source": [
    "data_train = transactions_train.groupby(transactions_train.index)\\\n",
    "                            .progress_apply(features_advanced).unstack(-1)\n",
    "data_test = transactions_test.groupby(transactions_test.index)\\\n",
    "                            .progress_apply(features_advanced).unstack(-1)\n",
    "\n",
    "target = data_train.join(gender_train, how='inner')['gender']\n",
    "target.value_counts()"
   ]
  },
  {
   "cell_type": "code",
   "execution_count": 72,
   "id": "f1944089",
   "metadata": {
    "execution": {
     "iopub.execute_input": "2021-10-17T15:14:48.359843Z",
     "iopub.status.busy": "2021-10-17T15:14:48.356445Z",
     "iopub.status.idle": "2021-10-17T15:14:48.455388Z",
     "shell.execute_reply": "2021-10-17T15:14:48.454828Z",
     "shell.execute_reply.started": "2021-10-17T14:44:19.394459Z"
    },
    "papermill": {
     "duration": 0.132038,
     "end_time": "2021-10-17T15:14:48.455562",
     "exception": false,
     "start_time": "2021-10-17T15:14:48.323524",
     "status": "completed"
    },
    "tags": []
   },
   "outputs": [
    {
     "data": {
      "text/plain": [
       "((7560, 473), (840, 462))"
      ]
     },
     "execution_count": 72,
     "metadata": {},
     "output_type": "execute_result"
    }
   ],
   "source": [
    "X = data_train.copy()\n",
    "y = target\n",
    "test_df = data_test.copy()\n",
    "\n",
    "# Заполним пустые значения нулями\n",
    "X.fillna(0, inplace=True)\n",
    "test_df.fillna(0, inplace=True)\n",
    "\n",
    "X.shape, test_df.shape"
   ]
  },
  {
   "cell_type": "markdown",
   "id": "b53862a3",
   "metadata": {
    "papermill": {
     "duration": 0.028861,
     "end_time": "2021-10-17T15:14:48.512949",
     "exception": false,
     "start_time": "2021-10-17T15:14:48.484088",
     "status": "completed"
    },
    "tags": []
   },
   "source": [
    "## Модель"
   ]
  },
  {
   "cell_type": "code",
   "execution_count": 73,
   "id": "df406629",
   "metadata": {
    "execution": {
     "iopub.execute_input": "2021-10-17T15:14:48.573945Z",
     "iopub.status.busy": "2021-10-17T15:14:48.573185Z",
     "iopub.status.idle": "2021-10-17T15:14:48.576497Z",
     "shell.execute_reply": "2021-10-17T15:14:48.575873Z",
     "shell.execute_reply.started": "2021-10-17T14:46:10.529207Z"
    },
    "papermill": {
     "duration": 0.035614,
     "end_time": "2021-10-17T15:14:48.576654",
     "exception": false,
     "start_time": "2021-10-17T15:14:48.541040",
     "status": "completed"
    },
    "tags": []
   },
   "outputs": [],
   "source": [
    "# Подобранные оптимальные гиперпараметры\n",
    "\n",
    "params = {\n",
    "    'num_trees': 270,\n",
    "    'learning_rate': 0.08,\n",
    "    'depth': 6,\n",
    "    'l2_leaf_reg': 2.5,\n",
    "    'verbose' : False\n",
    "}"
   ]
  },
  {
   "cell_type": "markdown",
   "id": "c9c4db27",
   "metadata": {
    "execution": {
     "iopub.execute_input": "2021-10-17T14:54:31.118765Z",
     "iopub.status.busy": "2021-10-17T14:54:31.118408Z",
     "iopub.status.idle": "2021-10-17T14:54:31.125569Z",
     "shell.execute_reply": "2021-10-17T14:54:31.124703Z",
     "shell.execute_reply.started": "2021-10-17T14:54:31.118731Z"
    },
    "papermill": {
     "duration": 0.02711,
     "end_time": "2021-10-17T15:14:48.631129",
     "exception": false,
     "start_time": "2021-10-17T15:14:48.604019",
     "status": "completed"
    },
    "tags": []
   },
   "source": [
    "Оценим модель по метрикам ROC AUC и F1."
   ]
  },
  {
   "cell_type": "code",
   "execution_count": 74,
   "id": "e7e4abe2",
   "metadata": {
    "execution": {
     "iopub.execute_input": "2021-10-17T15:14:48.695059Z",
     "iopub.status.busy": "2021-10-17T15:14:48.694069Z",
     "iopub.status.idle": "2021-10-17T15:15:04.251025Z",
     "shell.execute_reply": "2021-10-17T15:15:04.250530Z",
     "shell.execute_reply.started": "2021-10-17T14:51:16.862894Z"
    },
    "papermill": {
     "duration": 15.592674,
     "end_time": "2021-10-17T15:15:04.251175",
     "exception": false,
     "start_time": "2021-10-17T15:14:48.658501",
     "status": "completed"
    },
    "tags": []
   },
   "outputs": [
    {
     "data": {
      "text/plain": [
       "<catboost.core.CatBoostClassifier at 0x1d9720a2a90>"
      ]
     },
     "execution_count": 74,
     "metadata": {},
     "output_type": "execute_result"
    }
   ],
   "source": [
    "train_indices, test_indices = train_test_split(y.index, test_size=0.2)\n",
    "\n",
    "train_x = X.loc[train_indices, :]\n",
    "train_y = y.loc[train_indices]\n",
    "\n",
    "test_x = X.loc[test_indices, :]\n",
    "test_y = y.loc[test_indices]\n",
    "\n",
    "model = CatBoostClassifier(**params)\n",
    "model.fit(train_x, train_y)"
   ]
  },
  {
   "cell_type": "code",
   "execution_count": 75,
   "id": "6af20dbc",
   "metadata": {
    "execution": {
     "iopub.execute_input": "2021-10-17T15:15:04.318044Z",
     "iopub.status.busy": "2021-10-17T15:15:04.317396Z",
     "iopub.status.idle": "2021-10-17T15:15:04.356896Z",
     "shell.execute_reply": "2021-10-17T15:15:04.357313Z",
     "shell.execute_reply.started": "2021-10-17T14:56:42.604159Z"
    },
    "papermill": {
     "duration": 0.078603,
     "end_time": "2021-10-17T15:15:04.357543",
     "exception": false,
     "start_time": "2021-10-17T15:15:04.278940",
     "status": "completed"
    },
    "tags": []
   },
   "outputs": [
    {
     "name": "stdout",
     "output_type": "stream",
     "text": [
      "ROC AUC: 0.7794653222856597\n",
      "F1 score: 0.753030303030303\n"
     ]
    }
   ],
   "source": [
    "y_pred = model.predict(test_x)\n",
    "metric_auc = roc_auc_score(test_y, y_pred)\n",
    "metric_f1 = f1_score(test_y, y_pred)\n",
    "\n",
    "print('ROC AUC:', metric_auc)\n",
    "print('F1 score:', metric_f1)"
   ]
  },
  {
   "cell_type": "code",
   "execution_count": 76,
   "id": "5f77ddc5",
   "metadata": {
    "execution": {
     "iopub.execute_input": "2021-10-17T15:15:04.419137Z",
     "iopub.status.busy": "2021-10-17T15:15:04.418524Z",
     "iopub.status.idle": "2021-10-17T15:15:04.824623Z",
     "shell.execute_reply": "2021-10-17T15:15:04.824057Z",
     "shell.execute_reply.started": "2021-10-17T15:02:10.237611Z"
    },
    "papermill": {
     "duration": 0.437992,
     "end_time": "2021-10-17T15:15:04.824779",
     "exception": false,
     "start_time": "2021-10-17T15:15:04.386787",
     "status": "completed"
    },
    "tags": []
   },
   "outputs": [
    {
     "data": {
      "image/png": "[encoded data removed]",
      "text/plain": [
       "<Figure size 1000x800 with 1 Axes>"
      ]
     },
     "metadata": {},
     "output_type": "display_data"
    }
   ],
   "source": [
    "sns.set(font_scale=1.5)\n",
    "sns.set_color_codes(\"muted\")\n",
    "\n",
    "plt.figure(figsize=(10, 8))\n",
    "fpr, tpr, thresholds = roc_curve(test_y, y_pred, pos_label=1)\n",
    "lw = 2\n",
    "plt.plot(fpr, tpr, lw=lw, label='ROC curve')\n",
    "plt.plot([0, 1], [0, 1])\n",
    "plt.xlim([0.0, 1.0])\n",
    "plt.ylim([0.0, 1.05])\n",
    "plt.xlabel('False Positive Rate')\n",
    "plt.ylabel('True Positive Rate')\n",
    "plt.title('ROC curve')\n",
    "plt.show()"
   ]
  },
  {
   "cell_type": "markdown",
   "id": "b33db054",
   "metadata": {
    "execution": {
     "iopub.execute_input": "2021-10-17T15:04:18.373341Z",
     "iopub.status.busy": "2021-10-17T15:04:18.372468Z",
     "iopub.status.idle": "2021-10-17T15:04:18.378334Z",
     "shell.execute_reply": "2021-10-17T15:04:18.377315Z",
     "shell.execute_reply.started": "2021-10-17T15:04:18.373289Z"
    },
    "papermill": {
     "duration": 0.030729,
     "end_time": "2021-10-17T15:15:04.886243",
     "exception": false,
     "start_time": "2021-10-17T15:15:04.855514",
     "status": "completed"
    },
    "tags": []
   },
   "source": [
    "Обучим модель на всех данных"
   ]
  },
  {
   "cell_type": "code",
   "execution_count": 77,
   "id": "98e6429f",
   "metadata": {
    "execution": {
     "iopub.execute_input": "2021-10-17T15:15:04.978677Z",
     "iopub.status.busy": "2021-10-17T15:15:04.949710Z",
     "iopub.status.idle": "2021-10-17T15:15:21.486817Z",
     "shell.execute_reply": "2021-10-17T15:15:21.487286Z",
     "shell.execute_reply.started": "2021-10-17T15:08:27.073880Z"
    },
    "papermill": {
     "duration": 16.57115,
     "end_time": "2021-10-17T15:15:21.487536",
     "exception": false,
     "start_time": "2021-10-17T15:15:04.916386",
     "status": "completed"
    },
    "tags": []
   },
   "outputs": [
    {
     "data": {
      "text/plain": [
       "<catboost.core.CatBoostClassifier at 0x1d901cecc50>"
      ]
     },
     "execution_count": 77,
     "metadata": {},
     "output_type": "execute_result"
    }
   ],
   "source": [
    "pred_model = CatBoostClassifier(**params)\n",
    "\n",
    "pred_model.fit(X, y)"
   ]
  },
  {
   "cell_type": "code",
   "execution_count": 79,
   "metadata": {},
   "outputs": [
    {
     "name": "stdout",
     "output_type": "stream",
     "text": [
      "Список признаков не совпадает.\n",
      "{('dm_pd_24', 'dm_pd_daytime'), ('dm_pd_16', 'dm_pd_daytime'), ('dm_pd_14', 'dm_pd_night'), ('dm_pd_21', 'dm_pd_morning'), ('dm_pd_26', 'dm_pd_morning'), ('dm_pd_7', 'dm_pd_evening'), ('dm_pd_10', 'dm_pd_daytime'), ('dm_pd_13', 'dm_pd_daytime'), ('dm_pd_18', 'dm_pd_night'), ('dm_pd_23', 'dm_pd_daytime'), ('dm_pd_1', 'dm_pd_daytime'), ('dm_pd_22', 'dm_pd_night'), ('dm_pd_2', 'dm_pd_morning'), ('dm_pd_18', 'dm_pd_morning'), ('dm_pd_11', 'dm_pd_evening'), ('dm_pd_7', 'dm_pd_daytime'), ('dm_pd_24', 'dm_pd_evening'), ('dm_pd_16', 'dm_pd_evening'), ('dm_pd_15', 'dm_pd_daytime'), ('dm_pd_3', 'dm_pd_night'), ('dm_pd_24', 'dm_pd_morning'), ('dm_pd_27', 'dm_pd_night'), ('dm_pd_0', 'dm_pd_daytime'), ('dm_pd_6', 'dm_pd_daytime'), ('dm_pd_10', 'dm_pd_evening'), ('dm_pd_29', 'dm_pd_daytime'), ('dm_pd_20', 'dm_pd_daytime'), ('dm_pd_13', 'dm_pd_evening'), ('dm_pd_12', 'dm_pd_daytime'), ('dm_pd_26', 'dm_pd_night'), ('dm_pd_27', 'dm_pd_morning'), ('dm_pd_23', 'dm_pd_evening'), ('dm_pd_1', 'dm_pd_evening'), ('dm_pd_17', 'dm_pd_daytime'), ('dm_pd_4', 'dm_pd_daytime'), ('dm_pd_19', 'dm_pd_daytime'), ('dm_pd_2', 'dm_pd_night'), ('dm_pd_15', 'dm_pd_evening'), ('dm_pd_7', 'dm_pd_morning'), ('dm_pd_0', 'dm_pd_evening'), ('dm_pd_8', 'dm_pd_evening'), ('dm_pd_25', 'dm_pd_daytime'), ('dm_pd_6', 'dm_pd_evening'), ('dm_pd_5', 'dm_pd_daytime'), ('dm_pd_29', 'dm_pd_evening'), ('dm_pd_20', 'dm_pd_evening'), ('dm_pd_24', 'dm_pd_night'), ('dm_pd_6', 'dm_pd_morning'), ('dm_pd_16', 'dm_pd_night'), ('dm_pd_12', 'dm_pd_evening'), ('dm_pd_9', 'dm_pd_daytime'), ('dm_pd_28', 'dm_pd_daytime'), ('dm_pd_11', 'dm_pd_morning'), ('dm_pd_17', 'dm_pd_evening'), ('dm_pd_4', 'dm_pd_evening'), ('dm_pd_8', 'dm_pd_daytime'), ('dm_pd_16', 'dm_pd_morning'), ('dm_pd_19', 'dm_pd_evening'), ('dm_pd_13', 'dm_pd_night'), ('dm_pd_14', 'dm_pd_evening'), ('dm_pd_10', 'dm_pd_morning'), ('dm_pd_25', 'dm_pd_evening'), ('dm_pd_5', 'dm_pd_evening'), ('dm_pd_13', 'dm_pd_morning'), ('dm_pd_7', 'dm_pd_night'), ('dm_pd_1', 'dm_pd_morning'), ('dm_pd_23', 'dm_pd_morning'), ('dm_pd_21', 'dm_pd_daytime'), ('dm_pd_15', 'dm_pd_night'), ('dm_pd_9', 'dm_pd_evening'), ('dm_pd_0', 'dm_pd_night'), ('dm_pd_14', 'dm_pd_daytime'), ('dm_pd_28', 'dm_pd_evening'), ('dm_pd_6', 'dm_pd_night'), ('dm_pd_29', 'dm_pd_night'), ('dm_pd_15', 'dm_pd_morning'), ('dm_pd_11', 'dm_pd_night'), ('dm_pd_0', 'dm_pd_morning'), ('dm_pd_2', 'dm_pd_daytime'), ('dm_pd_8', 'dm_pd_morning'), ('dm_pd_18', 'dm_pd_daytime'), ('dm_pd_29', 'dm_pd_morning'), ('dm_pd_17', 'dm_pd_night'), ('dm_pd_20', 'dm_pd_morning'), ('dm_pd_4', 'dm_pd_night'), ('dm_pd_3', 'dm_pd_evening'), ('dm_pd_22', 'dm_pd_daytime'), ('dm_pd_12', 'dm_pd_morning'), ('dm_pd_10', 'dm_pd_night'), ('dm_pd_21', 'dm_pd_evening'), ('dm_pd_26', 'dm_pd_evening'), ('dm_pd_17', 'dm_pd_morning'), ('dm_pd_4', 'dm_pd_morning'), ('dm_pd_23', 'dm_pd_night'), ('dm_pd_1', 'dm_pd_night'), ('dm_pd_25', 'dm_pd_night'), ('dm_pd_19', 'dm_pd_morning'), ('dm_pd_5', 'dm_pd_night'), ('dm_pd_3', 'dm_pd_daytime'), ('dm_pd_27', 'dm_pd_daytime'), ('dm_pd_14', 'dm_pd_morning'), ('dm_pd_25', 'dm_pd_morning'), ('dm_pd_2', 'dm_pd_evening'), ('dm_pd_18', 'dm_pd_evening'), ('dm_pd_5', 'dm_pd_morning'), ('dm_pd_9', 'dm_pd_night'), ('dm_pd_26', 'dm_pd_daytime'), ('dm_pd_28', 'dm_pd_night'), ('dm_pd_8', 'dm_pd_night'), ('dm_pd_22', 'dm_pd_evening'), ('dm_pd_20', 'dm_pd_night'), ('dm_pd_9', 'dm_pd_morning'), ('dm_pd_28', 'dm_pd_morning'), ('dm_pd_22', 'dm_pd_morning'), ('dm_pd_12', 'dm_pd_night'), ('dm_pd_27', 'dm_pd_evening'), ('dm_pd_21', 'dm_pd_night'), ('dm_pd_19', 'dm_pd_night'), ('dm_pd_11', 'dm_pd_daytime'), ('dm_pd_3', 'dm_pd_morning')}\n"
     ]
    }
   ],
   "source": [
    "# Получение имен признаков из тестового набора данных\n",
    "test_feature_names = test_df.columns.tolist()\n",
    "\n",
    "# Получение имен признаков из обученной модели\n",
    "model_feature_names = pred_model.feature_names_\n",
    "\n",
    "# Сравнение имен признаков\n",
    "if test_feature_names != model_feature_names:\n",
    "    print(\"Список признаков не совпадает.\")\n",
    "    # Вывести различия между списками\n",
    "    print(set(test_feature_names) - set(model_feature_names))\n"
   ]
  },
  {
   "cell_type": "code",
   "execution_count": 78,
   "id": "d2053847",
   "metadata": {
    "execution": {
     "iopub.execute_input": "2021-10-17T15:15:21.566094Z",
     "iopub.status.busy": "2021-10-17T15:15:21.554390Z",
     "iopub.status.idle": "2021-10-17T15:15:21.592892Z",
     "shell.execute_reply": "2021-10-17T15:15:21.592297Z",
     "shell.execute_reply.started": "2021-10-17T15:08:46.008832Z"
    },
    "papermill": {
     "duration": 0.073212,
     "end_time": "2021-10-17T15:15:21.593045",
     "exception": false,
     "start_time": "2021-10-17T15:15:21.519833",
     "status": "completed"
    },
    "tags": []
   },
   "outputs": [
    {
     "ename": "CatBoostError",
     "evalue": "C:/Go_Agent/pipelines/BuildMaster/catboost.git/catboost/libs/data/model_dataset_compatibility.cpp:81: At position 187 should be feature with name mcc_3501 (found mcc_4111).",
     "output_type": "error",
     "traceback": [
      "\u001b[1;31m---------------------------------------------------------------------------\u001b[0m",
      "\u001b[1;31mCatBoostError\u001b[0m                             Traceback (most recent call last)",
      "\u001b[1;32md:\\code\\hackaton\\HSE_Sber_Hack-2023\\try.ipynb Cell 46\u001b[0m line \u001b[0;36m1\n\u001b[1;32m----> <a href='vscode-notebook-cell:/d%3A/code/hackaton/HSE_Sber_Hack-2023/try.ipynb#X52sZmlsZQ%3D%3D?line=0'>1</a>\u001b[0m predict \u001b[39m=\u001b[39m pred_model\u001b[39m.\u001b[39;49mpredict_proba(test_df)\n",
      "File \u001b[1;32md:\\code\\python\\Lib\\site-packages\\catboost\\core.py:5194\u001b[0m, in \u001b[0;36mCatBoostClassifier.predict_proba\u001b[1;34m(self, X, ntree_start, ntree_end, thread_count, verbose, task_type)\u001b[0m\n\u001b[0;32m   5158\u001b[0m \u001b[39mdef\u001b[39;00m \u001b[39mpredict_proba\u001b[39m(\u001b[39mself\u001b[39m, X, ntree_start\u001b[39m=\u001b[39m\u001b[39m0\u001b[39m, ntree_end\u001b[39m=\u001b[39m\u001b[39m0\u001b[39m, thread_count\u001b[39m=\u001b[39m\u001b[39m-\u001b[39m\u001b[39m1\u001b[39m, verbose\u001b[39m=\u001b[39m\u001b[39mNone\u001b[39;00m, task_type\u001b[39m=\u001b[39m\u001b[39m\"\u001b[39m\u001b[39mCPU\u001b[39m\u001b[39m\"\u001b[39m):\n\u001b[0;32m   5159\u001b[0m \u001b[39m    \u001b[39m\u001b[39m\"\"\"\u001b[39;00m\n\u001b[0;32m   5160\u001b[0m \u001b[39m    Predict class probability with X.\u001b[39;00m\n\u001b[0;32m   5161\u001b[0m \n\u001b[1;32m   (...)\u001b[0m\n\u001b[0;32m   5192\u001b[0m \u001b[39m            with probability for every class for each object.\u001b[39;00m\n\u001b[0;32m   5193\u001b[0m \u001b[39m    \"\"\"\u001b[39;00m\n\u001b[1;32m-> 5194\u001b[0m     \u001b[39mreturn\u001b[39;00m \u001b[39mself\u001b[39;49m\u001b[39m.\u001b[39;49m_predict(X, \u001b[39m'\u001b[39;49m\u001b[39mProbability\u001b[39;49m\u001b[39m'\u001b[39;49m, ntree_start, ntree_end, thread_count, verbose, \u001b[39m'\u001b[39;49m\u001b[39mpredict_proba\u001b[39;49m\u001b[39m'\u001b[39;49m, task_type)\n",
      "File \u001b[1;32md:\\code\\python\\Lib\\site-packages\\catboost\\core.py:2508\u001b[0m, in \u001b[0;36mCatBoost._predict\u001b[1;34m(self, data, prediction_type, ntree_start, ntree_end, thread_count, verbose, parent_method_name, task_type)\u001b[0m\n\u001b[0;32m   2505\u001b[0m data, data_is_single_object \u001b[39m=\u001b[39m \u001b[39mself\u001b[39m\u001b[39m.\u001b[39m_process_predict_input_data(data, parent_method_name, thread_count)\n\u001b[0;32m   2506\u001b[0m \u001b[39mself\u001b[39m\u001b[39m.\u001b[39m_validate_prediction_type(prediction_type)\n\u001b[1;32m-> 2508\u001b[0m predictions \u001b[39m=\u001b[39m \u001b[39mself\u001b[39;49m\u001b[39m.\u001b[39;49m_base_predict(data, prediction_type, ntree_start, ntree_end, thread_count, verbose, task_type)\n\u001b[0;32m   2509\u001b[0m \u001b[39mreturn\u001b[39;00m predictions[\u001b[39m0\u001b[39m] \u001b[39mif\u001b[39;00m data_is_single_object \u001b[39melse\u001b[39;00m predictions\n",
      "File \u001b[1;32md:\\code\\python\\Lib\\site-packages\\catboost\\core.py:1775\u001b[0m, in \u001b[0;36m_CatBoostBase._base_predict\u001b[1;34m(self, pool, prediction_type, ntree_start, ntree_end, thread_count, verbose, task_type)\u001b[0m\n\u001b[0;32m   1774\u001b[0m \u001b[39mdef\u001b[39;00m \u001b[39m_base_predict\u001b[39m(\u001b[39mself\u001b[39m, pool, prediction_type, ntree_start, ntree_end, thread_count, verbose, task_type):\n\u001b[1;32m-> 1775\u001b[0m     \u001b[39mreturn\u001b[39;00m \u001b[39mself\u001b[39;49m\u001b[39m.\u001b[39;49m_object\u001b[39m.\u001b[39;49m_base_predict(pool, prediction_type, ntree_start, ntree_end, thread_count, verbose, task_type)\n",
      "File \u001b[1;32m_catboost.pyx:4781\u001b[0m, in \u001b[0;36m_catboost._CatBoost._base_predict\u001b[1;34m()\u001b[0m\n",
      "File \u001b[1;32m_catboost.pyx:4788\u001b[0m, in \u001b[0;36m_catboost._CatBoost._base_predict\u001b[1;34m()\u001b[0m\n",
      "\u001b[1;31mCatBoostError\u001b[0m: C:/Go_Agent/pipelines/BuildMaster/catboost.git/catboost/libs/data/model_dataset_compatibility.cpp:81: At position 187 should be feature with name mcc_3501 (found mcc_4111)."
     ]
    }
   ],
   "source": [
    "predict = pred_model.predict_proba(test_df)"
   ]
  },
  {
   "cell_type": "code",
   "execution_count": null,
   "id": "06f30140",
   "metadata": {
    "execution": {
     "iopub.execute_input": "2021-10-17T15:15:21.655626Z",
     "iopub.status.busy": "2021-10-17T15:15:21.654712Z",
     "iopub.status.idle": "2021-10-17T15:15:21.684728Z",
     "shell.execute_reply": "2021-10-17T15:15:21.684169Z",
     "shell.execute_reply.started": "2021-10-17T15:08:48.691110Z"
    },
    "papermill": {
     "duration": 0.062429,
     "end_time": "2021-10-17T15:15:21.684889",
     "exception": false,
     "start_time": "2021-10-17T15:15:21.622460",
     "status": "completed"
    },
    "tags": []
   },
   "outputs": [
    {
     "data": {
      "text/html": [
       "<div>\n",
       "<style scoped>\n",
       "    .dataframe tbody tr th:only-of-type {\n",
       "        vertical-align: middle;\n",
       "    }\n",
       "\n",
       "    .dataframe tbody tr th {\n",
       "        vertical-align: top;\n",
       "    }\n",
       "\n",
       "    .dataframe thead th {\n",
       "        text-align: right;\n",
       "    }\n",
       "</style>\n",
       "<table border=\"1\" class=\"dataframe\">\n",
       "  <thead>\n",
       "    <tr style=\"text-align: right;\">\n",
       "      <th></th>\n",
       "      <th>probability</th>\n",
       "    </tr>\n",
       "    <tr>\n",
       "      <th>customer_id</th>\n",
       "      <th></th>\n",
       "    </tr>\n",
       "  </thead>\n",
       "  <tbody>\n",
       "    <tr>\n",
       "      <th>6815</th>\n",
       "      <td>0.460374</td>\n",
       "    </tr>\n",
       "    <tr>\n",
       "      <th>27914</th>\n",
       "      <td>0.811062</td>\n",
       "    </tr>\n",
       "    <tr>\n",
       "      <th>31385</th>\n",
       "      <td>0.072757</td>\n",
       "    </tr>\n",
       "    <tr>\n",
       "      <th>38084</th>\n",
       "      <td>0.019044</td>\n",
       "    </tr>\n",
       "    <tr>\n",
       "      <th>78659</th>\n",
       "      <td>0.659438</td>\n",
       "    </tr>\n",
       "  </tbody>\n",
       "</table>\n",
       "</div>"
      ],
      "text/plain": [
       "             probability\n",
       "customer_id             \n",
       "6815            0.460374\n",
       "27914           0.811062\n",
       "31385           0.072757\n",
       "38084           0.019044\n",
       "78659           0.659438"
      ]
     },
     "execution_count": 21,
     "metadata": {},
     "output_type": "execute_result"
    }
   ],
   "source": [
    "submission = pd.DataFrame(index=data_test.index)\n",
    "submission['probability'] = predict[:,1]\n",
    "submission.to_csv('final_submission.csv')\n",
    "submission.head()"
   ]
  }
 ],
 "metadata": {
  "kernelspec": {
   "display_name": "Python 3",
   "language": "python",
   "name": "python3"
  },
  "language_info": {
   "codemirror_mode": {
    "name": "ipython",
    "version": 3
   },
   "file_extension": ".py",
   "mimetype": "text/x-python",
   "name": "python",
   "nbconvert_exporter": "python",
   "pygments_lexer": "ipython3",
   "version": "3.11.5"
  },
  "papermill": {
   "default_parameters": {},
   "duration": 279.251732,
   "end_time": "2021-10-17T15:15:23.435989",
   "environment_variables": {},
   "exception": null,
   "input_path": "__notebook__.ipynb",
   "output_path": "__notebook__.ipynb",
   "parameters": {},
   "start_time": "2021-10-17T15:10:44.184257",
   "version": "2.3.3"
  },
  "widgets": {
   "application/vnd.jupyter.widget-state+json": {
    "state": {
     "2a72cb27207d4893ab0fa1c6bcde51a1": {
      "model_module": "@jupyter-widgets/controls",
      "model_module_version": "1.5.0",
      "model_name": "ProgressStyleModel",
      "state": {
       "_model_module": "@jupyter-widgets/controls",
       "_model_module_version": "1.5.0",
       "_model_name": "ProgressStyleModel",
       "_view_count": null,
       "_view_module": "@jupyter-widgets/base",
       "_view_module_version": "1.2.0",
       "_view_name": "StyleView",
       "bar_color": null,
       "description_width": ""
      }
     },
     "2f30547d99eb4599b6bdb7451b9854af": {
      "model_module": "@jupyter-widgets/controls",
      "model_module_version": "1.5.0",
      "model_name": "HBoxModel",
      "state": {
       "_dom_classes": [],
       "_model_module": "@jupyter-widgets/controls",
       "_model_module_version": "1.5.0",
       "_model_name": "HBoxModel",
       "_view_count": null,
       "_view_module": "@jupyter-widgets/controls",
       "_view_module_version": "1.5.0",
       "_view_name": "HBoxView",
       "box_style": "",
       "children": [
        "IPY_MODEL_4fd988188b3d4b648dbf971d7006a6b1",
        "IPY_MODEL_6056b86465804269bd9b5413c51c7a90",
        "IPY_MODEL_d9c9402a2759490ba72520557190d93e"
       ],
       "layout": "IPY_MODEL_631f668f0095403abbc7e8fb4a03f02b"
      }
     },
     "3599589bf86047c291bd8c4a8cef6e86": {
      "model_module": "@jupyter-widgets/controls",
      "model_module_version": "1.5.0",
      "model_name": "DescriptionStyleModel",
      "state": {
       "_model_module": "@jupyter-widgets/controls",
       "_model_module_version": "1.5.0",
       "_model_name": "DescriptionStyleModel",
       "_view_count": null,
       "_view_module": "@jupyter-widgets/base",
       "_view_module_version": "1.2.0",
       "_view_name": "StyleView",
       "description_width": ""
      }
     },
     "3ca1f2024ae44b878694e80e71c153e7": {
      "model_module": "@jupyter-widgets/controls",
      "model_module_version": "1.5.0",
      "model_name": "DescriptionStyleModel",
      "state": {
       "_model_module": "@jupyter-widgets/controls",
       "_model_module_version": "1.5.0",
       "_model_name": "DescriptionStyleModel",
       "_view_count": null,
       "_view_module": "@jupyter-widgets/base",
       "_view_module_version": "1.2.0",
       "_view_name": "StyleView",
       "description_width": ""
      }
     },
     "3e0aba9833dd4a0089c4fb238e6fbc78": {
      "model_module": "@jupyter-widgets/controls",
      "model_module_version": "1.5.0",
      "model_name": "DescriptionStyleModel",
      "state": {
       "_model_module": "@jupyter-widgets/controls",
       "_model_module_version": "1.5.0",
       "_model_name": "DescriptionStyleModel",
       "_view_count": null,
       "_view_module": "@jupyter-widgets/base",
       "_view_module_version": "1.2.0",
       "_view_name": "StyleView",
       "description_width": ""
      }
     },
     "3ed18210eaa44ff99d9d84970b109063": {
      "model_module": "@jupyter-widgets/base",
      "model_module_version": "1.2.0",
      "model_name": "LayoutModel",
      "state": {
       "_model_module": "@jupyter-widgets/base",
       "_model_module_version": "1.2.0",
       "_model_name": "LayoutModel",
       "_view_count": null,
       "_view_module": "@jupyter-widgets/base",
       "_view_module_version": "1.2.0",
       "_view_name": "LayoutView",
       "align_content": null,
       "align_items": null,
       "align_self": null,
       "border": null,
       "bottom": null,
       "display": null,
       "flex": null,
       "flex_flow": null,
       "grid_area": null,
       "grid_auto_columns": null,
       "grid_auto_flow": null,
       "grid_auto_rows": null,
       "grid_column": null,
       "grid_gap": null,
       "grid_row": null,
       "grid_template_areas": null,
       "grid_template_columns": null,
       "grid_template_rows": null,
       "height": null,
       "justify_content": null,
       "justify_items": null,
       "left": null,
       "margin": null,
       "max_height": null,
       "max_width": null,
       "min_height": null,
       "min_width": null,
       "object_fit": null,
       "object_position": null,
       "order": null,
       "overflow": null,
       "overflow_x": null,
       "overflow_y": null,
       "padding": null,
       "right": null,
       "top": null,
       "visibility": null,
       "width": null
      }
     },
     "4340745a64564e6698316a19f7f679be": {
      "model_module": "@jupyter-widgets/controls",
      "model_module_version": "1.5.0",
      "model_name": "HTMLModel",
      "state": {
       "_dom_classes": [],
       "_model_module": "@jupyter-widgets/controls",
       "_model_module_version": "1.5.0",
       "_model_name": "HTMLModel",
       "_view_count": null,
       "_view_module": "@jupyter-widgets/controls",
       "_view_module_version": "1.5.0",
       "_view_name": "HTMLView",
       "description": "",
       "description_tooltip": null,
       "layout": "IPY_MODEL_57bc08915a5b4f3fb44041474739d312",
       "placeholder": "​",
       "style": "IPY_MODEL_642731cac4374a8e8fad5f24479613ce",
       "value": " 3600/3600 [00:49&lt;00:00, 72.85it/s]"
      }
     },
     "43622946e6654612a404ce878e294386": {
      "model_module": "@jupyter-widgets/base",
      "model_module_version": "1.2.0",
      "model_name": "LayoutModel",
      "state": {
       "_model_module": "@jupyter-widgets/base",
       "_model_module_version": "1.2.0",
       "_model_name": "LayoutModel",
       "_view_count": null,
       "_view_module": "@jupyter-widgets/base",
       "_view_module_version": "1.2.0",
       "_view_name": "LayoutView",
       "align_content": null,
       "align_items": null,
       "align_self": null,
       "border": null,
       "bottom": null,
       "display": null,
       "flex": null,
       "flex_flow": null,
       "grid_area": null,
       "grid_auto_columns": null,
       "grid_auto_flow": null,
       "grid_auto_rows": null,
       "grid_column": null,
       "grid_gap": null,
       "grid_row": null,
       "grid_template_areas": null,
       "grid_template_columns": null,
       "grid_template_rows": null,
       "height": null,
       "justify_content": null,
       "justify_items": null,
       "left": null,
       "margin": null,
       "max_height": null,
       "max_width": null,
       "min_height": null,
       "min_width": null,
       "object_fit": null,
       "object_position": null,
       "order": null,
       "overflow": null,
       "overflow_x": null,
       "overflow_y": null,
       "padding": null,
       "right": null,
       "top": null,
       "visibility": null,
       "width": null
      }
     },
     "4ee38e8143774b2ba5913c08813d9cba": {
      "model_module": "@jupyter-widgets/controls",
      "model_module_version": "1.5.0",
      "model_name": "HBoxModel",
      "state": {
       "_dom_classes": [],
       "_model_module": "@jupyter-widgets/controls",
       "_model_module_version": "1.5.0",
       "_model_name": "HBoxModel",
       "_view_count": null,
       "_view_module": "@jupyter-widgets/controls",
       "_view_module_version": "1.5.0",
       "_view_name": "HBoxView",
       "box_style": "",
       "children": [
        "IPY_MODEL_a2f0c1f596b1450ab4d631c56053c16f",
        "IPY_MODEL_681e955352ed427e89e84baf1ba2d51a",
        "IPY_MODEL_4340745a64564e6698316a19f7f679be"
       ],
       "layout": "IPY_MODEL_7aadb97d10ac4b5ca92a3f7a6b4fe3b1"
      }
     },
     "4fd988188b3d4b648dbf971d7006a6b1": {
      "model_module": "@jupyter-widgets/controls",
      "model_module_version": "1.5.0",
      "model_name": "HTMLModel",
      "state": {
       "_dom_classes": [],
       "_model_module": "@jupyter-widgets/controls",
       "_model_module_version": "1.5.0",
       "_model_name": "HTMLModel",
       "_view_count": null,
       "_view_module": "@jupyter-widgets/controls",
       "_view_module_version": "1.5.0",
       "_view_name": "HTMLView",
       "description": "",
       "description_tooltip": null,
       "layout": "IPY_MODEL_7885151485f648e6900eecf892f29559",
       "placeholder": "​",
       "style": "IPY_MODEL_3ca1f2024ae44b878694e80e71c153e7",
       "value": "Progress:: 100%"
      }
     },
     "57bc08915a5b4f3fb44041474739d312": {
      "model_module": "@jupyter-widgets/base",
      "model_module_version": "1.2.0",
      "model_name": "LayoutModel",
      "state": {
       "_model_module": "@jupyter-widgets/base",
       "_model_module_version": "1.2.0",
       "_model_name": "LayoutModel",
       "_view_count": null,
       "_view_module": "@jupyter-widgets/base",
       "_view_module_version": "1.2.0",
       "_view_name": "LayoutView",
       "align_content": null,
       "align_items": null,
       "align_self": null,
       "border": null,
       "bottom": null,
       "display": null,
       "flex": null,
       "flex_flow": null,
       "grid_area": null,
       "grid_auto_columns": null,
       "grid_auto_flow": null,
       "grid_auto_rows": null,
       "grid_column": null,
       "grid_gap": null,
       "grid_row": null,
       "grid_template_areas": null,
       "grid_template_columns": null,
       "grid_template_rows": null,
       "height": null,
       "justify_content": null,
       "justify_items": null,
       "left": null,
       "margin": null,
       "max_height": null,
       "max_width": null,
       "min_height": null,
       "min_width": null,
       "object_fit": null,
       "object_position": null,
       "order": null,
       "overflow": null,
       "overflow_x": null,
       "overflow_y": null,
       "padding": null,
       "right": null,
       "top": null,
       "visibility": null,
       "width": null
      }
     },
     "6056b86465804269bd9b5413c51c7a90": {
      "model_module": "@jupyter-widgets/controls",
      "model_module_version": "1.5.0",
      "model_name": "FloatProgressModel",
      "state": {
       "_dom_classes": [],
       "_model_module": "@jupyter-widgets/controls",
       "_model_module_version": "1.5.0",
       "_model_name": "FloatProgressModel",
       "_view_count": null,
       "_view_module": "@jupyter-widgets/controls",
       "_view_module_version": "1.5.0",
       "_view_name": "ProgressView",
       "bar_style": "success",
       "description": "",
       "description_tooltip": null,
       "layout": "IPY_MODEL_43622946e6654612a404ce878e294386",
       "max": 8400,
       "min": 0,
       "orientation": "horizontal",
       "style": "IPY_MODEL_c5c9cf3a72284448ab9180f76049e15a",
       "value": 8400
      }
     },
     "631f668f0095403abbc7e8fb4a03f02b": {
      "model_module": "@jupyter-widgets/base",
      "model_module_version": "1.2.0",
      "model_name": "LayoutModel",
      "state": {
       "_model_module": "@jupyter-widgets/base",
       "_model_module_version": "1.2.0",
       "_model_name": "LayoutModel",
       "_view_count": null,
       "_view_module": "@jupyter-widgets/base",
       "_view_module_version": "1.2.0",
       "_view_name": "LayoutView",
       "align_content": null,
       "align_items": null,
       "align_self": null,
       "border": null,
       "bottom": null,
       "display": null,
       "flex": null,
       "flex_flow": null,
       "grid_area": null,
       "grid_auto_columns": null,
       "grid_auto_flow": null,
       "grid_auto_rows": null,
       "grid_column": null,
       "grid_gap": null,
       "grid_row": null,
       "grid_template_areas": null,
       "grid_template_columns": null,
       "grid_template_rows": null,
       "height": null,
       "justify_content": null,
       "justify_items": null,
       "left": null,
       "margin": null,
       "max_height": null,
       "max_width": null,
       "min_height": null,
       "min_width": null,
       "object_fit": null,
       "object_position": null,
       "order": null,
       "overflow": null,
       "overflow_x": null,
       "overflow_y": null,
       "padding": null,
       "right": null,
       "top": null,
       "visibility": null,
       "width": null
      }
     },
     "642731cac4374a8e8fad5f24479613ce": {
      "model_module": "@jupyter-widgets/controls",
      "model_module_version": "1.5.0",
      "model_name": "DescriptionStyleModel",
      "state": {
       "_model_module": "@jupyter-widgets/controls",
       "_model_module_version": "1.5.0",
       "_model_name": "DescriptionStyleModel",
       "_view_count": null,
       "_view_module": "@jupyter-widgets/base",
       "_view_module_version": "1.2.0",
       "_view_name": "StyleView",
       "description_width": ""
      }
     },
     "681e955352ed427e89e84baf1ba2d51a": {
      "model_module": "@jupyter-widgets/controls",
      "model_module_version": "1.5.0",
      "model_name": "FloatProgressModel",
      "state": {
       "_dom_classes": [],
       "_model_module": "@jupyter-widgets/controls",
       "_model_module_version": "1.5.0",
       "_model_name": "FloatProgressModel",
       "_view_count": null,
       "_view_module": "@jupyter-widgets/controls",
       "_view_module_version": "1.5.0",
       "_view_name": "ProgressView",
       "bar_style": "success",
       "description": "",
       "description_tooltip": null,
       "layout": "IPY_MODEL_82ccc005ffae42f5b0352d6ad4b17380",
       "max": 3600,
       "min": 0,
       "orientation": "horizontal",
       "style": "IPY_MODEL_2a72cb27207d4893ab0fa1c6bcde51a1",
       "value": 3600
      }
     },
     "7885151485f648e6900eecf892f29559": {
      "model_module": "@jupyter-widgets/base",
      "model_module_version": "1.2.0",
      "model_name": "LayoutModel",
      "state": {
       "_model_module": "@jupyter-widgets/base",
       "_model_module_version": "1.2.0",
       "_model_name": "LayoutModel",
       "_view_count": null,
       "_view_module": "@jupyter-widgets/base",
       "_view_module_version": "1.2.0",
       "_view_name": "LayoutView",
       "align_content": null,
       "align_items": null,
       "align_self": null,
       "border": null,
       "bottom": null,
       "display": null,
       "flex": null,
       "flex_flow": null,
       "grid_area": null,
       "grid_auto_columns": null,
       "grid_auto_flow": null,
       "grid_auto_rows": null,
       "grid_column": null,
       "grid_gap": null,
       "grid_row": null,
       "grid_template_areas": null,
       "grid_template_columns": null,
       "grid_template_rows": null,
       "height": null,
       "justify_content": null,
       "justify_items": null,
       "left": null,
       "margin": null,
       "max_height": null,
       "max_width": null,
       "min_height": null,
       "min_width": null,
       "object_fit": null,
       "object_position": null,
       "order": null,
       "overflow": null,
       "overflow_x": null,
       "overflow_y": null,
       "padding": null,
       "right": null,
       "top": null,
       "visibility": null,
       "width": null
      }
     },
     "7aadb97d10ac4b5ca92a3f7a6b4fe3b1": {
      "model_module": "@jupyter-widgets/base",
      "model_module_version": "1.2.0",
      "model_name": "LayoutModel",
      "state": {
       "_model_module": "@jupyter-widgets/base",
       "_model_module_version": "1.2.0",
       "_model_name": "LayoutModel",
       "_view_count": null,
       "_view_module": "@jupyter-widgets/base",
       "_view_module_version": "1.2.0",
       "_view_name": "LayoutView",
       "align_content": null,
       "align_items": null,
       "align_self": null,
       "border": null,
       "bottom": null,
       "display": null,
       "flex": null,
       "flex_flow": null,
       "grid_area": null,
       "grid_auto_columns": null,
       "grid_auto_flow": null,
       "grid_auto_rows": null,
       "grid_column": null,
       "grid_gap": null,
       "grid_row": null,
       "grid_template_areas": null,
       "grid_template_columns": null,
       "grid_template_rows": null,
       "height": null,
       "justify_content": null,
       "justify_items": null,
       "left": null,
       "margin": null,
       "max_height": null,
       "max_width": null,
       "min_height": null,
       "min_width": null,
       "object_fit": null,
       "object_position": null,
       "order": null,
       "overflow": null,
       "overflow_x": null,
       "overflow_y": null,
       "padding": null,
       "right": null,
       "top": null,
       "visibility": null,
       "width": null
      }
     },
     "82ccc005ffae42f5b0352d6ad4b17380": {
      "model_module": "@jupyter-widgets/base",
      "model_module_version": "1.2.0",
      "model_name": "LayoutModel",
      "state": {
       "_model_module": "@jupyter-widgets/base",
       "_model_module_version": "1.2.0",
       "_model_name": "LayoutModel",
       "_view_count": null,
       "_view_module": "@jupyter-widgets/base",
       "_view_module_version": "1.2.0",
       "_view_name": "LayoutView",
       "align_content": null,
       "align_items": null,
       "align_self": null,
       "border": null,
       "bottom": null,
       "display": null,
       "flex": null,
       "flex_flow": null,
       "grid_area": null,
       "grid_auto_columns": null,
       "grid_auto_flow": null,
       "grid_auto_rows": null,
       "grid_column": null,
       "grid_gap": null,
       "grid_row": null,
       "grid_template_areas": null,
       "grid_template_columns": null,
       "grid_template_rows": null,
       "height": null,
       "justify_content": null,
       "justify_items": null,
       "left": null,
       "margin": null,
       "max_height": null,
       "max_width": null,
       "min_height": null,
       "min_width": null,
       "object_fit": null,
       "object_position": null,
       "order": null,
       "overflow": null,
       "overflow_x": null,
       "overflow_y": null,
       "padding": null,
       "right": null,
       "top": null,
       "visibility": null,
       "width": null
      }
     },
     "9cfc6030ec2d49abb1f8b58feffd7136": {
      "model_module": "@jupyter-widgets/base",
      "model_module_version": "1.2.0",
      "model_name": "LayoutModel",
      "state": {
       "_model_module": "@jupyter-widgets/base",
       "_model_module_version": "1.2.0",
       "_model_name": "LayoutModel",
       "_view_count": null,
       "_view_module": "@jupyter-widgets/base",
       "_view_module_version": "1.2.0",
       "_view_name": "LayoutView",
       "align_content": null,
       "align_items": null,
       "align_self": null,
       "border": null,
       "bottom": null,
       "display": null,
       "flex": null,
       "flex_flow": null,
       "grid_area": null,
       "grid_auto_columns": null,
       "grid_auto_flow": null,
       "grid_auto_rows": null,
       "grid_column": null,
       "grid_gap": null,
       "grid_row": null,
       "grid_template_areas": null,
       "grid_template_columns": null,
       "grid_template_rows": null,
       "height": null,
       "justify_content": null,
       "justify_items": null,
       "left": null,
       "margin": null,
       "max_height": null,
       "max_width": null,
       "min_height": null,
       "min_width": null,
       "object_fit": null,
       "object_position": null,
       "order": null,
       "overflow": null,
       "overflow_x": null,
       "overflow_y": null,
       "padding": null,
       "right": null,
       "top": null,
       "visibility": null,
       "width": null
      }
     },
     "a2f0c1f596b1450ab4d631c56053c16f": {
      "model_module": "@jupyter-widgets/controls",
      "model_module_version": "1.5.0",
      "model_name": "HTMLModel",
      "state": {
       "_dom_classes": [],
       "_model_module": "@jupyter-widgets/controls",
       "_model_module_version": "1.5.0",
       "_model_name": "HTMLModel",
       "_view_count": null,
       "_view_module": "@jupyter-widgets/controls",
       "_view_module_version": "1.5.0",
       "_view_name": "HTMLView",
       "description": "",
       "description_tooltip": null,
       "layout": "IPY_MODEL_9cfc6030ec2d49abb1f8b58feffd7136",
       "placeholder": "​",
       "style": "IPY_MODEL_3599589bf86047c291bd8c4a8cef6e86",
       "value": "Progress:: 100%"
      }
     },
     "c5c9cf3a72284448ab9180f76049e15a": {
      "model_module": "@jupyter-widgets/controls",
      "model_module_version": "1.5.0",
      "model_name": "ProgressStyleModel",
      "state": {
       "_model_module": "@jupyter-widgets/controls",
       "_model_module_version": "1.5.0",
       "_model_name": "ProgressStyleModel",
       "_view_count": null,
       "_view_module": "@jupyter-widgets/base",
       "_view_module_version": "1.2.0",
       "_view_name": "StyleView",
       "bar_color": null,
       "description_width": ""
      }
     },
     "d9c9402a2759490ba72520557190d93e": {
      "model_module": "@jupyter-widgets/controls",
      "model_module_version": "1.5.0",
      "model_name": "HTMLModel",
      "state": {
       "_dom_classes": [],
       "_model_module": "@jupyter-widgets/controls",
       "_model_module_version": "1.5.0",
       "_model_name": "HTMLModel",
       "_view_count": null,
       "_view_module": "@jupyter-widgets/controls",
       "_view_module_version": "1.5.0",
       "_view_name": "HTMLView",
       "description": "",
       "description_tooltip": null,
       "layout": "IPY_MODEL_3ed18210eaa44ff99d9d84970b109063",
       "placeholder": "​",
       "style": "IPY_MODEL_3e0aba9833dd4a0089c4fb238e6fbc78",
       "value": " 8400/8400 [01:56&lt;00:00, 76.17it/s]"
      }
     }
    },
    "version_major": 2,
    "version_minor": 0
   }
  }
 },
 "nbformat": 4,
 "nbformat_minor": 5
}
